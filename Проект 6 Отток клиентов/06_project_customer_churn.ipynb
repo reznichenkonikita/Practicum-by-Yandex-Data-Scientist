{
 "cells": [
  {
   "cell_type": "markdown",
   "metadata": {},
   "source": [
    "# Отток клиентов"
   ]
  },
  {
   "cell_type": "markdown",
   "metadata": {
    "toc": true
   },
   "source": [
    "<h1>Содержание<span class=\"tocSkip\"></span></h1>\n",
    "<div class=\"toc\"><ul class=\"toc-item\"><li><span><a href=\"#Подготовка-данных\" data-toc-modified-id=\"Подготовка-данных-1\"><span class=\"toc-item-num\">1&nbsp;&nbsp;</span>Подготовка данных</a></span><ul class=\"toc-item\"><li><span><a href=\"#Изучение-общей-информации\" data-toc-modified-id=\"Изучение-общей-информации-1.1\"><span class=\"toc-item-num\">1.1&nbsp;&nbsp;</span>Изучение общей информации</a></span></li><li><span><a href=\"#Замена-пропущенных-значений\" data-toc-modified-id=\"Замена-пропущенных-значений-1.2\"><span class=\"toc-item-num\">1.2&nbsp;&nbsp;</span>Замена пропущенных значений</a></span></li><li><span><a href=\"#Кодирование-OHE\" data-toc-modified-id=\"Кодирование-OHE-1.3\"><span class=\"toc-item-num\">1.3&nbsp;&nbsp;</span>Кодирование OHE</a></span></li><li><span><a href=\"#Стандартизация-данных\" data-toc-modified-id=\"Стандартизация-данных-1.4\"><span class=\"toc-item-num\">1.4&nbsp;&nbsp;</span>Стандартизация данных</a></span></li><li><span><a href=\"#Разделение-выборок\" data-toc-modified-id=\"Разделение-выборок-1.5\"><span class=\"toc-item-num\">1.5&nbsp;&nbsp;</span>Разделение выборок</a></span></li><li><span><a href=\"#Вывод\" data-toc-modified-id=\"Вывод-1.6\"><span class=\"toc-item-num\">1.6&nbsp;&nbsp;</span>Вывод</a></span></li></ul></li><li><span><a href=\"#Исследование-задачи\" data-toc-modified-id=\"Исследование-задачи-2\"><span class=\"toc-item-num\">2&nbsp;&nbsp;</span>Исследование задачи</a></span><ul class=\"toc-item\"><li><span><a href=\"#Дерево-решений\" data-toc-modified-id=\"Дерево-решений-2.1\"><span class=\"toc-item-num\">2.1&nbsp;&nbsp;</span>Дерево решений</a></span></li><li><span><a href=\"#Логистическая-регрессия\" data-toc-modified-id=\"Логистическая-регрессия-2.2\"><span class=\"toc-item-num\">2.2&nbsp;&nbsp;</span>Логистическая регрессия</a></span></li><li><span><a href=\"#Случайный-лес\" data-toc-modified-id=\"Случайный-лес-2.3\"><span class=\"toc-item-num\">2.3&nbsp;&nbsp;</span>Случайный лес</a></span></li><li><span><a href=\"#Вывод\" data-toc-modified-id=\"Вывод-2.4\"><span class=\"toc-item-num\">2.4&nbsp;&nbsp;</span>Вывод</a></span></li></ul></li><li><span><a href=\"#Борьба-с-дисбалансом\" data-toc-modified-id=\"Борьба-с-дисбалансом-3\"><span class=\"toc-item-num\">3&nbsp;&nbsp;</span>Борьба с дисбалансом</a></span><ul class=\"toc-item\"><li><span><a href=\"#Взвешивание-классов\" data-toc-modified-id=\"Взвешивание-классов-3.1\"><span class=\"toc-item-num\">3.1&nbsp;&nbsp;</span>Взвешивание классов</a></span></li><li><span><a href=\"#Увеличение-выборки\" data-toc-modified-id=\"Увеличение-выборки-3.2\"><span class=\"toc-item-num\">3.2&nbsp;&nbsp;</span>Увеличение выборки</a></span></li><li><span><a href=\"#Уменьшение-выборки\" data-toc-modified-id=\"Уменьшение-выборки-3.3\"><span class=\"toc-item-num\">3.3&nbsp;&nbsp;</span>Уменьшение выборки</a></span></li><li><span><a href=\"#Выбор-лучшей-модели-и-подбор-гиперпараметров\" data-toc-modified-id=\"Выбор-лучшей-модели-и-подбор-гиперпараметров-3.4\"><span class=\"toc-item-num\">3.4&nbsp;&nbsp;</span>Выбор лучшей модели и подбор гиперпараметров</a></span></li><li><span><a href=\"#Вывод\" data-toc-modified-id=\"Вывод-3.5\"><span class=\"toc-item-num\">3.5&nbsp;&nbsp;</span>Вывод</a></span></li></ul></li><li><span><a href=\"#Тестирование-модели\" data-toc-modified-id=\"Тестирование-модели-4\"><span class=\"toc-item-num\">4&nbsp;&nbsp;</span>Тестирование модели</a></span></li><li><span><a href=\"#Общий-вывод\" data-toc-modified-id=\"Общий-вывод-5\"><span class=\"toc-item-num\">5&nbsp;&nbsp;</span>Общий вывод</a></span></li></ul></div>"
   ]
  },
  {
   "cell_type": "markdown",
   "metadata": {},
   "source": [
    "## Подготовка данных"
   ]
  },
  {
   "cell_type": "code",
   "execution_count": 1,
   "metadata": {},
   "outputs": [],
   "source": [
    "import pandas as pd\n",
    "import matplotlib.pyplot as plt\n",
    "from sklearn.preprocessing import StandardScaler\n",
    "from sklearn.model_selection import train_test_split\n",
    "\n",
    "from sklearn.tree import DecisionTreeClassifier\n",
    "from sklearn.ensemble import RandomForestClassifier\n",
    "from sklearn.linear_model import LogisticRegression\n",
    "\n",
    "from sklearn.utils import shuffle\n",
    "\n",
    "from sklearn.metrics import accuracy_score\n",
    "from sklearn.metrics import recall_score\n",
    "from sklearn.metrics import precision_score\n",
    "from sklearn.metrics import f1_score\n",
    "from sklearn.metrics import confusion_matrix\n",
    "from sklearn.metrics import roc_curve\n",
    "from sklearn.metrics import roc_auc_score\n",
    "from sklearn.metrics import make_scorer\n",
    "\n",
    "from sklearn.model_selection import GridSearchCV"
   ]
  },
  {
   "cell_type": "markdown",
   "metadata": {},
   "source": [
    "### Изучение общей информации"
   ]
  },
  {
   "cell_type": "code",
   "execution_count": 2,
   "metadata": {},
   "outputs": [],
   "source": [
    "data = pd.read_csv()"
   ]
  },
  {
   "cell_type": "code",
   "execution_count": 3,
   "metadata": {},
   "outputs": [
    {
     "data": {
      "text/html": [
       "<div>\n",
       "<style scoped>\n",
       "    .dataframe tbody tr th:only-of-type {\n",
       "        vertical-align: middle;\n",
       "    }\n",
       "\n",
       "    .dataframe tbody tr th {\n",
       "        vertical-align: top;\n",
       "    }\n",
       "\n",
       "    .dataframe thead th {\n",
       "        text-align: right;\n",
       "    }\n",
       "</style>\n",
       "<table border=\"1\" class=\"dataframe\">\n",
       "  <thead>\n",
       "    <tr style=\"text-align: right;\">\n",
       "      <th></th>\n",
       "      <th>RowNumber</th>\n",
       "      <th>CustomerId</th>\n",
       "      <th>Surname</th>\n",
       "      <th>CreditScore</th>\n",
       "      <th>Geography</th>\n",
       "      <th>Gender</th>\n",
       "      <th>Age</th>\n",
       "      <th>Tenure</th>\n",
       "      <th>Balance</th>\n",
       "      <th>NumOfProducts</th>\n",
       "      <th>HasCrCard</th>\n",
       "      <th>IsActiveMember</th>\n",
       "      <th>EstimatedSalary</th>\n",
       "      <th>Exited</th>\n",
       "    </tr>\n",
       "  </thead>\n",
       "  <tbody>\n",
       "    <tr>\n",
       "      <td>0</td>\n",
       "      <td>1</td>\n",
       "      <td>15634602</td>\n",
       "      <td>Hargrave</td>\n",
       "      <td>619</td>\n",
       "      <td>France</td>\n",
       "      <td>Female</td>\n",
       "      <td>42</td>\n",
       "      <td>2.0</td>\n",
       "      <td>0.00</td>\n",
       "      <td>1</td>\n",
       "      <td>1</td>\n",
       "      <td>1</td>\n",
       "      <td>101348.88</td>\n",
       "      <td>1</td>\n",
       "    </tr>\n",
       "    <tr>\n",
       "      <td>1</td>\n",
       "      <td>2</td>\n",
       "      <td>15647311</td>\n",
       "      <td>Hill</td>\n",
       "      <td>608</td>\n",
       "      <td>Spain</td>\n",
       "      <td>Female</td>\n",
       "      <td>41</td>\n",
       "      <td>1.0</td>\n",
       "      <td>83807.86</td>\n",
       "      <td>1</td>\n",
       "      <td>0</td>\n",
       "      <td>1</td>\n",
       "      <td>112542.58</td>\n",
       "      <td>0</td>\n",
       "    </tr>\n",
       "    <tr>\n",
       "      <td>2</td>\n",
       "      <td>3</td>\n",
       "      <td>15619304</td>\n",
       "      <td>Onio</td>\n",
       "      <td>502</td>\n",
       "      <td>France</td>\n",
       "      <td>Female</td>\n",
       "      <td>42</td>\n",
       "      <td>8.0</td>\n",
       "      <td>159660.80</td>\n",
       "      <td>3</td>\n",
       "      <td>1</td>\n",
       "      <td>0</td>\n",
       "      <td>113931.57</td>\n",
       "      <td>1</td>\n",
       "    </tr>\n",
       "    <tr>\n",
       "      <td>3</td>\n",
       "      <td>4</td>\n",
       "      <td>15701354</td>\n",
       "      <td>Boni</td>\n",
       "      <td>699</td>\n",
       "      <td>France</td>\n",
       "      <td>Female</td>\n",
       "      <td>39</td>\n",
       "      <td>1.0</td>\n",
       "      <td>0.00</td>\n",
       "      <td>2</td>\n",
       "      <td>0</td>\n",
       "      <td>0</td>\n",
       "      <td>93826.63</td>\n",
       "      <td>0</td>\n",
       "    </tr>\n",
       "    <tr>\n",
       "      <td>4</td>\n",
       "      <td>5</td>\n",
       "      <td>15737888</td>\n",
       "      <td>Mitchell</td>\n",
       "      <td>850</td>\n",
       "      <td>Spain</td>\n",
       "      <td>Female</td>\n",
       "      <td>43</td>\n",
       "      <td>2.0</td>\n",
       "      <td>125510.82</td>\n",
       "      <td>1</td>\n",
       "      <td>1</td>\n",
       "      <td>1</td>\n",
       "      <td>79084.10</td>\n",
       "      <td>0</td>\n",
       "    </tr>\n",
       "    <tr>\n",
       "      <td>5</td>\n",
       "      <td>6</td>\n",
       "      <td>15574012</td>\n",
       "      <td>Chu</td>\n",
       "      <td>645</td>\n",
       "      <td>Spain</td>\n",
       "      <td>Male</td>\n",
       "      <td>44</td>\n",
       "      <td>8.0</td>\n",
       "      <td>113755.78</td>\n",
       "      <td>2</td>\n",
       "      <td>1</td>\n",
       "      <td>0</td>\n",
       "      <td>149756.71</td>\n",
       "      <td>1</td>\n",
       "    </tr>\n",
       "    <tr>\n",
       "      <td>6</td>\n",
       "      <td>7</td>\n",
       "      <td>15592531</td>\n",
       "      <td>Bartlett</td>\n",
       "      <td>822</td>\n",
       "      <td>France</td>\n",
       "      <td>Male</td>\n",
       "      <td>50</td>\n",
       "      <td>7.0</td>\n",
       "      <td>0.00</td>\n",
       "      <td>2</td>\n",
       "      <td>1</td>\n",
       "      <td>1</td>\n",
       "      <td>10062.80</td>\n",
       "      <td>0</td>\n",
       "    </tr>\n",
       "    <tr>\n",
       "      <td>7</td>\n",
       "      <td>8</td>\n",
       "      <td>15656148</td>\n",
       "      <td>Obinna</td>\n",
       "      <td>376</td>\n",
       "      <td>Germany</td>\n",
       "      <td>Female</td>\n",
       "      <td>29</td>\n",
       "      <td>4.0</td>\n",
       "      <td>115046.74</td>\n",
       "      <td>4</td>\n",
       "      <td>1</td>\n",
       "      <td>0</td>\n",
       "      <td>119346.88</td>\n",
       "      <td>1</td>\n",
       "    </tr>\n",
       "    <tr>\n",
       "      <td>8</td>\n",
       "      <td>9</td>\n",
       "      <td>15792365</td>\n",
       "      <td>He</td>\n",
       "      <td>501</td>\n",
       "      <td>France</td>\n",
       "      <td>Male</td>\n",
       "      <td>44</td>\n",
       "      <td>4.0</td>\n",
       "      <td>142051.07</td>\n",
       "      <td>2</td>\n",
       "      <td>0</td>\n",
       "      <td>1</td>\n",
       "      <td>74940.50</td>\n",
       "      <td>0</td>\n",
       "    </tr>\n",
       "    <tr>\n",
       "      <td>9</td>\n",
       "      <td>10</td>\n",
       "      <td>15592389</td>\n",
       "      <td>H?</td>\n",
       "      <td>684</td>\n",
       "      <td>France</td>\n",
       "      <td>Male</td>\n",
       "      <td>27</td>\n",
       "      <td>2.0</td>\n",
       "      <td>134603.88</td>\n",
       "      <td>1</td>\n",
       "      <td>1</td>\n",
       "      <td>1</td>\n",
       "      <td>71725.73</td>\n",
       "      <td>0</td>\n",
       "    </tr>\n",
       "  </tbody>\n",
       "</table>\n",
       "</div>"
      ],
      "text/plain": [
       "   RowNumber  CustomerId   Surname  CreditScore Geography  Gender  Age  \\\n",
       "0          1    15634602  Hargrave          619    France  Female   42   \n",
       "1          2    15647311      Hill          608     Spain  Female   41   \n",
       "2          3    15619304      Onio          502    France  Female   42   \n",
       "3          4    15701354      Boni          699    France  Female   39   \n",
       "4          5    15737888  Mitchell          850     Spain  Female   43   \n",
       "5          6    15574012       Chu          645     Spain    Male   44   \n",
       "6          7    15592531  Bartlett          822    France    Male   50   \n",
       "7          8    15656148    Obinna          376   Germany  Female   29   \n",
       "8          9    15792365        He          501    France    Male   44   \n",
       "9         10    15592389        H?          684    France    Male   27   \n",
       "\n",
       "   Tenure    Balance  NumOfProducts  HasCrCard  IsActiveMember  \\\n",
       "0     2.0       0.00              1          1               1   \n",
       "1     1.0   83807.86              1          0               1   \n",
       "2     8.0  159660.80              3          1               0   \n",
       "3     1.0       0.00              2          0               0   \n",
       "4     2.0  125510.82              1          1               1   \n",
       "5     8.0  113755.78              2          1               0   \n",
       "6     7.0       0.00              2          1               1   \n",
       "7     4.0  115046.74              4          1               0   \n",
       "8     4.0  142051.07              2          0               1   \n",
       "9     2.0  134603.88              1          1               1   \n",
       "\n",
       "   EstimatedSalary  Exited  \n",
       "0        101348.88       1  \n",
       "1        112542.58       0  \n",
       "2        113931.57       1  \n",
       "3         93826.63       0  \n",
       "4         79084.10       0  \n",
       "5        149756.71       1  \n",
       "6         10062.80       0  \n",
       "7        119346.88       1  \n",
       "8         74940.50       0  \n",
       "9         71725.73       0  "
      ]
     },
     "metadata": {},
     "output_type": "display_data"
    },
    {
     "name": "stdout",
     "output_type": "stream",
     "text": [
      "<class 'pandas.core.frame.DataFrame'>\n",
      "RangeIndex: 10000 entries, 0 to 9999\n",
      "Data columns (total 14 columns):\n",
      "RowNumber          10000 non-null int64\n",
      "CustomerId         10000 non-null int64\n",
      "Surname            10000 non-null object\n",
      "CreditScore        10000 non-null int64\n",
      "Geography          10000 non-null object\n",
      "Gender             10000 non-null object\n",
      "Age                10000 non-null int64\n",
      "Tenure             9091 non-null float64\n",
      "Balance            10000 non-null float64\n",
      "NumOfProducts      10000 non-null int64\n",
      "HasCrCard          10000 non-null int64\n",
      "IsActiveMember     10000 non-null int64\n",
      "EstimatedSalary    10000 non-null float64\n",
      "Exited             10000 non-null int64\n",
      "dtypes: float64(3), int64(8), object(3)\n",
      "memory usage: 1.1+ MB\n"
     ]
    },
    {
     "data": {
      "text/plain": [
       "None"
      ]
     },
     "metadata": {},
     "output_type": "display_data"
    },
    {
     "data": {
      "text/html": [
       "<div>\n",
       "<style scoped>\n",
       "    .dataframe tbody tr th:only-of-type {\n",
       "        vertical-align: middle;\n",
       "    }\n",
       "\n",
       "    .dataframe tbody tr th {\n",
       "        vertical-align: top;\n",
       "    }\n",
       "\n",
       "    .dataframe thead th {\n",
       "        text-align: right;\n",
       "    }\n",
       "</style>\n",
       "<table border=\"1\" class=\"dataframe\">\n",
       "  <thead>\n",
       "    <tr style=\"text-align: right;\">\n",
       "      <th></th>\n",
       "      <th>RowNumber</th>\n",
       "      <th>CustomerId</th>\n",
       "      <th>CreditScore</th>\n",
       "      <th>Age</th>\n",
       "      <th>Tenure</th>\n",
       "      <th>Balance</th>\n",
       "      <th>NumOfProducts</th>\n",
       "      <th>HasCrCard</th>\n",
       "      <th>IsActiveMember</th>\n",
       "      <th>EstimatedSalary</th>\n",
       "      <th>Exited</th>\n",
       "    </tr>\n",
       "  </thead>\n",
       "  <tbody>\n",
       "    <tr>\n",
       "      <td>count</td>\n",
       "      <td>10000.00000</td>\n",
       "      <td>1.000000e+04</td>\n",
       "      <td>10000.000000</td>\n",
       "      <td>10000.000000</td>\n",
       "      <td>9091.000000</td>\n",
       "      <td>10000.000000</td>\n",
       "      <td>10000.000000</td>\n",
       "      <td>10000.00000</td>\n",
       "      <td>10000.000000</td>\n",
       "      <td>10000.000000</td>\n",
       "      <td>10000.000000</td>\n",
       "    </tr>\n",
       "    <tr>\n",
       "      <td>mean</td>\n",
       "      <td>5000.50000</td>\n",
       "      <td>1.569094e+07</td>\n",
       "      <td>650.528800</td>\n",
       "      <td>38.921800</td>\n",
       "      <td>4.997690</td>\n",
       "      <td>76485.889288</td>\n",
       "      <td>1.530200</td>\n",
       "      <td>0.70550</td>\n",
       "      <td>0.515100</td>\n",
       "      <td>100090.239881</td>\n",
       "      <td>0.203700</td>\n",
       "    </tr>\n",
       "    <tr>\n",
       "      <td>std</td>\n",
       "      <td>2886.89568</td>\n",
       "      <td>7.193619e+04</td>\n",
       "      <td>96.653299</td>\n",
       "      <td>10.487806</td>\n",
       "      <td>2.894723</td>\n",
       "      <td>62397.405202</td>\n",
       "      <td>0.581654</td>\n",
       "      <td>0.45584</td>\n",
       "      <td>0.499797</td>\n",
       "      <td>57510.492818</td>\n",
       "      <td>0.402769</td>\n",
       "    </tr>\n",
       "    <tr>\n",
       "      <td>min</td>\n",
       "      <td>1.00000</td>\n",
       "      <td>1.556570e+07</td>\n",
       "      <td>350.000000</td>\n",
       "      <td>18.000000</td>\n",
       "      <td>0.000000</td>\n",
       "      <td>0.000000</td>\n",
       "      <td>1.000000</td>\n",
       "      <td>0.00000</td>\n",
       "      <td>0.000000</td>\n",
       "      <td>11.580000</td>\n",
       "      <td>0.000000</td>\n",
       "    </tr>\n",
       "    <tr>\n",
       "      <td>25%</td>\n",
       "      <td>2500.75000</td>\n",
       "      <td>1.562853e+07</td>\n",
       "      <td>584.000000</td>\n",
       "      <td>32.000000</td>\n",
       "      <td>2.000000</td>\n",
       "      <td>0.000000</td>\n",
       "      <td>1.000000</td>\n",
       "      <td>0.00000</td>\n",
       "      <td>0.000000</td>\n",
       "      <td>51002.110000</td>\n",
       "      <td>0.000000</td>\n",
       "    </tr>\n",
       "    <tr>\n",
       "      <td>50%</td>\n",
       "      <td>5000.50000</td>\n",
       "      <td>1.569074e+07</td>\n",
       "      <td>652.000000</td>\n",
       "      <td>37.000000</td>\n",
       "      <td>5.000000</td>\n",
       "      <td>97198.540000</td>\n",
       "      <td>1.000000</td>\n",
       "      <td>1.00000</td>\n",
       "      <td>1.000000</td>\n",
       "      <td>100193.915000</td>\n",
       "      <td>0.000000</td>\n",
       "    </tr>\n",
       "    <tr>\n",
       "      <td>75%</td>\n",
       "      <td>7500.25000</td>\n",
       "      <td>1.575323e+07</td>\n",
       "      <td>718.000000</td>\n",
       "      <td>44.000000</td>\n",
       "      <td>7.000000</td>\n",
       "      <td>127644.240000</td>\n",
       "      <td>2.000000</td>\n",
       "      <td>1.00000</td>\n",
       "      <td>1.000000</td>\n",
       "      <td>149388.247500</td>\n",
       "      <td>0.000000</td>\n",
       "    </tr>\n",
       "    <tr>\n",
       "      <td>max</td>\n",
       "      <td>10000.00000</td>\n",
       "      <td>1.581569e+07</td>\n",
       "      <td>850.000000</td>\n",
       "      <td>92.000000</td>\n",
       "      <td>10.000000</td>\n",
       "      <td>250898.090000</td>\n",
       "      <td>4.000000</td>\n",
       "      <td>1.00000</td>\n",
       "      <td>1.000000</td>\n",
       "      <td>199992.480000</td>\n",
       "      <td>1.000000</td>\n",
       "    </tr>\n",
       "  </tbody>\n",
       "</table>\n",
       "</div>"
      ],
      "text/plain": [
       "         RowNumber    CustomerId   CreditScore           Age       Tenure  \\\n",
       "count  10000.00000  1.000000e+04  10000.000000  10000.000000  9091.000000   \n",
       "mean    5000.50000  1.569094e+07    650.528800     38.921800     4.997690   \n",
       "std     2886.89568  7.193619e+04     96.653299     10.487806     2.894723   \n",
       "min        1.00000  1.556570e+07    350.000000     18.000000     0.000000   \n",
       "25%     2500.75000  1.562853e+07    584.000000     32.000000     2.000000   \n",
       "50%     5000.50000  1.569074e+07    652.000000     37.000000     5.000000   \n",
       "75%     7500.25000  1.575323e+07    718.000000     44.000000     7.000000   \n",
       "max    10000.00000  1.581569e+07    850.000000     92.000000    10.000000   \n",
       "\n",
       "             Balance  NumOfProducts    HasCrCard  IsActiveMember  \\\n",
       "count   10000.000000   10000.000000  10000.00000    10000.000000   \n",
       "mean    76485.889288       1.530200      0.70550        0.515100   \n",
       "std     62397.405202       0.581654      0.45584        0.499797   \n",
       "min         0.000000       1.000000      0.00000        0.000000   \n",
       "25%         0.000000       1.000000      0.00000        0.000000   \n",
       "50%     97198.540000       1.000000      1.00000        1.000000   \n",
       "75%    127644.240000       2.000000      1.00000        1.000000   \n",
       "max    250898.090000       4.000000      1.00000        1.000000   \n",
       "\n",
       "       EstimatedSalary        Exited  \n",
       "count     10000.000000  10000.000000  \n",
       "mean     100090.239881      0.203700  \n",
       "std       57510.492818      0.402769  \n",
       "min          11.580000      0.000000  \n",
       "25%       51002.110000      0.000000  \n",
       "50%      100193.915000      0.000000  \n",
       "75%      149388.247500      0.000000  \n",
       "max      199992.480000      1.000000  "
      ]
     },
     "metadata": {},
     "output_type": "display_data"
    },
    {
     "name": "stdout",
     "output_type": "stream",
     "text": [
      "Количество дубликатов в DataFrame: 0\n"
     ]
    }
   ],
   "source": [
    "def information(DataFrame):\n",
    "    display(DataFrame.head(10))\n",
    "    display(DataFrame.info())\n",
    "    display(DataFrame.describe())\n",
    "    print('Количество дубликатов в DataFrame:', DataFrame.duplicated().sum())\n",
    "    \n",
    "information(data) "
   ]
  },
  {
   "cell_type": "code",
   "execution_count": 4,
   "metadata": {},
   "outputs": [
    {
     "data": {
      "text/plain": [
       "0    0.7963\n",
       "1    0.2037\n",
       "Name: Exited, dtype: float64"
      ]
     },
     "execution_count": 4,
     "metadata": {},
     "output_type": "execute_result"
    }
   ],
   "source": [
    "data.Exited.value_counts(normalize=True)"
   ]
  },
  {
   "cell_type": "markdown",
   "metadata": {},
   "source": [
    "1. Дубликатов нет;\n",
    "2. Имеются пропущенные значения в столбце ***Tenure***;\n",
    "3. Необходимо удалить следующие столбцы: ***RowNumber, CustomerId, Surname***, так как в них нет необходимости в обучении модели;\n",
    "4. Для признаков ***Geography*** и ***Gender*** необходимо произвести OHE преобразование (прямое кодирование);\n",
    "5. Для численных признаков ***CreditScore, Age, Tenure, Balance, NumOfProducts, EstimatedSalary*** необходимо произвести масштабирование признаков (стандартизацию данных);\n",
    "6. В выборке наблюдается дисбаланс классов, необходимо будет это учитывать при построении модели;\n",
    "7. Так как целевой признак ***Exited*** (факт ухода клиента) является категориальной переменной, то будем рассматривать модели для задач классификации (Решающее дерево (decision tree), Случайный лес (random forest), Логистическая регрессия (logistic regression))"
   ]
  },
  {
   "cell_type": "markdown",
   "metadata": {},
   "source": [
    "### Замена пропущенных значений"
   ]
  },
  {
   "cell_type": "markdown",
   "metadata": {},
   "source": [
    "Посчитаем, количство пропущенных значений в столбце ***Tenure***."
   ]
  },
  {
   "cell_type": "code",
   "execution_count": 5,
   "metadata": {},
   "outputs": [
    {
     "name": "stdout",
     "output_type": "stream",
     "text": [
      "Количество пропущенных значений в столбце Tenure: 909\n"
     ]
    }
   ],
   "source": [
    "print('Количество пропущенных значений в столбце Tenure:', data.Tenure.isnull().sum())"
   ]
  },
  {
   "cell_type": "markdown",
   "metadata": {},
   "source": [
    "Проверим корреляцию с другими признаками."
   ]
  },
  {
   "cell_type": "code",
   "execution_count": 6,
   "metadata": {},
   "outputs": [
    {
     "data": {
      "text/plain": [
       "RowNumber         -0.007322\n",
       "CustomerId        -0.021418\n",
       "CreditScore       -0.000062\n",
       "Age               -0.013134\n",
       "Tenure             1.000000\n",
       "Balance           -0.007911\n",
       "NumOfProducts      0.011979\n",
       "HasCrCard          0.027232\n",
       "IsActiveMember    -0.032178\n",
       "EstimatedSalary    0.010520\n",
       "Exited            -0.016761\n",
       "Name: Tenure, dtype: float64"
      ]
     },
     "execution_count": 6,
     "metadata": {},
     "output_type": "execute_result"
    }
   ],
   "source": [
    "data.corr().Tenure"
   ]
  },
  {
   "cell_type": "markdown",
   "metadata": {},
   "source": [
    "Корреляции с другими столбцами нет. Предлагаю тогда заменить все пропущенные значение на значение медианы."
   ]
  },
  {
   "cell_type": "code",
   "execution_count": 7,
   "metadata": {},
   "outputs": [],
   "source": [
    "data.Tenure = data.Tenure.fillna(data.Tenure.median())"
   ]
  },
  {
   "cell_type": "markdown",
   "metadata": {},
   "source": [
    "Проверим количество пропущенных значений после преобразований."
   ]
  },
  {
   "cell_type": "code",
   "execution_count": 8,
   "metadata": {},
   "outputs": [
    {
     "name": "stdout",
     "output_type": "stream",
     "text": [
      "Количество пропущенных значений в столбце Tenure: 0\n"
     ]
    }
   ],
   "source": [
    "print('Количество пропущенных значений в столбце Tenure:', data.Tenure.isnull().sum())"
   ]
  },
  {
   "cell_type": "markdown",
   "metadata": {},
   "source": [
    "### Кодирование OHE"
   ]
  },
  {
   "cell_type": "markdown",
   "metadata": {},
   "source": [
    "Удалим столбцы ***RowNumber, CustomerId, Surname*** и сохраним результаты в новый DataFrame."
   ]
  },
  {
   "cell_type": "code",
   "execution_count": 9,
   "metadata": {},
   "outputs": [],
   "source": [
    "data_modify = data.drop(['RowNumber', 'CustomerId', 'Surname'], axis = 1)"
   ]
  },
  {
   "cell_type": "code",
   "execution_count": 10,
   "metadata": {},
   "outputs": [
    {
     "data": {
      "text/plain": [
       "(10000, 11)"
      ]
     },
     "execution_count": 10,
     "metadata": {},
     "output_type": "execute_result"
    }
   ],
   "source": [
    "data_modify.shape"
   ]
  },
  {
   "cell_type": "markdown",
   "metadata": {},
   "source": [
    "Получилось 10000 объектов и 11 признаков, один из которых целевой признак,"
   ]
  },
  {
   "cell_type": "markdown",
   "metadata": {},
   "source": [
    "Проверим какие уникальные значения содержат столбцы ***Gender, Geography*** и преобразуем их техникой OHE."
   ]
  },
  {
   "cell_type": "code",
   "execution_count": 11,
   "metadata": {},
   "outputs": [
    {
     "data": {
      "text/plain": [
       "array(['Female', 'Male'], dtype=object)"
      ]
     },
     "metadata": {},
     "output_type": "display_data"
    },
    {
     "data": {
      "text/plain": [
       "array(['France', 'Spain', 'Germany'], dtype=object)"
      ]
     },
     "metadata": {},
     "output_type": "display_data"
    }
   ],
   "source": [
    "display(data.Gender.unique())\n",
    "display(data.Geography.unique())"
   ]
  },
  {
   "cell_type": "markdown",
   "metadata": {},
   "source": [
    "Уникальных значений немного, поэтому преобразуем эти столбцы техникой OHE, используя аргумент `drop_first=True` функции `pd.get_dummies()`, чтобы не попасть в дамми-ловушку."
   ]
  },
  {
   "cell_type": "code",
   "execution_count": 12,
   "metadata": {},
   "outputs": [
    {
     "data": {
      "text/html": [
       "<div>\n",
       "<style scoped>\n",
       "    .dataframe tbody tr th:only-of-type {\n",
       "        vertical-align: middle;\n",
       "    }\n",
       "\n",
       "    .dataframe tbody tr th {\n",
       "        vertical-align: top;\n",
       "    }\n",
       "\n",
       "    .dataframe thead th {\n",
       "        text-align: right;\n",
       "    }\n",
       "</style>\n",
       "<table border=\"1\" class=\"dataframe\">\n",
       "  <thead>\n",
       "    <tr style=\"text-align: right;\">\n",
       "      <th></th>\n",
       "      <th>CreditScore</th>\n",
       "      <th>Age</th>\n",
       "      <th>Tenure</th>\n",
       "      <th>Balance</th>\n",
       "      <th>NumOfProducts</th>\n",
       "      <th>HasCrCard</th>\n",
       "      <th>IsActiveMember</th>\n",
       "      <th>EstimatedSalary</th>\n",
       "      <th>Exited</th>\n",
       "      <th>Geography_Germany</th>\n",
       "      <th>Geography_Spain</th>\n",
       "      <th>Gender_Male</th>\n",
       "    </tr>\n",
       "  </thead>\n",
       "  <tbody>\n",
       "    <tr>\n",
       "      <td>0</td>\n",
       "      <td>619</td>\n",
       "      <td>42</td>\n",
       "      <td>2.0</td>\n",
       "      <td>0.00</td>\n",
       "      <td>1</td>\n",
       "      <td>1</td>\n",
       "      <td>1</td>\n",
       "      <td>101348.88</td>\n",
       "      <td>1</td>\n",
       "      <td>0</td>\n",
       "      <td>0</td>\n",
       "      <td>0</td>\n",
       "    </tr>\n",
       "    <tr>\n",
       "      <td>1</td>\n",
       "      <td>608</td>\n",
       "      <td>41</td>\n",
       "      <td>1.0</td>\n",
       "      <td>83807.86</td>\n",
       "      <td>1</td>\n",
       "      <td>0</td>\n",
       "      <td>1</td>\n",
       "      <td>112542.58</td>\n",
       "      <td>0</td>\n",
       "      <td>0</td>\n",
       "      <td>1</td>\n",
       "      <td>0</td>\n",
       "    </tr>\n",
       "    <tr>\n",
       "      <td>2</td>\n",
       "      <td>502</td>\n",
       "      <td>42</td>\n",
       "      <td>8.0</td>\n",
       "      <td>159660.80</td>\n",
       "      <td>3</td>\n",
       "      <td>1</td>\n",
       "      <td>0</td>\n",
       "      <td>113931.57</td>\n",
       "      <td>1</td>\n",
       "      <td>0</td>\n",
       "      <td>0</td>\n",
       "      <td>0</td>\n",
       "    </tr>\n",
       "    <tr>\n",
       "      <td>3</td>\n",
       "      <td>699</td>\n",
       "      <td>39</td>\n",
       "      <td>1.0</td>\n",
       "      <td>0.00</td>\n",
       "      <td>2</td>\n",
       "      <td>0</td>\n",
       "      <td>0</td>\n",
       "      <td>93826.63</td>\n",
       "      <td>0</td>\n",
       "      <td>0</td>\n",
       "      <td>0</td>\n",
       "      <td>0</td>\n",
       "    </tr>\n",
       "    <tr>\n",
       "      <td>4</td>\n",
       "      <td>850</td>\n",
       "      <td>43</td>\n",
       "      <td>2.0</td>\n",
       "      <td>125510.82</td>\n",
       "      <td>1</td>\n",
       "      <td>1</td>\n",
       "      <td>1</td>\n",
       "      <td>79084.10</td>\n",
       "      <td>0</td>\n",
       "      <td>0</td>\n",
       "      <td>1</td>\n",
       "      <td>0</td>\n",
       "    </tr>\n",
       "  </tbody>\n",
       "</table>\n",
       "</div>"
      ],
      "text/plain": [
       "   CreditScore  Age  Tenure    Balance  NumOfProducts  HasCrCard  \\\n",
       "0          619   42     2.0       0.00              1          1   \n",
       "1          608   41     1.0   83807.86              1          0   \n",
       "2          502   42     8.0  159660.80              3          1   \n",
       "3          699   39     1.0       0.00              2          0   \n",
       "4          850   43     2.0  125510.82              1          1   \n",
       "\n",
       "   IsActiveMember  EstimatedSalary  Exited  Geography_Germany  \\\n",
       "0               1        101348.88       1                  0   \n",
       "1               1        112542.58       0                  0   \n",
       "2               0        113931.57       1                  0   \n",
       "3               0         93826.63       0                  0   \n",
       "4               1         79084.10       0                  0   \n",
       "\n",
       "   Geography_Spain  Gender_Male  \n",
       "0                0            0  \n",
       "1                1            0  \n",
       "2                0            0  \n",
       "3                0            0  \n",
       "4                1            0  "
      ]
     },
     "metadata": {},
     "output_type": "display_data"
    }
   ],
   "source": [
    "data_ohe = pd.get_dummies(data_modify, drop_first = True)\n",
    "data_ohe.shape\n",
    "display(data_ohe.head())"
   ]
  },
  {
   "cell_type": "markdown",
   "metadata": {},
   "source": [
    "### Стандартизация данных"
   ]
  },
  {
   "cell_type": "markdown",
   "metadata": {},
   "source": [
    "Проведем стандартизацию данных для следующих признаков ***CreditScore, Age, Tenure, Balance, NumOfProducts, EstimatedSalary***."
   ]
  },
  {
   "cell_type": "code",
   "execution_count": 13,
   "metadata": {},
   "outputs": [
    {
     "data": {
      "text/html": [
       "<div>\n",
       "<style scoped>\n",
       "    .dataframe tbody tr th:only-of-type {\n",
       "        vertical-align: middle;\n",
       "    }\n",
       "\n",
       "    .dataframe tbody tr th {\n",
       "        vertical-align: top;\n",
       "    }\n",
       "\n",
       "    .dataframe thead th {\n",
       "        text-align: right;\n",
       "    }\n",
       "</style>\n",
       "<table border=\"1\" class=\"dataframe\">\n",
       "  <thead>\n",
       "    <tr style=\"text-align: right;\">\n",
       "      <th></th>\n",
       "      <th>CreditScore</th>\n",
       "      <th>Age</th>\n",
       "      <th>Tenure</th>\n",
       "      <th>Balance</th>\n",
       "      <th>NumOfProducts</th>\n",
       "      <th>HasCrCard</th>\n",
       "      <th>IsActiveMember</th>\n",
       "      <th>EstimatedSalary</th>\n",
       "      <th>Exited</th>\n",
       "      <th>Geography_Germany</th>\n",
       "      <th>Geography_Spain</th>\n",
       "      <th>Gender_Male</th>\n",
       "    </tr>\n",
       "  </thead>\n",
       "  <tbody>\n",
       "    <tr>\n",
       "      <td>0</td>\n",
       "      <td>-0.326221</td>\n",
       "      <td>0.293517</td>\n",
       "      <td>-1.086246</td>\n",
       "      <td>-1.225848</td>\n",
       "      <td>-0.911583</td>\n",
       "      <td>1</td>\n",
       "      <td>1</td>\n",
       "      <td>0.021886</td>\n",
       "      <td>1</td>\n",
       "      <td>0</td>\n",
       "      <td>0</td>\n",
       "      <td>0</td>\n",
       "    </tr>\n",
       "    <tr>\n",
       "      <td>1</td>\n",
       "      <td>-0.440036</td>\n",
       "      <td>0.198164</td>\n",
       "      <td>-1.448581</td>\n",
       "      <td>0.117350</td>\n",
       "      <td>-0.911583</td>\n",
       "      <td>0</td>\n",
       "      <td>1</td>\n",
       "      <td>0.216534</td>\n",
       "      <td>0</td>\n",
       "      <td>0</td>\n",
       "      <td>1</td>\n",
       "      <td>0</td>\n",
       "    </tr>\n",
       "    <tr>\n",
       "      <td>2</td>\n",
       "      <td>-1.536794</td>\n",
       "      <td>0.293517</td>\n",
       "      <td>1.087768</td>\n",
       "      <td>1.333053</td>\n",
       "      <td>2.527057</td>\n",
       "      <td>1</td>\n",
       "      <td>0</td>\n",
       "      <td>0.240687</td>\n",
       "      <td>1</td>\n",
       "      <td>0</td>\n",
       "      <td>0</td>\n",
       "      <td>0</td>\n",
       "    </tr>\n",
       "    <tr>\n",
       "      <td>3</td>\n",
       "      <td>0.501521</td>\n",
       "      <td>0.007457</td>\n",
       "      <td>-1.448581</td>\n",
       "      <td>-1.225848</td>\n",
       "      <td>0.807737</td>\n",
       "      <td>0</td>\n",
       "      <td>0</td>\n",
       "      <td>-0.108918</td>\n",
       "      <td>0</td>\n",
       "      <td>0</td>\n",
       "      <td>0</td>\n",
       "      <td>0</td>\n",
       "    </tr>\n",
       "    <tr>\n",
       "      <td>4</td>\n",
       "      <td>2.063884</td>\n",
       "      <td>0.388871</td>\n",
       "      <td>-1.086246</td>\n",
       "      <td>0.785728</td>\n",
       "      <td>-0.911583</td>\n",
       "      <td>1</td>\n",
       "      <td>1</td>\n",
       "      <td>-0.365276</td>\n",
       "      <td>0</td>\n",
       "      <td>0</td>\n",
       "      <td>1</td>\n",
       "      <td>0</td>\n",
       "    </tr>\n",
       "  </tbody>\n",
       "</table>\n",
       "</div>"
      ],
      "text/plain": [
       "   CreditScore       Age    Tenure   Balance  NumOfProducts  HasCrCard  \\\n",
       "0    -0.326221  0.293517 -1.086246 -1.225848      -0.911583          1   \n",
       "1    -0.440036  0.198164 -1.448581  0.117350      -0.911583          0   \n",
       "2    -1.536794  0.293517  1.087768  1.333053       2.527057          1   \n",
       "3     0.501521  0.007457 -1.448581 -1.225848       0.807737          0   \n",
       "4     2.063884  0.388871 -1.086246  0.785728      -0.911583          1   \n",
       "\n",
       "   IsActiveMember  EstimatedSalary  Exited  Geography_Germany  \\\n",
       "0               1         0.021886       1                  0   \n",
       "1               1         0.216534       0                  0   \n",
       "2               0         0.240687       1                  0   \n",
       "3               0        -0.108918       0                  0   \n",
       "4               1        -0.365276       0                  0   \n",
       "\n",
       "   Geography_Spain  Gender_Male  \n",
       "0                0            0  \n",
       "1                1            0  \n",
       "2                0            0  \n",
       "3                0            0  \n",
       "4                1            0  "
      ]
     },
     "metadata": {},
     "output_type": "display_data"
    }
   ],
   "source": [
    "numeric = ['CreditScore', 'Age', 'Tenure', 'Balance', 'NumOfProducts', 'EstimatedSalary']\n",
    "scaler = StandardScaler()\n",
    "scaler.fit(data_ohe[numeric])\n",
    "\n",
    "data_ohe[numeric] = scaler.transform(data_ohe[numeric])\n",
    "display(data_ohe.head())"
   ]
  },
  {
   "cell_type": "markdown",
   "metadata": {},
   "source": [
    "### Разделение выборок"
   ]
  },
  {
   "cell_type": "markdown",
   "metadata": {},
   "source": [
    "Разделим исходную выборку на обучающую, валидационную и тестовую выборки в следующей пропорции:\n",
    "* Обучающая выборка - 60%;\n",
    "* Валидационная выборка - 20%;\n",
    "* Тестовая выборка - 20%."
   ]
  },
  {
   "cell_type": "code",
   "execution_count": 14,
   "metadata": {},
   "outputs": [],
   "source": [
    "df_train, df_valid_test = train_test_split(data_ohe, test_size=0.4, random_state=12345)\n",
    "df_valid, df_test = train_test_split(df_valid_test, test_size=0.5, random_state=12345)"
   ]
  },
  {
   "cell_type": "markdown",
   "metadata": {},
   "source": [
    "Проверим размерности выборок."
   ]
  },
  {
   "cell_type": "code",
   "execution_count": 15,
   "metadata": {},
   "outputs": [
    {
     "name": "stdout",
     "output_type": "stream",
     "text": [
      "Размерность df_train: 6000\n",
      "Размерность df_valid: 2000\n",
      "Размерность df_test: 2000\n"
     ]
    }
   ],
   "source": [
    "print('Размерность df_train:', len(df_train))\n",
    "print('Размерность df_valid:', len(df_valid))\n",
    "print('Размерность df_test:', len(df_test))"
   ]
  },
  {
   "cell_type": "markdown",
   "metadata": {},
   "source": [
    "Извлечем признаки и целевой признак для каждой выборки."
   ]
  },
  {
   "cell_type": "code",
   "execution_count": 16,
   "metadata": {},
   "outputs": [],
   "source": [
    "X_train = df_train.drop('Exited', axis = 1)\n",
    "X_valid = df_valid.drop('Exited', axis = 1)\n",
    "X_test  = df_test.drop('Exited', axis = 1)\n",
    "\n",
    "y_train = df_train['Exited'];\n",
    "y_valid = df_valid['Exited'];\n",
    "y_test  = df_test['Exited'];"
   ]
  },
  {
   "cell_type": "markdown",
   "metadata": {},
   "source": [
    "### Вывод\n",
    "1. Изучили данные, содержащиеся в файле;\n",
    "2. Обработали пропущенные значения в столбце ***Tenure***;\n",
    "3. Удалили столбцы ***RowNumber, CustomerId, Surname***, так как в них нет необходимости в обучении модели;\n",
    "4. Провели OHE кодирование для признаков ***Geography и Gender***;\n",
    "5. Провели масштабирование признаков (стандартизацию данных) для признаков ***CreditScore, Age, Tenure, Balance, NumOfProducts, EstimatedSalary***;\n",
    "6. Разделили данные на две выборки: обучающую, валидационную и тестовую."
   ]
  },
  {
   "cell_type": "markdown",
   "metadata": {},
   "source": [
    "## Исследование задачи"
   ]
  },
  {
   "cell_type": "markdown",
   "metadata": {},
   "source": [
    "В наших данных наблюдается дисбаланс классов."
   ]
  },
  {
   "cell_type": "code",
   "execution_count": 17,
   "metadata": {},
   "outputs": [
    {
     "data": {
      "text/plain": [
       "0    0.7963\n",
       "1    0.2037\n",
       "Name: Exited, dtype: float64"
      ]
     },
     "execution_count": 17,
     "metadata": {},
     "output_type": "execute_result"
    }
   ],
   "source": [
    "data_ohe.Exited.value_counts(normalize=True)"
   ]
  },
  {
   "cell_type": "markdown",
   "metadata": {},
   "source": [
    "Посчитаем значение accuracy для случайной модели."
   ]
  },
  {
   "cell_type": "code",
   "execution_count": 18,
   "metadata": {},
   "outputs": [
    {
     "name": "stdout",
     "output_type": "stream",
     "text": [
      "0.791\n"
     ]
    }
   ],
   "source": [
    "target_pred_constant = pd.Series(0, index = y_valid.index)\n",
    "print(accuracy_score(y_valid, target_pred_constant)) "
   ]
  },
  {
   "cell_type": "markdown",
   "metadata": {},
   "source": [
    "Обучим различные модели без учета дисбаланса классов и посчитаем основные метрики."
   ]
  },
  {
   "cell_type": "code",
   "execution_count": 19,
   "metadata": {},
   "outputs": [],
   "source": [
    "def metrics(model, name, X, y, print_plot = 0):\n",
    "    print(name, ':')\n",
    "    print('Accuracy   = {:.2f}'.format(accuracy_score(y, model.predict(X))))\n",
    "    print('Recall     = {:.2f}'.format(recall_score(y, model.predict(X))))\n",
    "    print('Precission = {:.2f}'.format(precision_score(y, model.predict(X))))\n",
    "    print('F1         = {:.2f}'.format(f1_score(y, model.predict(X))))\n",
    "           \n",
    "    probabilities_valid = model.predict_proba(X)\n",
    "    probabilities_one_valid = probabilities_valid[:, 1]\n",
    "    print('AUC-ROC    = {:.2f}'.format(roc_auc_score(y, probabilities_one_valid)))\n",
    "\n",
    "    print('Матрица ошибок:\\n', confusion_matrix(y, model.predict(X)))\n",
    "    if print_plot:\n",
    "        fpr, tpr, thresholds = roc_curve(y, probabilities_one_valid) # < напишите код здесь >\n",
    "        plt.figure()\n",
    "        plt.plot(fpr, tpr)\n",
    "        plt.plot([0, 1], [0, 1], linestyle='--')\n",
    "        plt.ylim([0.0, 1.0])\n",
    "        plt.xlim([0.0, 1.0])\n",
    "        plt.xlabel('False Positive Rate')\n",
    "        plt.ylabel('True Positive Rate')\n",
    "        plt.title('ROC-кривая')\n",
    "    print()"
   ]
  },
  {
   "cell_type": "markdown",
   "metadata": {},
   "source": [
    "Также напишем функцию, которая добавляет значения наших метрик в датафрейм."
   ]
  },
  {
   "cell_type": "code",
   "execution_count": 20,
   "metadata": {},
   "outputs": [],
   "source": [
    "def table(model, X, y, name):\n",
    "    accuracy   = accuracy_score(y, model.predict(X))\n",
    "    recall     = recall_score(y, model.predict(X))\n",
    "    precission = precision_score(y, model.predict(X))\n",
    "    f1         = f1_score(y, model.predict(X))\n",
    "    \n",
    "    probabilities_valid = model.predict_proba(X)\n",
    "    probabilities_one_valid = probabilities_valid[:, 1]\n",
    "    auc_roc    = roc_auc_score(y, probabilities_one_valid)\n",
    "    data = {name : [accuracy, recall, precission, f1, auc_roc]}\n",
    "    df = pd.DataFrame(data, index=['Accuracy', 'Recall', 'Precission', 'F1', 'AUC-ROC'])\n",
    "    return df.round(2)"
   ]
  },
  {
   "cell_type": "markdown",
   "metadata": {},
   "source": [
    "### Дерево решений"
   ]
  },
  {
   "cell_type": "code",
   "execution_count": 21,
   "metadata": {},
   "outputs": [
    {
     "name": "stdout",
     "output_type": "stream",
     "text": [
      "DecisionTreeClassifier :\n",
      "Accuracy   = 0.79\n",
      "Recall     = 0.50\n",
      "Precission = 0.51\n",
      "F1         = 0.50\n",
      "AUC-ROC    = 0.69\n",
      "Матрица ошибок:\n",
      " [[1381  201]\n",
      " [ 210  208]]\n",
      "\n"
     ]
    },
    {
     "data": {
      "image/png": "[encoded data removed]",
      "text/plain": [
       "<Figure size 432x288 with 1 Axes>"
      ]
     },
     "metadata": {
      "needs_background": "light"
     },
     "output_type": "display_data"
    }
   ],
   "source": [
    "model_DTC = DecisionTreeClassifier(random_state=12345)\n",
    "model_DTC.fit(X_train, y_train)\n",
    "metrics(model_DTC, 'DecisionTreeClassifier', X_valid, y_valid, print_plot= 1)"
   ]
  },
  {
   "cell_type": "code",
   "execution_count": 22,
   "metadata": {},
   "outputs": [
    {
     "data": {
      "text/html": [
       "<div>\n",
       "<style scoped>\n",
       "    .dataframe tbody tr th:only-of-type {\n",
       "        vertical-align: middle;\n",
       "    }\n",
       "\n",
       "    .dataframe tbody tr th {\n",
       "        vertical-align: top;\n",
       "    }\n",
       "\n",
       "    .dataframe thead th {\n",
       "        text-align: right;\n",
       "    }\n",
       "</style>\n",
       "<table border=\"1\" class=\"dataframe\">\n",
       "  <thead>\n",
       "    <tr style=\"text-align: right;\">\n",
       "      <th></th>\n",
       "      <th>Default</th>\n",
       "    </tr>\n",
       "  </thead>\n",
       "  <tbody>\n",
       "    <tr>\n",
       "      <td>Accuracy</td>\n",
       "      <td>0.79</td>\n",
       "    </tr>\n",
       "    <tr>\n",
       "      <td>Recall</td>\n",
       "      <td>0.50</td>\n",
       "    </tr>\n",
       "    <tr>\n",
       "      <td>Precission</td>\n",
       "      <td>0.51</td>\n",
       "    </tr>\n",
       "    <tr>\n",
       "      <td>F1</td>\n",
       "      <td>0.50</td>\n",
       "    </tr>\n",
       "    <tr>\n",
       "      <td>AUC-ROC</td>\n",
       "      <td>0.69</td>\n",
       "    </tr>\n",
       "  </tbody>\n",
       "</table>\n",
       "</div>"
      ],
      "text/plain": [
       "            Default\n",
       "Accuracy       0.79\n",
       "Recall         0.50\n",
       "Precission     0.51\n",
       "F1             0.50\n",
       "AUC-ROC        0.69"
      ]
     },
     "execution_count": 22,
     "metadata": {},
     "output_type": "execute_result"
    }
   ],
   "source": [
    "df_result_DTC = table(model_DTC, X_valid, y_valid, 'Default')\n",
    "df_result_DTC"
   ]
  },
  {
   "cell_type": "markdown",
   "metadata": {},
   "source": [
    "Значение accuracy для DecisionTreeClassifier и случайной модели практически одинаковые, что говорит о неадекватности модели. Также у модели плохие значения Recall и Precission, что подтверждает матрица ошибок. Модель очень часто дает ложноположительные (FP = 201) и ложноотрицательный (FN = 201) ответы. Значение F1= 0.503 не удовлетворяет условию задачи. Значение AUC-ROC= 0.685 больше, чем для случайной модели."
   ]
  },
  {
   "cell_type": "markdown",
   "metadata": {},
   "source": [
    "### Логистическая регрессия"
   ]
  },
  {
   "cell_type": "code",
   "execution_count": 23,
   "metadata": {},
   "outputs": [
    {
     "name": "stdout",
     "output_type": "stream",
     "text": [
      "LogisticRegression :\n",
      "Accuracy   = 0.80\n",
      "Recall     = 0.23\n",
      "Precission = 0.56\n",
      "F1         = 0.33\n",
      "AUC-ROC    = 0.76\n",
      "Матрица ошибок:\n",
      " [[1506   76]\n",
      " [ 320   98]]\n",
      "\n"
     ]
    },
    {
     "data": {
      "image/png": "[encoded data removed]",
      "text/plain": [
       "<Figure size 432x288 with 1 Axes>"
      ]
     },
     "metadata": {
      "needs_background": "light"
     },
     "output_type": "display_data"
    }
   ],
   "source": [
    "model_LG = LogisticRegression(random_state=12345, solver = 'liblinear')\n",
    "model_LG.fit(X_train, y_train)\n",
    "metrics(model_LG, 'LogisticRegression', X_valid, y_valid, print_plot= 1)"
   ]
  },
  {
   "cell_type": "code",
   "execution_count": 24,
   "metadata": {},
   "outputs": [
    {
     "data": {
      "text/html": [
       "<div>\n",
       "<style scoped>\n",
       "    .dataframe tbody tr th:only-of-type {\n",
       "        vertical-align: middle;\n",
       "    }\n",
       "\n",
       "    .dataframe tbody tr th {\n",
       "        vertical-align: top;\n",
       "    }\n",
       "\n",
       "    .dataframe thead th {\n",
       "        text-align: right;\n",
       "    }\n",
       "</style>\n",
       "<table border=\"1\" class=\"dataframe\">\n",
       "  <thead>\n",
       "    <tr style=\"text-align: right;\">\n",
       "      <th></th>\n",
       "      <th>Default</th>\n",
       "    </tr>\n",
       "  </thead>\n",
       "  <tbody>\n",
       "    <tr>\n",
       "      <td>Accuracy</td>\n",
       "      <td>0.80</td>\n",
       "    </tr>\n",
       "    <tr>\n",
       "      <td>Recall</td>\n",
       "      <td>0.23</td>\n",
       "    </tr>\n",
       "    <tr>\n",
       "      <td>Precission</td>\n",
       "      <td>0.56</td>\n",
       "    </tr>\n",
       "    <tr>\n",
       "      <td>F1</td>\n",
       "      <td>0.33</td>\n",
       "    </tr>\n",
       "    <tr>\n",
       "      <td>AUC-ROC</td>\n",
       "      <td>0.76</td>\n",
       "    </tr>\n",
       "  </tbody>\n",
       "</table>\n",
       "</div>"
      ],
      "text/plain": [
       "            Default\n",
       "Accuracy       0.80\n",
       "Recall         0.23\n",
       "Precission     0.56\n",
       "F1             0.33\n",
       "AUC-ROC        0.76"
      ]
     },
     "execution_count": 24,
     "metadata": {},
     "output_type": "execute_result"
    }
   ],
   "source": [
    "df_result_LG = table(model_LG, X_valid, y_valid, 'Default')\n",
    "df_result_LG"
   ]
  },
  {
   "cell_type": "markdown",
   "metadata": {},
   "source": [
    "Значение accuracy для LogisticRegression и случайной модели практически одинаковые, что говорит о возможной неадекватности модели. У модели плохое значение Precission и очень плохое значение Recall, что подтверждает матрица ошибок. Модель очень часто дает ложноотрицательные (FN = 320) ответы. С ложноположительными ответами (FP = 76) сиутация лучше. Значение F1= 0.331 очень низкое и не удовлетворяет условию задачи. Значение AUC-ROC= 0.759 больше, чем для случайной модели."
   ]
  },
  {
   "cell_type": "markdown",
   "metadata": {},
   "source": [
    "### Случайный лес"
   ]
  },
  {
   "cell_type": "code",
   "execution_count": 25,
   "metadata": {},
   "outputs": [
    {
     "name": "stdout",
     "output_type": "stream",
     "text": [
      "RandomForestClassifier :\n",
      "Accuracy   = 0.86\n",
      "Recall     = 0.46\n",
      "Precission = 0.76\n",
      "F1         = 0.57\n",
      "AUC-ROC    = 0.84\n",
      "Матрица ошибок:\n",
      " [[1523   59]\n",
      " [ 226  192]]\n",
      "\n"
     ]
    },
    {
     "data": {
      "image/png": "[encoded data removed]",
      "text/plain": [
       "<Figure size 432x288 with 1 Axes>"
      ]
     },
     "metadata": {
      "needs_background": "light"
     },
     "output_type": "display_data"
    }
   ],
   "source": [
    "model_RFC = RandomForestClassifier(random_state=12345, n_estimators=100)\n",
    "model_RFC.fit(X_train, y_train)\n",
    "metrics(model_RFC, 'RandomForestClassifier', X_valid, y_valid, print_plot= 1)"
   ]
  },
  {
   "cell_type": "code",
   "execution_count": 26,
   "metadata": {},
   "outputs": [
    {
     "data": {
      "text/html": [
       "<div>\n",
       "<style scoped>\n",
       "    .dataframe tbody tr th:only-of-type {\n",
       "        vertical-align: middle;\n",
       "    }\n",
       "\n",
       "    .dataframe tbody tr th {\n",
       "        vertical-align: top;\n",
       "    }\n",
       "\n",
       "    .dataframe thead th {\n",
       "        text-align: right;\n",
       "    }\n",
       "</style>\n",
       "<table border=\"1\" class=\"dataframe\">\n",
       "  <thead>\n",
       "    <tr style=\"text-align: right;\">\n",
       "      <th></th>\n",
       "      <th>Default</th>\n",
       "    </tr>\n",
       "  </thead>\n",
       "  <tbody>\n",
       "    <tr>\n",
       "      <td>Accuracy</td>\n",
       "      <td>0.86</td>\n",
       "    </tr>\n",
       "    <tr>\n",
       "      <td>Recall</td>\n",
       "      <td>0.46</td>\n",
       "    </tr>\n",
       "    <tr>\n",
       "      <td>Precission</td>\n",
       "      <td>0.76</td>\n",
       "    </tr>\n",
       "    <tr>\n",
       "      <td>F1</td>\n",
       "      <td>0.57</td>\n",
       "    </tr>\n",
       "    <tr>\n",
       "      <td>AUC-ROC</td>\n",
       "      <td>0.84</td>\n",
       "    </tr>\n",
       "  </tbody>\n",
       "</table>\n",
       "</div>"
      ],
      "text/plain": [
       "            Default\n",
       "Accuracy       0.86\n",
       "Recall         0.46\n",
       "Precission     0.76\n",
       "F1             0.57\n",
       "AUC-ROC        0.84"
      ]
     },
     "execution_count": 26,
     "metadata": {},
     "output_type": "execute_result"
    }
   ],
   "source": [
    "df_result_RFC = table(model_RFC, X_valid, y_valid, 'Default')\n",
    "df_result_RFC"
   ]
  },
  {
   "cell_type": "markdown",
   "metadata": {},
   "source": [
    "Значение accuracy для RandomForestClassifier выше, чем для случайной модели, что говорит о адекватности модели. У модели неплохое значение Precission и плохое значение Recall, что подтверждает матрица ошибок. Модель очень часто дает ложноотрицательные (FN = 226) ответы. С ложноположительными ответами (FP = 59) сиутация лучше. Значение F1= 0.574 не удовлетворяет условию задачи, но оно лучшее из всех рассмотренных моделей. Значение AUC-ROC= 0.840 больше, чем для случайной модели."
   ]
  },
  {
   "cell_type": "markdown",
   "metadata": {},
   "source": [
    "Как мы уже выяснили ранее в наших данных наблюдается дисбаланс классов. Положительных объектов (те, которые ушли из \"Бета-Банка\"), которые очень важны для обучения модели, всего лишь 20%. Попробуем повысить метрики качества, используя различные методы для борьбы с дисбалансом классов."
   ]
  },
  {
   "cell_type": "code",
   "execution_count": 27,
   "metadata": {},
   "outputs": [
    {
     "name": "stdout",
     "output_type": "stream",
     "text": [
      "0    0.7963\n",
      "1    0.2037\n",
      "Name: Exited, dtype: float64\n"
     ]
    },
    {
     "data": {
      "image/png": "[encoded data removed]",
      "text/plain": [
       "<Figure size 432x288 with 1 Axes>"
      ]
     },
     "metadata": {
      "needs_background": "light"
     },
     "output_type": "display_data"
    }
   ],
   "source": [
    "class_frequency = data_ohe.Exited.value_counts(normalize = True)\n",
    "print(class_frequency)\n",
    "class_frequency.plot(kind='bar')\n",
    "plt.show()"
   ]
  },
  {
   "cell_type": "markdown",
   "metadata": {},
   "source": [
    "### Вывод\n",
    "Построили модели без учета дисбаланса классов:\n",
    "* Решающее дерево (decision tree);\n",
    "* Случайный лес (random forest); \n",
    "* Логистическая регрессия (logistic regression).\n",
    "\n",
    "И посчитали основные метрики:\n",
    "* Accuracy;\n",
    "* Recall;\n",
    "* Precission; \n",
    "* F1;\n",
    "* AUC-ROC.\n",
    "\n",
    "Получили следующие результаты.  \n",
    "\n",
    "* ***DecisionTreeClassifier***\n",
    "\n",
    "**Метрики**  | **Default** |\n",
    ":-------------: | :-------------: |\n",
    "Accuracy\t | 0.794500 |\n",
    "Recall | 0.497608 |\n",
    "Precission | 0.508557 |\n",
    "F1 | 0.503023 |\n",
    "AUC-ROC | 0.685277 |\n",
    "\n",
    "* ***LogisticRegression***\n",
    "\n",
    "**Метрики**  | **Default** |\n",
    ":-------------: | :-------------: |\n",
    "Accuracy\t | 0.802000 |\n",
    "Recall | 0.234450 |\n",
    "Precission | 0.563218 |\n",
    "F1 | 0.331081 |\n",
    "AUC-ROC | 0.758750 |\n",
    "\n",
    "* ***RandomForestClassifier***\n",
    "\n",
    "**Метрики**  | **Default** |\n",
    ":-------------: | :-------------: |\n",
    "Accuracy\t | 0.857500 |\n",
    "Recall | 0.459330 |\n",
    "Precission | 0.764940 |\n",
    "F1 | 0.573991 |\n",
    "AUC-ROC | 0.839989 |\n",
    "\n",
    "\n",
    "На данный момент лучшее значение **F1  = 0.574** выдает **RandomForestClassifier**."
   ]
  },
  {
   "cell_type": "markdown",
   "metadata": {},
   "source": [
    "## Борьба с дисбалансом"
   ]
  },
  {
   "cell_type": "markdown",
   "metadata": {},
   "source": [
    "Рассмотрим 3 варианта боьбы с дисбалансом:\n",
    "1. Взвешивание классов;\n",
    "2. Увеличение выборки;\n",
    "3. Уменьшение выборки."
   ]
  },
  {
   "cell_type": "markdown",
   "metadata": {},
   "source": [
    "### Взвешивание классов"
   ]
  },
  {
   "cell_type": "markdown",
   "metadata": {},
   "source": [
    "Придадим объектам редкого класса больший вес."
   ]
  },
  {
   "cell_type": "code",
   "execution_count": 28,
   "metadata": {},
   "outputs": [
    {
     "name": "stdout",
     "output_type": "stream",
     "text": [
      "DecisionTreeClassifier :\n",
      "Accuracy   = 0.79\n",
      "Recall     = 0.48\n",
      "Precission = 0.49\n",
      "F1         = 0.49\n",
      "AUC-ROC    = 0.68\n",
      "Матрица ошибок:\n",
      " [[1376  206]\n",
      " [ 217  201]]\n",
      "\n"
     ]
    },
    {
     "data": {
      "text/html": [
       "<div>\n",
       "<style scoped>\n",
       "    .dataframe tbody tr th:only-of-type {\n",
       "        vertical-align: middle;\n",
       "    }\n",
       "\n",
       "    .dataframe tbody tr th {\n",
       "        vertical-align: top;\n",
       "    }\n",
       "\n",
       "    .dataframe thead th {\n",
       "        text-align: right;\n",
       "    }\n",
       "</style>\n",
       "<table border=\"1\" class=\"dataframe\">\n",
       "  <thead>\n",
       "    <tr style=\"text-align: right;\">\n",
       "      <th></th>\n",
       "      <th>Default</th>\n",
       "      <th>Взвешивание классов</th>\n",
       "    </tr>\n",
       "  </thead>\n",
       "  <tbody>\n",
       "    <tr>\n",
       "      <td>Accuracy</td>\n",
       "      <td>0.79</td>\n",
       "      <td>0.79</td>\n",
       "    </tr>\n",
       "    <tr>\n",
       "      <td>Recall</td>\n",
       "      <td>0.50</td>\n",
       "      <td>0.48</td>\n",
       "    </tr>\n",
       "    <tr>\n",
       "      <td>Precission</td>\n",
       "      <td>0.51</td>\n",
       "      <td>0.49</td>\n",
       "    </tr>\n",
       "    <tr>\n",
       "      <td>F1</td>\n",
       "      <td>0.50</td>\n",
       "      <td>0.49</td>\n",
       "    </tr>\n",
       "    <tr>\n",
       "      <td>AUC-ROC</td>\n",
       "      <td>0.69</td>\n",
       "      <td>0.68</td>\n",
       "    </tr>\n",
       "  </tbody>\n",
       "</table>\n",
       "</div>"
      ],
      "text/plain": [
       "            Default  Взвешивание классов\n",
       "Accuracy       0.79                 0.79\n",
       "Recall         0.50                 0.48\n",
       "Precission     0.51                 0.49\n",
       "F1             0.50                 0.49\n",
       "AUC-ROC        0.69                 0.68"
      ]
     },
     "execution_count": 28,
     "metadata": {},
     "output_type": "execute_result"
    }
   ],
   "source": [
    "model_DTC = DecisionTreeClassifier(random_state=12345, class_weight='balanced')\n",
    "model_DTC.fit(X_train, y_train)\n",
    "metrics(model_DTC, 'DecisionTreeClassifier', X_valid, y_valid)\n",
    "df_result_DTC = pd.concat([df_result_DTC,table(model_DTC, X_valid, y_valid, 'Взвешивание классов')], join='inner', axis=1)\n",
    "df_result_DTC"
   ]
  },
  {
   "cell_type": "markdown",
   "metadata": {},
   "source": [
    "У решаюшего дерева упали все значения метрик."
   ]
  },
  {
   "cell_type": "code",
   "execution_count": 29,
   "metadata": {},
   "outputs": [
    {
     "name": "stdout",
     "output_type": "stream",
     "text": [
      "LogisticRegression :\n",
      "Accuracy   = 0.70\n",
      "Recall     = 0.68\n",
      "Precission = 0.38\n",
      "F1         = 0.49\n",
      "AUC-ROC    = 0.76\n",
      "Матрица ошибок:\n",
      " [[1119  463]\n",
      " [ 133  285]]\n",
      "\n"
     ]
    },
    {
     "data": {
      "text/html": [
       "<div>\n",
       "<style scoped>\n",
       "    .dataframe tbody tr th:only-of-type {\n",
       "        vertical-align: middle;\n",
       "    }\n",
       "\n",
       "    .dataframe tbody tr th {\n",
       "        vertical-align: top;\n",
       "    }\n",
       "\n",
       "    .dataframe thead th {\n",
       "        text-align: right;\n",
       "    }\n",
       "</style>\n",
       "<table border=\"1\" class=\"dataframe\">\n",
       "  <thead>\n",
       "    <tr style=\"text-align: right;\">\n",
       "      <th></th>\n",
       "      <th>Default</th>\n",
       "      <th>Взвешивание классов</th>\n",
       "    </tr>\n",
       "  </thead>\n",
       "  <tbody>\n",
       "    <tr>\n",
       "      <td>Accuracy</td>\n",
       "      <td>0.80</td>\n",
       "      <td>0.70</td>\n",
       "    </tr>\n",
       "    <tr>\n",
       "      <td>Recall</td>\n",
       "      <td>0.23</td>\n",
       "      <td>0.68</td>\n",
       "    </tr>\n",
       "    <tr>\n",
       "      <td>Precission</td>\n",
       "      <td>0.56</td>\n",
       "      <td>0.38</td>\n",
       "    </tr>\n",
       "    <tr>\n",
       "      <td>F1</td>\n",
       "      <td>0.33</td>\n",
       "      <td>0.49</td>\n",
       "    </tr>\n",
       "    <tr>\n",
       "      <td>AUC-ROC</td>\n",
       "      <td>0.76</td>\n",
       "      <td>0.76</td>\n",
       "    </tr>\n",
       "  </tbody>\n",
       "</table>\n",
       "</div>"
      ],
      "text/plain": [
       "            Default  Взвешивание классов\n",
       "Accuracy       0.80                 0.70\n",
       "Recall         0.23                 0.68\n",
       "Precission     0.56                 0.38\n",
       "F1             0.33                 0.49\n",
       "AUC-ROC        0.76                 0.76"
      ]
     },
     "execution_count": 29,
     "metadata": {},
     "output_type": "execute_result"
    }
   ],
   "source": [
    "model_LG = LogisticRegression(random_state=12345, solver = 'liblinear', class_weight='balanced')\n",
    "model_LG.fit(X_train, y_train)\n",
    "metrics(model_LG, 'LogisticRegression', X_valid, y_valid)\n",
    "df_result_LG = pd.concat([df_result_LG,table(model_LG, X_valid, y_valid, 'Взвешивание классов')], join='inner', axis=1)\n",
    "df_result_LG"
   ]
  },
  {
   "cell_type": "markdown",
   "metadata": {},
   "source": [
    "У логистической регрессии увеличились значения полноты, но упало значение точности, значение F1 увеличилось, AUC_ROC практически не изменился. "
   ]
  },
  {
   "cell_type": "code",
   "execution_count": 30,
   "metadata": {},
   "outputs": [
    {
     "name": "stdout",
     "output_type": "stream",
     "text": [
      "RandomForestClassifier :\n",
      "Accuracy   = 0.86\n",
      "Recall     = 0.44\n",
      "Precission = 0.78\n",
      "F1         = 0.56\n",
      "AUC-ROC    = 0.84\n",
      "Матрица ошибок:\n",
      " [[1531   51]\n",
      " [ 235  183]]\n",
      "\n"
     ]
    },
    {
     "data": {
      "text/html": [
       "<div>\n",
       "<style scoped>\n",
       "    .dataframe tbody tr th:only-of-type {\n",
       "        vertical-align: middle;\n",
       "    }\n",
       "\n",
       "    .dataframe tbody tr th {\n",
       "        vertical-align: top;\n",
       "    }\n",
       "\n",
       "    .dataframe thead th {\n",
       "        text-align: right;\n",
       "    }\n",
       "</style>\n",
       "<table border=\"1\" class=\"dataframe\">\n",
       "  <thead>\n",
       "    <tr style=\"text-align: right;\">\n",
       "      <th></th>\n",
       "      <th>Default</th>\n",
       "      <th>Взвешивание классов</th>\n",
       "    </tr>\n",
       "  </thead>\n",
       "  <tbody>\n",
       "    <tr>\n",
       "      <td>Accuracy</td>\n",
       "      <td>0.86</td>\n",
       "      <td>0.86</td>\n",
       "    </tr>\n",
       "    <tr>\n",
       "      <td>Recall</td>\n",
       "      <td>0.46</td>\n",
       "      <td>0.44</td>\n",
       "    </tr>\n",
       "    <tr>\n",
       "      <td>Precission</td>\n",
       "      <td>0.76</td>\n",
       "      <td>0.78</td>\n",
       "    </tr>\n",
       "    <tr>\n",
       "      <td>F1</td>\n",
       "      <td>0.57</td>\n",
       "      <td>0.56</td>\n",
       "    </tr>\n",
       "    <tr>\n",
       "      <td>AUC-ROC</td>\n",
       "      <td>0.84</td>\n",
       "      <td>0.84</td>\n",
       "    </tr>\n",
       "  </tbody>\n",
       "</table>\n",
       "</div>"
      ],
      "text/plain": [
       "            Default  Взвешивание классов\n",
       "Accuracy       0.86                 0.86\n",
       "Recall         0.46                 0.44\n",
       "Precission     0.76                 0.78\n",
       "F1             0.57                 0.56\n",
       "AUC-ROC        0.84                 0.84"
      ]
     },
     "execution_count": 30,
     "metadata": {},
     "output_type": "execute_result"
    }
   ],
   "source": [
    "model_RFC = RandomForestClassifier(random_state=12345, n_estimators=100, class_weight='balanced')\n",
    "model_RFC.fit(X_train, y_train)\n",
    "metrics(model_RFC, 'RandomForestClassifier', X_valid, y_valid)\n",
    "df_result_RFC = pd.concat([df_result_RFC,table(model_RFC, X_valid, y_valid, 'Взвешивание классов')], join='inner', axis=1)\n",
    "df_result_RFC"
   ]
  },
  {
   "cell_type": "markdown",
   "metadata": {},
   "source": [
    "У случайного леса незначительно ухудшились значения всех метрик, кроме точности."
   ]
  },
  {
   "cell_type": "markdown",
   "metadata": {},
   "source": [
    "### Увеличение выборки"
   ]
  },
  {
   "cell_type": "markdown",
   "metadata": {},
   "source": [
    "Разделим обучающую выборку на отрицательные и положительные объекты. Скопируем несколько раз положительные объекты.\n",
    "С учётом полученных данных создадим новую обучающую выборку. Перемешаем данные.  \n",
    "Увеличим количество положительных объектов в 4 раза, чтобы уровнять количество положительных и отрицательных объектов."
   ]
  },
  {
   "cell_type": "code",
   "execution_count": 31,
   "metadata": {},
   "outputs": [],
   "source": [
    "def upsample(features, target, repeat):\n",
    "    features_zeros = features[target == 0]\n",
    "    features_ones = features[target == 1]\n",
    "    target_zeros = target[target == 0]\n",
    "    target_ones = target[target == 1]\n",
    "\n",
    "    features_upsampled = pd.concat([features_zeros] + [features_ones] * repeat)\n",
    "    target_upsampled = pd.concat([target_zeros] + [target_ones] * repeat)\n",
    "    \n",
    "    features_upsampled, target_upsampled = shuffle(\n",
    "        features_upsampled, target_upsampled, random_state=12345)\n",
    "    \n",
    "    return features_upsampled, target_upsampled\n",
    "\n",
    "X_upsampled, y_upsampled = upsample(X_train, y_train, 4)"
   ]
  },
  {
   "cell_type": "markdown",
   "metadata": {},
   "source": [
    "Посмотрим, как теперь распределены классы."
   ]
  },
  {
   "cell_type": "code",
   "execution_count": 32,
   "metadata": {},
   "outputs": [
    {
     "name": "stdout",
     "output_type": "stream",
     "text": [
      "0    0.501043\n",
      "1    0.498957\n",
      "Name: Exited, dtype: float64\n"
     ]
    },
    {
     "data": {
      "image/png": "[encoded data removed]",
      "text/plain": [
       "<Figure size 432x288 with 1 Axes>"
      ]
     },
     "metadata": {
      "needs_background": "light"
     },
     "output_type": "display_data"
    }
   ],
   "source": [
    "y_upsampled.value_counts().plot(kind='bar')\n",
    "print(y_upsampled.value_counts(normalize = True))\n",
    "plt.show()"
   ]
  },
  {
   "cell_type": "markdown",
   "metadata": {},
   "source": [
    "Теперь классы равны."
   ]
  },
  {
   "cell_type": "code",
   "execution_count": 33,
   "metadata": {},
   "outputs": [
    {
     "name": "stdout",
     "output_type": "stream",
     "text": [
      "DecisionTreeClassifier :\n",
      "Accuracy   = 0.79\n",
      "Recall     = 0.49\n",
      "Precission = 0.50\n",
      "F1         = 0.49\n",
      "AUC-ROC    = 0.68\n",
      "Матрица ошибок:\n",
      " [[1375  207]\n",
      " [ 215  203]]\n",
      "\n"
     ]
    },
    {
     "data": {
      "text/html": [
       "<div>\n",
       "<style scoped>\n",
       "    .dataframe tbody tr th:only-of-type {\n",
       "        vertical-align: middle;\n",
       "    }\n",
       "\n",
       "    .dataframe tbody tr th {\n",
       "        vertical-align: top;\n",
       "    }\n",
       "\n",
       "    .dataframe thead th {\n",
       "        text-align: right;\n",
       "    }\n",
       "</style>\n",
       "<table border=\"1\" class=\"dataframe\">\n",
       "  <thead>\n",
       "    <tr style=\"text-align: right;\">\n",
       "      <th></th>\n",
       "      <th>Default</th>\n",
       "      <th>Взвешивание классов</th>\n",
       "      <th>Увеличение выборки</th>\n",
       "    </tr>\n",
       "  </thead>\n",
       "  <tbody>\n",
       "    <tr>\n",
       "      <td>Accuracy</td>\n",
       "      <td>0.79</td>\n",
       "      <td>0.79</td>\n",
       "      <td>0.79</td>\n",
       "    </tr>\n",
       "    <tr>\n",
       "      <td>Recall</td>\n",
       "      <td>0.50</td>\n",
       "      <td>0.48</td>\n",
       "      <td>0.49</td>\n",
       "    </tr>\n",
       "    <tr>\n",
       "      <td>Precission</td>\n",
       "      <td>0.51</td>\n",
       "      <td>0.49</td>\n",
       "      <td>0.50</td>\n",
       "    </tr>\n",
       "    <tr>\n",
       "      <td>F1</td>\n",
       "      <td>0.50</td>\n",
       "      <td>0.49</td>\n",
       "      <td>0.49</td>\n",
       "    </tr>\n",
       "    <tr>\n",
       "      <td>AUC-ROC</td>\n",
       "      <td>0.69</td>\n",
       "      <td>0.68</td>\n",
       "      <td>0.68</td>\n",
       "    </tr>\n",
       "  </tbody>\n",
       "</table>\n",
       "</div>"
      ],
      "text/plain": [
       "            Default  Взвешивание классов  Увеличение выборки\n",
       "Accuracy       0.79                 0.79                0.79\n",
       "Recall         0.50                 0.48                0.49\n",
       "Precission     0.51                 0.49                0.50\n",
       "F1             0.50                 0.49                0.49\n",
       "AUC-ROC        0.69                 0.68                0.68"
      ]
     },
     "execution_count": 33,
     "metadata": {},
     "output_type": "execute_result"
    }
   ],
   "source": [
    "model_DTC = DecisionTreeClassifier(random_state=12345)\n",
    "model_DTC.fit(X_upsampled, y_upsampled)\n",
    "metrics(model_DTC, 'DecisionTreeClassifier', X_valid, y_valid)\n",
    "df_result_DTC = pd.concat([df_result_DTC,table(model_DTC, X_valid, y_valid, 'Увеличение выборки')], join='inner', axis=1)\n",
    "df_result_DTC"
   ]
  },
  {
   "cell_type": "markdown",
   "metadata": {},
   "source": [
    "У решаюшего дерева упали все значения метрик."
   ]
  },
  {
   "cell_type": "code",
   "execution_count": 34,
   "metadata": {},
   "outputs": [
    {
     "name": "stdout",
     "output_type": "stream",
     "text": [
      "LogisticRegression :\n",
      "Accuracy   = 0.70\n",
      "Recall     = 0.68\n",
      "Precission = 0.38\n",
      "F1         = 0.49\n",
      "AUC-ROC    = 0.76\n",
      "Матрица ошибок:\n",
      " [[1119  463]\n",
      " [ 133  285]]\n",
      "\n"
     ]
    },
    {
     "data": {
      "text/html": [
       "<div>\n",
       "<style scoped>\n",
       "    .dataframe tbody tr th:only-of-type {\n",
       "        vertical-align: middle;\n",
       "    }\n",
       "\n",
       "    .dataframe tbody tr th {\n",
       "        vertical-align: top;\n",
       "    }\n",
       "\n",
       "    .dataframe thead th {\n",
       "        text-align: right;\n",
       "    }\n",
       "</style>\n",
       "<table border=\"1\" class=\"dataframe\">\n",
       "  <thead>\n",
       "    <tr style=\"text-align: right;\">\n",
       "      <th></th>\n",
       "      <th>Default</th>\n",
       "      <th>Взвешивание классов</th>\n",
       "      <th>Увеличение выборки</th>\n",
       "    </tr>\n",
       "  </thead>\n",
       "  <tbody>\n",
       "    <tr>\n",
       "      <td>Accuracy</td>\n",
       "      <td>0.80</td>\n",
       "      <td>0.70</td>\n",
       "      <td>0.70</td>\n",
       "    </tr>\n",
       "    <tr>\n",
       "      <td>Recall</td>\n",
       "      <td>0.23</td>\n",
       "      <td>0.68</td>\n",
       "      <td>0.68</td>\n",
       "    </tr>\n",
       "    <tr>\n",
       "      <td>Precission</td>\n",
       "      <td>0.56</td>\n",
       "      <td>0.38</td>\n",
       "      <td>0.38</td>\n",
       "    </tr>\n",
       "    <tr>\n",
       "      <td>F1</td>\n",
       "      <td>0.33</td>\n",
       "      <td>0.49</td>\n",
       "      <td>0.49</td>\n",
       "    </tr>\n",
       "    <tr>\n",
       "      <td>AUC-ROC</td>\n",
       "      <td>0.76</td>\n",
       "      <td>0.76</td>\n",
       "      <td>0.76</td>\n",
       "    </tr>\n",
       "  </tbody>\n",
       "</table>\n",
       "</div>"
      ],
      "text/plain": [
       "            Default  Взвешивание классов  Увеличение выборки\n",
       "Accuracy       0.80                 0.70                0.70\n",
       "Recall         0.23                 0.68                0.68\n",
       "Precission     0.56                 0.38                0.38\n",
       "F1             0.33                 0.49                0.49\n",
       "AUC-ROC        0.76                 0.76                0.76"
      ]
     },
     "execution_count": 34,
     "metadata": {},
     "output_type": "execute_result"
    }
   ],
   "source": [
    "model_LG = LogisticRegression(random_state=12345, solver = 'liblinear')\n",
    "model_LG.fit(X_upsampled, y_upsampled)\n",
    "metrics(model_LG, 'LogisticRegression', X_valid, y_valid)\n",
    "df_result_LG = pd.concat([df_result_LG,table(model_LG, X_valid, y_valid, 'Увеличение выборки')], join='inner', axis=1)\n",
    "df_result_LG"
   ]
  },
  {
   "cell_type": "markdown",
   "metadata": {},
   "source": [
    "У логистической регрессии увеличились значения полноты, но упало значение точности, значение F1 увеличилось, AUC_ROC практически не изменился. "
   ]
  },
  {
   "cell_type": "code",
   "execution_count": 35,
   "metadata": {},
   "outputs": [
    {
     "name": "stdout",
     "output_type": "stream",
     "text": [
      "RandomForestClassifier :\n",
      "Accuracy   = 0.85\n",
      "Recall     = 0.55\n",
      "Precission = 0.67\n",
      "F1         = 0.61\n",
      "AUC-ROC    = 0.84\n",
      "Матрица ошибок:\n",
      " [[1470  112]\n",
      " [ 188  230]]\n",
      "\n"
     ]
    },
    {
     "data": {
      "text/html": [
       "<div>\n",
       "<style scoped>\n",
       "    .dataframe tbody tr th:only-of-type {\n",
       "        vertical-align: middle;\n",
       "    }\n",
       "\n",
       "    .dataframe tbody tr th {\n",
       "        vertical-align: top;\n",
       "    }\n",
       "\n",
       "    .dataframe thead th {\n",
       "        text-align: right;\n",
       "    }\n",
       "</style>\n",
       "<table border=\"1\" class=\"dataframe\">\n",
       "  <thead>\n",
       "    <tr style=\"text-align: right;\">\n",
       "      <th></th>\n",
       "      <th>Default</th>\n",
       "      <th>Взвешивание классов</th>\n",
       "      <th>Увеличение выборки</th>\n",
       "    </tr>\n",
       "  </thead>\n",
       "  <tbody>\n",
       "    <tr>\n",
       "      <td>Accuracy</td>\n",
       "      <td>0.86</td>\n",
       "      <td>0.86</td>\n",
       "      <td>0.85</td>\n",
       "    </tr>\n",
       "    <tr>\n",
       "      <td>Recall</td>\n",
       "      <td>0.46</td>\n",
       "      <td>0.44</td>\n",
       "      <td>0.55</td>\n",
       "    </tr>\n",
       "    <tr>\n",
       "      <td>Precission</td>\n",
       "      <td>0.76</td>\n",
       "      <td>0.78</td>\n",
       "      <td>0.67</td>\n",
       "    </tr>\n",
       "    <tr>\n",
       "      <td>F1</td>\n",
       "      <td>0.57</td>\n",
       "      <td>0.56</td>\n",
       "      <td>0.61</td>\n",
       "    </tr>\n",
       "    <tr>\n",
       "      <td>AUC-ROC</td>\n",
       "      <td>0.84</td>\n",
       "      <td>0.84</td>\n",
       "      <td>0.84</td>\n",
       "    </tr>\n",
       "  </tbody>\n",
       "</table>\n",
       "</div>"
      ],
      "text/plain": [
       "            Default  Взвешивание классов  Увеличение выборки\n",
       "Accuracy       0.86                 0.86                0.85\n",
       "Recall         0.46                 0.44                0.55\n",
       "Precission     0.76                 0.78                0.67\n",
       "F1             0.57                 0.56                0.61\n",
       "AUC-ROC        0.84                 0.84                0.84"
      ]
     },
     "execution_count": 35,
     "metadata": {},
     "output_type": "execute_result"
    }
   ],
   "source": [
    "model_RFC = RandomForestClassifier(random_state=12345, n_estimators=100)\n",
    "model_RFC.fit(X_upsampled, y_upsampled)\n",
    "metrics(model_RFC, 'RandomForestClassifier', X_valid, y_valid)\n",
    "df_result_RFC = pd.concat([df_result_RFC,table(model_RFC, X_valid, y_valid, 'Увеличение выборки')], join='inner', axis=1)\n",
    "df_result_RFC"
   ]
  },
  {
   "cell_type": "markdown",
   "metadata": {},
   "source": [
    "У случайного леса увеличилось значение F1, которое теперь составляет 0.605. Увеличилось значение полноты, но упало значение точности."
   ]
  },
  {
   "cell_type": "markdown",
   "metadata": {},
   "source": [
    "### Уменьшение выборки"
   ]
  },
  {
   "cell_type": "markdown",
   "metadata": {},
   "source": [
    "Разделим обучающую выборку на отрицательные и положительные объекты. Случайным образом отбросим часть из отрицательных объектов.\n",
    "С учётом полученных данных создадим новую обучающую выборку. Перемешаем данные.  \n",
    "Уменьшим количество отрицательных объектов в 4 раза, чтобы уровнять количество положительных и отрицательных объектов."
   ]
  },
  {
   "cell_type": "code",
   "execution_count": 36,
   "metadata": {},
   "outputs": [],
   "source": [
    "def downsample(features, target, fraction):\n",
    "    features_zeros = features[target == 0]\n",
    "    features_ones = features[target == 1]\n",
    "    target_zeros = target[target == 0]\n",
    "    target_ones = target[target == 1]\n",
    "\n",
    "    features_downsampled =  features_zeros.sample(frac=fraction, random_state=12345)\n",
    "    target_downsampled =  target_zeros.sample(frac=fraction, random_state=12345)\n",
    "\n",
    "    features_downsampled = shuffle(pd.concat([features_downsampled] + [features_ones]))\n",
    "    target_downsampled = shuffle(pd.concat([target_downsampled] + [target_ones]))\n",
    "    \n",
    "    return features_downsampled, target_downsampled\n",
    "    \n",
    "X_downsampled, y_downsampled = downsample(X_train, y_train, 0.25)"
   ]
  },
  {
   "cell_type": "markdown",
   "metadata": {},
   "source": [
    "Посмотрим, как теперь распределены классы."
   ]
  },
  {
   "cell_type": "code",
   "execution_count": 37,
   "metadata": {},
   "outputs": [
    {
     "name": "stdout",
     "output_type": "stream",
     "text": [
      "0    0.501043\n",
      "1    0.498957\n",
      "Name: Exited, dtype: float64\n"
     ]
    },
    {
     "data": {
      "image/png": "[encoded data removed]",
      "text/plain": [
       "<Figure size 432x288 with 1 Axes>"
      ]
     },
     "metadata": {
      "needs_background": "light"
     },
     "output_type": "display_data"
    }
   ],
   "source": [
    "y_downsampled.value_counts().plot(kind='bar')\n",
    "print(y_downsampled.value_counts(normalize = True))\n",
    "plt.show()"
   ]
  },
  {
   "cell_type": "markdown",
   "metadata": {},
   "source": [
    "Теперь классы равны."
   ]
  },
  {
   "cell_type": "code",
   "execution_count": 38,
   "metadata": {},
   "outputs": [
    {
     "name": "stdout",
     "output_type": "stream",
     "text": [
      "DecisionTreeClassifier :\n",
      "Accuracy   = 0.50\n",
      "Recall     = 0.51\n",
      "Precission = 0.21\n",
      "F1         = 0.30\n",
      "AUC-ROC    = 0.50\n",
      "Матрица ошибок:\n",
      " [[783 799]\n",
      " [203 215]]\n",
      "\n"
     ]
    },
    {
     "data": {
      "text/html": [
       "<div>\n",
       "<style scoped>\n",
       "    .dataframe tbody tr th:only-of-type {\n",
       "        vertical-align: middle;\n",
       "    }\n",
       "\n",
       "    .dataframe tbody tr th {\n",
       "        vertical-align: top;\n",
       "    }\n",
       "\n",
       "    .dataframe thead th {\n",
       "        text-align: right;\n",
       "    }\n",
       "</style>\n",
       "<table border=\"1\" class=\"dataframe\">\n",
       "  <thead>\n",
       "    <tr style=\"text-align: right;\">\n",
       "      <th></th>\n",
       "      <th>Default</th>\n",
       "      <th>Взвешивание классов</th>\n",
       "      <th>Увеличение выборки</th>\n",
       "      <th>Уменьшение выборки</th>\n",
       "    </tr>\n",
       "  </thead>\n",
       "  <tbody>\n",
       "    <tr>\n",
       "      <td>Accuracy</td>\n",
       "      <td>0.79</td>\n",
       "      <td>0.79</td>\n",
       "      <td>0.79</td>\n",
       "      <td>0.50</td>\n",
       "    </tr>\n",
       "    <tr>\n",
       "      <td>Recall</td>\n",
       "      <td>0.50</td>\n",
       "      <td>0.48</td>\n",
       "      <td>0.49</td>\n",
       "      <td>0.51</td>\n",
       "    </tr>\n",
       "    <tr>\n",
       "      <td>Precission</td>\n",
       "      <td>0.51</td>\n",
       "      <td>0.49</td>\n",
       "      <td>0.50</td>\n",
       "      <td>0.21</td>\n",
       "    </tr>\n",
       "    <tr>\n",
       "      <td>F1</td>\n",
       "      <td>0.50</td>\n",
       "      <td>0.49</td>\n",
       "      <td>0.49</td>\n",
       "      <td>0.30</td>\n",
       "    </tr>\n",
       "    <tr>\n",
       "      <td>AUC-ROC</td>\n",
       "      <td>0.69</td>\n",
       "      <td>0.68</td>\n",
       "      <td>0.68</td>\n",
       "      <td>0.50</td>\n",
       "    </tr>\n",
       "  </tbody>\n",
       "</table>\n",
       "</div>"
      ],
      "text/plain": [
       "            Default  Взвешивание классов  Увеличение выборки  \\\n",
       "Accuracy       0.79                 0.79                0.79   \n",
       "Recall         0.50                 0.48                0.49   \n",
       "Precission     0.51                 0.49                0.50   \n",
       "F1             0.50                 0.49                0.49   \n",
       "AUC-ROC        0.69                 0.68                0.68   \n",
       "\n",
       "            Уменьшение выборки  \n",
       "Accuracy                  0.50  \n",
       "Recall                    0.51  \n",
       "Precission                0.21  \n",
       "F1                        0.30  \n",
       "AUC-ROC                   0.50  "
      ]
     },
     "execution_count": 38,
     "metadata": {},
     "output_type": "execute_result"
    }
   ],
   "source": [
    "model_DTC = DecisionTreeClassifier(random_state=12345)\n",
    "model_DTC.fit(X_downsampled, y_downsampled)\n",
    "metrics(model_DTC, 'DecisionTreeClassifier', X_valid, y_valid)\n",
    "df_result_DTC = pd.concat([df_result_DTC,table(model_DTC, X_valid, y_valid, 'Уменьшение выборки')], join='inner', axis=1)\n",
    "df_result_DTC"
   ]
  },
  {
   "cell_type": "markdown",
   "metadata": {},
   "source": [
    "У решаюшего дерева упали все значения метрик."
   ]
  },
  {
   "cell_type": "code",
   "execution_count": 39,
   "metadata": {},
   "outputs": [
    {
     "name": "stdout",
     "output_type": "stream",
     "text": [
      "LogisticRegression :\n",
      "Accuracy   = 0.51\n",
      "Recall     = 0.50\n",
      "Precission = 0.21\n",
      "F1         = 0.30\n",
      "AUC-ROC    = 0.52\n",
      "Матрица ошибок:\n",
      " [[813 769]\n",
      " [208 210]]\n",
      "\n"
     ]
    },
    {
     "data": {
      "text/html": [
       "<div>\n",
       "<style scoped>\n",
       "    .dataframe tbody tr th:only-of-type {\n",
       "        vertical-align: middle;\n",
       "    }\n",
       "\n",
       "    .dataframe tbody tr th {\n",
       "        vertical-align: top;\n",
       "    }\n",
       "\n",
       "    .dataframe thead th {\n",
       "        text-align: right;\n",
       "    }\n",
       "</style>\n",
       "<table border=\"1\" class=\"dataframe\">\n",
       "  <thead>\n",
       "    <tr style=\"text-align: right;\">\n",
       "      <th></th>\n",
       "      <th>Default</th>\n",
       "      <th>Взвешивание классов</th>\n",
       "      <th>Увеличение выборки</th>\n",
       "      <th>Уменьшение выборки</th>\n",
       "    </tr>\n",
       "  </thead>\n",
       "  <tbody>\n",
       "    <tr>\n",
       "      <td>Accuracy</td>\n",
       "      <td>0.80</td>\n",
       "      <td>0.70</td>\n",
       "      <td>0.70</td>\n",
       "      <td>0.51</td>\n",
       "    </tr>\n",
       "    <tr>\n",
       "      <td>Recall</td>\n",
       "      <td>0.23</td>\n",
       "      <td>0.68</td>\n",
       "      <td>0.68</td>\n",
       "      <td>0.50</td>\n",
       "    </tr>\n",
       "    <tr>\n",
       "      <td>Precission</td>\n",
       "      <td>0.56</td>\n",
       "      <td>0.38</td>\n",
       "      <td>0.38</td>\n",
       "      <td>0.21</td>\n",
       "    </tr>\n",
       "    <tr>\n",
       "      <td>F1</td>\n",
       "      <td>0.33</td>\n",
       "      <td>0.49</td>\n",
       "      <td>0.49</td>\n",
       "      <td>0.30</td>\n",
       "    </tr>\n",
       "    <tr>\n",
       "      <td>AUC-ROC</td>\n",
       "      <td>0.76</td>\n",
       "      <td>0.76</td>\n",
       "      <td>0.76</td>\n",
       "      <td>0.52</td>\n",
       "    </tr>\n",
       "  </tbody>\n",
       "</table>\n",
       "</div>"
      ],
      "text/plain": [
       "            Default  Взвешивание классов  Увеличение выборки  \\\n",
       "Accuracy       0.80                 0.70                0.70   \n",
       "Recall         0.23                 0.68                0.68   \n",
       "Precission     0.56                 0.38                0.38   \n",
       "F1             0.33                 0.49                0.49   \n",
       "AUC-ROC        0.76                 0.76                0.76   \n",
       "\n",
       "            Уменьшение выборки  \n",
       "Accuracy                  0.51  \n",
       "Recall                    0.50  \n",
       "Precission                0.21  \n",
       "F1                        0.30  \n",
       "AUC-ROC                   0.52  "
      ]
     },
     "execution_count": 39,
     "metadata": {},
     "output_type": "execute_result"
    }
   ],
   "source": [
    "model_LG = LogisticRegression(random_state=12345, solver = 'liblinear')\n",
    "model_LG.fit(X_downsampled, y_downsampled)\n",
    "metrics(model_LG, 'LogisticRegression', X_valid, y_valid)\n",
    "df_result_LG = pd.concat([df_result_LG,table(model_LG, X_valid, y_valid, 'Уменьшение выборки')], join='inner', axis=1)\n",
    "df_result_LG"
   ]
  },
  {
   "cell_type": "markdown",
   "metadata": {},
   "source": [
    "У логистической регрессии также упали все значения метрик."
   ]
  },
  {
   "cell_type": "code",
   "execution_count": 40,
   "metadata": {},
   "outputs": [
    {
     "name": "stdout",
     "output_type": "stream",
     "text": [
      "RandomForestClassifier :\n",
      "Accuracy   = 0.51\n",
      "Recall     = 0.45\n",
      "Precission = 0.20\n",
      "F1         = 0.28\n",
      "AUC-ROC    = 0.50\n",
      "Матрица ошибок:\n",
      " [[821 761]\n",
      " [229 189]]\n",
      "\n"
     ]
    },
    {
     "data": {
      "text/html": [
       "<div>\n",
       "<style scoped>\n",
       "    .dataframe tbody tr th:only-of-type {\n",
       "        vertical-align: middle;\n",
       "    }\n",
       "\n",
       "    .dataframe tbody tr th {\n",
       "        vertical-align: top;\n",
       "    }\n",
       "\n",
       "    .dataframe thead th {\n",
       "        text-align: right;\n",
       "    }\n",
       "</style>\n",
       "<table border=\"1\" class=\"dataframe\">\n",
       "  <thead>\n",
       "    <tr style=\"text-align: right;\">\n",
       "      <th></th>\n",
       "      <th>Default</th>\n",
       "      <th>Взвешивание классов</th>\n",
       "      <th>Увеличение выборки</th>\n",
       "      <th>Уменьшение выборки</th>\n",
       "    </tr>\n",
       "  </thead>\n",
       "  <tbody>\n",
       "    <tr>\n",
       "      <td>Accuracy</td>\n",
       "      <td>0.86</td>\n",
       "      <td>0.86</td>\n",
       "      <td>0.85</td>\n",
       "      <td>0.50</td>\n",
       "    </tr>\n",
       "    <tr>\n",
       "      <td>Recall</td>\n",
       "      <td>0.46</td>\n",
       "      <td>0.44</td>\n",
       "      <td>0.55</td>\n",
       "      <td>0.45</td>\n",
       "    </tr>\n",
       "    <tr>\n",
       "      <td>Precission</td>\n",
       "      <td>0.76</td>\n",
       "      <td>0.78</td>\n",
       "      <td>0.67</td>\n",
       "      <td>0.20</td>\n",
       "    </tr>\n",
       "    <tr>\n",
       "      <td>F1</td>\n",
       "      <td>0.57</td>\n",
       "      <td>0.56</td>\n",
       "      <td>0.61</td>\n",
       "      <td>0.28</td>\n",
       "    </tr>\n",
       "    <tr>\n",
       "      <td>AUC-ROC</td>\n",
       "      <td>0.84</td>\n",
       "      <td>0.84</td>\n",
       "      <td>0.84</td>\n",
       "      <td>0.50</td>\n",
       "    </tr>\n",
       "  </tbody>\n",
       "</table>\n",
       "</div>"
      ],
      "text/plain": [
       "            Default  Взвешивание классов  Увеличение выборки  \\\n",
       "Accuracy       0.86                 0.86                0.85   \n",
       "Recall         0.46                 0.44                0.55   \n",
       "Precission     0.76                 0.78                0.67   \n",
       "F1             0.57                 0.56                0.61   \n",
       "AUC-ROC        0.84                 0.84                0.84   \n",
       "\n",
       "            Уменьшение выборки  \n",
       "Accuracy                  0.50  \n",
       "Recall                    0.45  \n",
       "Precission                0.20  \n",
       "F1                        0.28  \n",
       "AUC-ROC                   0.50  "
      ]
     },
     "execution_count": 40,
     "metadata": {},
     "output_type": "execute_result"
    }
   ],
   "source": [
    "model_RFC = RandomForestClassifier(random_state=12345, n_estimators=100)\n",
    "model_RFC.fit(X_downsampled, y_downsampled)\n",
    "metrics(model_RFC, 'RandomForestClassifier', X_valid, y_valid)\n",
    "df_result_RFC = pd.concat([df_result_RFC,table(model_RFC, X_valid, y_valid, 'Уменьшение выборки')], join='inner', axis=1)\n",
    "df_result_RFC"
   ]
  },
  {
   "cell_type": "markdown",
   "metadata": {},
   "source": [
    "У случайного леса тоже упали все значения метрик."
   ]
  },
  {
   "cell_type": "markdown",
   "metadata": {},
   "source": [
    "### Выбор лучшей модели и подбор гиперпараметров"
   ]
  },
  {
   "cell_type": "markdown",
   "metadata": {},
   "source": [
    "Лучшее значение F1 показала модель случайного леса с увеличением выборки. Попробуем для нее увеличить значение F1 с помощью подбора гиперпараметров, для этого воспользуемся `GridSearchCV()`"
   ]
  },
  {
   "cell_type": "code",
   "execution_count": 41,
   "metadata": {},
   "outputs": [
    {
     "name": "stdout",
     "output_type": "stream",
     "text": [
      "{'max_depth': 11, 'n_estimators': 100}\n",
      "CPU times: user 1min 52s, sys: 281 ms, total: 1min 53s\n",
      "Wall time: 1min 54s\n"
     ]
    }
   ],
   "source": [
    "%%time\n",
    "# Время выполнения около 2 минут\n",
    "f1 = make_scorer(f1_score)\n",
    "parametrs = { 'n_estimators': range (10, 101, 10),\n",
    "              'max_depth': range (1,13, 2)}\n",
    "model = RandomForestClassifier(random_state=12345)\n",
    "grid = GridSearchCV(model, parametrs, cv=5, scoring=f1)\n",
    "grid.fit(X_upsampled, y_upsampled)\n",
    "print(grid.best_params_)"
   ]
  },
  {
   "cell_type": "markdown",
   "metadata": {},
   "source": [
    "Наулучшая модель получилась со следующими гиперпараметрами:"
   ]
  },
  {
   "cell_type": "code",
   "execution_count": 42,
   "metadata": {},
   "outputs": [
    {
     "data": {
      "text/plain": [
       "{'max_depth': 11, 'n_estimators': 100}"
      ]
     },
     "execution_count": 42,
     "metadata": {},
     "output_type": "execute_result"
    }
   ],
   "source": [
    "grid.best_params_"
   ]
  },
  {
   "cell_type": "markdown",
   "metadata": {},
   "source": [
    "Посчитаем основные значения метрик на валидационной выборке."
   ]
  },
  {
   "cell_type": "code",
   "execution_count": 43,
   "metadata": {},
   "outputs": [
    {
     "name": "stdout",
     "output_type": "stream",
     "text": [
      "RandomForestClassifier :\n",
      "Accuracy   = 0.83\n",
      "Recall     = 0.65\n",
      "Precission = 0.59\n",
      "F1         = 0.62\n",
      "AUC-ROC    = 0.85\n",
      "Матрица ошибок:\n",
      " [[1393  189]\n",
      " [ 145  273]]\n",
      "\n"
     ]
    },
    {
     "data": {
      "image/png": "[encoded data removed]",
      "text/plain": [
       "<Figure size 432x288 with 1 Axes>"
      ]
     },
     "metadata": {
      "needs_background": "light"
     },
     "output_type": "display_data"
    }
   ],
   "source": [
    "model = RandomForestClassifier(**grid.best_params_, random_state=12345)\n",
    "model.fit(X_upsampled, y_upsampled)\n",
    "metrics(model, 'RandomForestClassifier', X_valid, y_valid, print_plot= 1)"
   ]
  },
  {
   "cell_type": "markdown",
   "metadata": {},
   "source": [
    "### Вывод"
   ]
  },
  {
   "cell_type": "markdown",
   "metadata": {},
   "source": [
    "Проверили качество моделей, учитывая дисбаланс классов. Использовали следующие подходы:  \n",
    "* Взвешивание классов;\n",
    "* Увеличение выборки;\n",
    "* Уменьшение выборки.\n",
    "\n",
    "Получили следующие результаты:\n",
    "\n",
    "\n",
    "* ***DecisionTreeClassifier***\n",
    "\n",
    "**Метрики**  | **Default** | **Взвешивание классов** |\t**Увеличение выборки** | **Уменьшение выборки** |\n",
    ":-------------: | :-------------: | :-------------: | :-------------: | :-------------: |\n",
    "Accuracy|\t0.79|\t0.79|\t0.79|\t0.52|\n",
    "Recall|\t    0.50|\t0.48|\t0.49|\t0.55|\n",
    "Precission|\t0.51|\t0.49|\t0.50|\t0.23|\n",
    "F1|\t        0.50|\t0.49|\t0.49|\t0.32|\n",
    "AUC-ROC|\t0.69|\t0.68|\t0.68|\t0.53|\n",
    "\n",
    "* ***LogisticRegression***\n",
    "\n",
    "**Метрики**  | **Default** | **Взвешивание классов** |\t**Увеличение выборки** | **Уменьшение выборки** |\n",
    ":-------------: | :-------------: | :-------------: | :-------------: | :-------------: |\n",
    "Accuracy|\t0.80|\t0.70|\t0.70|\t0.46|\n",
    "Recall|\t    0.23|\t0.68|\t0.68|\t0.46|\n",
    "Precission|\t0.56|\t0.38|\t0.38|\t0.18|\n",
    "F1|\t        0.33|\t0.49|\t0.49|\t0.26|\n",
    "AUC-ROC|\t0.76|\t0.76|\t0.76|\t0.4|\n",
    "\n",
    "* ***RandomForestClassifier***\n",
    "\n",
    "**Метрики**  | **Default** | **Взвешивание классов** |\t**Увеличение выборки** | **Уменьшение выборки** |\n",
    ":-------------: | :-------------: | :-------------: | :-------------: | :-------------: |\n",
    "Accuracy|\t0.86|\t0.86|\t0.85|\t0.51|\n",
    "Recall|\t    0.46|\t0.44|\t0.55|\t0.51|\n",
    "Precission|\t0.76|\t0.78|\t0.67|\t0.21|\n",
    "F1|\t        0.57|\t0.56|\t0.61|\t0.30|\n",
    "AUC-ROC|\t0.84|\t0.84|\t0.84|\t0.52|\n",
    "\n",
    "\n",
    "Лучшей моделью оказалась **RandomForestClassifier**, используя метод увеличения выборки, со значением **F1 = 0.61** и **AUC_ROC = 0.84**.  \n",
    "С помощью `GridSearchCV` подобрали лучшие значения гиперпараметров для **RandomForestClassifier**: \n",
    "* max_depth = 11;\n",
    "* n_estimators = 100.\n",
    "\n",
    "На валидационной выборке получили следующие значения метрик:\n",
    "\n",
    "**Метрики**  | **Значения** |\n",
    ":-------------: | :-------------: |\n",
    "Accuracy\t | 0.83 |\n",
    "Recall | 0.65 |\n",
    "Precission | 0.59 |\n",
    "F1 | 0.62 |\n",
    "AUC-ROC | 0.85 |"
   ]
  },
  {
   "cell_type": "markdown",
   "metadata": {},
   "source": [
    "## Тестирование модели"
   ]
  },
  {
   "cell_type": "markdown",
   "metadata": {},
   "source": [
    "Проверим значения метрик на тестовой выборке."
   ]
  },
  {
   "cell_type": "code",
   "execution_count": 44,
   "metadata": {},
   "outputs": [
    {
     "name": "stdout",
     "output_type": "stream",
     "text": [
      "RandomForestClassifier :\n",
      "Accuracy   = 0.83\n",
      "Recall     = 0.64\n",
      "Precission = 0.58\n",
      "F1         = 0.61\n",
      "AUC-ROC    = 0.86\n",
      "Матрица ошибок:\n",
      " [[1382  195]\n",
      " [ 154  269]]\n",
      "\n"
     ]
    },
    {
     "data": {
      "image/png": "[encoded data removed]",
      "text/plain": [
       "<Figure size 432x288 with 1 Axes>"
      ]
     },
     "metadata": {
      "needs_background": "light"
     },
     "output_type": "display_data"
    }
   ],
   "source": [
    "metrics(model, 'RandomForestClassifier', X_test, y_test, print_plot= 1)"
   ]
  },
  {
   "cell_type": "markdown",
   "metadata": {},
   "source": [
    "Значение **F1 = 0.61** (по условию задачи необходимо было > 0.59) и значение **AUC-ROC = 0.86**."
   ]
  },
  {
   "cell_type": "markdown",
   "metadata": {},
   "source": [
    "## Общий вывод"
   ]
  },
  {
   "cell_type": "markdown",
   "metadata": {},
   "source": [
    "В результате проведанной рабоыт получили следующие результаты.\n",
    "\n",
    "Построили модели ***без учета дисбаланса классов***:\n",
    "* Решающее дерево (decision tree);\n",
    "* Случайный лес (random forest); \n",
    "* Логистическая регрессия (logistic regression).\n",
    "\n",
    "И посчитали основные метрики:\n",
    "* Accuracy;\n",
    "* Recall;\n",
    "* Precission; \n",
    "* F1;\n",
    "* AUC-ROC.\n",
    "\n",
    "Получили следующие результаты.  \n",
    "\n",
    "* ***DecisionTreeClassifier***\n",
    "\n",
    "**Метрики**  | **Default** |\n",
    ":-------------: | :-------------: |\n",
    "Accuracy\t | 0.794500 |\n",
    "Recall | 0.497608 |\n",
    "Precission | 0.508557 |\n",
    "F1 | 0.503023 |\n",
    "AUC-ROC | 0.685277 |\n",
    "\n",
    "* ***LogisticRegression***\n",
    "\n",
    "**Метрики**  | **Default** |\n",
    ":-------------: | :-------------: |\n",
    "Accuracy\t | 0.802000 |\n",
    "Recall | 0.234450 |\n",
    "Precission | 0.563218 |\n",
    "F1 | 0.331081 |\n",
    "AUC-ROC | 0.758750 |\n",
    "\n",
    "* ***RandomForestClassifier***\n",
    "\n",
    "**Метрики**  | **Default** |\n",
    ":-------------: | :-------------: |\n",
    "Accuracy\t | 0.857500 |\n",
    "Recall | 0.459330 |\n",
    "Precission | 0.764940 |\n",
    "F1 | 0.573991 |\n",
    "AUC-ROC | 0.839989 |\n",
    "\n",
    "\n",
    "Лучшее значение **F1  = 0.574** выдает **RandomForestClassifier**.  \n",
    "\n",
    "\n",
    "Проверили качество моделей ***с учетом дисбаланс классов***. Использовали следующие подходы:  \n",
    "* Взвешивание классов;\n",
    "* Увеличение выборки;\n",
    "* Уменьшение выборки.\n",
    "\n",
    "Получили следующие результаты:\n",
    "\n",
    "\n",
    "* ***DecisionTreeClassifier***\n",
    "\n",
    "**Метрики**  | **Default** | **Взвешивание классов** |\t**Увеличение выборки** | **Уменьшение выборки** |\n",
    ":-------------: | :-------------: | :-------------: | :-------------: | :-------------: |\n",
    "Accuracy|\t0.79|\t0.79|\t0.79|\t0.52|\n",
    "Recall|\t    0.50|\t0.48|\t0.49|\t0.55|\n",
    "Precission|\t0.51|\t0.49|\t0.50|\t0.23|\n",
    "F1|\t        0.50|\t0.49|\t0.49|\t0.32|\n",
    "AUC-ROC|\t0.69|\t0.68|\t0.68|\t0.53|\n",
    "\n",
    "* ***LogisticRegression***\n",
    "\n",
    "**Метрики**  | **Default** | **Взвешивание классов** |\t**Увеличение выборки** | **Уменьшение выборки** |\n",
    ":-------------: | :-------------: | :-------------: | :-------------: | :-------------: |\n",
    "Accuracy|\t0.80|\t0.70|\t0.70|\t0.46|\n",
    "Recall|\t    0.23|\t0.68|\t0.68|\t0.46|\n",
    "Precission|\t0.56|\t0.38|\t0.38|\t0.18|\n",
    "F1|\t        0.33|\t0.49|\t0.49|\t0.26|\n",
    "AUC-ROC|\t0.76|\t0.76|\t0.76|\t0.4|\n",
    "\n",
    "* ***RandomForestClassifier***\n",
    "\n",
    "**Метрики**  | **Default** | **Взвешивание классов** |\t**Увеличение выборки** | **Уменьшение выборки** |\n",
    ":-------------: | :-------------: | :-------------: | :-------------: | :-------------: |\n",
    "Accuracy|\t0.86|\t0.86|\t0.85|\t0.51|\n",
    "Recall|\t    0.46|\t0.44|\t0.55|\t0.51|\n",
    "Precission|\t0.76|\t0.78|\t0.67|\t0.21|\n",
    "F1|\t        0.57|\t0.56|\t0.61|\t0.30|\n",
    "AUC-ROC|\t0.84|\t0.84|\t0.84|\t0.52|\n",
    "\n",
    "\n",
    "Лучшей моделью оказалась **RandomForestClassifier**, используя метод увеличения выборки, со значением **F1 = 0.61** и **AUC_ROC = 0.84**.  \n",
    "С помощью `GridSearchCV` подобрали лучшие значения гиперпараметров для **RandomForestClassifier**: \n",
    "* max_depth = 11;\n",
    "* n_estimators = 100.\n",
    "\n",
    "На **валидационной выборке** получили следующие значения метрик:\n",
    "\n",
    "**Метрики**  | **Значения** |\n",
    ":-------------: | :-------------: |\n",
    "Accuracy\t | 0.83 |\n",
    "Recall | 0.65 |\n",
    "Precission | 0.59 |\n",
    "F1 | 0.62 |\n",
    "AUC-ROC | 0.85 |\n",
    "\n",
    "На **тестовой выборке** и получили следующие значения метрик:\n",
    "\n",
    "**Метрики**  | **Значения** |\n",
    ":-------------: | :-------------: |\n",
    "Accuracy\t | 0.83 |\n",
    "Recall | 0.64 |\n",
    "Precission | 0.58 |\n",
    "F1 | 0.61 |\n",
    "AUC-ROC | 0.86 |\n",
    "\n",
    "В результате значение F1 = 0.61 (по условию задачи необходимо было > 0.59) и значение AUC-ROC = 0.86."
   ]
  }
 ],
 "metadata": {
  "kernelspec": {
   "display_name": "Python 3",
   "language": "python",
   "name": "python3"
  },
  "language_info": {
   "codemirror_mode": {
    "name": "ipython",
    "version": 3
   },
   "file_extension": ".py",
   "mimetype": "text/x-python",
   "name": "python",
   "nbconvert_exporter": "python",
   "pygments_lexer": "ipython3",
   "version": "3.7.8"
  },
  "toc": {
   "base_numbering": 1,
   "nav_menu": {
    "height": "424.983px",
    "width": "388.993px"
   },
   "number_sections": true,
   "sideBar": true,
   "skip_h1_title": true,
   "title_cell": "Содержание",
   "title_sidebar": "Contents",
   "toc_cell": true,
   "toc_position": {},
   "toc_section_display": true,
   "toc_window_display": false
  }
 },
 "nbformat": 4,
 "nbformat_minor": 4
}
