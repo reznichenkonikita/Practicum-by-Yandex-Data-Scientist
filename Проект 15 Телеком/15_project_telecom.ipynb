{
 "cells": [
  {
   "cell_type": "markdown",
   "metadata": {},
   "source": [
    "# Телеком"
   ]
  },
  {
   "cell_type": "markdown",
   "metadata": {
    "toc": true
   },
   "source": [
    "<h1>Содержание<span class=\"tocSkip\"></span></h1>\n",
    "<div class=\"toc\"><ul class=\"toc-item\"><li><span><a href=\"#Используемые-модули\" data-toc-modified-id=\"Используемые-модули-1\"><span class=\"toc-item-num\">1&nbsp;&nbsp;</span>Используемые модули</a></span></li><li><span><a href=\"#Загрузка-данных\" data-toc-modified-id=\"Загрузка-данных-2\"><span class=\"toc-item-num\">2&nbsp;&nbsp;</span>Загрузка данных</a></span><ul class=\"toc-item\"><li><span><a href=\"#Загрузка-данных\" data-toc-modified-id=\"Загрузка-данных-2.1\"><span class=\"toc-item-num\">2.1&nbsp;&nbsp;</span>Загрузка данных</a></span><ul class=\"toc-item\"><li><span><a href=\"#Таблица-df_contract\" data-toc-modified-id=\"Таблица-df_contract-2.1.1\"><span class=\"toc-item-num\">2.1.1&nbsp;&nbsp;</span>Таблица df_contract</a></span></li><li><span><a href=\"#Таблица-df_personal\" data-toc-modified-id=\"Таблица-df_personal-2.1.2\"><span class=\"toc-item-num\">2.1.2&nbsp;&nbsp;</span>Таблица df_personal</a></span></li><li><span><a href=\"#Таблица-df_internet\" data-toc-modified-id=\"Таблица-df_internet-2.1.3\"><span class=\"toc-item-num\">2.1.3&nbsp;&nbsp;</span>Таблица df_internet</a></span></li><li><span><a href=\"#Таблица-df_phone\" data-toc-modified-id=\"Таблица-df_phone-2.1.4\"><span class=\"toc-item-num\">2.1.4&nbsp;&nbsp;</span>Таблица df_phone</a></span></li></ul></li><li><span><a href=\"#Объединение-таблиц\" data-toc-modified-id=\"Объединение-таблиц-2.2\"><span class=\"toc-item-num\">2.2&nbsp;&nbsp;</span>Объединение таблиц</a></span></li></ul></li><li><span><a href=\"#Предобработка-данных\" data-toc-modified-id=\"Предобработка-данных-3\"><span class=\"toc-item-num\">3&nbsp;&nbsp;</span>Предобработка данных</a></span><ul class=\"toc-item\"><li><span><a href=\"#Обработка-пропущенных-значений\" data-toc-modified-id=\"Обработка-пропущенных-значений-3.1\"><span class=\"toc-item-num\">3.1&nbsp;&nbsp;</span>Обработка пропущенных значений</a></span></li><li><span><a href=\"#Замена-типа-данных\" data-toc-modified-id=\"Замена-типа-данных-3.2\"><span class=\"toc-item-num\">3.2&nbsp;&nbsp;</span>Замена типа данных</a></span></li><li><span><a href=\"#Добавление-новых-признаков-и-целевого-признака\" data-toc-modified-id=\"Добавление-новых-признаков-и-целевого-признака-3.3\"><span class=\"toc-item-num\">3.3&nbsp;&nbsp;</span>Добавление новых признаков и целевого признака</a></span></li><li><span><a href=\"#Удаление-неиспользуемых-признаков\" data-toc-modified-id=\"Удаление-неиспользуемых-признаков-3.4\"><span class=\"toc-item-num\">3.4&nbsp;&nbsp;</span>Удаление неиспользуемых признаков</a></span></li></ul></li><li><span><a href=\"#Исследовательский-анализ-данных\" data-toc-modified-id=\"Исследовательский-анализ-данных-4\"><span class=\"toc-item-num\">4&nbsp;&nbsp;</span>Исследовательский анализ данных</a></span><ul class=\"toc-item\"><li><span><a href=\"#Распределение-целевого-признака\" data-toc-modified-id=\"Распределение-целевого-признака-4.1\"><span class=\"toc-item-num\">4.1&nbsp;&nbsp;</span>Распределение целевого признака</a></span></li><li><span><a href=\"#Категориальные-признаки\" data-toc-modified-id=\"Категориальные-признаки-4.2\"><span class=\"toc-item-num\">4.2&nbsp;&nbsp;</span>Категориальные признаки</a></span></li><li><span><a href=\"#Непрерывные-признаки\" data-toc-modified-id=\"Непрерывные-признаки-4.3\"><span class=\"toc-item-num\">4.3&nbsp;&nbsp;</span>Непрерывные признаки</a></span></li></ul></li><li><span><a href=\"#Обучение-моделей\" data-toc-modified-id=\"Обучение-моделей-5\"><span class=\"toc-item-num\">5&nbsp;&nbsp;</span>Обучение моделей</a></span><ul class=\"toc-item\"><li><span><a href=\"#Кодирование-Ordinal-Encoding\" data-toc-modified-id=\"Кодирование-Ordinal-Encoding-5.1\"><span class=\"toc-item-num\">5.1&nbsp;&nbsp;</span>Кодирование Ordinal Encoding</a></span></li><li><span><a href=\"#Проверка-на-мультиколинеарность\" data-toc-modified-id=\"Проверка-на-мультиколинеарность-5.2\"><span class=\"toc-item-num\">5.2&nbsp;&nbsp;</span>Проверка на мультиколинеарность</a></span></li><li><span><a href=\"#Разделение-выборок\" data-toc-modified-id=\"Разделение-выборок-5.3\"><span class=\"toc-item-num\">5.3&nbsp;&nbsp;</span>Разделение выборок</a></span></li><li><span><a href=\"#Стандартизация-данных\" data-toc-modified-id=\"Стандартизация-данных-5.4\"><span class=\"toc-item-num\">5.4&nbsp;&nbsp;</span>Стандартизация данных</a></span></li><li><span><a href=\"#Обучение-моделей\" data-toc-modified-id=\"Обучение-моделей-5.5\"><span class=\"toc-item-num\">5.5&nbsp;&nbsp;</span>Обучение моделей</a></span><ul class=\"toc-item\"><li><span><a href=\"#LogisticRegression\" data-toc-modified-id=\"LogisticRegression-5.5.1\"><span class=\"toc-item-num\">5.5.1&nbsp;&nbsp;</span>LogisticRegression</a></span></li><li><span><a href=\"#DecisionTreeClassifier\" data-toc-modified-id=\"DecisionTreeClassifier-5.5.2\"><span class=\"toc-item-num\">5.5.2&nbsp;&nbsp;</span>DecisionTreeClassifier</a></span></li><li><span><a href=\"#RandomForestClassifier\" data-toc-modified-id=\"RandomForestClassifier-5.5.3\"><span class=\"toc-item-num\">5.5.3&nbsp;&nbsp;</span>RandomForestClassifier</a></span></li><li><span><a href=\"#LinearSVC\" data-toc-modified-id=\"LinearSVC-5.5.4\"><span class=\"toc-item-num\">5.5.4&nbsp;&nbsp;</span>LinearSVC</a></span></li><li><span><a href=\"#CatBoostClassifier\" data-toc-modified-id=\"CatBoostClassifier-5.5.5\"><span class=\"toc-item-num\">5.5.5&nbsp;&nbsp;</span>CatBoostClassifier</a></span></li><li><span><a href=\"#LGBMClassifier\" data-toc-modified-id=\"LGBMClassifier-5.5.6\"><span class=\"toc-item-num\">5.5.6&nbsp;&nbsp;</span>LGBMClassifier</a></span></li></ul></li><li><span><a href=\"#Подбор-гиперпараметров\" data-toc-modified-id=\"Подбор-гиперпараметров-5.6\"><span class=\"toc-item-num\">5.6&nbsp;&nbsp;</span>Подбор гиперпараметров</a></span></li><li><span><a href=\"#Значимость-признаков\" data-toc-modified-id=\"Значимость-признаков-5.7\"><span class=\"toc-item-num\">5.7&nbsp;&nbsp;</span>Значимость признаков</a></span></li></ul></li><li><span><a href=\"#Общий-вывод\" data-toc-modified-id=\"Общий-вывод-6\"><span class=\"toc-item-num\">6&nbsp;&nbsp;</span>Общий вывод</a></span></li></ul></div>"
   ]
  },
  {
   "cell_type": "markdown",
   "metadata": {},
   "source": [
    "## Используемые модули"
   ]
  },
  {
   "cell_type": "code",
   "execution_count": 1,
   "metadata": {},
   "outputs": [],
   "source": [
    "import pandas as pd\n",
    "import matplotlib.pyplot as plt\n",
    "import numpy as np\n",
    "np.warnings.filterwarnings('ignore', category=np.VisibleDeprecationWarning)\n",
    "\n",
    "from sklearn.preprocessing import StandardScaler\n",
    "\n",
    "from sklearn.preprocessing import OrdinalEncoder \n",
    "\n",
    "from sklearn.model_selection import train_test_split\n",
    "\n",
    "from sklearn.tree import DecisionTreeClassifier\n",
    "from sklearn.ensemble import RandomForestClassifier\n",
    "from sklearn.linear_model import LogisticRegression\n",
    "from sklearn.svm import LinearSVC\n",
    "from catboost import CatBoostClassifier\n",
    "from lightgbm import LGBMClassifier\n",
    "from sklearn.calibration import CalibratedClassifierCV\n",
    "\n",
    "from sklearn.metrics import make_scorer\n",
    "from sklearn.model_selection import GridSearchCV\n",
    "\n",
    "from sklearn.metrics import accuracy_score\n",
    "from sklearn.metrics import recall_score\n",
    "from sklearn.metrics import precision_score\n",
    "from sklearn.metrics import f1_score\n",
    "from sklearn.metrics import confusion_matrix\n",
    "from sklearn.metrics import roc_curve\n",
    "from sklearn.metrics import roc_auc_score\n",
    "from sklearn.metrics import make_scorer"
   ]
  },
  {
   "cell_type": "markdown",
   "metadata": {},
   "source": [
    "## Загрузка данных"
   ]
  },
  {
   "cell_type": "markdown",
   "metadata": {},
   "source": [
    "### Загрузка данных"
   ]
  },
  {
   "cell_type": "code",
   "execution_count": 2,
   "metadata": {},
   "outputs": [],
   "source": [
    "df_contract = pd.read_csv()\n",
    "df_personal = pd.read_csv()\n",
    "df_internet = pd.read_csv()\n",
    "df_phone = pd.read_csv()"
   ]
  },
  {
   "cell_type": "code",
   "execution_count": 3,
   "metadata": {},
   "outputs": [],
   "source": [
    "def information(DataFrame):\n",
    "    display(DataFrame.head(10))\n",
    "    display(DataFrame.info())\n",
    "    try:\n",
    "        display(DataFrame.select_dtypes(include=['object']).describe())\n",
    "    except:\n",
    "        pass\n",
    "    try:\n",
    "        display(DataFrame.select_dtypes(include=['int64', 'float64']).describe())\n",
    "        DataFrame.hist(figsize=(20,12))\n",
    "        plt.show()\n",
    "    except:\n",
    "        pass\n",
    "    print('Количество дубликатов в DataFrame:', DataFrame.duplicated().sum())"
   ]
  },
  {
   "cell_type": "markdown",
   "metadata": {},
   "source": [
    "#### Таблица df_contract"
   ]
  },
  {
   "cell_type": "code",
   "execution_count": 4,
   "metadata": {},
   "outputs": [
    {
     "data": {
      "text/html": [
       "<div>\n",
       "<style scoped>\n",
       "    .dataframe tbody tr th:only-of-type {\n",
       "        vertical-align: middle;\n",
       "    }\n",
       "\n",
       "    .dataframe tbody tr th {\n",
       "        vertical-align: top;\n",
       "    }\n",
       "\n",
       "    .dataframe thead th {\n",
       "        text-align: right;\n",
       "    }\n",
       "</style>\n",
       "<table border=\"1\" class=\"dataframe\">\n",
       "  <thead>\n",
       "    <tr style=\"text-align: right;\">\n",
       "      <th></th>\n",
       "      <th>customerID</th>\n",
       "      <th>BeginDate</th>\n",
       "      <th>EndDate</th>\n",
       "      <th>Type</th>\n",
       "      <th>PaperlessBilling</th>\n",
       "      <th>PaymentMethod</th>\n",
       "      <th>MonthlyCharges</th>\n",
       "      <th>TotalCharges</th>\n",
       "    </tr>\n",
       "  </thead>\n",
       "  <tbody>\n",
       "    <tr>\n",
       "      <td>0</td>\n",
       "      <td>7590-VHVEG</td>\n",
       "      <td>2020-01-01</td>\n",
       "      <td>No</td>\n",
       "      <td>Month-to-month</td>\n",
       "      <td>Yes</td>\n",
       "      <td>Electronic check</td>\n",
       "      <td>29.85</td>\n",
       "      <td>29.85</td>\n",
       "    </tr>\n",
       "    <tr>\n",
       "      <td>1</td>\n",
       "      <td>5575-GNVDE</td>\n",
       "      <td>2017-04-01</td>\n",
       "      <td>No</td>\n",
       "      <td>One year</td>\n",
       "      <td>No</td>\n",
       "      <td>Mailed check</td>\n",
       "      <td>56.95</td>\n",
       "      <td>1889.5</td>\n",
       "    </tr>\n",
       "    <tr>\n",
       "      <td>2</td>\n",
       "      <td>3668-QPYBK</td>\n",
       "      <td>2019-10-01</td>\n",
       "      <td>2019-12-01 00:00:00</td>\n",
       "      <td>Month-to-month</td>\n",
       "      <td>Yes</td>\n",
       "      <td>Mailed check</td>\n",
       "      <td>53.85</td>\n",
       "      <td>108.15</td>\n",
       "    </tr>\n",
       "    <tr>\n",
       "      <td>3</td>\n",
       "      <td>7795-CFOCW</td>\n",
       "      <td>2016-05-01</td>\n",
       "      <td>No</td>\n",
       "      <td>One year</td>\n",
       "      <td>No</td>\n",
       "      <td>Bank transfer (automatic)</td>\n",
       "      <td>42.30</td>\n",
       "      <td>1840.75</td>\n",
       "    </tr>\n",
       "    <tr>\n",
       "      <td>4</td>\n",
       "      <td>9237-HQITU</td>\n",
       "      <td>2019-09-01</td>\n",
       "      <td>2019-11-01 00:00:00</td>\n",
       "      <td>Month-to-month</td>\n",
       "      <td>Yes</td>\n",
       "      <td>Electronic check</td>\n",
       "      <td>70.70</td>\n",
       "      <td>151.65</td>\n",
       "    </tr>\n",
       "    <tr>\n",
       "      <td>5</td>\n",
       "      <td>9305-CDSKC</td>\n",
       "      <td>2019-03-01</td>\n",
       "      <td>2019-11-01 00:00:00</td>\n",
       "      <td>Month-to-month</td>\n",
       "      <td>Yes</td>\n",
       "      <td>Electronic check</td>\n",
       "      <td>99.65</td>\n",
       "      <td>820.5</td>\n",
       "    </tr>\n",
       "    <tr>\n",
       "      <td>6</td>\n",
       "      <td>1452-KIOVK</td>\n",
       "      <td>2018-04-01</td>\n",
       "      <td>No</td>\n",
       "      <td>Month-to-month</td>\n",
       "      <td>Yes</td>\n",
       "      <td>Credit card (automatic)</td>\n",
       "      <td>89.10</td>\n",
       "      <td>1949.4</td>\n",
       "    </tr>\n",
       "    <tr>\n",
       "      <td>7</td>\n",
       "      <td>6713-OKOMC</td>\n",
       "      <td>2019-04-01</td>\n",
       "      <td>No</td>\n",
       "      <td>Month-to-month</td>\n",
       "      <td>No</td>\n",
       "      <td>Mailed check</td>\n",
       "      <td>29.75</td>\n",
       "      <td>301.9</td>\n",
       "    </tr>\n",
       "    <tr>\n",
       "      <td>8</td>\n",
       "      <td>7892-POOKP</td>\n",
       "      <td>2017-07-01</td>\n",
       "      <td>2019-11-01 00:00:00</td>\n",
       "      <td>Month-to-month</td>\n",
       "      <td>Yes</td>\n",
       "      <td>Electronic check</td>\n",
       "      <td>104.80</td>\n",
       "      <td>3046.05</td>\n",
       "    </tr>\n",
       "    <tr>\n",
       "      <td>9</td>\n",
       "      <td>6388-TABGU</td>\n",
       "      <td>2014-12-01</td>\n",
       "      <td>No</td>\n",
       "      <td>One year</td>\n",
       "      <td>No</td>\n",
       "      <td>Bank transfer (automatic)</td>\n",
       "      <td>56.15</td>\n",
       "      <td>3487.95</td>\n",
       "    </tr>\n",
       "  </tbody>\n",
       "</table>\n",
       "</div>"
      ],
      "text/plain": [
       "   customerID   BeginDate              EndDate            Type  \\\n",
       "0  7590-VHVEG  2020-01-01                   No  Month-to-month   \n",
       "1  5575-GNVDE  2017-04-01                   No        One year   \n",
       "2  3668-QPYBK  2019-10-01  2019-12-01 00:00:00  Month-to-month   \n",
       "3  7795-CFOCW  2016-05-01                   No        One year   \n",
       "4  9237-HQITU  2019-09-01  2019-11-01 00:00:00  Month-to-month   \n",
       "5  9305-CDSKC  2019-03-01  2019-11-01 00:00:00  Month-to-month   \n",
       "6  1452-KIOVK  2018-04-01                   No  Month-to-month   \n",
       "7  6713-OKOMC  2019-04-01                   No  Month-to-month   \n",
       "8  7892-POOKP  2017-07-01  2019-11-01 00:00:00  Month-to-month   \n",
       "9  6388-TABGU  2014-12-01                   No        One year   \n",
       "\n",
       "  PaperlessBilling              PaymentMethod  MonthlyCharges TotalCharges  \n",
       "0              Yes           Electronic check           29.85        29.85  \n",
       "1               No               Mailed check           56.95       1889.5  \n",
       "2              Yes               Mailed check           53.85       108.15  \n",
       "3               No  Bank transfer (automatic)           42.30      1840.75  \n",
       "4              Yes           Electronic check           70.70       151.65  \n",
       "5              Yes           Electronic check           99.65        820.5  \n",
       "6              Yes    Credit card (automatic)           89.10       1949.4  \n",
       "7               No               Mailed check           29.75        301.9  \n",
       "8              Yes           Electronic check          104.80      3046.05  \n",
       "9               No  Bank transfer (automatic)           56.15      3487.95  "
      ]
     },
     "metadata": {},
     "output_type": "display_data"
    },
    {
     "name": "stdout",
     "output_type": "stream",
     "text": [
      "<class 'pandas.core.frame.DataFrame'>\n",
      "RangeIndex: 7043 entries, 0 to 7042\n",
      "Data columns (total 8 columns):\n",
      "customerID          7043 non-null object\n",
      "BeginDate           7043 non-null object\n",
      "EndDate             7043 non-null object\n",
      "Type                7043 non-null object\n",
      "PaperlessBilling    7043 non-null object\n",
      "PaymentMethod       7043 non-null object\n",
      "MonthlyCharges      7043 non-null float64\n",
      "TotalCharges        7043 non-null object\n",
      "dtypes: float64(1), object(7)\n",
      "memory usage: 440.3+ KB\n"
     ]
    },
    {
     "data": {
      "text/plain": [
       "None"
      ]
     },
     "metadata": {},
     "output_type": "display_data"
    },
    {
     "data": {
      "text/html": [
       "<div>\n",
       "<style scoped>\n",
       "    .dataframe tbody tr th:only-of-type {\n",
       "        vertical-align: middle;\n",
       "    }\n",
       "\n",
       "    .dataframe tbody tr th {\n",
       "        vertical-align: top;\n",
       "    }\n",
       "\n",
       "    .dataframe thead th {\n",
       "        text-align: right;\n",
       "    }\n",
       "</style>\n",
       "<table border=\"1\" class=\"dataframe\">\n",
       "  <thead>\n",
       "    <tr style=\"text-align: right;\">\n",
       "      <th></th>\n",
       "      <th>customerID</th>\n",
       "      <th>BeginDate</th>\n",
       "      <th>EndDate</th>\n",
       "      <th>Type</th>\n",
       "      <th>PaperlessBilling</th>\n",
       "      <th>PaymentMethod</th>\n",
       "      <th>TotalCharges</th>\n",
       "    </tr>\n",
       "  </thead>\n",
       "  <tbody>\n",
       "    <tr>\n",
       "      <td>count</td>\n",
       "      <td>7043</td>\n",
       "      <td>7043</td>\n",
       "      <td>7043</td>\n",
       "      <td>7043</td>\n",
       "      <td>7043</td>\n",
       "      <td>7043</td>\n",
       "      <td>7043</td>\n",
       "    </tr>\n",
       "    <tr>\n",
       "      <td>unique</td>\n",
       "      <td>7043</td>\n",
       "      <td>77</td>\n",
       "      <td>5</td>\n",
       "      <td>3</td>\n",
       "      <td>2</td>\n",
       "      <td>4</td>\n",
       "      <td>6531</td>\n",
       "    </tr>\n",
       "    <tr>\n",
       "      <td>top</td>\n",
       "      <td>6849-WLEYG</td>\n",
       "      <td>2014-02-01</td>\n",
       "      <td>No</td>\n",
       "      <td>Month-to-month</td>\n",
       "      <td>Yes</td>\n",
       "      <td>Electronic check</td>\n",
       "      <td>20.2</td>\n",
       "    </tr>\n",
       "    <tr>\n",
       "      <td>freq</td>\n",
       "      <td>1</td>\n",
       "      <td>366</td>\n",
       "      <td>5174</td>\n",
       "      <td>3875</td>\n",
       "      <td>4171</td>\n",
       "      <td>2365</td>\n",
       "      <td>11</td>\n",
       "    </tr>\n",
       "  </tbody>\n",
       "</table>\n",
       "</div>"
      ],
      "text/plain": [
       "        customerID   BeginDate EndDate            Type PaperlessBilling  \\\n",
       "count         7043        7043    7043            7043             7043   \n",
       "unique        7043          77       5               3                2   \n",
       "top     6849-WLEYG  2014-02-01      No  Month-to-month              Yes   \n",
       "freq             1         366    5174            3875             4171   \n",
       "\n",
       "           PaymentMethod TotalCharges  \n",
       "count               7043         7043  \n",
       "unique                 4         6531  \n",
       "top     Electronic check         20.2  \n",
       "freq                2365           11  "
      ]
     },
     "metadata": {},
     "output_type": "display_data"
    },
    {
     "data": {
      "text/html": [
       "<div>\n",
       "<style scoped>\n",
       "    .dataframe tbody tr th:only-of-type {\n",
       "        vertical-align: middle;\n",
       "    }\n",
       "\n",
       "    .dataframe tbody tr th {\n",
       "        vertical-align: top;\n",
       "    }\n",
       "\n",
       "    .dataframe thead th {\n",
       "        text-align: right;\n",
       "    }\n",
       "</style>\n",
       "<table border=\"1\" class=\"dataframe\">\n",
       "  <thead>\n",
       "    <tr style=\"text-align: right;\">\n",
       "      <th></th>\n",
       "      <th>MonthlyCharges</th>\n",
       "    </tr>\n",
       "  </thead>\n",
       "  <tbody>\n",
       "    <tr>\n",
       "      <td>count</td>\n",
       "      <td>7043.000000</td>\n",
       "    </tr>\n",
       "    <tr>\n",
       "      <td>mean</td>\n",
       "      <td>64.761692</td>\n",
       "    </tr>\n",
       "    <tr>\n",
       "      <td>std</td>\n",
       "      <td>30.090047</td>\n",
       "    </tr>\n",
       "    <tr>\n",
       "      <td>min</td>\n",
       "      <td>18.250000</td>\n",
       "    </tr>\n",
       "    <tr>\n",
       "      <td>25%</td>\n",
       "      <td>35.500000</td>\n",
       "    </tr>\n",
       "    <tr>\n",
       "      <td>50%</td>\n",
       "      <td>70.350000</td>\n",
       "    </tr>\n",
       "    <tr>\n",
       "      <td>75%</td>\n",
       "      <td>89.850000</td>\n",
       "    </tr>\n",
       "    <tr>\n",
       "      <td>max</td>\n",
       "      <td>118.750000</td>\n",
       "    </tr>\n",
       "  </tbody>\n",
       "</table>\n",
       "</div>"
      ],
      "text/plain": [
       "       MonthlyCharges\n",
       "count     7043.000000\n",
       "mean        64.761692\n",
       "std         30.090047\n",
       "min         18.250000\n",
       "25%         35.500000\n",
       "50%         70.350000\n",
       "75%         89.850000\n",
       "max        118.750000"
      ]
     },
     "metadata": {},
     "output_type": "display_data"
    },
    {
     "data": {
      "image/png": "[encoded data removed]",
      "text/plain": [
       "<Figure size 1440x864 with 1 Axes>"
      ]
     },
     "metadata": {
      "needs_background": "light"
     },
     "output_type": "display_data"
    },
    {
     "name": "stdout",
     "output_type": "stream",
     "text": [
      "Количество дубликатов в DataFrame: 0\n"
     ]
    }
   ],
   "source": [
    "information(df_contract)"
   ]
  },
  {
   "cell_type": "markdown",
   "metadata": {},
   "source": [
    "- Таблица **df_contract** содержит информацию о 7043 уникальном пользователе;  \n",
    "- 7 признаков имеют тип данных `object`, 1 признак имеет тип данных `float64`;  \n",
    "- Пропущенных значений нет;\n",
    "- Дубликатов нет;  \n",
    "- В среднем ежемесячно каждый пользователь тратит на услуги связи 64.76 у.е.\n",
    "\n",
    "Необходимые изменения:\n",
    "1. Из столбца *EndDate* выделить целевой признак;\n",
    "2. Сформировать новый признак, путем расчета количества дней пользования услугами компании. Затем можно удалить признаки *BeginDate* и *EndDate*;\n",
    "3. Признак *MonthlyCharges* на первый взгляд должен быть численным, но он почему-то `object`. Скорее всего там есть текстовые данные;\n",
    "4. Для категориальных признаков *Type*, *PaperlessBilling*, *PaymentMethod* перед обучением моделей необходимо выполнить OHE или Ordinal Encoding."
   ]
  },
  {
   "cell_type": "markdown",
   "metadata": {},
   "source": [
    "#### Таблица df_personal"
   ]
  },
  {
   "cell_type": "code",
   "execution_count": 5,
   "metadata": {},
   "outputs": [
    {
     "data": {
      "text/html": [
       "<div>\n",
       "<style scoped>\n",
       "    .dataframe tbody tr th:only-of-type {\n",
       "        vertical-align: middle;\n",
       "    }\n",
       "\n",
       "    .dataframe tbody tr th {\n",
       "        vertical-align: top;\n",
       "    }\n",
       "\n",
       "    .dataframe thead th {\n",
       "        text-align: right;\n",
       "    }\n",
       "</style>\n",
       "<table border=\"1\" class=\"dataframe\">\n",
       "  <thead>\n",
       "    <tr style=\"text-align: right;\">\n",
       "      <th></th>\n",
       "      <th>customerID</th>\n",
       "      <th>gender</th>\n",
       "      <th>SeniorCitizen</th>\n",
       "      <th>Partner</th>\n",
       "      <th>Dependents</th>\n",
       "    </tr>\n",
       "  </thead>\n",
       "  <tbody>\n",
       "    <tr>\n",
       "      <td>0</td>\n",
       "      <td>7590-VHVEG</td>\n",
       "      <td>Female</td>\n",
       "      <td>0</td>\n",
       "      <td>Yes</td>\n",
       "      <td>No</td>\n",
       "    </tr>\n",
       "    <tr>\n",
       "      <td>1</td>\n",
       "      <td>5575-GNVDE</td>\n",
       "      <td>Male</td>\n",
       "      <td>0</td>\n",
       "      <td>No</td>\n",
       "      <td>No</td>\n",
       "    </tr>\n",
       "    <tr>\n",
       "      <td>2</td>\n",
       "      <td>3668-QPYBK</td>\n",
       "      <td>Male</td>\n",
       "      <td>0</td>\n",
       "      <td>No</td>\n",
       "      <td>No</td>\n",
       "    </tr>\n",
       "    <tr>\n",
       "      <td>3</td>\n",
       "      <td>7795-CFOCW</td>\n",
       "      <td>Male</td>\n",
       "      <td>0</td>\n",
       "      <td>No</td>\n",
       "      <td>No</td>\n",
       "    </tr>\n",
       "    <tr>\n",
       "      <td>4</td>\n",
       "      <td>9237-HQITU</td>\n",
       "      <td>Female</td>\n",
       "      <td>0</td>\n",
       "      <td>No</td>\n",
       "      <td>No</td>\n",
       "    </tr>\n",
       "    <tr>\n",
       "      <td>5</td>\n",
       "      <td>9305-CDSKC</td>\n",
       "      <td>Female</td>\n",
       "      <td>0</td>\n",
       "      <td>No</td>\n",
       "      <td>No</td>\n",
       "    </tr>\n",
       "    <tr>\n",
       "      <td>6</td>\n",
       "      <td>1452-KIOVK</td>\n",
       "      <td>Male</td>\n",
       "      <td>0</td>\n",
       "      <td>No</td>\n",
       "      <td>Yes</td>\n",
       "    </tr>\n",
       "    <tr>\n",
       "      <td>7</td>\n",
       "      <td>6713-OKOMC</td>\n",
       "      <td>Female</td>\n",
       "      <td>0</td>\n",
       "      <td>No</td>\n",
       "      <td>No</td>\n",
       "    </tr>\n",
       "    <tr>\n",
       "      <td>8</td>\n",
       "      <td>7892-POOKP</td>\n",
       "      <td>Female</td>\n",
       "      <td>0</td>\n",
       "      <td>Yes</td>\n",
       "      <td>No</td>\n",
       "    </tr>\n",
       "    <tr>\n",
       "      <td>9</td>\n",
       "      <td>6388-TABGU</td>\n",
       "      <td>Male</td>\n",
       "      <td>0</td>\n",
       "      <td>No</td>\n",
       "      <td>Yes</td>\n",
       "    </tr>\n",
       "  </tbody>\n",
       "</table>\n",
       "</div>"
      ],
      "text/plain": [
       "   customerID  gender  SeniorCitizen Partner Dependents\n",
       "0  7590-VHVEG  Female              0     Yes         No\n",
       "1  5575-GNVDE    Male              0      No         No\n",
       "2  3668-QPYBK    Male              0      No         No\n",
       "3  7795-CFOCW    Male              0      No         No\n",
       "4  9237-HQITU  Female              0      No         No\n",
       "5  9305-CDSKC  Female              0      No         No\n",
       "6  1452-KIOVK    Male              0      No        Yes\n",
       "7  6713-OKOMC  Female              0      No         No\n",
       "8  7892-POOKP  Female              0     Yes         No\n",
       "9  6388-TABGU    Male              0      No        Yes"
      ]
     },
     "metadata": {},
     "output_type": "display_data"
    },
    {
     "name": "stdout",
     "output_type": "stream",
     "text": [
      "<class 'pandas.core.frame.DataFrame'>\n",
      "RangeIndex: 7043 entries, 0 to 7042\n",
      "Data columns (total 5 columns):\n",
      "customerID       7043 non-null object\n",
      "gender           7043 non-null object\n",
      "SeniorCitizen    7043 non-null int64\n",
      "Partner          7043 non-null object\n",
      "Dependents       7043 non-null object\n",
      "dtypes: int64(1), object(4)\n",
      "memory usage: 275.2+ KB\n"
     ]
    },
    {
     "data": {
      "text/plain": [
       "None"
      ]
     },
     "metadata": {},
     "output_type": "display_data"
    },
    {
     "data": {
      "text/html": [
       "<div>\n",
       "<style scoped>\n",
       "    .dataframe tbody tr th:only-of-type {\n",
       "        vertical-align: middle;\n",
       "    }\n",
       "\n",
       "    .dataframe tbody tr th {\n",
       "        vertical-align: top;\n",
       "    }\n",
       "\n",
       "    .dataframe thead th {\n",
       "        text-align: right;\n",
       "    }\n",
       "</style>\n",
       "<table border=\"1\" class=\"dataframe\">\n",
       "  <thead>\n",
       "    <tr style=\"text-align: right;\">\n",
       "      <th></th>\n",
       "      <th>customerID</th>\n",
       "      <th>gender</th>\n",
       "      <th>Partner</th>\n",
       "      <th>Dependents</th>\n",
       "    </tr>\n",
       "  </thead>\n",
       "  <tbody>\n",
       "    <tr>\n",
       "      <td>count</td>\n",
       "      <td>7043</td>\n",
       "      <td>7043</td>\n",
       "      <td>7043</td>\n",
       "      <td>7043</td>\n",
       "    </tr>\n",
       "    <tr>\n",
       "      <td>unique</td>\n",
       "      <td>7043</td>\n",
       "      <td>2</td>\n",
       "      <td>2</td>\n",
       "      <td>2</td>\n",
       "    </tr>\n",
       "    <tr>\n",
       "      <td>top</td>\n",
       "      <td>6849-WLEYG</td>\n",
       "      <td>Male</td>\n",
       "      <td>No</td>\n",
       "      <td>No</td>\n",
       "    </tr>\n",
       "    <tr>\n",
       "      <td>freq</td>\n",
       "      <td>1</td>\n",
       "      <td>3555</td>\n",
       "      <td>3641</td>\n",
       "      <td>4933</td>\n",
       "    </tr>\n",
       "  </tbody>\n",
       "</table>\n",
       "</div>"
      ],
      "text/plain": [
       "        customerID gender Partner Dependents\n",
       "count         7043   7043    7043       7043\n",
       "unique        7043      2       2          2\n",
       "top     6849-WLEYG   Male      No         No\n",
       "freq             1   3555    3641       4933"
      ]
     },
     "metadata": {},
     "output_type": "display_data"
    },
    {
     "data": {
      "text/html": [
       "<div>\n",
       "<style scoped>\n",
       "    .dataframe tbody tr th:only-of-type {\n",
       "        vertical-align: middle;\n",
       "    }\n",
       "\n",
       "    .dataframe tbody tr th {\n",
       "        vertical-align: top;\n",
       "    }\n",
       "\n",
       "    .dataframe thead th {\n",
       "        text-align: right;\n",
       "    }\n",
       "</style>\n",
       "<table border=\"1\" class=\"dataframe\">\n",
       "  <thead>\n",
       "    <tr style=\"text-align: right;\">\n",
       "      <th></th>\n",
       "      <th>SeniorCitizen</th>\n",
       "    </tr>\n",
       "  </thead>\n",
       "  <tbody>\n",
       "    <tr>\n",
       "      <td>count</td>\n",
       "      <td>7043.000000</td>\n",
       "    </tr>\n",
       "    <tr>\n",
       "      <td>mean</td>\n",
       "      <td>0.162147</td>\n",
       "    </tr>\n",
       "    <tr>\n",
       "      <td>std</td>\n",
       "      <td>0.368612</td>\n",
       "    </tr>\n",
       "    <tr>\n",
       "      <td>min</td>\n",
       "      <td>0.000000</td>\n",
       "    </tr>\n",
       "    <tr>\n",
       "      <td>25%</td>\n",
       "      <td>0.000000</td>\n",
       "    </tr>\n",
       "    <tr>\n",
       "      <td>50%</td>\n",
       "      <td>0.000000</td>\n",
       "    </tr>\n",
       "    <tr>\n",
       "      <td>75%</td>\n",
       "      <td>0.000000</td>\n",
       "    </tr>\n",
       "    <tr>\n",
       "      <td>max</td>\n",
       "      <td>1.000000</td>\n",
       "    </tr>\n",
       "  </tbody>\n",
       "</table>\n",
       "</div>"
      ],
      "text/plain": [
       "       SeniorCitizen\n",
       "count    7043.000000\n",
       "mean        0.162147\n",
       "std         0.368612\n",
       "min         0.000000\n",
       "25%         0.000000\n",
       "50%         0.000000\n",
       "75%         0.000000\n",
       "max         1.000000"
      ]
     },
     "metadata": {},
     "output_type": "display_data"
    },
    {
     "data": {
      "image/png": "[encoded data removed]",
      "text/plain": [
       "<Figure size 1440x864 with 1 Axes>"
      ]
     },
     "metadata": {
      "needs_background": "light"
     },
     "output_type": "display_data"
    },
    {
     "name": "stdout",
     "output_type": "stream",
     "text": [
      "Количество дубликатов в DataFrame: 0\n"
     ]
    }
   ],
   "source": [
    "information(df_personal)"
   ]
  },
  {
   "cell_type": "markdown",
   "metadata": {},
   "source": [
    "- Таблица **df_personal** содержит информацию о 7043 уникальном пользователе;  \n",
    "- 4 признака имеют тип данных `object`, 1 признак имеет тип данных `int64`;  \n",
    "- Пропущенных значений нет;\n",
    "- Дубликатов нет.  \n",
    "\n",
    "Необходимые изменения:\n",
    "1. Для категориальных признаков *gender*, *Partner*, *Dependents* перед обучением моделей необходимо выполнить OHE или Ordinal Encoding."
   ]
  },
  {
   "cell_type": "markdown",
   "metadata": {},
   "source": [
    "#### Таблица df_internet"
   ]
  },
  {
   "cell_type": "code",
   "execution_count": 6,
   "metadata": {},
   "outputs": [
    {
     "data": {
      "text/html": [
       "<div>\n",
       "<style scoped>\n",
       "    .dataframe tbody tr th:only-of-type {\n",
       "        vertical-align: middle;\n",
       "    }\n",
       "\n",
       "    .dataframe tbody tr th {\n",
       "        vertical-align: top;\n",
       "    }\n",
       "\n",
       "    .dataframe thead th {\n",
       "        text-align: right;\n",
       "    }\n",
       "</style>\n",
       "<table border=\"1\" class=\"dataframe\">\n",
       "  <thead>\n",
       "    <tr style=\"text-align: right;\">\n",
       "      <th></th>\n",
       "      <th>customerID</th>\n",
       "      <th>InternetService</th>\n",
       "      <th>OnlineSecurity</th>\n",
       "      <th>OnlineBackup</th>\n",
       "      <th>DeviceProtection</th>\n",
       "      <th>TechSupport</th>\n",
       "      <th>StreamingTV</th>\n",
       "      <th>StreamingMovies</th>\n",
       "    </tr>\n",
       "  </thead>\n",
       "  <tbody>\n",
       "    <tr>\n",
       "      <td>0</td>\n",
       "      <td>7590-VHVEG</td>\n",
       "      <td>DSL</td>\n",
       "      <td>No</td>\n",
       "      <td>Yes</td>\n",
       "      <td>No</td>\n",
       "      <td>No</td>\n",
       "      <td>No</td>\n",
       "      <td>No</td>\n",
       "    </tr>\n",
       "    <tr>\n",
       "      <td>1</td>\n",
       "      <td>5575-GNVDE</td>\n",
       "      <td>DSL</td>\n",
       "      <td>Yes</td>\n",
       "      <td>No</td>\n",
       "      <td>Yes</td>\n",
       "      <td>No</td>\n",
       "      <td>No</td>\n",
       "      <td>No</td>\n",
       "    </tr>\n",
       "    <tr>\n",
       "      <td>2</td>\n",
       "      <td>3668-QPYBK</td>\n",
       "      <td>DSL</td>\n",
       "      <td>Yes</td>\n",
       "      <td>Yes</td>\n",
       "      <td>No</td>\n",
       "      <td>No</td>\n",
       "      <td>No</td>\n",
       "      <td>No</td>\n",
       "    </tr>\n",
       "    <tr>\n",
       "      <td>3</td>\n",
       "      <td>7795-CFOCW</td>\n",
       "      <td>DSL</td>\n",
       "      <td>Yes</td>\n",
       "      <td>No</td>\n",
       "      <td>Yes</td>\n",
       "      <td>Yes</td>\n",
       "      <td>No</td>\n",
       "      <td>No</td>\n",
       "    </tr>\n",
       "    <tr>\n",
       "      <td>4</td>\n",
       "      <td>9237-HQITU</td>\n",
       "      <td>Fiber optic</td>\n",
       "      <td>No</td>\n",
       "      <td>No</td>\n",
       "      <td>No</td>\n",
       "      <td>No</td>\n",
       "      <td>No</td>\n",
       "      <td>No</td>\n",
       "    </tr>\n",
       "    <tr>\n",
       "      <td>5</td>\n",
       "      <td>9305-CDSKC</td>\n",
       "      <td>Fiber optic</td>\n",
       "      <td>No</td>\n",
       "      <td>No</td>\n",
       "      <td>Yes</td>\n",
       "      <td>No</td>\n",
       "      <td>Yes</td>\n",
       "      <td>Yes</td>\n",
       "    </tr>\n",
       "    <tr>\n",
       "      <td>6</td>\n",
       "      <td>1452-KIOVK</td>\n",
       "      <td>Fiber optic</td>\n",
       "      <td>No</td>\n",
       "      <td>Yes</td>\n",
       "      <td>No</td>\n",
       "      <td>No</td>\n",
       "      <td>Yes</td>\n",
       "      <td>No</td>\n",
       "    </tr>\n",
       "    <tr>\n",
       "      <td>7</td>\n",
       "      <td>6713-OKOMC</td>\n",
       "      <td>DSL</td>\n",
       "      <td>Yes</td>\n",
       "      <td>No</td>\n",
       "      <td>No</td>\n",
       "      <td>No</td>\n",
       "      <td>No</td>\n",
       "      <td>No</td>\n",
       "    </tr>\n",
       "    <tr>\n",
       "      <td>8</td>\n",
       "      <td>7892-POOKP</td>\n",
       "      <td>Fiber optic</td>\n",
       "      <td>No</td>\n",
       "      <td>No</td>\n",
       "      <td>Yes</td>\n",
       "      <td>Yes</td>\n",
       "      <td>Yes</td>\n",
       "      <td>Yes</td>\n",
       "    </tr>\n",
       "    <tr>\n",
       "      <td>9</td>\n",
       "      <td>6388-TABGU</td>\n",
       "      <td>DSL</td>\n",
       "      <td>Yes</td>\n",
       "      <td>Yes</td>\n",
       "      <td>No</td>\n",
       "      <td>No</td>\n",
       "      <td>No</td>\n",
       "      <td>No</td>\n",
       "    </tr>\n",
       "  </tbody>\n",
       "</table>\n",
       "</div>"
      ],
      "text/plain": [
       "   customerID InternetService OnlineSecurity OnlineBackup DeviceProtection  \\\n",
       "0  7590-VHVEG             DSL             No          Yes               No   \n",
       "1  5575-GNVDE             DSL            Yes           No              Yes   \n",
       "2  3668-QPYBK             DSL            Yes          Yes               No   \n",
       "3  7795-CFOCW             DSL            Yes           No              Yes   \n",
       "4  9237-HQITU     Fiber optic             No           No               No   \n",
       "5  9305-CDSKC     Fiber optic             No           No              Yes   \n",
       "6  1452-KIOVK     Fiber optic             No          Yes               No   \n",
       "7  6713-OKOMC             DSL            Yes           No               No   \n",
       "8  7892-POOKP     Fiber optic             No           No              Yes   \n",
       "9  6388-TABGU             DSL            Yes          Yes               No   \n",
       "\n",
       "  TechSupport StreamingTV StreamingMovies  \n",
       "0          No          No              No  \n",
       "1          No          No              No  \n",
       "2          No          No              No  \n",
       "3         Yes          No              No  \n",
       "4          No          No              No  \n",
       "5          No         Yes             Yes  \n",
       "6          No         Yes              No  \n",
       "7          No          No              No  \n",
       "8         Yes         Yes             Yes  \n",
       "9          No          No              No  "
      ]
     },
     "metadata": {},
     "output_type": "display_data"
    },
    {
     "name": "stdout",
     "output_type": "stream",
     "text": [
      "<class 'pandas.core.frame.DataFrame'>\n",
      "RangeIndex: 5517 entries, 0 to 5516\n",
      "Data columns (total 8 columns):\n",
      "customerID          5517 non-null object\n",
      "InternetService     5517 non-null object\n",
      "OnlineSecurity      5517 non-null object\n",
      "OnlineBackup        5517 non-null object\n",
      "DeviceProtection    5517 non-null object\n",
      "TechSupport         5517 non-null object\n",
      "StreamingTV         5517 non-null object\n",
      "StreamingMovies     5517 non-null object\n",
      "dtypes: object(8)\n",
      "memory usage: 344.9+ KB\n"
     ]
    },
    {
     "data": {
      "text/plain": [
       "None"
      ]
     },
     "metadata": {},
     "output_type": "display_data"
    },
    {
     "data": {
      "text/html": [
       "<div>\n",
       "<style scoped>\n",
       "    .dataframe tbody tr th:only-of-type {\n",
       "        vertical-align: middle;\n",
       "    }\n",
       "\n",
       "    .dataframe tbody tr th {\n",
       "        vertical-align: top;\n",
       "    }\n",
       "\n",
       "    .dataframe thead th {\n",
       "        text-align: right;\n",
       "    }\n",
       "</style>\n",
       "<table border=\"1\" class=\"dataframe\">\n",
       "  <thead>\n",
       "    <tr style=\"text-align: right;\">\n",
       "      <th></th>\n",
       "      <th>customerID</th>\n",
       "      <th>InternetService</th>\n",
       "      <th>OnlineSecurity</th>\n",
       "      <th>OnlineBackup</th>\n",
       "      <th>DeviceProtection</th>\n",
       "      <th>TechSupport</th>\n",
       "      <th>StreamingTV</th>\n",
       "      <th>StreamingMovies</th>\n",
       "    </tr>\n",
       "  </thead>\n",
       "  <tbody>\n",
       "    <tr>\n",
       "      <td>count</td>\n",
       "      <td>5517</td>\n",
       "      <td>5517</td>\n",
       "      <td>5517</td>\n",
       "      <td>5517</td>\n",
       "      <td>5517</td>\n",
       "      <td>5517</td>\n",
       "      <td>5517</td>\n",
       "      <td>5517</td>\n",
       "    </tr>\n",
       "    <tr>\n",
       "      <td>unique</td>\n",
       "      <td>5517</td>\n",
       "      <td>2</td>\n",
       "      <td>2</td>\n",
       "      <td>2</td>\n",
       "      <td>2</td>\n",
       "      <td>2</td>\n",
       "      <td>2</td>\n",
       "      <td>2</td>\n",
       "    </tr>\n",
       "    <tr>\n",
       "      <td>top</td>\n",
       "      <td>7089-XXAYG</td>\n",
       "      <td>Fiber optic</td>\n",
       "      <td>No</td>\n",
       "      <td>No</td>\n",
       "      <td>No</td>\n",
       "      <td>No</td>\n",
       "      <td>No</td>\n",
       "      <td>No</td>\n",
       "    </tr>\n",
       "    <tr>\n",
       "      <td>freq</td>\n",
       "      <td>1</td>\n",
       "      <td>3096</td>\n",
       "      <td>3498</td>\n",
       "      <td>3088</td>\n",
       "      <td>3095</td>\n",
       "      <td>3473</td>\n",
       "      <td>2810</td>\n",
       "      <td>2785</td>\n",
       "    </tr>\n",
       "  </tbody>\n",
       "</table>\n",
       "</div>"
      ],
      "text/plain": [
       "        customerID InternetService OnlineSecurity OnlineBackup  \\\n",
       "count         5517            5517           5517         5517   \n",
       "unique        5517               2              2            2   \n",
       "top     7089-XXAYG     Fiber optic             No           No   \n",
       "freq             1            3096           3498         3088   \n",
       "\n",
       "       DeviceProtection TechSupport StreamingTV StreamingMovies  \n",
       "count              5517        5517        5517            5517  \n",
       "unique                2           2           2               2  \n",
       "top                  No          No          No              No  \n",
       "freq               3095        3473        2810            2785  "
      ]
     },
     "metadata": {},
     "output_type": "display_data"
    },
    {
     "name": "stdout",
     "output_type": "stream",
     "text": [
      "Количество дубликатов в DataFrame: 0\n"
     ]
    }
   ],
   "source": [
    "information(df_internet)"
   ]
  },
  {
   "cell_type": "markdown",
   "metadata": {},
   "source": [
    "- Таблица **df_internet** содержит информацию о 5517 уникальном пользователях;  \n",
    "- 8 признака имеют тип данных `object`;  \n",
    "- Пропущенных значений нет;\n",
    "- Дубликатов нет.  \n",
    "\n",
    "Необходимые изменения:\n",
    "1. Для категориальных признаков *InternetService*, *OnlineSecurity*, *OnlineBackup*, *DeviceProtection*, *TechSupport*, *StreamingTV*, *StreamingMovies* перед обучением моделей необходимо выполнить OHE или Ordinal Encoding."
   ]
  },
  {
   "cell_type": "markdown",
   "metadata": {},
   "source": [
    "#### Таблица df_phone"
   ]
  },
  {
   "cell_type": "code",
   "execution_count": 7,
   "metadata": {},
   "outputs": [
    {
     "data": {
      "text/html": [
       "<div>\n",
       "<style scoped>\n",
       "    .dataframe tbody tr th:only-of-type {\n",
       "        vertical-align: middle;\n",
       "    }\n",
       "\n",
       "    .dataframe tbody tr th {\n",
       "        vertical-align: top;\n",
       "    }\n",
       "\n",
       "    .dataframe thead th {\n",
       "        text-align: right;\n",
       "    }\n",
       "</style>\n",
       "<table border=\"1\" class=\"dataframe\">\n",
       "  <thead>\n",
       "    <tr style=\"text-align: right;\">\n",
       "      <th></th>\n",
       "      <th>customerID</th>\n",
       "      <th>MultipleLines</th>\n",
       "    </tr>\n",
       "  </thead>\n",
       "  <tbody>\n",
       "    <tr>\n",
       "      <td>0</td>\n",
       "      <td>5575-GNVDE</td>\n",
       "      <td>No</td>\n",
       "    </tr>\n",
       "    <tr>\n",
       "      <td>1</td>\n",
       "      <td>3668-QPYBK</td>\n",
       "      <td>No</td>\n",
       "    </tr>\n",
       "    <tr>\n",
       "      <td>2</td>\n",
       "      <td>9237-HQITU</td>\n",
       "      <td>No</td>\n",
       "    </tr>\n",
       "    <tr>\n",
       "      <td>3</td>\n",
       "      <td>9305-CDSKC</td>\n",
       "      <td>Yes</td>\n",
       "    </tr>\n",
       "    <tr>\n",
       "      <td>4</td>\n",
       "      <td>1452-KIOVK</td>\n",
       "      <td>Yes</td>\n",
       "    </tr>\n",
       "    <tr>\n",
       "      <td>5</td>\n",
       "      <td>7892-POOKP</td>\n",
       "      <td>Yes</td>\n",
       "    </tr>\n",
       "    <tr>\n",
       "      <td>6</td>\n",
       "      <td>6388-TABGU</td>\n",
       "      <td>No</td>\n",
       "    </tr>\n",
       "    <tr>\n",
       "      <td>7</td>\n",
       "      <td>9763-GRSKD</td>\n",
       "      <td>No</td>\n",
       "    </tr>\n",
       "    <tr>\n",
       "      <td>8</td>\n",
       "      <td>7469-LKBCI</td>\n",
       "      <td>No</td>\n",
       "    </tr>\n",
       "    <tr>\n",
       "      <td>9</td>\n",
       "      <td>8091-TTVAX</td>\n",
       "      <td>Yes</td>\n",
       "    </tr>\n",
       "  </tbody>\n",
       "</table>\n",
       "</div>"
      ],
      "text/plain": [
       "   customerID MultipleLines\n",
       "0  5575-GNVDE            No\n",
       "1  3668-QPYBK            No\n",
       "2  9237-HQITU            No\n",
       "3  9305-CDSKC           Yes\n",
       "4  1452-KIOVK           Yes\n",
       "5  7892-POOKP           Yes\n",
       "6  6388-TABGU            No\n",
       "7  9763-GRSKD            No\n",
       "8  7469-LKBCI            No\n",
       "9  8091-TTVAX           Yes"
      ]
     },
     "metadata": {},
     "output_type": "display_data"
    },
    {
     "name": "stdout",
     "output_type": "stream",
     "text": [
      "<class 'pandas.core.frame.DataFrame'>\n",
      "RangeIndex: 6361 entries, 0 to 6360\n",
      "Data columns (total 2 columns):\n",
      "customerID       6361 non-null object\n",
      "MultipleLines    6361 non-null object\n",
      "dtypes: object(2)\n",
      "memory usage: 99.5+ KB\n"
     ]
    },
    {
     "data": {
      "text/plain": [
       "None"
      ]
     },
     "metadata": {},
     "output_type": "display_data"
    },
    {
     "data": {
      "text/html": [
       "<div>\n",
       "<style scoped>\n",
       "    .dataframe tbody tr th:only-of-type {\n",
       "        vertical-align: middle;\n",
       "    }\n",
       "\n",
       "    .dataframe tbody tr th {\n",
       "        vertical-align: top;\n",
       "    }\n",
       "\n",
       "    .dataframe thead th {\n",
       "        text-align: right;\n",
       "    }\n",
       "</style>\n",
       "<table border=\"1\" class=\"dataframe\">\n",
       "  <thead>\n",
       "    <tr style=\"text-align: right;\">\n",
       "      <th></th>\n",
       "      <th>customerID</th>\n",
       "      <th>MultipleLines</th>\n",
       "    </tr>\n",
       "  </thead>\n",
       "  <tbody>\n",
       "    <tr>\n",
       "      <td>count</td>\n",
       "      <td>6361</td>\n",
       "      <td>6361</td>\n",
       "    </tr>\n",
       "    <tr>\n",
       "      <td>unique</td>\n",
       "      <td>6361</td>\n",
       "      <td>2</td>\n",
       "    </tr>\n",
       "    <tr>\n",
       "      <td>top</td>\n",
       "      <td>6849-WLEYG</td>\n",
       "      <td>No</td>\n",
       "    </tr>\n",
       "    <tr>\n",
       "      <td>freq</td>\n",
       "      <td>1</td>\n",
       "      <td>3390</td>\n",
       "    </tr>\n",
       "  </tbody>\n",
       "</table>\n",
       "</div>"
      ],
      "text/plain": [
       "        customerID MultipleLines\n",
       "count         6361          6361\n",
       "unique        6361             2\n",
       "top     6849-WLEYG            No\n",
       "freq             1          3390"
      ]
     },
     "metadata": {},
     "output_type": "display_data"
    },
    {
     "name": "stdout",
     "output_type": "stream",
     "text": [
      "Количество дубликатов в DataFrame: 0\n"
     ]
    }
   ],
   "source": [
    "information(df_phone)"
   ]
  },
  {
   "cell_type": "markdown",
   "metadata": {},
   "source": [
    "- Таблица **df_phone** содержит информацию о 6361 уникальном пользователе;  \n",
    "- 2 признака имеют тип данных `object`;  \n",
    "- Пропущенных значений нет;\n",
    "- Дубликатов нет.  \n",
    "\n",
    "Необходимые изменения:\n",
    "1. Для категориального признака *MultipleLines* перед обучением моделей необходимо выполнить OHE или Ordinal Encoding."
   ]
  },
  {
   "cell_type": "markdown",
   "metadata": {},
   "source": [
    "### Объединение таблиц"
   ]
  },
  {
   "cell_type": "markdown",
   "metadata": {},
   "source": [
    "Перед предобработкой данных объединим все таблицы в одну."
   ]
  },
  {
   "cell_type": "code",
   "execution_count": 8,
   "metadata": {},
   "outputs": [],
   "source": [
    "df = df_contract.merge(df_personal, on=['customerID'], how='outer') \\\n",
    "                .merge(df_internet, on=['customerID'], how='outer') \\\n",
    "                .merge(df_phone,    on=['customerID'], how='outer')"
   ]
  },
  {
   "cell_type": "code",
   "execution_count": 9,
   "metadata": {},
   "outputs": [
    {
     "data": {
      "text/html": [
       "<div>\n",
       "<style scoped>\n",
       "    .dataframe tbody tr th:only-of-type {\n",
       "        vertical-align: middle;\n",
       "    }\n",
       "\n",
       "    .dataframe tbody tr th {\n",
       "        vertical-align: top;\n",
       "    }\n",
       "\n",
       "    .dataframe thead th {\n",
       "        text-align: right;\n",
       "    }\n",
       "</style>\n",
       "<table border=\"1\" class=\"dataframe\">\n",
       "  <thead>\n",
       "    <tr style=\"text-align: right;\">\n",
       "      <th></th>\n",
       "      <th>customerID</th>\n",
       "      <th>BeginDate</th>\n",
       "      <th>EndDate</th>\n",
       "      <th>Type</th>\n",
       "      <th>PaperlessBilling</th>\n",
       "      <th>PaymentMethod</th>\n",
       "      <th>MonthlyCharges</th>\n",
       "      <th>TotalCharges</th>\n",
       "      <th>gender</th>\n",
       "      <th>SeniorCitizen</th>\n",
       "      <th>Partner</th>\n",
       "      <th>Dependents</th>\n",
       "      <th>InternetService</th>\n",
       "      <th>OnlineSecurity</th>\n",
       "      <th>OnlineBackup</th>\n",
       "      <th>DeviceProtection</th>\n",
       "      <th>TechSupport</th>\n",
       "      <th>StreamingTV</th>\n",
       "      <th>StreamingMovies</th>\n",
       "      <th>MultipleLines</th>\n",
       "    </tr>\n",
       "  </thead>\n",
       "  <tbody>\n",
       "    <tr>\n",
       "      <td>0</td>\n",
       "      <td>7590-VHVEG</td>\n",
       "      <td>2020-01-01</td>\n",
       "      <td>No</td>\n",
       "      <td>Month-to-month</td>\n",
       "      <td>Yes</td>\n",
       "      <td>Electronic check</td>\n",
       "      <td>29.85</td>\n",
       "      <td>29.85</td>\n",
       "      <td>Female</td>\n",
       "      <td>0</td>\n",
       "      <td>Yes</td>\n",
       "      <td>No</td>\n",
       "      <td>DSL</td>\n",
       "      <td>No</td>\n",
       "      <td>Yes</td>\n",
       "      <td>No</td>\n",
       "      <td>No</td>\n",
       "      <td>No</td>\n",
       "      <td>No</td>\n",
       "      <td>NaN</td>\n",
       "    </tr>\n",
       "    <tr>\n",
       "      <td>1</td>\n",
       "      <td>5575-GNVDE</td>\n",
       "      <td>2017-04-01</td>\n",
       "      <td>No</td>\n",
       "      <td>One year</td>\n",
       "      <td>No</td>\n",
       "      <td>Mailed check</td>\n",
       "      <td>56.95</td>\n",
       "      <td>1889.5</td>\n",
       "      <td>Male</td>\n",
       "      <td>0</td>\n",
       "      <td>No</td>\n",
       "      <td>No</td>\n",
       "      <td>DSL</td>\n",
       "      <td>Yes</td>\n",
       "      <td>No</td>\n",
       "      <td>Yes</td>\n",
       "      <td>No</td>\n",
       "      <td>No</td>\n",
       "      <td>No</td>\n",
       "      <td>No</td>\n",
       "    </tr>\n",
       "    <tr>\n",
       "      <td>2</td>\n",
       "      <td>3668-QPYBK</td>\n",
       "      <td>2019-10-01</td>\n",
       "      <td>2019-12-01 00:00:00</td>\n",
       "      <td>Month-to-month</td>\n",
       "      <td>Yes</td>\n",
       "      <td>Mailed check</td>\n",
       "      <td>53.85</td>\n",
       "      <td>108.15</td>\n",
       "      <td>Male</td>\n",
       "      <td>0</td>\n",
       "      <td>No</td>\n",
       "      <td>No</td>\n",
       "      <td>DSL</td>\n",
       "      <td>Yes</td>\n",
       "      <td>Yes</td>\n",
       "      <td>No</td>\n",
       "      <td>No</td>\n",
       "      <td>No</td>\n",
       "      <td>No</td>\n",
       "      <td>No</td>\n",
       "    </tr>\n",
       "    <tr>\n",
       "      <td>3</td>\n",
       "      <td>7795-CFOCW</td>\n",
       "      <td>2016-05-01</td>\n",
       "      <td>No</td>\n",
       "      <td>One year</td>\n",
       "      <td>No</td>\n",
       "      <td>Bank transfer (automatic)</td>\n",
       "      <td>42.30</td>\n",
       "      <td>1840.75</td>\n",
       "      <td>Male</td>\n",
       "      <td>0</td>\n",
       "      <td>No</td>\n",
       "      <td>No</td>\n",
       "      <td>DSL</td>\n",
       "      <td>Yes</td>\n",
       "      <td>No</td>\n",
       "      <td>Yes</td>\n",
       "      <td>Yes</td>\n",
       "      <td>No</td>\n",
       "      <td>No</td>\n",
       "      <td>NaN</td>\n",
       "    </tr>\n",
       "    <tr>\n",
       "      <td>4</td>\n",
       "      <td>9237-HQITU</td>\n",
       "      <td>2019-09-01</td>\n",
       "      <td>2019-11-01 00:00:00</td>\n",
       "      <td>Month-to-month</td>\n",
       "      <td>Yes</td>\n",
       "      <td>Electronic check</td>\n",
       "      <td>70.70</td>\n",
       "      <td>151.65</td>\n",
       "      <td>Female</td>\n",
       "      <td>0</td>\n",
       "      <td>No</td>\n",
       "      <td>No</td>\n",
       "      <td>Fiber optic</td>\n",
       "      <td>No</td>\n",
       "      <td>No</td>\n",
       "      <td>No</td>\n",
       "      <td>No</td>\n",
       "      <td>No</td>\n",
       "      <td>No</td>\n",
       "      <td>No</td>\n",
       "    </tr>\n",
       "    <tr>\n",
       "      <td>5</td>\n",
       "      <td>9305-CDSKC</td>\n",
       "      <td>2019-03-01</td>\n",
       "      <td>2019-11-01 00:00:00</td>\n",
       "      <td>Month-to-month</td>\n",
       "      <td>Yes</td>\n",
       "      <td>Electronic check</td>\n",
       "      <td>99.65</td>\n",
       "      <td>820.5</td>\n",
       "      <td>Female</td>\n",
       "      <td>0</td>\n",
       "      <td>No</td>\n",
       "      <td>No</td>\n",
       "      <td>Fiber optic</td>\n",
       "      <td>No</td>\n",
       "      <td>No</td>\n",
       "      <td>Yes</td>\n",
       "      <td>No</td>\n",
       "      <td>Yes</td>\n",
       "      <td>Yes</td>\n",
       "      <td>Yes</td>\n",
       "    </tr>\n",
       "    <tr>\n",
       "      <td>6</td>\n",
       "      <td>1452-KIOVK</td>\n",
       "      <td>2018-04-01</td>\n",
       "      <td>No</td>\n",
       "      <td>Month-to-month</td>\n",
       "      <td>Yes</td>\n",
       "      <td>Credit card (automatic)</td>\n",
       "      <td>89.10</td>\n",
       "      <td>1949.4</td>\n",
       "      <td>Male</td>\n",
       "      <td>0</td>\n",
       "      <td>No</td>\n",
       "      <td>Yes</td>\n",
       "      <td>Fiber optic</td>\n",
       "      <td>No</td>\n",
       "      <td>Yes</td>\n",
       "      <td>No</td>\n",
       "      <td>No</td>\n",
       "      <td>Yes</td>\n",
       "      <td>No</td>\n",
       "      <td>Yes</td>\n",
       "    </tr>\n",
       "    <tr>\n",
       "      <td>7</td>\n",
       "      <td>6713-OKOMC</td>\n",
       "      <td>2019-04-01</td>\n",
       "      <td>No</td>\n",
       "      <td>Month-to-month</td>\n",
       "      <td>No</td>\n",
       "      <td>Mailed check</td>\n",
       "      <td>29.75</td>\n",
       "      <td>301.9</td>\n",
       "      <td>Female</td>\n",
       "      <td>0</td>\n",
       "      <td>No</td>\n",
       "      <td>No</td>\n",
       "      <td>DSL</td>\n",
       "      <td>Yes</td>\n",
       "      <td>No</td>\n",
       "      <td>No</td>\n",
       "      <td>No</td>\n",
       "      <td>No</td>\n",
       "      <td>No</td>\n",
       "      <td>NaN</td>\n",
       "    </tr>\n",
       "    <tr>\n",
       "      <td>8</td>\n",
       "      <td>7892-POOKP</td>\n",
       "      <td>2017-07-01</td>\n",
       "      <td>2019-11-01 00:00:00</td>\n",
       "      <td>Month-to-month</td>\n",
       "      <td>Yes</td>\n",
       "      <td>Electronic check</td>\n",
       "      <td>104.80</td>\n",
       "      <td>3046.05</td>\n",
       "      <td>Female</td>\n",
       "      <td>0</td>\n",
       "      <td>Yes</td>\n",
       "      <td>No</td>\n",
       "      <td>Fiber optic</td>\n",
       "      <td>No</td>\n",
       "      <td>No</td>\n",
       "      <td>Yes</td>\n",
       "      <td>Yes</td>\n",
       "      <td>Yes</td>\n",
       "      <td>Yes</td>\n",
       "      <td>Yes</td>\n",
       "    </tr>\n",
       "    <tr>\n",
       "      <td>9</td>\n",
       "      <td>6388-TABGU</td>\n",
       "      <td>2014-12-01</td>\n",
       "      <td>No</td>\n",
       "      <td>One year</td>\n",
       "      <td>No</td>\n",
       "      <td>Bank transfer (automatic)</td>\n",
       "      <td>56.15</td>\n",
       "      <td>3487.95</td>\n",
       "      <td>Male</td>\n",
       "      <td>0</td>\n",
       "      <td>No</td>\n",
       "      <td>Yes</td>\n",
       "      <td>DSL</td>\n",
       "      <td>Yes</td>\n",
       "      <td>Yes</td>\n",
       "      <td>No</td>\n",
       "      <td>No</td>\n",
       "      <td>No</td>\n",
       "      <td>No</td>\n",
       "      <td>No</td>\n",
       "    </tr>\n",
       "  </tbody>\n",
       "</table>\n",
       "</div>"
      ],
      "text/plain": [
       "   customerID   BeginDate              EndDate            Type  \\\n",
       "0  7590-VHVEG  2020-01-01                   No  Month-to-month   \n",
       "1  5575-GNVDE  2017-04-01                   No        One year   \n",
       "2  3668-QPYBK  2019-10-01  2019-12-01 00:00:00  Month-to-month   \n",
       "3  7795-CFOCW  2016-05-01                   No        One year   \n",
       "4  9237-HQITU  2019-09-01  2019-11-01 00:00:00  Month-to-month   \n",
       "5  9305-CDSKC  2019-03-01  2019-11-01 00:00:00  Month-to-month   \n",
       "6  1452-KIOVK  2018-04-01                   No  Month-to-month   \n",
       "7  6713-OKOMC  2019-04-01                   No  Month-to-month   \n",
       "8  7892-POOKP  2017-07-01  2019-11-01 00:00:00  Month-to-month   \n",
       "9  6388-TABGU  2014-12-01                   No        One year   \n",
       "\n",
       "  PaperlessBilling              PaymentMethod  MonthlyCharges TotalCharges  \\\n",
       "0              Yes           Electronic check           29.85        29.85   \n",
       "1               No               Mailed check           56.95       1889.5   \n",
       "2              Yes               Mailed check           53.85       108.15   \n",
       "3               No  Bank transfer (automatic)           42.30      1840.75   \n",
       "4              Yes           Electronic check           70.70       151.65   \n",
       "5              Yes           Electronic check           99.65        820.5   \n",
       "6              Yes    Credit card (automatic)           89.10       1949.4   \n",
       "7               No               Mailed check           29.75        301.9   \n",
       "8              Yes           Electronic check          104.80      3046.05   \n",
       "9               No  Bank transfer (automatic)           56.15      3487.95   \n",
       "\n",
       "   gender  SeniorCitizen Partner Dependents InternetService OnlineSecurity  \\\n",
       "0  Female              0     Yes         No             DSL             No   \n",
       "1    Male              0      No         No             DSL            Yes   \n",
       "2    Male              0      No         No             DSL            Yes   \n",
       "3    Male              0      No         No             DSL            Yes   \n",
       "4  Female              0      No         No     Fiber optic             No   \n",
       "5  Female              0      No         No     Fiber optic             No   \n",
       "6    Male              0      No        Yes     Fiber optic             No   \n",
       "7  Female              0      No         No             DSL            Yes   \n",
       "8  Female              0     Yes         No     Fiber optic             No   \n",
       "9    Male              0      No        Yes             DSL            Yes   \n",
       "\n",
       "  OnlineBackup DeviceProtection TechSupport StreamingTV StreamingMovies  \\\n",
       "0          Yes               No          No          No              No   \n",
       "1           No              Yes          No          No              No   \n",
       "2          Yes               No          No          No              No   \n",
       "3           No              Yes         Yes          No              No   \n",
       "4           No               No          No          No              No   \n",
       "5           No              Yes          No         Yes             Yes   \n",
       "6          Yes               No          No         Yes              No   \n",
       "7           No               No          No          No              No   \n",
       "8           No              Yes         Yes         Yes             Yes   \n",
       "9          Yes               No          No          No              No   \n",
       "\n",
       "  MultipleLines  \n",
       "0           NaN  \n",
       "1            No  \n",
       "2            No  \n",
       "3           NaN  \n",
       "4            No  \n",
       "5           Yes  \n",
       "6           Yes  \n",
       "7           NaN  \n",
       "8           Yes  \n",
       "9            No  "
      ]
     },
     "metadata": {},
     "output_type": "display_data"
    },
    {
     "name": "stdout",
     "output_type": "stream",
     "text": [
      "<class 'pandas.core.frame.DataFrame'>\n",
      "Int64Index: 7043 entries, 0 to 7042\n",
      "Data columns (total 20 columns):\n",
      "customerID          7043 non-null object\n",
      "BeginDate           7043 non-null object\n",
      "EndDate             7043 non-null object\n",
      "Type                7043 non-null object\n",
      "PaperlessBilling    7043 non-null object\n",
      "PaymentMethod       7043 non-null object\n",
      "MonthlyCharges      7043 non-null float64\n",
      "TotalCharges        7043 non-null object\n",
      "gender              7043 non-null object\n",
      "SeniorCitizen       7043 non-null int64\n",
      "Partner             7043 non-null object\n",
      "Dependents          7043 non-null object\n",
      "InternetService     5517 non-null object\n",
      "OnlineSecurity      5517 non-null object\n",
      "OnlineBackup        5517 non-null object\n",
      "DeviceProtection    5517 non-null object\n",
      "TechSupport         5517 non-null object\n",
      "StreamingTV         5517 non-null object\n",
      "StreamingMovies     5517 non-null object\n",
      "MultipleLines       6361 non-null object\n",
      "dtypes: float64(1), int64(1), object(18)\n",
      "memory usage: 1.1+ MB\n"
     ]
    },
    {
     "data": {
      "text/plain": [
       "None"
      ]
     },
     "metadata": {},
     "output_type": "display_data"
    },
    {
     "data": {
      "text/html": [
       "<div>\n",
       "<style scoped>\n",
       "    .dataframe tbody tr th:only-of-type {\n",
       "        vertical-align: middle;\n",
       "    }\n",
       "\n",
       "    .dataframe tbody tr th {\n",
       "        vertical-align: top;\n",
       "    }\n",
       "\n",
       "    .dataframe thead th {\n",
       "        text-align: right;\n",
       "    }\n",
       "</style>\n",
       "<table border=\"1\" class=\"dataframe\">\n",
       "  <thead>\n",
       "    <tr style=\"text-align: right;\">\n",
       "      <th></th>\n",
       "      <th>customerID</th>\n",
       "      <th>BeginDate</th>\n",
       "      <th>EndDate</th>\n",
       "      <th>Type</th>\n",
       "      <th>PaperlessBilling</th>\n",
       "      <th>PaymentMethod</th>\n",
       "      <th>TotalCharges</th>\n",
       "      <th>gender</th>\n",
       "      <th>Partner</th>\n",
       "      <th>Dependents</th>\n",
       "      <th>InternetService</th>\n",
       "      <th>OnlineSecurity</th>\n",
       "      <th>OnlineBackup</th>\n",
       "      <th>DeviceProtection</th>\n",
       "      <th>TechSupport</th>\n",
       "      <th>StreamingTV</th>\n",
       "      <th>StreamingMovies</th>\n",
       "      <th>MultipleLines</th>\n",
       "    </tr>\n",
       "  </thead>\n",
       "  <tbody>\n",
       "    <tr>\n",
       "      <td>count</td>\n",
       "      <td>7043</td>\n",
       "      <td>7043</td>\n",
       "      <td>7043</td>\n",
       "      <td>7043</td>\n",
       "      <td>7043</td>\n",
       "      <td>7043</td>\n",
       "      <td>7043</td>\n",
       "      <td>7043</td>\n",
       "      <td>7043</td>\n",
       "      <td>7043</td>\n",
       "      <td>5517</td>\n",
       "      <td>5517</td>\n",
       "      <td>5517</td>\n",
       "      <td>5517</td>\n",
       "      <td>5517</td>\n",
       "      <td>5517</td>\n",
       "      <td>5517</td>\n",
       "      <td>6361</td>\n",
       "    </tr>\n",
       "    <tr>\n",
       "      <td>unique</td>\n",
       "      <td>7043</td>\n",
       "      <td>77</td>\n",
       "      <td>5</td>\n",
       "      <td>3</td>\n",
       "      <td>2</td>\n",
       "      <td>4</td>\n",
       "      <td>6531</td>\n",
       "      <td>2</td>\n",
       "      <td>2</td>\n",
       "      <td>2</td>\n",
       "      <td>2</td>\n",
       "      <td>2</td>\n",
       "      <td>2</td>\n",
       "      <td>2</td>\n",
       "      <td>2</td>\n",
       "      <td>2</td>\n",
       "      <td>2</td>\n",
       "      <td>2</td>\n",
       "    </tr>\n",
       "    <tr>\n",
       "      <td>top</td>\n",
       "      <td>6849-WLEYG</td>\n",
       "      <td>2014-02-01</td>\n",
       "      <td>No</td>\n",
       "      <td>Month-to-month</td>\n",
       "      <td>Yes</td>\n",
       "      <td>Electronic check</td>\n",
       "      <td>20.2</td>\n",
       "      <td>Male</td>\n",
       "      <td>No</td>\n",
       "      <td>No</td>\n",
       "      <td>Fiber optic</td>\n",
       "      <td>No</td>\n",
       "      <td>No</td>\n",
       "      <td>No</td>\n",
       "      <td>No</td>\n",
       "      <td>No</td>\n",
       "      <td>No</td>\n",
       "      <td>No</td>\n",
       "    </tr>\n",
       "    <tr>\n",
       "      <td>freq</td>\n",
       "      <td>1</td>\n",
       "      <td>366</td>\n",
       "      <td>5174</td>\n",
       "      <td>3875</td>\n",
       "      <td>4171</td>\n",
       "      <td>2365</td>\n",
       "      <td>11</td>\n",
       "      <td>3555</td>\n",
       "      <td>3641</td>\n",
       "      <td>4933</td>\n",
       "      <td>3096</td>\n",
       "      <td>3498</td>\n",
       "      <td>3088</td>\n",
       "      <td>3095</td>\n",
       "      <td>3473</td>\n",
       "      <td>2810</td>\n",
       "      <td>2785</td>\n",
       "      <td>3390</td>\n",
       "    </tr>\n",
       "  </tbody>\n",
       "</table>\n",
       "</div>"
      ],
      "text/plain": [
       "        customerID   BeginDate EndDate            Type PaperlessBilling  \\\n",
       "count         7043        7043    7043            7043             7043   \n",
       "unique        7043          77       5               3                2   \n",
       "top     6849-WLEYG  2014-02-01      No  Month-to-month              Yes   \n",
       "freq             1         366    5174            3875             4171   \n",
       "\n",
       "           PaymentMethod TotalCharges gender Partner Dependents  \\\n",
       "count               7043         7043   7043    7043       7043   \n",
       "unique                 4         6531      2       2          2   \n",
       "top     Electronic check         20.2   Male      No         No   \n",
       "freq                2365           11   3555    3641       4933   \n",
       "\n",
       "       InternetService OnlineSecurity OnlineBackup DeviceProtection  \\\n",
       "count             5517           5517         5517             5517   \n",
       "unique               2              2            2                2   \n",
       "top        Fiber optic             No           No               No   \n",
       "freq              3096           3498         3088             3095   \n",
       "\n",
       "       TechSupport StreamingTV StreamingMovies MultipleLines  \n",
       "count         5517        5517            5517          6361  \n",
       "unique           2           2               2             2  \n",
       "top             No          No              No            No  \n",
       "freq          3473        2810            2785          3390  "
      ]
     },
     "metadata": {},
     "output_type": "display_data"
    },
    {
     "data": {
      "text/html": [
       "<div>\n",
       "<style scoped>\n",
       "    .dataframe tbody tr th:only-of-type {\n",
       "        vertical-align: middle;\n",
       "    }\n",
       "\n",
       "    .dataframe tbody tr th {\n",
       "        vertical-align: top;\n",
       "    }\n",
       "\n",
       "    .dataframe thead th {\n",
       "        text-align: right;\n",
       "    }\n",
       "</style>\n",
       "<table border=\"1\" class=\"dataframe\">\n",
       "  <thead>\n",
       "    <tr style=\"text-align: right;\">\n",
       "      <th></th>\n",
       "      <th>MonthlyCharges</th>\n",
       "      <th>SeniorCitizen</th>\n",
       "    </tr>\n",
       "  </thead>\n",
       "  <tbody>\n",
       "    <tr>\n",
       "      <td>count</td>\n",
       "      <td>7043.000000</td>\n",
       "      <td>7043.000000</td>\n",
       "    </tr>\n",
       "    <tr>\n",
       "      <td>mean</td>\n",
       "      <td>64.761692</td>\n",
       "      <td>0.162147</td>\n",
       "    </tr>\n",
       "    <tr>\n",
       "      <td>std</td>\n",
       "      <td>30.090047</td>\n",
       "      <td>0.368612</td>\n",
       "    </tr>\n",
       "    <tr>\n",
       "      <td>min</td>\n",
       "      <td>18.250000</td>\n",
       "      <td>0.000000</td>\n",
       "    </tr>\n",
       "    <tr>\n",
       "      <td>25%</td>\n",
       "      <td>35.500000</td>\n",
       "      <td>0.000000</td>\n",
       "    </tr>\n",
       "    <tr>\n",
       "      <td>50%</td>\n",
       "      <td>70.350000</td>\n",
       "      <td>0.000000</td>\n",
       "    </tr>\n",
       "    <tr>\n",
       "      <td>75%</td>\n",
       "      <td>89.850000</td>\n",
       "      <td>0.000000</td>\n",
       "    </tr>\n",
       "    <tr>\n",
       "      <td>max</td>\n",
       "      <td>118.750000</td>\n",
       "      <td>1.000000</td>\n",
       "    </tr>\n",
       "  </tbody>\n",
       "</table>\n",
       "</div>"
      ],
      "text/plain": [
       "       MonthlyCharges  SeniorCitizen\n",
       "count     7043.000000    7043.000000\n",
       "mean        64.761692       0.162147\n",
       "std         30.090047       0.368612\n",
       "min         18.250000       0.000000\n",
       "25%         35.500000       0.000000\n",
       "50%         70.350000       0.000000\n",
       "75%         89.850000       0.000000\n",
       "max        118.750000       1.000000"
      ]
     },
     "metadata": {},
     "output_type": "display_data"
    },
    {
     "data": {
      "image/png": "[encoded data removed]",
      "text/plain": [
       "<Figure size 1440x864 with 2 Axes>"
      ]
     },
     "metadata": {
      "needs_background": "light"
     },
     "output_type": "display_data"
    },
    {
     "name": "stdout",
     "output_type": "stream",
     "text": [
      "Количество дубликатов в DataFrame: 0\n"
     ]
    }
   ],
   "source": [
    "information(df)"
   ]
  },
  {
   "cell_type": "markdown",
   "metadata": {},
   "source": [
    "1. При объединении таблиц сохранили всех клиентов;\n",
    "2. В признаках *InternetService*, *OnlineSecurity*, *OnlineBackup*, *DeviceProtection*, *TechSupport*, *StreamingTV*, *StreamingMovies*, *MultipleLines* после объединения появились пропущенные значения. Так как не все клиенты пользуются дополнительными услугами, то заменим пропуски в этих признаках на значение No.  \n",
    "\n",
    "Перейдем к предобработке данных."
   ]
  },
  {
   "cell_type": "markdown",
   "metadata": {},
   "source": [
    "## Предобработка данных"
   ]
  },
  {
   "cell_type": "markdown",
   "metadata": {},
   "source": [
    "### Обработка пропущенных значений"
   ]
  },
  {
   "cell_type": "code",
   "execution_count": 10,
   "metadata": {},
   "outputs": [],
   "source": [
    "for column in df.columns:\n",
    "    if df[column].notnull().sum() != df.shape[0]:\n",
    "        df[column] = df[column].fillna('No')"
   ]
  },
  {
   "cell_type": "code",
   "execution_count": 11,
   "metadata": {},
   "outputs": [
    {
     "name": "stdout",
     "output_type": "stream",
     "text": [
      "<class 'pandas.core.frame.DataFrame'>\n",
      "Int64Index: 7043 entries, 0 to 7042\n",
      "Data columns (total 20 columns):\n",
      "customerID          7043 non-null object\n",
      "BeginDate           7043 non-null object\n",
      "EndDate             7043 non-null object\n",
      "Type                7043 non-null object\n",
      "PaperlessBilling    7043 non-null object\n",
      "PaymentMethod       7043 non-null object\n",
      "MonthlyCharges      7043 non-null float64\n",
      "TotalCharges        7043 non-null object\n",
      "gender              7043 non-null object\n",
      "SeniorCitizen       7043 non-null int64\n",
      "Partner             7043 non-null object\n",
      "Dependents          7043 non-null object\n",
      "InternetService     7043 non-null object\n",
      "OnlineSecurity      7043 non-null object\n",
      "OnlineBackup        7043 non-null object\n",
      "DeviceProtection    7043 non-null object\n",
      "TechSupport         7043 non-null object\n",
      "StreamingTV         7043 non-null object\n",
      "StreamingMovies     7043 non-null object\n",
      "MultipleLines       7043 non-null object\n",
      "dtypes: float64(1), int64(1), object(18)\n",
      "memory usage: 1.1+ MB\n"
     ]
    }
   ],
   "source": [
    "df.info()"
   ]
  },
  {
   "cell_type": "markdown",
   "metadata": {},
   "source": [
    "Избавились от пропущенных значений в признаках *InternetService*, *OnlineSecurity*, *OnlineBackup*, *DeviceProtection*, *TechSupport*, *StreamingTV*, *StreamingMovies*, *MultipleLines*."
   ]
  },
  {
   "cell_type": "markdown",
   "metadata": {},
   "source": [
    "### Замена типа данных"
   ]
  },
  {
   "cell_type": "markdown",
   "metadata": {},
   "source": [
    "Признак *TotalCharges* должен быть численным. Посмотрим почему он таким не является."
   ]
  },
  {
   "cell_type": "code",
   "execution_count": 12,
   "metadata": {},
   "outputs": [
    {
     "data": {
      "text/html": [
       "<div>\n",
       "<style scoped>\n",
       "    .dataframe tbody tr th:only-of-type {\n",
       "        vertical-align: middle;\n",
       "    }\n",
       "\n",
       "    .dataframe tbody tr th {\n",
       "        vertical-align: top;\n",
       "    }\n",
       "\n",
       "    .dataframe thead th {\n",
       "        text-align: right;\n",
       "    }\n",
       "</style>\n",
       "<table border=\"1\" class=\"dataframe\">\n",
       "  <thead>\n",
       "    <tr style=\"text-align: right;\">\n",
       "      <th></th>\n",
       "      <th>customerID</th>\n",
       "      <th>BeginDate</th>\n",
       "      <th>EndDate</th>\n",
       "      <th>Type</th>\n",
       "      <th>PaperlessBilling</th>\n",
       "      <th>PaymentMethod</th>\n",
       "      <th>MonthlyCharges</th>\n",
       "      <th>TotalCharges</th>\n",
       "      <th>gender</th>\n",
       "      <th>SeniorCitizen</th>\n",
       "      <th>Partner</th>\n",
       "      <th>Dependents</th>\n",
       "      <th>InternetService</th>\n",
       "      <th>OnlineSecurity</th>\n",
       "      <th>OnlineBackup</th>\n",
       "      <th>DeviceProtection</th>\n",
       "      <th>TechSupport</th>\n",
       "      <th>StreamingTV</th>\n",
       "      <th>StreamingMovies</th>\n",
       "      <th>MultipleLines</th>\n",
       "    </tr>\n",
       "  </thead>\n",
       "  <tbody>\n",
       "    <tr>\n",
       "      <td>488</td>\n",
       "      <td>4472-LVYGI</td>\n",
       "      <td>2020-02-01</td>\n",
       "      <td>No</td>\n",
       "      <td>Two year</td>\n",
       "      <td>Yes</td>\n",
       "      <td>Bank transfer (automatic)</td>\n",
       "      <td>52.55</td>\n",
       "      <td></td>\n",
       "      <td>Female</td>\n",
       "      <td>0</td>\n",
       "      <td>Yes</td>\n",
       "      <td>Yes</td>\n",
       "      <td>DSL</td>\n",
       "      <td>Yes</td>\n",
       "      <td>No</td>\n",
       "      <td>Yes</td>\n",
       "      <td>Yes</td>\n",
       "      <td>Yes</td>\n",
       "      <td>No</td>\n",
       "      <td>No</td>\n",
       "    </tr>\n",
       "    <tr>\n",
       "      <td>753</td>\n",
       "      <td>3115-CZMZD</td>\n",
       "      <td>2020-02-01</td>\n",
       "      <td>No</td>\n",
       "      <td>Two year</td>\n",
       "      <td>No</td>\n",
       "      <td>Mailed check</td>\n",
       "      <td>20.25</td>\n",
       "      <td></td>\n",
       "      <td>Male</td>\n",
       "      <td>0</td>\n",
       "      <td>No</td>\n",
       "      <td>Yes</td>\n",
       "      <td>No</td>\n",
       "      <td>No</td>\n",
       "      <td>No</td>\n",
       "      <td>No</td>\n",
       "      <td>No</td>\n",
       "      <td>No</td>\n",
       "      <td>No</td>\n",
       "      <td>No</td>\n",
       "    </tr>\n",
       "    <tr>\n",
       "      <td>936</td>\n",
       "      <td>5709-LVOEQ</td>\n",
       "      <td>2020-02-01</td>\n",
       "      <td>No</td>\n",
       "      <td>Two year</td>\n",
       "      <td>No</td>\n",
       "      <td>Mailed check</td>\n",
       "      <td>80.85</td>\n",
       "      <td></td>\n",
       "      <td>Female</td>\n",
       "      <td>0</td>\n",
       "      <td>Yes</td>\n",
       "      <td>Yes</td>\n",
       "      <td>DSL</td>\n",
       "      <td>Yes</td>\n",
       "      <td>Yes</td>\n",
       "      <td>Yes</td>\n",
       "      <td>No</td>\n",
       "      <td>Yes</td>\n",
       "      <td>Yes</td>\n",
       "      <td>No</td>\n",
       "    </tr>\n",
       "    <tr>\n",
       "      <td>1082</td>\n",
       "      <td>4367-NUYAO</td>\n",
       "      <td>2020-02-01</td>\n",
       "      <td>No</td>\n",
       "      <td>Two year</td>\n",
       "      <td>No</td>\n",
       "      <td>Mailed check</td>\n",
       "      <td>25.75</td>\n",
       "      <td></td>\n",
       "      <td>Male</td>\n",
       "      <td>0</td>\n",
       "      <td>Yes</td>\n",
       "      <td>Yes</td>\n",
       "      <td>No</td>\n",
       "      <td>No</td>\n",
       "      <td>No</td>\n",
       "      <td>No</td>\n",
       "      <td>No</td>\n",
       "      <td>No</td>\n",
       "      <td>No</td>\n",
       "      <td>Yes</td>\n",
       "    </tr>\n",
       "    <tr>\n",
       "      <td>1340</td>\n",
       "      <td>1371-DWPAZ</td>\n",
       "      <td>2020-02-01</td>\n",
       "      <td>No</td>\n",
       "      <td>Two year</td>\n",
       "      <td>No</td>\n",
       "      <td>Credit card (automatic)</td>\n",
       "      <td>56.05</td>\n",
       "      <td></td>\n",
       "      <td>Female</td>\n",
       "      <td>0</td>\n",
       "      <td>Yes</td>\n",
       "      <td>Yes</td>\n",
       "      <td>DSL</td>\n",
       "      <td>Yes</td>\n",
       "      <td>Yes</td>\n",
       "      <td>Yes</td>\n",
       "      <td>Yes</td>\n",
       "      <td>Yes</td>\n",
       "      <td>No</td>\n",
       "      <td>No</td>\n",
       "    </tr>\n",
       "    <tr>\n",
       "      <td>3331</td>\n",
       "      <td>7644-OMVMY</td>\n",
       "      <td>2020-02-01</td>\n",
       "      <td>No</td>\n",
       "      <td>Two year</td>\n",
       "      <td>No</td>\n",
       "      <td>Mailed check</td>\n",
       "      <td>19.85</td>\n",
       "      <td></td>\n",
       "      <td>Male</td>\n",
       "      <td>0</td>\n",
       "      <td>Yes</td>\n",
       "      <td>Yes</td>\n",
       "      <td>No</td>\n",
       "      <td>No</td>\n",
       "      <td>No</td>\n",
       "      <td>No</td>\n",
       "      <td>No</td>\n",
       "      <td>No</td>\n",
       "      <td>No</td>\n",
       "      <td>No</td>\n",
       "    </tr>\n",
       "    <tr>\n",
       "      <td>3826</td>\n",
       "      <td>3213-VVOLG</td>\n",
       "      <td>2020-02-01</td>\n",
       "      <td>No</td>\n",
       "      <td>Two year</td>\n",
       "      <td>No</td>\n",
       "      <td>Mailed check</td>\n",
       "      <td>25.35</td>\n",
       "      <td></td>\n",
       "      <td>Male</td>\n",
       "      <td>0</td>\n",
       "      <td>Yes</td>\n",
       "      <td>Yes</td>\n",
       "      <td>No</td>\n",
       "      <td>No</td>\n",
       "      <td>No</td>\n",
       "      <td>No</td>\n",
       "      <td>No</td>\n",
       "      <td>No</td>\n",
       "      <td>No</td>\n",
       "      <td>Yes</td>\n",
       "    </tr>\n",
       "    <tr>\n",
       "      <td>4380</td>\n",
       "      <td>2520-SGTTA</td>\n",
       "      <td>2020-02-01</td>\n",
       "      <td>No</td>\n",
       "      <td>Two year</td>\n",
       "      <td>No</td>\n",
       "      <td>Mailed check</td>\n",
       "      <td>20.00</td>\n",
       "      <td></td>\n",
       "      <td>Female</td>\n",
       "      <td>0</td>\n",
       "      <td>Yes</td>\n",
       "      <td>Yes</td>\n",
       "      <td>No</td>\n",
       "      <td>No</td>\n",
       "      <td>No</td>\n",
       "      <td>No</td>\n",
       "      <td>No</td>\n",
       "      <td>No</td>\n",
       "      <td>No</td>\n",
       "      <td>No</td>\n",
       "    </tr>\n",
       "    <tr>\n",
       "      <td>5218</td>\n",
       "      <td>2923-ARZLG</td>\n",
       "      <td>2020-02-01</td>\n",
       "      <td>No</td>\n",
       "      <td>One year</td>\n",
       "      <td>Yes</td>\n",
       "      <td>Mailed check</td>\n",
       "      <td>19.70</td>\n",
       "      <td></td>\n",
       "      <td>Male</td>\n",
       "      <td>0</td>\n",
       "      <td>Yes</td>\n",
       "      <td>Yes</td>\n",
       "      <td>No</td>\n",
       "      <td>No</td>\n",
       "      <td>No</td>\n",
       "      <td>No</td>\n",
       "      <td>No</td>\n",
       "      <td>No</td>\n",
       "      <td>No</td>\n",
       "      <td>No</td>\n",
       "    </tr>\n",
       "    <tr>\n",
       "      <td>6670</td>\n",
       "      <td>4075-WKNIU</td>\n",
       "      <td>2020-02-01</td>\n",
       "      <td>No</td>\n",
       "      <td>Two year</td>\n",
       "      <td>No</td>\n",
       "      <td>Mailed check</td>\n",
       "      <td>73.35</td>\n",
       "      <td></td>\n",
       "      <td>Female</td>\n",
       "      <td>0</td>\n",
       "      <td>Yes</td>\n",
       "      <td>Yes</td>\n",
       "      <td>DSL</td>\n",
       "      <td>No</td>\n",
       "      <td>Yes</td>\n",
       "      <td>Yes</td>\n",
       "      <td>Yes</td>\n",
       "      <td>Yes</td>\n",
       "      <td>No</td>\n",
       "      <td>Yes</td>\n",
       "    </tr>\n",
       "    <tr>\n",
       "      <td>6754</td>\n",
       "      <td>2775-SEFEE</td>\n",
       "      <td>2020-02-01</td>\n",
       "      <td>No</td>\n",
       "      <td>Two year</td>\n",
       "      <td>Yes</td>\n",
       "      <td>Bank transfer (automatic)</td>\n",
       "      <td>61.90</td>\n",
       "      <td></td>\n",
       "      <td>Male</td>\n",
       "      <td>0</td>\n",
       "      <td>No</td>\n",
       "      <td>Yes</td>\n",
       "      <td>DSL</td>\n",
       "      <td>Yes</td>\n",
       "      <td>Yes</td>\n",
       "      <td>No</td>\n",
       "      <td>Yes</td>\n",
       "      <td>No</td>\n",
       "      <td>No</td>\n",
       "      <td>Yes</td>\n",
       "    </tr>\n",
       "  </tbody>\n",
       "</table>\n",
       "</div>"
      ],
      "text/plain": [
       "      customerID   BeginDate EndDate      Type PaperlessBilling  \\\n",
       "488   4472-LVYGI  2020-02-01      No  Two year              Yes   \n",
       "753   3115-CZMZD  2020-02-01      No  Two year               No   \n",
       "936   5709-LVOEQ  2020-02-01      No  Two year               No   \n",
       "1082  4367-NUYAO  2020-02-01      No  Two year               No   \n",
       "1340  1371-DWPAZ  2020-02-01      No  Two year               No   \n",
       "3331  7644-OMVMY  2020-02-01      No  Two year               No   \n",
       "3826  3213-VVOLG  2020-02-01      No  Two year               No   \n",
       "4380  2520-SGTTA  2020-02-01      No  Two year               No   \n",
       "5218  2923-ARZLG  2020-02-01      No  One year              Yes   \n",
       "6670  4075-WKNIU  2020-02-01      No  Two year               No   \n",
       "6754  2775-SEFEE  2020-02-01      No  Two year              Yes   \n",
       "\n",
       "                  PaymentMethod  MonthlyCharges TotalCharges  gender  \\\n",
       "488   Bank transfer (automatic)           52.55               Female   \n",
       "753                Mailed check           20.25                 Male   \n",
       "936                Mailed check           80.85               Female   \n",
       "1082               Mailed check           25.75                 Male   \n",
       "1340    Credit card (automatic)           56.05               Female   \n",
       "3331               Mailed check           19.85                 Male   \n",
       "3826               Mailed check           25.35                 Male   \n",
       "4380               Mailed check           20.00               Female   \n",
       "5218               Mailed check           19.70                 Male   \n",
       "6670               Mailed check           73.35               Female   \n",
       "6754  Bank transfer (automatic)           61.90                 Male   \n",
       "\n",
       "      SeniorCitizen Partner Dependents InternetService OnlineSecurity  \\\n",
       "488               0     Yes        Yes             DSL            Yes   \n",
       "753               0      No        Yes              No             No   \n",
       "936               0     Yes        Yes             DSL            Yes   \n",
       "1082              0     Yes        Yes              No             No   \n",
       "1340              0     Yes        Yes             DSL            Yes   \n",
       "3331              0     Yes        Yes              No             No   \n",
       "3826              0     Yes        Yes              No             No   \n",
       "4380              0     Yes        Yes              No             No   \n",
       "5218              0     Yes        Yes              No             No   \n",
       "6670              0     Yes        Yes             DSL             No   \n",
       "6754              0      No        Yes             DSL            Yes   \n",
       "\n",
       "     OnlineBackup DeviceProtection TechSupport StreamingTV StreamingMovies  \\\n",
       "488            No              Yes         Yes         Yes              No   \n",
       "753            No               No          No          No              No   \n",
       "936           Yes              Yes          No         Yes             Yes   \n",
       "1082           No               No          No          No              No   \n",
       "1340          Yes              Yes         Yes         Yes              No   \n",
       "3331           No               No          No          No              No   \n",
       "3826           No               No          No          No              No   \n",
       "4380           No               No          No          No              No   \n",
       "5218           No               No          No          No              No   \n",
       "6670          Yes              Yes         Yes         Yes              No   \n",
       "6754          Yes               No         Yes          No              No   \n",
       "\n",
       "     MultipleLines  \n",
       "488             No  \n",
       "753             No  \n",
       "936             No  \n",
       "1082           Yes  \n",
       "1340            No  \n",
       "3331            No  \n",
       "3826           Yes  \n",
       "4380            No  \n",
       "5218            No  \n",
       "6670           Yes  \n",
       "6754           Yes  "
      ]
     },
     "execution_count": 12,
     "metadata": {},
     "output_type": "execute_result"
    }
   ],
   "source": [
    "df[pd.to_numeric(df.TotalCharges, errors='coerce').isnull()]"
   ]
  },
  {
   "cell_type": "markdown",
   "metadata": {},
   "source": [
    "Информация о договорах актуальна на 1 февраля 2020. Клиенты, у которых в признаке TotalCharges отсутсвуют значения, заключили контракт только 1 февраля 2020 и еще ни разу не платили за услуги связи/интернета. Для этих клиентов заменим пропущенные данные на 0."
   ]
  },
  {
   "cell_type": "code",
   "execution_count": 13,
   "metadata": {},
   "outputs": [],
   "source": [
    "df.TotalCharges = pd.to_numeric(df.TotalCharges, errors='coerce').fillna(0.0)"
   ]
  },
  {
   "cell_type": "markdown",
   "metadata": {},
   "source": [
    "### Добавление новых признаков и целевого признака "
   ]
  },
  {
   "cell_type": "markdown",
   "metadata": {},
   "source": [
    "Если в признаке *EndDate* отсутсвует дата, то будем считать, что такой клиент разорвал контракт на услуги связи/интернета. Добавим целевой признак."
   ]
  },
  {
   "cell_type": "code",
   "execution_count": 14,
   "metadata": {},
   "outputs": [],
   "source": [
    "df['Exited'] = (df.EndDate != 'No').astype('int')"
   ]
  },
  {
   "cell_type": "markdown",
   "metadata": {},
   "source": [
    "Посчитаем сколько суммарно дней каждый клиент пользуется услугами связи/интернета и добавим таким образом новый признак."
   ]
  },
  {
   "cell_type": "code",
   "execution_count": 15,
   "metadata": {},
   "outputs": [],
   "source": [
    "df[\"days\"] = ((pd.to_datetime(df['EndDate'], errors='coerce').fillna(pd.to_datetime('2020-02-01'))) \\\n",
    "            - pd.to_datetime(df['BeginDate'])).dt.days"
   ]
  },
  {
   "cell_type": "code",
   "execution_count": 17,
   "metadata": {},
   "outputs": [
    {
     "data": {
      "text/html": [
       "<div>\n",
       "<style scoped>\n",
       "    .dataframe tbody tr th:only-of-type {\n",
       "        vertical-align: middle;\n",
       "    }\n",
       "\n",
       "    .dataframe tbody tr th {\n",
       "        vertical-align: top;\n",
       "    }\n",
       "\n",
       "    .dataframe thead th {\n",
       "        text-align: right;\n",
       "    }\n",
       "</style>\n",
       "<table border=\"1\" class=\"dataframe\">\n",
       "  <thead>\n",
       "    <tr style=\"text-align: right;\">\n",
       "      <th></th>\n",
       "      <th>customerID</th>\n",
       "      <th>BeginDate</th>\n",
       "      <th>EndDate</th>\n",
       "      <th>Type</th>\n",
       "      <th>PaperlessBilling</th>\n",
       "      <th>PaymentMethod</th>\n",
       "      <th>MonthlyCharges</th>\n",
       "      <th>TotalCharges</th>\n",
       "      <th>gender</th>\n",
       "      <th>SeniorCitizen</th>\n",
       "      <th>...</th>\n",
       "      <th>InternetService</th>\n",
       "      <th>OnlineSecurity</th>\n",
       "      <th>OnlineBackup</th>\n",
       "      <th>DeviceProtection</th>\n",
       "      <th>TechSupport</th>\n",
       "      <th>StreamingTV</th>\n",
       "      <th>StreamingMovies</th>\n",
       "      <th>MultipleLines</th>\n",
       "      <th>Exited</th>\n",
       "      <th>days</th>\n",
       "    </tr>\n",
       "  </thead>\n",
       "  <tbody>\n",
       "    <tr>\n",
       "      <td>0</td>\n",
       "      <td>7590-VHVEG</td>\n",
       "      <td>2020-01-01</td>\n",
       "      <td>No</td>\n",
       "      <td>Month-to-month</td>\n",
       "      <td>Yes</td>\n",
       "      <td>Electronic check</td>\n",
       "      <td>29.85</td>\n",
       "      <td>29.85</td>\n",
       "      <td>Female</td>\n",
       "      <td>0</td>\n",
       "      <td>...</td>\n",
       "      <td>DSL</td>\n",
       "      <td>No</td>\n",
       "      <td>Yes</td>\n",
       "      <td>No</td>\n",
       "      <td>No</td>\n",
       "      <td>No</td>\n",
       "      <td>No</td>\n",
       "      <td>No</td>\n",
       "      <td>0</td>\n",
       "      <td>31</td>\n",
       "    </tr>\n",
       "    <tr>\n",
       "      <td>1</td>\n",
       "      <td>5575-GNVDE</td>\n",
       "      <td>2017-04-01</td>\n",
       "      <td>No</td>\n",
       "      <td>One year</td>\n",
       "      <td>No</td>\n",
       "      <td>Mailed check</td>\n",
       "      <td>56.95</td>\n",
       "      <td>1889.50</td>\n",
       "      <td>Male</td>\n",
       "      <td>0</td>\n",
       "      <td>...</td>\n",
       "      <td>DSL</td>\n",
       "      <td>Yes</td>\n",
       "      <td>No</td>\n",
       "      <td>Yes</td>\n",
       "      <td>No</td>\n",
       "      <td>No</td>\n",
       "      <td>No</td>\n",
       "      <td>No</td>\n",
       "      <td>0</td>\n",
       "      <td>1036</td>\n",
       "    </tr>\n",
       "    <tr>\n",
       "      <td>2</td>\n",
       "      <td>3668-QPYBK</td>\n",
       "      <td>2019-10-01</td>\n",
       "      <td>2019-12-01 00:00:00</td>\n",
       "      <td>Month-to-month</td>\n",
       "      <td>Yes</td>\n",
       "      <td>Mailed check</td>\n",
       "      <td>53.85</td>\n",
       "      <td>108.15</td>\n",
       "      <td>Male</td>\n",
       "      <td>0</td>\n",
       "      <td>...</td>\n",
       "      <td>DSL</td>\n",
       "      <td>Yes</td>\n",
       "      <td>Yes</td>\n",
       "      <td>No</td>\n",
       "      <td>No</td>\n",
       "      <td>No</td>\n",
       "      <td>No</td>\n",
       "      <td>No</td>\n",
       "      <td>1</td>\n",
       "      <td>61</td>\n",
       "    </tr>\n",
       "  </tbody>\n",
       "</table>\n",
       "<p>3 rows × 22 columns</p>\n",
       "</div>"
      ],
      "text/plain": [
       "   customerID   BeginDate              EndDate            Type  \\\n",
       "0  7590-VHVEG  2020-01-01                   No  Month-to-month   \n",
       "1  5575-GNVDE  2017-04-01                   No        One year   \n",
       "2  3668-QPYBK  2019-10-01  2019-12-01 00:00:00  Month-to-month   \n",
       "\n",
       "  PaperlessBilling     PaymentMethod  MonthlyCharges  TotalCharges  gender  \\\n",
       "0              Yes  Electronic check           29.85         29.85  Female   \n",
       "1               No      Mailed check           56.95       1889.50    Male   \n",
       "2              Yes      Mailed check           53.85        108.15    Male   \n",
       "\n",
       "   SeniorCitizen  ... InternetService OnlineSecurity OnlineBackup  \\\n",
       "0              0  ...             DSL             No          Yes   \n",
       "1              0  ...             DSL            Yes           No   \n",
       "2              0  ...             DSL            Yes          Yes   \n",
       "\n",
       "  DeviceProtection TechSupport StreamingTV StreamingMovies MultipleLines  \\\n",
       "0               No          No          No              No            No   \n",
       "1              Yes          No          No              No            No   \n",
       "2               No          No          No              No            No   \n",
       "\n",
       "  Exited  days  \n",
       "0      0    31  \n",
       "1      0  1036  \n",
       "2      1    61  \n",
       "\n",
       "[3 rows x 22 columns]"
      ]
     },
     "execution_count": 17,
     "metadata": {},
     "output_type": "execute_result"
    }
   ],
   "source": [
    "df.head(3)"
   ]
  },
  {
   "cell_type": "markdown",
   "metadata": {},
   "source": [
    "### Удаление неиспользуемых признаков"
   ]
  },
  {
   "cell_type": "markdown",
   "metadata": {},
   "source": [
    "Удалим признаки *customerID*, *BeginDate*, *EndDate*."
   ]
  },
  {
   "cell_type": "code",
   "execution_count": 18,
   "metadata": {},
   "outputs": [],
   "source": [
    "df = df.drop(['customerID', 'BeginDate', 'EndDate'], axis = 1)"
   ]
  },
  {
   "cell_type": "code",
   "execution_count": 19,
   "metadata": {},
   "outputs": [
    {
     "name": "stdout",
     "output_type": "stream",
     "text": [
      "<class 'pandas.core.frame.DataFrame'>\n",
      "Int64Index: 7043 entries, 0 to 7042\n",
      "Data columns (total 19 columns):\n",
      "Type                7043 non-null object\n",
      "PaperlessBilling    7043 non-null object\n",
      "PaymentMethod       7043 non-null object\n",
      "MonthlyCharges      7043 non-null float64\n",
      "TotalCharges        7043 non-null float64\n",
      "gender              7043 non-null object\n",
      "SeniorCitizen       7043 non-null int64\n",
      "Partner             7043 non-null object\n",
      "Dependents          7043 non-null object\n",
      "InternetService     7043 non-null object\n",
      "OnlineSecurity      7043 non-null object\n",
      "OnlineBackup        7043 non-null object\n",
      "DeviceProtection    7043 non-null object\n",
      "TechSupport         7043 non-null object\n",
      "StreamingTV         7043 non-null object\n",
      "StreamingMovies     7043 non-null object\n",
      "MultipleLines       7043 non-null object\n",
      "Exited              7043 non-null int64\n",
      "days                7043 non-null int64\n",
      "dtypes: float64(2), int64(3), object(14)\n",
      "memory usage: 1.1+ MB\n"
     ]
    }
   ],
   "source": [
    "df.info()"
   ]
  },
  {
   "cell_type": "markdown",
   "metadata": {},
   "source": [
    "## Исследовательский анализ данных"
   ]
  },
  {
   "cell_type": "markdown",
   "metadata": {},
   "source": [
    "### Распределение целевого признака"
   ]
  },
  {
   "cell_type": "code",
   "execution_count": 20,
   "metadata": {},
   "outputs": [
    {
     "data": {
      "image/png": "[encoded data removed]",
      "text/plain": [
       "<Figure size 864x432 with 1 Axes>"
      ]
     },
     "metadata": {
      "needs_background": "light"
     },
     "output_type": "display_data"
    }
   ],
   "source": [
    "df.Exited.hist(figsize = (12,6))\n",
    "plt.title(\"Exited\")\n",
    "plt.show()"
   ]
  },
  {
   "cell_type": "markdown",
   "metadata": {},
   "source": [
    "В данных наблюдается дисбаланс классов. Необходимо будет это учесть при построении моделей."
   ]
  },
  {
   "cell_type": "markdown",
   "metadata": {},
   "source": [
    "### Категориальные признаки"
   ]
  },
  {
   "cell_type": "markdown",
   "metadata": {},
   "source": [
    "Сравним ушедших и не ушедших клиентов по каждому признаку. Для этого выполним нормализацию (так как у нас дисбаланс классов) и построим столбчатые диаграммы."
   ]
  },
  {
   "cell_type": "code",
   "execution_count": 21,
   "metadata": {},
   "outputs": [
    {
     "data": {
      "image/png": "[encoded data removed]",
      "text/plain": [
       "<Figure size 1800x1800 with 15 Axes>"
      ]
     },
     "metadata": {
      "needs_background": "light"
     },
     "output_type": "display_data"
    }
   ],
   "source": [
    "columns = list(set(df.columns) - set(['MonthlyCharges', 'TotalCharges', 'Exited', 'days']))\n",
    "fig, axes = plt.subplots(nrows=5, ncols=3)\n",
    "for i, column in enumerate(columns):\n",
    "#     if column == 'DeviceProtection': break\n",
    "    data = df.groupby(['Exited', column])[column].aggregate('count').unstack()\n",
    "    for row in range(data.shape[0]):\n",
    "        data.loc[row] /= data.loc[row].sum()\n",
    "    data.plot(ax=axes[(i//3),i%3], kind = 'bar', grid=True, legend=True, figsize = (25,25), rot = 0, title = column)"
   ]
  },
  {
   "cell_type": "markdown",
   "metadata": {},
   "source": [
    "В целом ушедшие и не ушедшие клиенты ведут себя одинаково. Но есть некоторые отличия:\n",
    "1. Ушедшие клиенты чаще исупользовали *InternetService* = Fiber optic. Возможно, качество оплотоволоконной линии их не устраивало или конкуренты предоставляют более выгодные тарифы по данной технологии подключения;\n",
    "2. Ушедшие клиенты чаще использовали *PaperlessBilling* (безналичный расчет), чем не ушедшие;\n",
    "3. Намного чаще ушедшие клиенты использовали *PaymentMethod* = Electronic check. Возможно сервис оплаты был не слишком удобен или была коммисия при оплате;\n",
    "4. Большинство ушедших клиентов использовали *Type* = Month-to-month (помесячный тип оплаты). Возможно клиенты пользовались услугами связи несколько месяцев и уходил, так как их что-то не устраивало и им было невыгодно заключать годичные контракты."
   ]
  },
  {
   "cell_type": "markdown",
   "metadata": {},
   "source": [
    "###  Непрерывные признаки"
   ]
  },
  {
   "cell_type": "code",
   "execution_count": 22,
   "metadata": {},
   "outputs": [],
   "source": [
    "def plot_hist(column, title_name, xlabel_name):\n",
    "    ax = df[df.Exited == 0][column].hist(alpha = .5, bins = 20, figsize = (12,6))\n",
    "    df[df.Exited == 1][column].hist(ax = ax, alpha = .5, bins = 20)\n",
    "    plt.legend(['0', '1'])\n",
    "    plt.title(title_name)\n",
    "    plt.xlabel(xlabel_name)\n",
    "    plt.ylabel('Частота')\n",
    "    plt.show()\n",
    "    \n",
    "def plot_boxplot(column, title_name):\n",
    "    df.boxplot(column='MonthlyCharges', by='Exited', figsize = (12, 6))\n",
    "    plt.title(title_name)\n",
    "    if column == 'days':\n",
    "        plt.ylabel('Дни')\n",
    "    else:\n",
    "        plt.ylabel('Оплата, у.е.')\n",
    "    plt.show()"
   ]
  },
  {
   "cell_type": "code",
   "execution_count": 23,
   "metadata": {},
   "outputs": [
    {
     "data": {
      "image/png": "[encoded data removed]",
      "text/plain": [
       "<Figure size 864x432 with 1 Axes>"
      ]
     },
     "metadata": {
      "needs_background": "light"
     },
     "output_type": "display_data"
    },
    {
     "data": {
      "image/png": "[encoded data removed]",
      "text/plain": [
       "<Figure size 864x432 with 1 Axes>"
      ]
     },
     "metadata": {
      "needs_background": "light"
     },
     "output_type": "display_data"
    }
   ],
   "source": [
    "plot_hist('MonthlyCharges', 'Гистограмма ежемесячных платежей пользователя', 'Оплата, у.е.')\n",
    "plot_boxplot('MonthlyCharges', 'Диаграмма размаха ежемесячных платежей пользователя')"
   ]
  },
  {
   "cell_type": "code",
   "execution_count": 24,
   "metadata": {},
   "outputs": [
    {
     "data": {
      "image/png": "[encoded data removed]",
      "text/plain": [
       "<Figure size 864x432 with 1 Axes>"
      ]
     },
     "metadata": {
      "needs_background": "light"
     },
     "output_type": "display_data"
    },
    {
     "data": {
      "image/png": "[encoded data removed]",
      "text/plain": [
       "<Figure size 864x432 with 1 Axes>"
      ]
     },
     "metadata": {
      "needs_background": "light"
     },
     "output_type": "display_data"
    }
   ],
   "source": [
    "plot_hist('TotalCharges', 'Гистограмма суммарных платежей пользователя за все время', 'Оплата, у.е.')\n",
    "plot_boxplot('TotalCharges', 'Диаграмма размаха суммарных платежей пользователя за все время')"
   ]
  },
  {
   "cell_type": "code",
   "execution_count": 25,
   "metadata": {},
   "outputs": [
    {
     "data": {
      "image/png": "[encoded data removed]",
      "text/plain": [
       "<Figure size 864x432 with 1 Axes>"
      ]
     },
     "metadata": {
      "needs_background": "light"
     },
     "output_type": "display_data"
    },
    {
     "data": {
      "image/png": "[encoded data removed]",
      "text/plain": [
       "<Figure size 864x432 with 1 Axes>"
      ]
     },
     "metadata": {
      "needs_background": "light"
     },
     "output_type": "display_data"
    }
   ],
   "source": [
    "plot_hist('days', 'Гистограмма количества дней действия контракта', 'Дни')\n",
    "plot_boxplot('days', 'Диаграмма размаха количества дней действия контракта')"
   ]
  },
  {
   "cell_type": "code",
   "execution_count": 26,
   "metadata": {},
   "outputs": [
    {
     "name": "stdout",
     "output_type": "stream",
     "text": [
      "ЛОЯЛЬНЫЕ КЛИЕНТЫ:\n"
     ]
    },
    {
     "data": {
      "text/html": [
       "<div>\n",
       "<style scoped>\n",
       "    .dataframe tbody tr th:only-of-type {\n",
       "        vertical-align: middle;\n",
       "    }\n",
       "\n",
       "    .dataframe tbody tr th {\n",
       "        vertical-align: top;\n",
       "    }\n",
       "\n",
       "    .dataframe thead th {\n",
       "        text-align: right;\n",
       "    }\n",
       "</style>\n",
       "<table border=\"1\" class=\"dataframe\">\n",
       "  <thead>\n",
       "    <tr style=\"text-align: right;\">\n",
       "      <th></th>\n",
       "      <th>MonthlyCharges</th>\n",
       "      <th>TotalCharges</th>\n",
       "      <th>SeniorCitizen</th>\n",
       "      <th>Exited</th>\n",
       "      <th>days</th>\n",
       "    </tr>\n",
       "  </thead>\n",
       "  <tbody>\n",
       "    <tr>\n",
       "      <td>count</td>\n",
       "      <td>5174.000000</td>\n",
       "      <td>5174.000000</td>\n",
       "      <td>5174.000000</td>\n",
       "      <td>5174.0</td>\n",
       "      <td>5174.000000</td>\n",
       "    </tr>\n",
       "    <tr>\n",
       "      <td>mean</td>\n",
       "      <td>61.265124</td>\n",
       "      <td>2549.911442</td>\n",
       "      <td>0.128721</td>\n",
       "      <td>0.0</td>\n",
       "      <td>1144.447236</td>\n",
       "    </tr>\n",
       "    <tr>\n",
       "      <td>std</td>\n",
       "      <td>31.092648</td>\n",
       "      <td>2329.954215</td>\n",
       "      <td>0.334923</td>\n",
       "      <td>0.0</td>\n",
       "      <td>733.897937</td>\n",
       "    </tr>\n",
       "    <tr>\n",
       "      <td>min</td>\n",
       "      <td>18.250000</td>\n",
       "      <td>0.000000</td>\n",
       "      <td>0.000000</td>\n",
       "      <td>0.0</td>\n",
       "      <td>0.000000</td>\n",
       "    </tr>\n",
       "    <tr>\n",
       "      <td>25%</td>\n",
       "      <td>25.100000</td>\n",
       "      <td>572.900000</td>\n",
       "      <td>0.000000</td>\n",
       "      <td>0.0</td>\n",
       "      <td>457.000000</td>\n",
       "    </tr>\n",
       "    <tr>\n",
       "      <td>50%</td>\n",
       "      <td>64.425000</td>\n",
       "      <td>1679.525000</td>\n",
       "      <td>0.000000</td>\n",
       "      <td>0.0</td>\n",
       "      <td>1157.000000</td>\n",
       "    </tr>\n",
       "    <tr>\n",
       "      <td>75%</td>\n",
       "      <td>88.400000</td>\n",
       "      <td>4262.850000</td>\n",
       "      <td>0.000000</td>\n",
       "      <td>0.0</td>\n",
       "      <td>1857.000000</td>\n",
       "    </tr>\n",
       "    <tr>\n",
       "      <td>max</td>\n",
       "      <td>118.750000</td>\n",
       "      <td>8672.450000</td>\n",
       "      <td>1.000000</td>\n",
       "      <td>0.0</td>\n",
       "      <td>2191.000000</td>\n",
       "    </tr>\n",
       "  </tbody>\n",
       "</table>\n",
       "</div>"
      ],
      "text/plain": [
       "       MonthlyCharges  TotalCharges  SeniorCitizen  Exited         days\n",
       "count     5174.000000   5174.000000    5174.000000  5174.0  5174.000000\n",
       "mean        61.265124   2549.911442       0.128721     0.0  1144.447236\n",
       "std         31.092648   2329.954215       0.334923     0.0   733.897937\n",
       "min         18.250000      0.000000       0.000000     0.0     0.000000\n",
       "25%         25.100000    572.900000       0.000000     0.0   457.000000\n",
       "50%         64.425000   1679.525000       0.000000     0.0  1157.000000\n",
       "75%         88.400000   4262.850000       0.000000     0.0  1857.000000\n",
       "max        118.750000   8672.450000       1.000000     0.0  2191.000000"
      ]
     },
     "metadata": {},
     "output_type": "display_data"
    },
    {
     "name": "stdout",
     "output_type": "stream",
     "text": [
      "\n",
      "УШЕДШИЕ КЛИЕНТЫ:\n"
     ]
    },
    {
     "data": {
      "text/html": [
       "<div>\n",
       "<style scoped>\n",
       "    .dataframe tbody tr th:only-of-type {\n",
       "        vertical-align: middle;\n",
       "    }\n",
       "\n",
       "    .dataframe tbody tr th {\n",
       "        vertical-align: top;\n",
       "    }\n",
       "\n",
       "    .dataframe thead th {\n",
       "        text-align: right;\n",
       "    }\n",
       "</style>\n",
       "<table border=\"1\" class=\"dataframe\">\n",
       "  <thead>\n",
       "    <tr style=\"text-align: right;\">\n",
       "      <th></th>\n",
       "      <th>MonthlyCharges</th>\n",
       "      <th>TotalCharges</th>\n",
       "      <th>SeniorCitizen</th>\n",
       "      <th>Exited</th>\n",
       "      <th>days</th>\n",
       "    </tr>\n",
       "  </thead>\n",
       "  <tbody>\n",
       "    <tr>\n",
       "      <td>count</td>\n",
       "      <td>1869.000000</td>\n",
       "      <td>1869.000000</td>\n",
       "      <td>1869.000000</td>\n",
       "      <td>1869.0</td>\n",
       "      <td>1869.000000</td>\n",
       "    </tr>\n",
       "    <tr>\n",
       "      <td>mean</td>\n",
       "      <td>74.441332</td>\n",
       "      <td>1531.796094</td>\n",
       "      <td>0.254682</td>\n",
       "      <td>1.0</td>\n",
       "      <td>547.352060</td>\n",
       "    </tr>\n",
       "    <tr>\n",
       "      <td>std</td>\n",
       "      <td>24.666053</td>\n",
       "      <td>1890.822994</td>\n",
       "      <td>0.435799</td>\n",
       "      <td>0.0</td>\n",
       "      <td>594.389607</td>\n",
       "    </tr>\n",
       "    <tr>\n",
       "      <td>min</td>\n",
       "      <td>18.850000</td>\n",
       "      <td>18.850000</td>\n",
       "      <td>0.000000</td>\n",
       "      <td>1.0</td>\n",
       "      <td>30.000000</td>\n",
       "    </tr>\n",
       "    <tr>\n",
       "      <td>25%</td>\n",
       "      <td>56.150000</td>\n",
       "      <td>134.500000</td>\n",
       "      <td>0.000000</td>\n",
       "      <td>1.0</td>\n",
       "      <td>61.000000</td>\n",
       "    </tr>\n",
       "    <tr>\n",
       "      <td>50%</td>\n",
       "      <td>79.650000</td>\n",
       "      <td>703.550000</td>\n",
       "      <td>0.000000</td>\n",
       "      <td>1.0</td>\n",
       "      <td>304.000000</td>\n",
       "    </tr>\n",
       "    <tr>\n",
       "      <td>75%</td>\n",
       "      <td>94.200000</td>\n",
       "      <td>2331.300000</td>\n",
       "      <td>1.000000</td>\n",
       "      <td>1.0</td>\n",
       "      <td>883.000000</td>\n",
       "    </tr>\n",
       "    <tr>\n",
       "      <td>max</td>\n",
       "      <td>118.350000</td>\n",
       "      <td>8684.800000</td>\n",
       "      <td>1.000000</td>\n",
       "      <td>1.0</td>\n",
       "      <td>2191.000000</td>\n",
       "    </tr>\n",
       "  </tbody>\n",
       "</table>\n",
       "</div>"
      ],
      "text/plain": [
       "       MonthlyCharges  TotalCharges  SeniorCitizen  Exited         days\n",
       "count     1869.000000   1869.000000    1869.000000  1869.0  1869.000000\n",
       "mean        74.441332   1531.796094       0.254682     1.0   547.352060\n",
       "std         24.666053   1890.822994       0.435799     0.0   594.389607\n",
       "min         18.850000     18.850000       0.000000     1.0    30.000000\n",
       "25%         56.150000    134.500000       0.000000     1.0    61.000000\n",
       "50%         79.650000    703.550000       0.000000     1.0   304.000000\n",
       "75%         94.200000   2331.300000       1.000000     1.0   883.000000\n",
       "max        118.350000   8684.800000       1.000000     1.0  2191.000000"
      ]
     },
     "metadata": {},
     "output_type": "display_data"
    }
   ],
   "source": [
    "print('ЛОЯЛЬНЫЕ КЛИЕНТЫ:')\n",
    "display(df[df['Exited'] == 0].describe())\n",
    "print()\n",
    "print('УШЕДШИЕ КЛИЕНТЫ:')\n",
    "display(df[df['Exited'] == 1].describe())"
   ]
  },
  {
   "cell_type": "markdown",
   "metadata": {},
   "source": [
    "В предыдущем пункте выяснили, что большинство ушедших клиентов использовали *Type* = Month-to-month (помесячный тип оплаты). Возможно клиенты пользовались услугами связи несколько месяцев и уходил, так как их что-то не устраивало и им было невыгодно заключать годичные контракты.  \n",
    "Это предположение подтверждается гистограмами \"Суммарных платежей пользователя за все время\" и \"Количетсва дней дейсвтия контракта\". Действительно, большинство ушедших клиентов мало пользовались услугами компании.\n",
    "\n",
    "Сравнение ушедшего и не ушедшего клиента (по средним значениям).\n",
    "\n",
    "**Признак**  | **Ушедший клиент**  | **Не ушедший клиент**\n",
    ":-------------: | :-------------: | :-------------:\n",
    "MonthlyCharges   |   74.44  |   61.26\n",
    "TotalCharges  |   1531.79  |   2549.91\n",
    "days  |   547.35  |   1144.44"
   ]
  },
  {
   "cell_type": "markdown",
   "metadata": {},
   "source": [
    "## Обучение моделей"
   ]
  },
  {
   "cell_type": "markdown",
   "metadata": {},
   "source": [
    "### Кодирование Ordinal Encoding"
   ]
  },
  {
   "cell_type": "code",
   "execution_count": 27,
   "metadata": {},
   "outputs": [],
   "source": [
    "data_ml = df.copy()"
   ]
  },
  {
   "cell_type": "code",
   "execution_count": 29,
   "metadata": {},
   "outputs": [
    {
     "data": {
      "text/html": [
       "<div>\n",
       "<style scoped>\n",
       "    .dataframe tbody tr th:only-of-type {\n",
       "        vertical-align: middle;\n",
       "    }\n",
       "\n",
       "    .dataframe tbody tr th {\n",
       "        vertical-align: top;\n",
       "    }\n",
       "\n",
       "    .dataframe thead th {\n",
       "        text-align: right;\n",
       "    }\n",
       "</style>\n",
       "<table border=\"1\" class=\"dataframe\">\n",
       "  <thead>\n",
       "    <tr style=\"text-align: right;\">\n",
       "      <th></th>\n",
       "      <th>Type</th>\n",
       "      <th>PaperlessBilling</th>\n",
       "      <th>PaymentMethod</th>\n",
       "      <th>MonthlyCharges</th>\n",
       "      <th>TotalCharges</th>\n",
       "      <th>gender</th>\n",
       "      <th>SeniorCitizen</th>\n",
       "      <th>Partner</th>\n",
       "      <th>Dependents</th>\n",
       "      <th>InternetService</th>\n",
       "      <th>OnlineSecurity</th>\n",
       "      <th>OnlineBackup</th>\n",
       "      <th>DeviceProtection</th>\n",
       "      <th>TechSupport</th>\n",
       "      <th>StreamingTV</th>\n",
       "      <th>StreamingMovies</th>\n",
       "      <th>MultipleLines</th>\n",
       "      <th>Exited</th>\n",
       "      <th>days</th>\n",
       "    </tr>\n",
       "  </thead>\n",
       "  <tbody>\n",
       "    <tr>\n",
       "      <td>0</td>\n",
       "      <td>0</td>\n",
       "      <td>1</td>\n",
       "      <td>2</td>\n",
       "      <td>29.85</td>\n",
       "      <td>29.85</td>\n",
       "      <td>0</td>\n",
       "      <td>0</td>\n",
       "      <td>1</td>\n",
       "      <td>0</td>\n",
       "      <td>0</td>\n",
       "      <td>0</td>\n",
       "      <td>1</td>\n",
       "      <td>0</td>\n",
       "      <td>0</td>\n",
       "      <td>0</td>\n",
       "      <td>0</td>\n",
       "      <td>0</td>\n",
       "      <td>0</td>\n",
       "      <td>31</td>\n",
       "    </tr>\n",
       "    <tr>\n",
       "      <td>1</td>\n",
       "      <td>1</td>\n",
       "      <td>0</td>\n",
       "      <td>3</td>\n",
       "      <td>56.95</td>\n",
       "      <td>1889.50</td>\n",
       "      <td>1</td>\n",
       "      <td>0</td>\n",
       "      <td>0</td>\n",
       "      <td>0</td>\n",
       "      <td>0</td>\n",
       "      <td>1</td>\n",
       "      <td>0</td>\n",
       "      <td>1</td>\n",
       "      <td>0</td>\n",
       "      <td>0</td>\n",
       "      <td>0</td>\n",
       "      <td>0</td>\n",
       "      <td>0</td>\n",
       "      <td>1036</td>\n",
       "    </tr>\n",
       "    <tr>\n",
       "      <td>2</td>\n",
       "      <td>0</td>\n",
       "      <td>1</td>\n",
       "      <td>3</td>\n",
       "      <td>53.85</td>\n",
       "      <td>108.15</td>\n",
       "      <td>1</td>\n",
       "      <td>0</td>\n",
       "      <td>0</td>\n",
       "      <td>0</td>\n",
       "      <td>0</td>\n",
       "      <td>1</td>\n",
       "      <td>1</td>\n",
       "      <td>0</td>\n",
       "      <td>0</td>\n",
       "      <td>0</td>\n",
       "      <td>0</td>\n",
       "      <td>0</td>\n",
       "      <td>1</td>\n",
       "      <td>61</td>\n",
       "    </tr>\n",
       "    <tr>\n",
       "      <td>3</td>\n",
       "      <td>1</td>\n",
       "      <td>0</td>\n",
       "      <td>0</td>\n",
       "      <td>42.30</td>\n",
       "      <td>1840.75</td>\n",
       "      <td>1</td>\n",
       "      <td>0</td>\n",
       "      <td>0</td>\n",
       "      <td>0</td>\n",
       "      <td>0</td>\n",
       "      <td>1</td>\n",
       "      <td>0</td>\n",
       "      <td>1</td>\n",
       "      <td>1</td>\n",
       "      <td>0</td>\n",
       "      <td>0</td>\n",
       "      <td>0</td>\n",
       "      <td>0</td>\n",
       "      <td>1371</td>\n",
       "    </tr>\n",
       "    <tr>\n",
       "      <td>4</td>\n",
       "      <td>0</td>\n",
       "      <td>1</td>\n",
       "      <td>2</td>\n",
       "      <td>70.70</td>\n",
       "      <td>151.65</td>\n",
       "      <td>0</td>\n",
       "      <td>0</td>\n",
       "      <td>0</td>\n",
       "      <td>0</td>\n",
       "      <td>1</td>\n",
       "      <td>0</td>\n",
       "      <td>0</td>\n",
       "      <td>0</td>\n",
       "      <td>0</td>\n",
       "      <td>0</td>\n",
       "      <td>0</td>\n",
       "      <td>0</td>\n",
       "      <td>1</td>\n",
       "      <td>61</td>\n",
       "    </tr>\n",
       "    <tr>\n",
       "      <td>5</td>\n",
       "      <td>0</td>\n",
       "      <td>1</td>\n",
       "      <td>2</td>\n",
       "      <td>99.65</td>\n",
       "      <td>820.50</td>\n",
       "      <td>0</td>\n",
       "      <td>0</td>\n",
       "      <td>0</td>\n",
       "      <td>0</td>\n",
       "      <td>1</td>\n",
       "      <td>0</td>\n",
       "      <td>0</td>\n",
       "      <td>1</td>\n",
       "      <td>0</td>\n",
       "      <td>1</td>\n",
       "      <td>1</td>\n",
       "      <td>1</td>\n",
       "      <td>1</td>\n",
       "      <td>245</td>\n",
       "    </tr>\n",
       "    <tr>\n",
       "      <td>6</td>\n",
       "      <td>0</td>\n",
       "      <td>1</td>\n",
       "      <td>1</td>\n",
       "      <td>89.10</td>\n",
       "      <td>1949.40</td>\n",
       "      <td>1</td>\n",
       "      <td>0</td>\n",
       "      <td>0</td>\n",
       "      <td>1</td>\n",
       "      <td>1</td>\n",
       "      <td>0</td>\n",
       "      <td>1</td>\n",
       "      <td>0</td>\n",
       "      <td>0</td>\n",
       "      <td>1</td>\n",
       "      <td>0</td>\n",
       "      <td>1</td>\n",
       "      <td>0</td>\n",
       "      <td>671</td>\n",
       "    </tr>\n",
       "    <tr>\n",
       "      <td>7</td>\n",
       "      <td>0</td>\n",
       "      <td>0</td>\n",
       "      <td>3</td>\n",
       "      <td>29.75</td>\n",
       "      <td>301.90</td>\n",
       "      <td>0</td>\n",
       "      <td>0</td>\n",
       "      <td>0</td>\n",
       "      <td>0</td>\n",
       "      <td>0</td>\n",
       "      <td>1</td>\n",
       "      <td>0</td>\n",
       "      <td>0</td>\n",
       "      <td>0</td>\n",
       "      <td>0</td>\n",
       "      <td>0</td>\n",
       "      <td>0</td>\n",
       "      <td>0</td>\n",
       "      <td>306</td>\n",
       "    </tr>\n",
       "    <tr>\n",
       "      <td>8</td>\n",
       "      <td>0</td>\n",
       "      <td>1</td>\n",
       "      <td>2</td>\n",
       "      <td>104.80</td>\n",
       "      <td>3046.05</td>\n",
       "      <td>0</td>\n",
       "      <td>0</td>\n",
       "      <td>1</td>\n",
       "      <td>0</td>\n",
       "      <td>1</td>\n",
       "      <td>0</td>\n",
       "      <td>0</td>\n",
       "      <td>1</td>\n",
       "      <td>1</td>\n",
       "      <td>1</td>\n",
       "      <td>1</td>\n",
       "      <td>1</td>\n",
       "      <td>1</td>\n",
       "      <td>853</td>\n",
       "    </tr>\n",
       "    <tr>\n",
       "      <td>9</td>\n",
       "      <td>1</td>\n",
       "      <td>0</td>\n",
       "      <td>0</td>\n",
       "      <td>56.15</td>\n",
       "      <td>3487.95</td>\n",
       "      <td>1</td>\n",
       "      <td>0</td>\n",
       "      <td>0</td>\n",
       "      <td>1</td>\n",
       "      <td>0</td>\n",
       "      <td>1</td>\n",
       "      <td>1</td>\n",
       "      <td>0</td>\n",
       "      <td>0</td>\n",
       "      <td>0</td>\n",
       "      <td>0</td>\n",
       "      <td>0</td>\n",
       "      <td>0</td>\n",
       "      <td>1888</td>\n",
       "    </tr>\n",
       "  </tbody>\n",
       "</table>\n",
       "</div>"
      ],
      "text/plain": [
       "   Type  PaperlessBilling  PaymentMethod  MonthlyCharges  TotalCharges  \\\n",
       "0     0                 1              2           29.85         29.85   \n",
       "1     1                 0              3           56.95       1889.50   \n",
       "2     0                 1              3           53.85        108.15   \n",
       "3     1                 0              0           42.30       1840.75   \n",
       "4     0                 1              2           70.70        151.65   \n",
       "5     0                 1              2           99.65        820.50   \n",
       "6     0                 1              1           89.10       1949.40   \n",
       "7     0                 0              3           29.75        301.90   \n",
       "8     0                 1              2          104.80       3046.05   \n",
       "9     1                 0              0           56.15       3487.95   \n",
       "\n",
       "   gender  SeniorCitizen  Partner  Dependents  InternetService  \\\n",
       "0       0              0        1           0                0   \n",
       "1       1              0        0           0                0   \n",
       "2       1              0        0           0                0   \n",
       "3       1              0        0           0                0   \n",
       "4       0              0        0           0                1   \n",
       "5       0              0        0           0                1   \n",
       "6       1              0        0           1                1   \n",
       "7       0              0        0           0                0   \n",
       "8       0              0        1           0                1   \n",
       "9       1              0        0           1                0   \n",
       "\n",
       "   OnlineSecurity  OnlineBackup  DeviceProtection  TechSupport  StreamingTV  \\\n",
       "0               0             1                 0            0            0   \n",
       "1               1             0                 1            0            0   \n",
       "2               1             1                 0            0            0   \n",
       "3               1             0                 1            1            0   \n",
       "4               0             0                 0            0            0   \n",
       "5               0             0                 1            0            1   \n",
       "6               0             1                 0            0            1   \n",
       "7               1             0                 0            0            0   \n",
       "8               0             0                 1            1            1   \n",
       "9               1             1                 0            0            0   \n",
       "\n",
       "   StreamingMovies  MultipleLines  Exited  days  \n",
       "0                0              0       0    31  \n",
       "1                0              0       0  1036  \n",
       "2                0              0       1    61  \n",
       "3                0              0       0  1371  \n",
       "4                0              0       1    61  \n",
       "5                1              1       1   245  \n",
       "6                0              1       0   671  \n",
       "7                0              0       0   306  \n",
       "8                1              1       1   853  \n",
       "9                0              0       0  1888  "
      ]
     },
     "execution_count": 29,
     "metadata": {},
     "output_type": "execute_result"
    }
   ],
   "source": [
    "categorials = list(data_ml.select_dtypes(include=['object']).columns)\n",
    "\n",
    "encoder = OrdinalEncoder() \n",
    "encoder.fit(data_ml[categorials]) \n",
    "\n",
    "data_ml[categorials] = encoder.transform(data_ml[categorials]).astype('int64')\n",
    "data_ml.head(10)"
   ]
  },
  {
   "cell_type": "markdown",
   "metadata": {},
   "source": [
    "### Проверка на мультиколинеарность"
   ]
  },
  {
   "cell_type": "markdown",
   "metadata": {},
   "source": [
    "Проверим корреляцию между признакми. Выделим признаки с корреляцией больше 0.8."
   ]
  },
  {
   "cell_type": "code",
   "execution_count": 30,
   "metadata": {},
   "outputs": [
    {
     "data": {
      "text/html": [
       "<style  type=\"text/css\" >\n",
       "    #T_d3bf74f8_df23_11eb_a905_02420a395671row4_col18 {\n",
       "            background-color :  yellow;\n",
       "        }    #T_d3bf74f8_df23_11eb_a905_02420a395671row18_col4 {\n",
       "            background-color :  yellow;\n",
       "        }</style><table id=\"T_d3bf74f8_df23_11eb_a905_02420a395671\" ><thead>    <tr>        <th class=\"blank level0\" ></th>        <th class=\"col_heading level0 col0\" >Type</th>        <th class=\"col_heading level0 col1\" >PaperlessBilling</th>        <th class=\"col_heading level0 col2\" >PaymentMethod</th>        <th class=\"col_heading level0 col3\" >MonthlyCharges</th>        <th class=\"col_heading level0 col4\" >TotalCharges</th>        <th class=\"col_heading level0 col5\" >gender</th>        <th class=\"col_heading level0 col6\" >SeniorCitizen</th>        <th class=\"col_heading level0 col7\" >Partner</th>        <th class=\"col_heading level0 col8\" >Dependents</th>        <th class=\"col_heading level0 col9\" >InternetService</th>        <th class=\"col_heading level0 col10\" >OnlineSecurity</th>        <th class=\"col_heading level0 col11\" >OnlineBackup</th>        <th class=\"col_heading level0 col12\" >DeviceProtection</th>        <th class=\"col_heading level0 col13\" >TechSupport</th>        <th class=\"col_heading level0 col14\" >StreamingTV</th>        <th class=\"col_heading level0 col15\" >StreamingMovies</th>        <th class=\"col_heading level0 col16\" >MultipleLines</th>        <th class=\"col_heading level0 col17\" >Exited</th>        <th class=\"col_heading level0 col18\" >days</th>    </tr></thead><tbody>\n",
       "                <tr>\n",
       "                        <th id=\"T_d3bf74f8_df23_11eb_a905_02420a395671level0_row0\" class=\"row_heading level0 row0\" >Type</th>\n",
       "                        <td id=\"T_d3bf74f8_df23_11eb_a905_02420a395671row0_col0\" class=\"data row0 col0\" >1</td>\n",
       "                        <td id=\"T_d3bf74f8_df23_11eb_a905_02420a395671row0_col1\" class=\"data row0 col1\" >-0.176733</td>\n",
       "                        <td id=\"T_d3bf74f8_df23_11eb_a905_02420a395671row0_col2\" class=\"data row0 col2\" >-0.227543</td>\n",
       "                        <td id=\"T_d3bf74f8_df23_11eb_a905_02420a395671row0_col3\" class=\"data row0 col3\" >-0.0741947</td>\n",
       "                        <td id=\"T_d3bf74f8_df23_11eb_a905_02420a395671row0_col4\" class=\"data row0 col4\" >0.446855</td>\n",
       "                        <td id=\"T_d3bf74f8_df23_11eb_a905_02420a395671row0_col5\" class=\"data row0 col5\" >0.000125748</td>\n",
       "                        <td id=\"T_d3bf74f8_df23_11eb_a905_02420a395671row0_col6\" class=\"data row0 col6\" >-0.142554</td>\n",
       "                        <td id=\"T_d3bf74f8_df23_11eb_a905_02420a395671row0_col7\" class=\"data row0 col7\" >0.294806</td>\n",
       "                        <td id=\"T_d3bf74f8_df23_11eb_a905_02420a395671row0_col8\" class=\"data row0 col8\" >0.243187</td>\n",
       "                        <td id=\"T_d3bf74f8_df23_11eb_a905_02420a395671row0_col9\" class=\"data row0 col9\" >0.0997208</td>\n",
       "                        <td id=\"T_d3bf74f8_df23_11eb_a905_02420a395671row0_col10\" class=\"data row0 col10\" >0.24553</td>\n",
       "                        <td id=\"T_d3bf74f8_df23_11eb_a905_02420a395671row0_col11\" class=\"data row0 col11\" >0.155085</td>\n",
       "                        <td id=\"T_d3bf74f8_df23_11eb_a905_02420a395671row0_col12\" class=\"data row0 col12\" >0.21931</td>\n",
       "                        <td id=\"T_d3bf74f8_df23_11eb_a905_02420a395671row0_col13\" class=\"data row0 col13\" >0.293691</td>\n",
       "                        <td id=\"T_d3bf74f8_df23_11eb_a905_02420a395671row0_col14\" class=\"data row0 col14\" >0.103944</td>\n",
       "                        <td id=\"T_d3bf74f8_df23_11eb_a905_02420a395671row0_col15\" class=\"data row0 col15\" >0.10752</td>\n",
       "                        <td id=\"T_d3bf74f8_df23_11eb_a905_02420a395671row0_col16\" class=\"data row0 col16\" >0.107114</td>\n",
       "                        <td id=\"T_d3bf74f8_df23_11eb_a905_02420a395671row0_col17\" class=\"data row0 col17\" >-0.396713</td>\n",
       "                        <td id=\"T_d3bf74f8_df23_11eb_a905_02420a395671row0_col18\" class=\"data row0 col18\" >0.671657</td>\n",
       "            </tr>\n",
       "            <tr>\n",
       "                        <th id=\"T_d3bf74f8_df23_11eb_a905_02420a395671level0_row1\" class=\"row_heading level0 row1\" >PaperlessBilling</th>\n",
       "                        <td id=\"T_d3bf74f8_df23_11eb_a905_02420a395671row1_col0\" class=\"data row1 col0\" >-0.176733</td>\n",
       "                        <td id=\"T_d3bf74f8_df23_11eb_a905_02420a395671row1_col1\" class=\"data row1 col1\" >1</td>\n",
       "                        <td id=\"T_d3bf74f8_df23_11eb_a905_02420a395671row1_col2\" class=\"data row1 col2\" >-0.062904</td>\n",
       "                        <td id=\"T_d3bf74f8_df23_11eb_a905_02420a395671row1_col3\" class=\"data row1 col3\" >0.35215</td>\n",
       "                        <td id=\"T_d3bf74f8_df23_11eb_a905_02420a395671row1_col4\" class=\"data row1 col4\" >0.158574</td>\n",
       "                        <td id=\"T_d3bf74f8_df23_11eb_a905_02420a395671row1_col5\" class=\"data row1 col5\" >-0.0117537</td>\n",
       "                        <td id=\"T_d3bf74f8_df23_11eb_a905_02420a395671row1_col6\" class=\"data row1 col6\" >0.15653</td>\n",
       "                        <td id=\"T_d3bf74f8_df23_11eb_a905_02420a395671row1_col7\" class=\"data row1 col7\" >-0.0148766</td>\n",
       "                        <td id=\"T_d3bf74f8_df23_11eb_a905_02420a395671row1_col8\" class=\"data row1 col8\" >-0.111377</td>\n",
       "                        <td id=\"T_d3bf74f8_df23_11eb_a905_02420a395671row1_col9\" class=\"data row1 col9\" >-0.138625</td>\n",
       "                        <td id=\"T_d3bf74f8_df23_11eb_a905_02420a395671row1_col10\" class=\"data row1 col10\" >-0.0036359</td>\n",
       "                        <td id=\"T_d3bf74f8_df23_11eb_a905_02420a395671row1_col11\" class=\"data row1 col11\" >0.126735</td>\n",
       "                        <td id=\"T_d3bf74f8_df23_11eb_a905_02420a395671row1_col12\" class=\"data row1 col12\" >0.103797</td>\n",
       "                        <td id=\"T_d3bf74f8_df23_11eb_a905_02420a395671row1_col13\" class=\"data row1 col13\" >0.0378799</td>\n",
       "                        <td id=\"T_d3bf74f8_df23_11eb_a905_02420a395671row1_col14\" class=\"data row1 col14\" >0.223841</td>\n",
       "                        <td id=\"T_d3bf74f8_df23_11eb_a905_02420a395671row1_col15\" class=\"data row1 col15\" >0.211716</td>\n",
       "                        <td id=\"T_d3bf74f8_df23_11eb_a905_02420a395671row1_col16\" class=\"data row1 col16\" >0.16353</td>\n",
       "                        <td id=\"T_d3bf74f8_df23_11eb_a905_02420a395671row1_col17\" class=\"data row1 col17\" >0.191825</td>\n",
       "                        <td id=\"T_d3bf74f8_df23_11eb_a905_02420a395671row1_col18\" class=\"data row1 col18\" >0.00605925</td>\n",
       "            </tr>\n",
       "            <tr>\n",
       "                        <th id=\"T_d3bf74f8_df23_11eb_a905_02420a395671level0_row2\" class=\"row_heading level0 row2\" >PaymentMethod</th>\n",
       "                        <td id=\"T_d3bf74f8_df23_11eb_a905_02420a395671row2_col0\" class=\"data row2 col0\" >-0.227543</td>\n",
       "                        <td id=\"T_d3bf74f8_df23_11eb_a905_02420a395671row2_col1\" class=\"data row2 col1\" >-0.062904</td>\n",
       "                        <td id=\"T_d3bf74f8_df23_11eb_a905_02420a395671row2_col2\" class=\"data row2 col2\" >1</td>\n",
       "                        <td id=\"T_d3bf74f8_df23_11eb_a905_02420a395671row2_col3\" class=\"data row2 col3\" >-0.193407</td>\n",
       "                        <td id=\"T_d3bf74f8_df23_11eb_a905_02420a395671row2_col4\" class=\"data row2 col4\" >-0.330918</td>\n",
       "                        <td id=\"T_d3bf74f8_df23_11eb_a905_02420a395671row2_col5\" class=\"data row2 col5\" >0.0173523</td>\n",
       "                        <td id=\"T_d3bf74f8_df23_11eb_a905_02420a395671row2_col6\" class=\"data row2 col6\" >-0.0385508</td>\n",
       "                        <td id=\"T_d3bf74f8_df23_11eb_a905_02420a395671row2_col7\" class=\"data row2 col7\" >-0.154798</td>\n",
       "                        <td id=\"T_d3bf74f8_df23_11eb_a905_02420a395671row2_col8\" class=\"data row2 col8\" >-0.0402919</td>\n",
       "                        <td id=\"T_d3bf74f8_df23_11eb_a905_02420a395671row2_col9\" class=\"data row2 col9\" >0.0861399</td>\n",
       "                        <td id=\"T_d3bf74f8_df23_11eb_a905_02420a395671row2_col10\" class=\"data row2 col10\" >-0.1501</td>\n",
       "                        <td id=\"T_d3bf74f8_df23_11eb_a905_02420a395671row2_col11\" class=\"data row2 col11\" >-0.170898</td>\n",
       "                        <td id=\"T_d3bf74f8_df23_11eb_a905_02420a395671row2_col12\" class=\"data row2 col12\" >-0.181085</td>\n",
       "                        <td id=\"T_d3bf74f8_df23_11eb_a905_02420a395671row2_col13\" class=\"data row2 col13\" >-0.157272</td>\n",
       "                        <td id=\"T_d3bf74f8_df23_11eb_a905_02420a395671row2_col14\" class=\"data row2 col14\" >-0.148865</td>\n",
       "                        <td id=\"T_d3bf74f8_df23_11eb_a905_02420a395671row2_col15\" class=\"data row2 col15\" >-0.154984</td>\n",
       "                        <td id=\"T_d3bf74f8_df23_11eb_a905_02420a395671row2_col16\" class=\"data row2 col16\" >-0.171026</td>\n",
       "                        <td id=\"T_d3bf74f8_df23_11eb_a905_02420a395671row2_col17\" class=\"data row2 col17\" >0.107062</td>\n",
       "                        <td id=\"T_d3bf74f8_df23_11eb_a905_02420a395671row2_col18\" class=\"data row2 col18\" >-0.370402</td>\n",
       "            </tr>\n",
       "            <tr>\n",
       "                        <th id=\"T_d3bf74f8_df23_11eb_a905_02420a395671level0_row3\" class=\"row_heading level0 row3\" >MonthlyCharges</th>\n",
       "                        <td id=\"T_d3bf74f8_df23_11eb_a905_02420a395671row3_col0\" class=\"data row3 col0\" >-0.0741947</td>\n",
       "                        <td id=\"T_d3bf74f8_df23_11eb_a905_02420a395671row3_col1\" class=\"data row3 col1\" >0.35215</td>\n",
       "                        <td id=\"T_d3bf74f8_df23_11eb_a905_02420a395671row3_col2\" class=\"data row3 col2\" >-0.193407</td>\n",
       "                        <td id=\"T_d3bf74f8_df23_11eb_a905_02420a395671row3_col3\" class=\"data row3 col3\" >1</td>\n",
       "                        <td id=\"T_d3bf74f8_df23_11eb_a905_02420a395671row3_col4\" class=\"data row3 col4\" >0.651174</td>\n",
       "                        <td id=\"T_d3bf74f8_df23_11eb_a905_02420a395671row3_col5\" class=\"data row3 col5\" >-0.0145693</td>\n",
       "                        <td id=\"T_d3bf74f8_df23_11eb_a905_02420a395671row3_col6\" class=\"data row3 col6\" >0.220173</td>\n",
       "                        <td id=\"T_d3bf74f8_df23_11eb_a905_02420a395671row3_col7\" class=\"data row3 col7\" >0.0968479</td>\n",
       "                        <td id=\"T_d3bf74f8_df23_11eb_a905_02420a395671row3_col8\" class=\"data row3 col8\" >-0.11389</td>\n",
       "                        <td id=\"T_d3bf74f8_df23_11eb_a905_02420a395671row3_col9\" class=\"data row3 col9\" >-0.32326</td>\n",
       "                        <td id=\"T_d3bf74f8_df23_11eb_a905_02420a395671row3_col10\" class=\"data row3 col10\" >0.296594</td>\n",
       "                        <td id=\"T_d3bf74f8_df23_11eb_a905_02420a395671row3_col11\" class=\"data row3 col11\" >0.44178</td>\n",
       "                        <td id=\"T_d3bf74f8_df23_11eb_a905_02420a395671row3_col12\" class=\"data row3 col12\" >0.482692</td>\n",
       "                        <td id=\"T_d3bf74f8_df23_11eb_a905_02420a395671row3_col13\" class=\"data row3 col13\" >0.338304</td>\n",
       "                        <td id=\"T_d3bf74f8_df23_11eb_a905_02420a395671row3_col14\" class=\"data row3 col14\" >0.629603</td>\n",
       "                        <td id=\"T_d3bf74f8_df23_11eb_a905_02420a395671row3_col15\" class=\"data row3 col15\" >0.627429</td>\n",
       "                        <td id=\"T_d3bf74f8_df23_11eb_a905_02420a395671row3_col16\" class=\"data row3 col16\" >0.490434</td>\n",
       "                        <td id=\"T_d3bf74f8_df23_11eb_a905_02420a395671row3_col17\" class=\"data row3 col17\" >0.193356</td>\n",
       "                        <td id=\"T_d3bf74f8_df23_11eb_a905_02420a395671row3_col18\" class=\"data row3 col18\" >0.247754</td>\n",
       "            </tr>\n",
       "            <tr>\n",
       "                        <th id=\"T_d3bf74f8_df23_11eb_a905_02420a395671level0_row4\" class=\"row_heading level0 row4\" >TotalCharges</th>\n",
       "                        <td id=\"T_d3bf74f8_df23_11eb_a905_02420a395671row4_col0\" class=\"data row4 col0\" >0.446855</td>\n",
       "                        <td id=\"T_d3bf74f8_df23_11eb_a905_02420a395671row4_col1\" class=\"data row4 col1\" >0.158574</td>\n",
       "                        <td id=\"T_d3bf74f8_df23_11eb_a905_02420a395671row4_col2\" class=\"data row4 col2\" >-0.330918</td>\n",
       "                        <td id=\"T_d3bf74f8_df23_11eb_a905_02420a395671row4_col3\" class=\"data row4 col3\" >0.651174</td>\n",
       "                        <td id=\"T_d3bf74f8_df23_11eb_a905_02420a395671row4_col4\" class=\"data row4 col4\" >1</td>\n",
       "                        <td id=\"T_d3bf74f8_df23_11eb_a905_02420a395671row4_col5\" class=\"data row4 col5\" >-8.03035e-05</td>\n",
       "                        <td id=\"T_d3bf74f8_df23_11eb_a905_02420a395671row4_col6\" class=\"data row4 col6\" >0.103006</td>\n",
       "                        <td id=\"T_d3bf74f8_df23_11eb_a905_02420a395671row4_col7\" class=\"data row4 col7\" >0.317504</td>\n",
       "                        <td id=\"T_d3bf74f8_df23_11eb_a905_02420a395671row4_col8\" class=\"data row4 col8\" >0.0620782</td>\n",
       "                        <td id=\"T_d3bf74f8_df23_11eb_a905_02420a395671row4_col9\" class=\"data row4 col9\" >-0.175755</td>\n",
       "                        <td id=\"T_d3bf74f8_df23_11eb_a905_02420a395671row4_col10\" class=\"data row4 col10\" >0.411651</td>\n",
       "                        <td id=\"T_d3bf74f8_df23_11eb_a905_02420a395671row4_col11\" class=\"data row4 col11\" >0.509226</td>\n",
       "                        <td id=\"T_d3bf74f8_df23_11eb_a905_02420a395671row4_col12\" class=\"data row4 col12\" >0.521983</td>\n",
       "                        <td id=\"T_d3bf74f8_df23_11eb_a905_02420a395671row4_col13\" class=\"data row4 col13\" >0.431883</td>\n",
       "                        <td id=\"T_d3bf74f8_df23_11eb_a905_02420a395671row4_col14\" class=\"data row4 col14\" >0.514973</td>\n",
       "                        <td id=\"T_d3bf74f8_df23_11eb_a905_02420a395671row4_col15\" class=\"data row4 col15\" >0.520122</td>\n",
       "                        <td id=\"T_d3bf74f8_df23_11eb_a905_02420a395671row4_col16\" class=\"data row4 col16\" >0.468504</td>\n",
       "                        <td id=\"T_d3bf74f8_df23_11eb_a905_02420a395671row4_col17\" class=\"data row4 col17\" >-0.198324</td>\n",
       "                        <td id=\"T_d3bf74f8_df23_11eb_a905_02420a395671row4_col18\" class=\"data row4 col18\" >0.826109</td>\n",
       "            </tr>\n",
       "            <tr>\n",
       "                        <th id=\"T_d3bf74f8_df23_11eb_a905_02420a395671level0_row5\" class=\"row_heading level0 row5\" >gender</th>\n",
       "                        <td id=\"T_d3bf74f8_df23_11eb_a905_02420a395671row5_col0\" class=\"data row5 col0\" >0.000125748</td>\n",
       "                        <td id=\"T_d3bf74f8_df23_11eb_a905_02420a395671row5_col1\" class=\"data row5 col1\" >-0.0117537</td>\n",
       "                        <td id=\"T_d3bf74f8_df23_11eb_a905_02420a395671row5_col2\" class=\"data row5 col2\" >0.0173523</td>\n",
       "                        <td id=\"T_d3bf74f8_df23_11eb_a905_02420a395671row5_col3\" class=\"data row5 col3\" >-0.0145693</td>\n",
       "                        <td id=\"T_d3bf74f8_df23_11eb_a905_02420a395671row5_col4\" class=\"data row5 col4\" >-8.03035e-05</td>\n",
       "                        <td id=\"T_d3bf74f8_df23_11eb_a905_02420a395671row5_col5\" class=\"data row5 col5\" >1</td>\n",
       "                        <td id=\"T_d3bf74f8_df23_11eb_a905_02420a395671row5_col6\" class=\"data row5 col6\" >-0.00187371</td>\n",
       "                        <td id=\"T_d3bf74f8_df23_11eb_a905_02420a395671row5_col7\" class=\"data row5 col7\" >-0.00180808</td>\n",
       "                        <td id=\"T_d3bf74f8_df23_11eb_a905_02420a395671row5_col8\" class=\"data row5 col8\" >0.0105166</td>\n",
       "                        <td id=\"T_d3bf74f8_df23_11eb_a905_02420a395671row5_col9\" class=\"data row5 col9\" >-0.000863382</td>\n",
       "                        <td id=\"T_d3bf74f8_df23_11eb_a905_02420a395671row5_col10\" class=\"data row5 col10\" >-0.0170208</td>\n",
       "                        <td id=\"T_d3bf74f8_df23_11eb_a905_02420a395671row5_col11\" class=\"data row5 col11\" >-0.0137732</td>\n",
       "                        <td id=\"T_d3bf74f8_df23_11eb_a905_02420a395671row5_col12\" class=\"data row5 col12\" >-0.00210458</td>\n",
       "                        <td id=\"T_d3bf74f8_df23_11eb_a905_02420a395671row5_col13\" class=\"data row5 col13\" >-0.00921176</td>\n",
       "                        <td id=\"T_d3bf74f8_df23_11eb_a905_02420a395671row5_col14\" class=\"data row5 col14\" >-0.00839255</td>\n",
       "                        <td id=\"T_d3bf74f8_df23_11eb_a905_02420a395671row5_col15\" class=\"data row5 col15\" >-0.0104874</td>\n",
       "                        <td id=\"T_d3bf74f8_df23_11eb_a905_02420a395671row5_col16\" class=\"data row5 col16\" >-0.00841366</td>\n",
       "                        <td id=\"T_d3bf74f8_df23_11eb_a905_02420a395671row5_col17\" class=\"data row5 col17\" >-0.0086121</td>\n",
       "                        <td id=\"T_d3bf74f8_df23_11eb_a905_02420a395671row5_col18\" class=\"data row5 col18\" >0.00511055</td>\n",
       "            </tr>\n",
       "            <tr>\n",
       "                        <th id=\"T_d3bf74f8_df23_11eb_a905_02420a395671level0_row6\" class=\"row_heading level0 row6\" >SeniorCitizen</th>\n",
       "                        <td id=\"T_d3bf74f8_df23_11eb_a905_02420a395671row6_col0\" class=\"data row6 col0\" >-0.142554</td>\n",
       "                        <td id=\"T_d3bf74f8_df23_11eb_a905_02420a395671row6_col1\" class=\"data row6 col1\" >0.15653</td>\n",
       "                        <td id=\"T_d3bf74f8_df23_11eb_a905_02420a395671row6_col2\" class=\"data row6 col2\" >-0.0385508</td>\n",
       "                        <td id=\"T_d3bf74f8_df23_11eb_a905_02420a395671row6_col3\" class=\"data row6 col3\" >0.220173</td>\n",
       "                        <td id=\"T_d3bf74f8_df23_11eb_a905_02420a395671row6_col4\" class=\"data row6 col4\" >0.103006</td>\n",
       "                        <td id=\"T_d3bf74f8_df23_11eb_a905_02420a395671row6_col5\" class=\"data row6 col5\" >-0.00187371</td>\n",
       "                        <td id=\"T_d3bf74f8_df23_11eb_a905_02420a395671row6_col6\" class=\"data row6 col6\" >1</td>\n",
       "                        <td id=\"T_d3bf74f8_df23_11eb_a905_02420a395671row6_col7\" class=\"data row6 col7\" >0.0164787</td>\n",
       "                        <td id=\"T_d3bf74f8_df23_11eb_a905_02420a395671row6_col8\" class=\"data row6 col8\" >-0.211185</td>\n",
       "                        <td id=\"T_d3bf74f8_df23_11eb_a905_02420a395671row6_col9\" class=\"data row6 col9\" >-0.0323102</td>\n",
       "                        <td id=\"T_d3bf74f8_df23_11eb_a905_02420a395671row6_col10\" class=\"data row6 col10\" >-0.0386527</td>\n",
       "                        <td id=\"T_d3bf74f8_df23_11eb_a905_02420a395671row6_col11\" class=\"data row6 col11\" >0.0665721</td>\n",
       "                        <td id=\"T_d3bf74f8_df23_11eb_a905_02420a395671row6_col12\" class=\"data row6 col12\" >0.0594285</td>\n",
       "                        <td id=\"T_d3bf74f8_df23_11eb_a905_02420a395671row6_col13\" class=\"data row6 col13\" >-0.0606246</td>\n",
       "                        <td id=\"T_d3bf74f8_df23_11eb_a905_02420a395671row6_col14\" class=\"data row6 col14\" >0.105378</td>\n",
       "                        <td id=\"T_d3bf74f8_df23_11eb_a905_02420a395671row6_col15\" class=\"data row6 col15\" >0.120176</td>\n",
       "                        <td id=\"T_d3bf74f8_df23_11eb_a905_02420a395671row6_col16\" class=\"data row6 col16\" >0.142948</td>\n",
       "                        <td id=\"T_d3bf74f8_df23_11eb_a905_02420a395671row6_col17\" class=\"data row6 col17\" >0.150889</td>\n",
       "                        <td id=\"T_d3bf74f8_df23_11eb_a905_02420a395671row6_col18\" class=\"data row6 col18\" >0.016514</td>\n",
       "            </tr>\n",
       "            <tr>\n",
       "                        <th id=\"T_d3bf74f8_df23_11eb_a905_02420a395671level0_row7\" class=\"row_heading level0 row7\" >Partner</th>\n",
       "                        <td id=\"T_d3bf74f8_df23_11eb_a905_02420a395671row7_col0\" class=\"data row7 col0\" >0.294806</td>\n",
       "                        <td id=\"T_d3bf74f8_df23_11eb_a905_02420a395671row7_col1\" class=\"data row7 col1\" >-0.0148766</td>\n",
       "                        <td id=\"T_d3bf74f8_df23_11eb_a905_02420a395671row7_col2\" class=\"data row7 col2\" >-0.154798</td>\n",
       "                        <td id=\"T_d3bf74f8_df23_11eb_a905_02420a395671row7_col3\" class=\"data row7 col3\" >0.0968479</td>\n",
       "                        <td id=\"T_d3bf74f8_df23_11eb_a905_02420a395671row7_col4\" class=\"data row7 col4\" >0.317504</td>\n",
       "                        <td id=\"T_d3bf74f8_df23_11eb_a905_02420a395671row7_col5\" class=\"data row7 col5\" >-0.00180808</td>\n",
       "                        <td id=\"T_d3bf74f8_df23_11eb_a905_02420a395671row7_col6\" class=\"data row7 col6\" >0.0164787</td>\n",
       "                        <td id=\"T_d3bf74f8_df23_11eb_a905_02420a395671row7_col7\" class=\"data row7 col7\" >1</td>\n",
       "                        <td id=\"T_d3bf74f8_df23_11eb_a905_02420a395671row7_col8\" class=\"data row7 col8\" >0.452676</td>\n",
       "                        <td id=\"T_d3bf74f8_df23_11eb_a905_02420a395671row7_col9\" class=\"data row7 col9\" >0.000891347</td>\n",
       "                        <td id=\"T_d3bf74f8_df23_11eb_a905_02420a395671row7_col10\" class=\"data row7 col10\" >0.143106</td>\n",
       "                        <td id=\"T_d3bf74f8_df23_11eb_a905_02420a395671row7_col11\" class=\"data row7 col11\" >0.141498</td>\n",
       "                        <td id=\"T_d3bf74f8_df23_11eb_a905_02420a395671row7_col12\" class=\"data row7 col12\" >0.153786</td>\n",
       "                        <td id=\"T_d3bf74f8_df23_11eb_a905_02420a395671row7_col13\" class=\"data row7 col13\" >0.119999</td>\n",
       "                        <td id=\"T_d3bf74f8_df23_11eb_a905_02420a395671row7_col14\" class=\"data row7 col14\" >0.124666</td>\n",
       "                        <td id=\"T_d3bf74f8_df23_11eb_a905_02420a395671row7_col15\" class=\"data row7 col15\" >0.117412</td>\n",
       "                        <td id=\"T_d3bf74f8_df23_11eb_a905_02420a395671row7_col16\" class=\"data row7 col16\" >0.142057</td>\n",
       "                        <td id=\"T_d3bf74f8_df23_11eb_a905_02420a395671row7_col17\" class=\"data row7 col17\" >-0.150448</td>\n",
       "                        <td id=\"T_d3bf74f8_df23_11eb_a905_02420a395671row7_col18\" class=\"data row7 col18\" >0.379709</td>\n",
       "            </tr>\n",
       "            <tr>\n",
       "                        <th id=\"T_d3bf74f8_df23_11eb_a905_02420a395671level0_row8\" class=\"row_heading level0 row8\" >Dependents</th>\n",
       "                        <td id=\"T_d3bf74f8_df23_11eb_a905_02420a395671row8_col0\" class=\"data row8 col0\" >0.243187</td>\n",
       "                        <td id=\"T_d3bf74f8_df23_11eb_a905_02420a395671row8_col1\" class=\"data row8 col1\" >-0.111377</td>\n",
       "                        <td id=\"T_d3bf74f8_df23_11eb_a905_02420a395671row8_col2\" class=\"data row8 col2\" >-0.0402919</td>\n",
       "                        <td id=\"T_d3bf74f8_df23_11eb_a905_02420a395671row8_col3\" class=\"data row8 col3\" >-0.11389</td>\n",
       "                        <td id=\"T_d3bf74f8_df23_11eb_a905_02420a395671row8_col4\" class=\"data row8 col4\" >0.0620782</td>\n",
       "                        <td id=\"T_d3bf74f8_df23_11eb_a905_02420a395671row8_col5\" class=\"data row8 col5\" >0.0105166</td>\n",
       "                        <td id=\"T_d3bf74f8_df23_11eb_a905_02420a395671row8_col6\" class=\"data row8 col6\" >-0.211185</td>\n",
       "                        <td id=\"T_d3bf74f8_df23_11eb_a905_02420a395671row8_col7\" class=\"data row8 col7\" >0.452676</td>\n",
       "                        <td id=\"T_d3bf74f8_df23_11eb_a905_02420a395671row8_col8\" class=\"data row8 col8\" >1</td>\n",
       "                        <td id=\"T_d3bf74f8_df23_11eb_a905_02420a395671row8_col9\" class=\"data row8 col9\" >0.0445904</td>\n",
       "                        <td id=\"T_d3bf74f8_df23_11eb_a905_02420a395671row8_col10\" class=\"data row8 col10\" >0.0809717</td>\n",
       "                        <td id=\"T_d3bf74f8_df23_11eb_a905_02420a395671row8_col11\" class=\"data row8 col11\" >0.023671</td>\n",
       "                        <td id=\"T_d3bf74f8_df23_11eb_a905_02420a395671row8_col12\" class=\"data row8 col12\" >0.0139625</td>\n",
       "                        <td id=\"T_d3bf74f8_df23_11eb_a905_02420a395671row8_col13\" class=\"data row8 col13\" >0.0632681</td>\n",
       "                        <td id=\"T_d3bf74f8_df23_11eb_a905_02420a395671row8_col14\" class=\"data row8 col14\" >-0.0165577</td>\n",
       "                        <td id=\"T_d3bf74f8_df23_11eb_a905_02420a395671row8_col15\" class=\"data row8 col15\" >-0.039741</td>\n",
       "                        <td id=\"T_d3bf74f8_df23_11eb_a905_02420a395671row8_col16\" class=\"data row8 col16\" >-0.0245258</td>\n",
       "                        <td id=\"T_d3bf74f8_df23_11eb_a905_02420a395671row8_col17\" class=\"data row8 col17\" >-0.164221</td>\n",
       "                        <td id=\"T_d3bf74f8_df23_11eb_a905_02420a395671row8_col18\" class=\"data row8 col18\" >0.159766</td>\n",
       "            </tr>\n",
       "            <tr>\n",
       "                        <th id=\"T_d3bf74f8_df23_11eb_a905_02420a395671level0_row9\" class=\"row_heading level0 row9\" >InternetService</th>\n",
       "                        <td id=\"T_d3bf74f8_df23_11eb_a905_02420a395671row9_col0\" class=\"data row9 col0\" >0.0997208</td>\n",
       "                        <td id=\"T_d3bf74f8_df23_11eb_a905_02420a395671row9_col1\" class=\"data row9 col1\" >-0.138625</td>\n",
       "                        <td id=\"T_d3bf74f8_df23_11eb_a905_02420a395671row9_col2\" class=\"data row9 col2\" >0.0861399</td>\n",
       "                        <td id=\"T_d3bf74f8_df23_11eb_a905_02420a395671row9_col3\" class=\"data row9 col3\" >-0.32326</td>\n",
       "                        <td id=\"T_d3bf74f8_df23_11eb_a905_02420a395671row9_col4\" class=\"data row9 col4\" >-0.175755</td>\n",
       "                        <td id=\"T_d3bf74f8_df23_11eb_a905_02420a395671row9_col5\" class=\"data row9 col5\" >-0.000863382</td>\n",
       "                        <td id=\"T_d3bf74f8_df23_11eb_a905_02420a395671row9_col6\" class=\"data row9 col6\" >-0.0323102</td>\n",
       "                        <td id=\"T_d3bf74f8_df23_11eb_a905_02420a395671row9_col7\" class=\"data row9 col7\" >0.000891347</td>\n",
       "                        <td id=\"T_d3bf74f8_df23_11eb_a905_02420a395671row9_col8\" class=\"data row9 col8\" >0.0445904</td>\n",
       "                        <td id=\"T_d3bf74f8_df23_11eb_a905_02420a395671row9_col9\" class=\"data row9 col9\" >1</td>\n",
       "                        <td id=\"T_d3bf74f8_df23_11eb_a905_02420a395671row9_col10\" class=\"data row9 col10\" >-0.393013</td>\n",
       "                        <td id=\"T_d3bf74f8_df23_11eb_a905_02420a395671row9_col11\" class=\"data row9 col11\" >-0.314737</td>\n",
       "                        <td id=\"T_d3bf74f8_df23_11eb_a905_02420a395671row9_col12\" class=\"data row9 col12\" >-0.306805</td>\n",
       "                        <td id=\"T_d3bf74f8_df23_11eb_a905_02420a395671row9_col13\" class=\"data row9 col13\" >-0.389382</td>\n",
       "                        <td id=\"T_d3bf74f8_df23_11eb_a905_02420a395671row9_col14\" class=\"data row9 col14\" >-0.242532</td>\n",
       "                        <td id=\"T_d3bf74f8_df23_11eb_a905_02420a395671row9_col15\" class=\"data row9 col15\" >-0.250343</td>\n",
       "                        <td id=\"T_d3bf74f8_df23_11eb_a905_02420a395671row9_col16\" class=\"data row9 col16\" >0.011124</td>\n",
       "                        <td id=\"T_d3bf74f8_df23_11eb_a905_02420a395671row9_col17\" class=\"data row9 col17\" >-0.0472914</td>\n",
       "                        <td id=\"T_d3bf74f8_df23_11eb_a905_02420a395671row9_col18\" class=\"data row9 col18\" >-0.0303337</td>\n",
       "            </tr>\n",
       "            <tr>\n",
       "                        <th id=\"T_d3bf74f8_df23_11eb_a905_02420a395671level0_row10\" class=\"row_heading level0 row10\" >OnlineSecurity</th>\n",
       "                        <td id=\"T_d3bf74f8_df23_11eb_a905_02420a395671row10_col0\" class=\"data row10 col0\" >0.24553</td>\n",
       "                        <td id=\"T_d3bf74f8_df23_11eb_a905_02420a395671row10_col1\" class=\"data row10 col1\" >-0.0036359</td>\n",
       "                        <td id=\"T_d3bf74f8_df23_11eb_a905_02420a395671row10_col2\" class=\"data row10 col2\" >-0.1501</td>\n",
       "                        <td id=\"T_d3bf74f8_df23_11eb_a905_02420a395671row10_col3\" class=\"data row10 col3\" >0.296594</td>\n",
       "                        <td id=\"T_d3bf74f8_df23_11eb_a905_02420a395671row10_col4\" class=\"data row10 col4\" >0.411651</td>\n",
       "                        <td id=\"T_d3bf74f8_df23_11eb_a905_02420a395671row10_col5\" class=\"data row10 col5\" >-0.0170208</td>\n",
       "                        <td id=\"T_d3bf74f8_df23_11eb_a905_02420a395671row10_col6\" class=\"data row10 col6\" >-0.0386527</td>\n",
       "                        <td id=\"T_d3bf74f8_df23_11eb_a905_02420a395671row10_col7\" class=\"data row10 col7\" >0.143106</td>\n",
       "                        <td id=\"T_d3bf74f8_df23_11eb_a905_02420a395671row10_col8\" class=\"data row10 col8\" >0.0809717</td>\n",
       "                        <td id=\"T_d3bf74f8_df23_11eb_a905_02420a395671row10_col9\" class=\"data row10 col9\" >-0.393013</td>\n",
       "                        <td id=\"T_d3bf74f8_df23_11eb_a905_02420a395671row10_col10\" class=\"data row10 col10\" >1</td>\n",
       "                        <td id=\"T_d3bf74f8_df23_11eb_a905_02420a395671row10_col11\" class=\"data row10 col11\" >0.283832</td>\n",
       "                        <td id=\"T_d3bf74f8_df23_11eb_a905_02420a395671row10_col12\" class=\"data row10 col12\" >0.275438</td>\n",
       "                        <td id=\"T_d3bf74f8_df23_11eb_a905_02420a395671row10_col13\" class=\"data row10 col13\" >0.354931</td>\n",
       "                        <td id=\"T_d3bf74f8_df23_11eb_a905_02420a395671row10_col14\" class=\"data row10 col14\" >0.176207</td>\n",
       "                        <td id=\"T_d3bf74f8_df23_11eb_a905_02420a395671row10_col15\" class=\"data row10 col15\" >0.187398</td>\n",
       "                        <td id=\"T_d3bf74f8_df23_11eb_a905_02420a395671row10_col16\" class=\"data row10 col16\" >0.0981081</td>\n",
       "                        <td id=\"T_d3bf74f8_df23_11eb_a905_02420a395671row10_col17\" class=\"data row10 col17\" >-0.171226</td>\n",
       "                        <td id=\"T_d3bf74f8_df23_11eb_a905_02420a395671row10_col18\" class=\"data row10 col18\" >0.327203</td>\n",
       "            </tr>\n",
       "            <tr>\n",
       "                        <th id=\"T_d3bf74f8_df23_11eb_a905_02420a395671level0_row11\" class=\"row_heading level0 row11\" >OnlineBackup</th>\n",
       "                        <td id=\"T_d3bf74f8_df23_11eb_a905_02420a395671row11_col0\" class=\"data row11 col0\" >0.155085</td>\n",
       "                        <td id=\"T_d3bf74f8_df23_11eb_a905_02420a395671row11_col1\" class=\"data row11 col1\" >0.126735</td>\n",
       "                        <td id=\"T_d3bf74f8_df23_11eb_a905_02420a395671row11_col2\" class=\"data row11 col2\" >-0.170898</td>\n",
       "                        <td id=\"T_d3bf74f8_df23_11eb_a905_02420a395671row11_col3\" class=\"data row11 col3\" >0.44178</td>\n",
       "                        <td id=\"T_d3bf74f8_df23_11eb_a905_02420a395671row11_col4\" class=\"data row11 col4\" >0.509226</td>\n",
       "                        <td id=\"T_d3bf74f8_df23_11eb_a905_02420a395671row11_col5\" class=\"data row11 col5\" >-0.0137732</td>\n",
       "                        <td id=\"T_d3bf74f8_df23_11eb_a905_02420a395671row11_col6\" class=\"data row11 col6\" >0.0665721</td>\n",
       "                        <td id=\"T_d3bf74f8_df23_11eb_a905_02420a395671row11_col7\" class=\"data row11 col7\" >0.141498</td>\n",
       "                        <td id=\"T_d3bf74f8_df23_11eb_a905_02420a395671row11_col8\" class=\"data row11 col8\" >0.023671</td>\n",
       "                        <td id=\"T_d3bf74f8_df23_11eb_a905_02420a395671row11_col9\" class=\"data row11 col9\" >-0.314737</td>\n",
       "                        <td id=\"T_d3bf74f8_df23_11eb_a905_02420a395671row11_col10\" class=\"data row11 col10\" >0.283832</td>\n",
       "                        <td id=\"T_d3bf74f8_df23_11eb_a905_02420a395671row11_col11\" class=\"data row11 col11\" >1</td>\n",
       "                        <td id=\"T_d3bf74f8_df23_11eb_a905_02420a395671row11_col12\" class=\"data row11 col12\" >0.303546</td>\n",
       "                        <td id=\"T_d3bf74f8_df23_11eb_a905_02420a395671row11_col13\" class=\"data row11 col13\" >0.294233</td>\n",
       "                        <td id=\"T_d3bf74f8_df23_11eb_a905_02420a395671row11_col14\" class=\"data row11 col14\" >0.282106</td>\n",
       "                        <td id=\"T_d3bf74f8_df23_11eb_a905_02420a395671row11_col15\" class=\"data row11 col15\" >0.274501</td>\n",
       "                        <td id=\"T_d3bf74f8_df23_11eb_a905_02420a395671row11_col16\" class=\"data row11 col16\" >0.202237</td>\n",
       "                        <td id=\"T_d3bf74f8_df23_11eb_a905_02420a395671row11_col17\" class=\"data row11 col17\" >-0.0822549</td>\n",
       "                        <td id=\"T_d3bf74f8_df23_11eb_a905_02420a395671row11_col18\" class=\"data row11 col18\" >0.360238</td>\n",
       "            </tr>\n",
       "            <tr>\n",
       "                        <th id=\"T_d3bf74f8_df23_11eb_a905_02420a395671level0_row12\" class=\"row_heading level0 row12\" >DeviceProtection</th>\n",
       "                        <td id=\"T_d3bf74f8_df23_11eb_a905_02420a395671row12_col0\" class=\"data row12 col0\" >0.21931</td>\n",
       "                        <td id=\"T_d3bf74f8_df23_11eb_a905_02420a395671row12_col1\" class=\"data row12 col1\" >0.103797</td>\n",
       "                        <td id=\"T_d3bf74f8_df23_11eb_a905_02420a395671row12_col2\" class=\"data row12 col2\" >-0.181085</td>\n",
       "                        <td id=\"T_d3bf74f8_df23_11eb_a905_02420a395671row12_col3\" class=\"data row12 col3\" >0.482692</td>\n",
       "                        <td id=\"T_d3bf74f8_df23_11eb_a905_02420a395671row12_col4\" class=\"data row12 col4\" >0.521983</td>\n",
       "                        <td id=\"T_d3bf74f8_df23_11eb_a905_02420a395671row12_col5\" class=\"data row12 col5\" >-0.00210458</td>\n",
       "                        <td id=\"T_d3bf74f8_df23_11eb_a905_02420a395671row12_col6\" class=\"data row12 col6\" >0.0594285</td>\n",
       "                        <td id=\"T_d3bf74f8_df23_11eb_a905_02420a395671row12_col7\" class=\"data row12 col7\" >0.153786</td>\n",
       "                        <td id=\"T_d3bf74f8_df23_11eb_a905_02420a395671row12_col8\" class=\"data row12 col8\" >0.0139625</td>\n",
       "                        <td id=\"T_d3bf74f8_df23_11eb_a905_02420a395671row12_col9\" class=\"data row12 col9\" >-0.306805</td>\n",
       "                        <td id=\"T_d3bf74f8_df23_11eb_a905_02420a395671row12_col10\" class=\"data row12 col10\" >0.275438</td>\n",
       "                        <td id=\"T_d3bf74f8_df23_11eb_a905_02420a395671row12_col11\" class=\"data row12 col11\" >0.303546</td>\n",
       "                        <td id=\"T_d3bf74f8_df23_11eb_a905_02420a395671row12_col12\" class=\"data row12 col12\" >1</td>\n",
       "                        <td id=\"T_d3bf74f8_df23_11eb_a905_02420a395671row12_col13\" class=\"data row12 col13\" >0.333313</td>\n",
       "                        <td id=\"T_d3bf74f8_df23_11eb_a905_02420a395671row12_col14\" class=\"data row12 col14\" >0.390874</td>\n",
       "                        <td id=\"T_d3bf74f8_df23_11eb_a905_02420a395671row12_col15\" class=\"data row12 col15\" >0.402111</td>\n",
       "                        <td id=\"T_d3bf74f8_df23_11eb_a905_02420a395671row12_col16\" class=\"data row12 col16\" >0.201137</td>\n",
       "                        <td id=\"T_d3bf74f8_df23_11eb_a905_02420a395671row12_col17\" class=\"data row12 col17\" >-0.0661598</td>\n",
       "                        <td id=\"T_d3bf74f8_df23_11eb_a905_02420a395671row12_col18\" class=\"data row12 col18\" >0.360602</td>\n",
       "            </tr>\n",
       "            <tr>\n",
       "                        <th id=\"T_d3bf74f8_df23_11eb_a905_02420a395671level0_row13\" class=\"row_heading level0 row13\" >TechSupport</th>\n",
       "                        <td id=\"T_d3bf74f8_df23_11eb_a905_02420a395671row13_col0\" class=\"data row13 col0\" >0.293691</td>\n",
       "                        <td id=\"T_d3bf74f8_df23_11eb_a905_02420a395671row13_col1\" class=\"data row13 col1\" >0.0378799</td>\n",
       "                        <td id=\"T_d3bf74f8_df23_11eb_a905_02420a395671row13_col2\" class=\"data row13 col2\" >-0.157272</td>\n",
       "                        <td id=\"T_d3bf74f8_df23_11eb_a905_02420a395671row13_col3\" class=\"data row13 col3\" >0.338304</td>\n",
       "                        <td id=\"T_d3bf74f8_df23_11eb_a905_02420a395671row13_col4\" class=\"data row13 col4\" >0.431883</td>\n",
       "                        <td id=\"T_d3bf74f8_df23_11eb_a905_02420a395671row13_col5\" class=\"data row13 col5\" >-0.00921176</td>\n",
       "                        <td id=\"T_d3bf74f8_df23_11eb_a905_02420a395671row13_col6\" class=\"data row13 col6\" >-0.0606246</td>\n",
       "                        <td id=\"T_d3bf74f8_df23_11eb_a905_02420a395671row13_col7\" class=\"data row13 col7\" >0.119999</td>\n",
       "                        <td id=\"T_d3bf74f8_df23_11eb_a905_02420a395671row13_col8\" class=\"data row13 col8\" >0.0632681</td>\n",
       "                        <td id=\"T_d3bf74f8_df23_11eb_a905_02420a395671row13_col9\" class=\"data row13 col9\" >-0.389382</td>\n",
       "                        <td id=\"T_d3bf74f8_df23_11eb_a905_02420a395671row13_col10\" class=\"data row13 col10\" >0.354931</td>\n",
       "                        <td id=\"T_d3bf74f8_df23_11eb_a905_02420a395671row13_col11\" class=\"data row13 col11\" >0.294233</td>\n",
       "                        <td id=\"T_d3bf74f8_df23_11eb_a905_02420a395671row13_col12\" class=\"data row13 col12\" >0.333313</td>\n",
       "                        <td id=\"T_d3bf74f8_df23_11eb_a905_02420a395671row13_col13\" class=\"data row13 col13\" >1</td>\n",
       "                        <td id=\"T_d3bf74f8_df23_11eb_a905_02420a395671row13_col14\" class=\"data row13 col14\" >0.27807</td>\n",
       "                        <td id=\"T_d3bf74f8_df23_11eb_a905_02420a395671row13_col15\" class=\"data row13 col15\" >0.279358</td>\n",
       "                        <td id=\"T_d3bf74f8_df23_11eb_a905_02420a395671row13_col16\" class=\"data row13 col16\" >0.100571</td>\n",
       "                        <td id=\"T_d3bf74f8_df23_11eb_a905_02420a395671row13_col17\" class=\"data row13 col17\" >-0.164674</td>\n",
       "                        <td id=\"T_d3bf74f8_df23_11eb_a905_02420a395671row13_col18\" class=\"data row13 col18\" >0.324238</td>\n",
       "            </tr>\n",
       "            <tr>\n",
       "                        <th id=\"T_d3bf74f8_df23_11eb_a905_02420a395671level0_row14\" class=\"row_heading level0 row14\" >StreamingTV</th>\n",
       "                        <td id=\"T_d3bf74f8_df23_11eb_a905_02420a395671row14_col0\" class=\"data row14 col0\" >0.103944</td>\n",
       "                        <td id=\"T_d3bf74f8_df23_11eb_a905_02420a395671row14_col1\" class=\"data row14 col1\" >0.223841</td>\n",
       "                        <td id=\"T_d3bf74f8_df23_11eb_a905_02420a395671row14_col2\" class=\"data row14 col2\" >-0.148865</td>\n",
       "                        <td id=\"T_d3bf74f8_df23_11eb_a905_02420a395671row14_col3\" class=\"data row14 col3\" >0.629603</td>\n",
       "                        <td id=\"T_d3bf74f8_df23_11eb_a905_02420a395671row14_col4\" class=\"data row14 col4\" >0.514973</td>\n",
       "                        <td id=\"T_d3bf74f8_df23_11eb_a905_02420a395671row14_col5\" class=\"data row14 col5\" >-0.00839255</td>\n",
       "                        <td id=\"T_d3bf74f8_df23_11eb_a905_02420a395671row14_col6\" class=\"data row14 col6\" >0.105378</td>\n",
       "                        <td id=\"T_d3bf74f8_df23_11eb_a905_02420a395671row14_col7\" class=\"data row14 col7\" >0.124666</td>\n",
       "                        <td id=\"T_d3bf74f8_df23_11eb_a905_02420a395671row14_col8\" class=\"data row14 col8\" >-0.0165577</td>\n",
       "                        <td id=\"T_d3bf74f8_df23_11eb_a905_02420a395671row14_col9\" class=\"data row14 col9\" >-0.242532</td>\n",
       "                        <td id=\"T_d3bf74f8_df23_11eb_a905_02420a395671row14_col10\" class=\"data row14 col10\" >0.176207</td>\n",
       "                        <td id=\"T_d3bf74f8_df23_11eb_a905_02420a395671row14_col11\" class=\"data row14 col11\" >0.282106</td>\n",
       "                        <td id=\"T_d3bf74f8_df23_11eb_a905_02420a395671row14_col12\" class=\"data row14 col12\" >0.390874</td>\n",
       "                        <td id=\"T_d3bf74f8_df23_11eb_a905_02420a395671row14_col13\" class=\"data row14 col13\" >0.27807</td>\n",
       "                        <td id=\"T_d3bf74f8_df23_11eb_a905_02420a395671row14_col14\" class=\"data row14 col14\" >1</td>\n",
       "                        <td id=\"T_d3bf74f8_df23_11eb_a905_02420a395671row14_col15\" class=\"data row14 col15\" >0.533094</td>\n",
       "                        <td id=\"T_d3bf74f8_df23_11eb_a905_02420a395671row14_col16\" class=\"data row14 col16\" >0.257152</td>\n",
       "                        <td id=\"T_d3bf74f8_df23_11eb_a905_02420a395671row14_col17\" class=\"data row14 col17\" >0.0632277</td>\n",
       "                        <td id=\"T_d3bf74f8_df23_11eb_a905_02420a395671row14_col18\" class=\"data row14 col18\" >0.279657</td>\n",
       "            </tr>\n",
       "            <tr>\n",
       "                        <th id=\"T_d3bf74f8_df23_11eb_a905_02420a395671level0_row15\" class=\"row_heading level0 row15\" >StreamingMovies</th>\n",
       "                        <td id=\"T_d3bf74f8_df23_11eb_a905_02420a395671row15_col0\" class=\"data row15 col0\" >0.10752</td>\n",
       "                        <td id=\"T_d3bf74f8_df23_11eb_a905_02420a395671row15_col1\" class=\"data row15 col1\" >0.211716</td>\n",
       "                        <td id=\"T_d3bf74f8_df23_11eb_a905_02420a395671row15_col2\" class=\"data row15 col2\" >-0.154984</td>\n",
       "                        <td id=\"T_d3bf74f8_df23_11eb_a905_02420a395671row15_col3\" class=\"data row15 col3\" >0.627429</td>\n",
       "                        <td id=\"T_d3bf74f8_df23_11eb_a905_02420a395671row15_col4\" class=\"data row15 col4\" >0.520122</td>\n",
       "                        <td id=\"T_d3bf74f8_df23_11eb_a905_02420a395671row15_col5\" class=\"data row15 col5\" >-0.0104874</td>\n",
       "                        <td id=\"T_d3bf74f8_df23_11eb_a905_02420a395671row15_col6\" class=\"data row15 col6\" >0.120176</td>\n",
       "                        <td id=\"T_d3bf74f8_df23_11eb_a905_02420a395671row15_col7\" class=\"data row15 col7\" >0.117412</td>\n",
       "                        <td id=\"T_d3bf74f8_df23_11eb_a905_02420a395671row15_col8\" class=\"data row15 col8\" >-0.039741</td>\n",
       "                        <td id=\"T_d3bf74f8_df23_11eb_a905_02420a395671row15_col9\" class=\"data row15 col9\" >-0.250343</td>\n",
       "                        <td id=\"T_d3bf74f8_df23_11eb_a905_02420a395671row15_col10\" class=\"data row15 col10\" >0.187398</td>\n",
       "                        <td id=\"T_d3bf74f8_df23_11eb_a905_02420a395671row15_col11\" class=\"data row15 col11\" >0.274501</td>\n",
       "                        <td id=\"T_d3bf74f8_df23_11eb_a905_02420a395671row15_col12\" class=\"data row15 col12\" >0.402111</td>\n",
       "                        <td id=\"T_d3bf74f8_df23_11eb_a905_02420a395671row15_col13\" class=\"data row15 col13\" >0.279358</td>\n",
       "                        <td id=\"T_d3bf74f8_df23_11eb_a905_02420a395671row15_col14\" class=\"data row15 col14\" >0.533094</td>\n",
       "                        <td id=\"T_d3bf74f8_df23_11eb_a905_02420a395671row15_col15\" class=\"data row15 col15\" >1</td>\n",
       "                        <td id=\"T_d3bf74f8_df23_11eb_a905_02420a395671row15_col16\" class=\"data row15 col16\" >0.258751</td>\n",
       "                        <td id=\"T_d3bf74f8_df23_11eb_a905_02420a395671row15_col17\" class=\"data row15 col17\" >0.0613815</td>\n",
       "                        <td id=\"T_d3bf74f8_df23_11eb_a905_02420a395671row15_col18\" class=\"data row15 col18\" >0.286007</td>\n",
       "            </tr>\n",
       "            <tr>\n",
       "                        <th id=\"T_d3bf74f8_df23_11eb_a905_02420a395671level0_row16\" class=\"row_heading level0 row16\" >MultipleLines</th>\n",
       "                        <td id=\"T_d3bf74f8_df23_11eb_a905_02420a395671row16_col0\" class=\"data row16 col0\" >0.107114</td>\n",
       "                        <td id=\"T_d3bf74f8_df23_11eb_a905_02420a395671row16_col1\" class=\"data row16 col1\" >0.16353</td>\n",
       "                        <td id=\"T_d3bf74f8_df23_11eb_a905_02420a395671row16_col2\" class=\"data row16 col2\" >-0.171026</td>\n",
       "                        <td id=\"T_d3bf74f8_df23_11eb_a905_02420a395671row16_col3\" class=\"data row16 col3\" >0.490434</td>\n",
       "                        <td id=\"T_d3bf74f8_df23_11eb_a905_02420a395671row16_col4\" class=\"data row16 col4\" >0.468504</td>\n",
       "                        <td id=\"T_d3bf74f8_df23_11eb_a905_02420a395671row16_col5\" class=\"data row16 col5\" >-0.00841366</td>\n",
       "                        <td id=\"T_d3bf74f8_df23_11eb_a905_02420a395671row16_col6\" class=\"data row16 col6\" >0.142948</td>\n",
       "                        <td id=\"T_d3bf74f8_df23_11eb_a905_02420a395671row16_col7\" class=\"data row16 col7\" >0.142057</td>\n",
       "                        <td id=\"T_d3bf74f8_df23_11eb_a905_02420a395671row16_col8\" class=\"data row16 col8\" >-0.0245258</td>\n",
       "                        <td id=\"T_d3bf74f8_df23_11eb_a905_02420a395671row16_col9\" class=\"data row16 col9\" >0.011124</td>\n",
       "                        <td id=\"T_d3bf74f8_df23_11eb_a905_02420a395671row16_col10\" class=\"data row16 col10\" >0.0981081</td>\n",
       "                        <td id=\"T_d3bf74f8_df23_11eb_a905_02420a395671row16_col11\" class=\"data row16 col11\" >0.202237</td>\n",
       "                        <td id=\"T_d3bf74f8_df23_11eb_a905_02420a395671row16_col12\" class=\"data row16 col12\" >0.201137</td>\n",
       "                        <td id=\"T_d3bf74f8_df23_11eb_a905_02420a395671row16_col13\" class=\"data row16 col13\" >0.100571</td>\n",
       "                        <td id=\"T_d3bf74f8_df23_11eb_a905_02420a395671row16_col14\" class=\"data row16 col14\" >0.257152</td>\n",
       "                        <td id=\"T_d3bf74f8_df23_11eb_a905_02420a395671row16_col15\" class=\"data row16 col15\" >0.258751</td>\n",
       "                        <td id=\"T_d3bf74f8_df23_11eb_a905_02420a395671row16_col16\" class=\"data row16 col16\" >1</td>\n",
       "                        <td id=\"T_d3bf74f8_df23_11eb_a905_02420a395671row16_col17\" class=\"data row16 col17\" >0.0401021</td>\n",
       "                        <td id=\"T_d3bf74f8_df23_11eb_a905_02420a395671row16_col18\" class=\"data row16 col18\" >0.331833</td>\n",
       "            </tr>\n",
       "            <tr>\n",
       "                        <th id=\"T_d3bf74f8_df23_11eb_a905_02420a395671level0_row17\" class=\"row_heading level0 row17\" >Exited</th>\n",
       "                        <td id=\"T_d3bf74f8_df23_11eb_a905_02420a395671row17_col0\" class=\"data row17 col0\" >-0.396713</td>\n",
       "                        <td id=\"T_d3bf74f8_df23_11eb_a905_02420a395671row17_col1\" class=\"data row17 col1\" >0.191825</td>\n",
       "                        <td id=\"T_d3bf74f8_df23_11eb_a905_02420a395671row17_col2\" class=\"data row17 col2\" >0.107062</td>\n",
       "                        <td id=\"T_d3bf74f8_df23_11eb_a905_02420a395671row17_col3\" class=\"data row17 col3\" >0.193356</td>\n",
       "                        <td id=\"T_d3bf74f8_df23_11eb_a905_02420a395671row17_col4\" class=\"data row17 col4\" >-0.198324</td>\n",
       "                        <td id=\"T_d3bf74f8_df23_11eb_a905_02420a395671row17_col5\" class=\"data row17 col5\" >-0.0086121</td>\n",
       "                        <td id=\"T_d3bf74f8_df23_11eb_a905_02420a395671row17_col6\" class=\"data row17 col6\" >0.150889</td>\n",
       "                        <td id=\"T_d3bf74f8_df23_11eb_a905_02420a395671row17_col7\" class=\"data row17 col7\" >-0.150448</td>\n",
       "                        <td id=\"T_d3bf74f8_df23_11eb_a905_02420a395671row17_col8\" class=\"data row17 col8\" >-0.164221</td>\n",
       "                        <td id=\"T_d3bf74f8_df23_11eb_a905_02420a395671row17_col9\" class=\"data row17 col9\" >-0.0472914</td>\n",
       "                        <td id=\"T_d3bf74f8_df23_11eb_a905_02420a395671row17_col10\" class=\"data row17 col10\" >-0.171226</td>\n",
       "                        <td id=\"T_d3bf74f8_df23_11eb_a905_02420a395671row17_col11\" class=\"data row17 col11\" >-0.0822549</td>\n",
       "                        <td id=\"T_d3bf74f8_df23_11eb_a905_02420a395671row17_col12\" class=\"data row17 col12\" >-0.0661598</td>\n",
       "                        <td id=\"T_d3bf74f8_df23_11eb_a905_02420a395671row17_col13\" class=\"data row17 col13\" >-0.164674</td>\n",
       "                        <td id=\"T_d3bf74f8_df23_11eb_a905_02420a395671row17_col14\" class=\"data row17 col14\" >0.0632277</td>\n",
       "                        <td id=\"T_d3bf74f8_df23_11eb_a905_02420a395671row17_col15\" class=\"data row17 col15\" >0.0613815</td>\n",
       "                        <td id=\"T_d3bf74f8_df23_11eb_a905_02420a395671row17_col16\" class=\"data row17 col16\" >0.0401021</td>\n",
       "                        <td id=\"T_d3bf74f8_df23_11eb_a905_02420a395671row17_col17\" class=\"data row17 col17\" >1</td>\n",
       "                        <td id=\"T_d3bf74f8_df23_11eb_a905_02420a395671row17_col18\" class=\"data row17 col18\" >-0.352673</td>\n",
       "            </tr>\n",
       "            <tr>\n",
       "                        <th id=\"T_d3bf74f8_df23_11eb_a905_02420a395671level0_row18\" class=\"row_heading level0 row18\" >days</th>\n",
       "                        <td id=\"T_d3bf74f8_df23_11eb_a905_02420a395671row18_col0\" class=\"data row18 col0\" >0.671657</td>\n",
       "                        <td id=\"T_d3bf74f8_df23_11eb_a905_02420a395671row18_col1\" class=\"data row18 col1\" >0.00605925</td>\n",
       "                        <td id=\"T_d3bf74f8_df23_11eb_a905_02420a395671row18_col2\" class=\"data row18 col2\" >-0.370402</td>\n",
       "                        <td id=\"T_d3bf74f8_df23_11eb_a905_02420a395671row18_col3\" class=\"data row18 col3\" >0.247754</td>\n",
       "                        <td id=\"T_d3bf74f8_df23_11eb_a905_02420a395671row18_col4\" class=\"data row18 col4\" >0.826109</td>\n",
       "                        <td id=\"T_d3bf74f8_df23_11eb_a905_02420a395671row18_col5\" class=\"data row18 col5\" >0.00511055</td>\n",
       "                        <td id=\"T_d3bf74f8_df23_11eb_a905_02420a395671row18_col6\" class=\"data row18 col6\" >0.016514</td>\n",
       "                        <td id=\"T_d3bf74f8_df23_11eb_a905_02420a395671row18_col7\" class=\"data row18 col7\" >0.379709</td>\n",
       "                        <td id=\"T_d3bf74f8_df23_11eb_a905_02420a395671row18_col8\" class=\"data row18 col8\" >0.159766</td>\n",
       "                        <td id=\"T_d3bf74f8_df23_11eb_a905_02420a395671row18_col9\" class=\"data row18 col9\" >-0.0303337</td>\n",
       "                        <td id=\"T_d3bf74f8_df23_11eb_a905_02420a395671row18_col10\" class=\"data row18 col10\" >0.327203</td>\n",
       "                        <td id=\"T_d3bf74f8_df23_11eb_a905_02420a395671row18_col11\" class=\"data row18 col11\" >0.360238</td>\n",
       "                        <td id=\"T_d3bf74f8_df23_11eb_a905_02420a395671row18_col12\" class=\"data row18 col12\" >0.360602</td>\n",
       "                        <td id=\"T_d3bf74f8_df23_11eb_a905_02420a395671row18_col13\" class=\"data row18 col13\" >0.324238</td>\n",
       "                        <td id=\"T_d3bf74f8_df23_11eb_a905_02420a395671row18_col14\" class=\"data row18 col14\" >0.279657</td>\n",
       "                        <td id=\"T_d3bf74f8_df23_11eb_a905_02420a395671row18_col15\" class=\"data row18 col15\" >0.286007</td>\n",
       "                        <td id=\"T_d3bf74f8_df23_11eb_a905_02420a395671row18_col16\" class=\"data row18 col16\" >0.331833</td>\n",
       "                        <td id=\"T_d3bf74f8_df23_11eb_a905_02420a395671row18_col17\" class=\"data row18 col17\" >-0.352673</td>\n",
       "                        <td id=\"T_d3bf74f8_df23_11eb_a905_02420a395671row18_col18\" class=\"data row18 col18\" >1</td>\n",
       "            </tr>\n",
       "    </tbody></table>"
      ],
      "text/plain": [
       "<pandas.io.formats.style.Styler at 0x7fafaa7a8210>"
      ]
     },
     "execution_count": 30,
     "metadata": {},
     "output_type": "execute_result"
    }
   ],
   "source": [
    "data_ml.corr().style.applymap(lambda x: 'background-color : yellow' if( x>0.8 and x < 1) or (x < -0.8) else '')"
   ]
  },
  {
   "cell_type": "markdown",
   "metadata": {},
   "source": [
    "Между собой коррелируют два признака: *TotalCharges* и *days*. Логично,чем больше клиент был лоялен, тем больше он заплатил за услуги связи/интернета. При обучении модели необходимо, чтобы не было признаков сильно коррелирущих между собой (может упасть качество модели), поэтому удалим один из признаков."
   ]
  },
  {
   "cell_type": "code",
   "execution_count": 31,
   "metadata": {},
   "outputs": [],
   "source": [
    "data_ml = data_ml.drop('TotalCharges', axis = 1)"
   ]
  },
  {
   "cell_type": "markdown",
   "metadata": {},
   "source": [
    "### Разделение выборок"
   ]
  },
  {
   "cell_type": "markdown",
   "metadata": {},
   "source": [
    "Разделим исходную выборку на обучающую и тестовую выборки в следующей пропорции:\n",
    "* Обучающая выборка - 75%;\n",
    "* Тестовая выборка - 25%."
   ]
  },
  {
   "cell_type": "markdown",
   "metadata": {},
   "source": [
    "Так как у нас присутствует дисбаланс классов, то будем использовать параметр `stratify`, который разделит выборки таким образом, чтобы в обучающей и тестовой выборках сохранялись соотношения классов."
   ]
  },
  {
   "cell_type": "code",
   "execution_count": 33,
   "metadata": {},
   "outputs": [],
   "source": [
    "train, test = train_test_split(data_ml, test_size = 0.25, stratify = data_ml['Exited'], random_state=12345)"
   ]
  },
  {
   "cell_type": "markdown",
   "metadata": {},
   "source": [
    "Проверим размерности выборок."
   ]
  },
  {
   "cell_type": "code",
   "execution_count": 34,
   "metadata": {},
   "outputs": [
    {
     "name": "stdout",
     "output_type": "stream",
     "text": [
      "Размерность train: 5282\n",
      "Размерность test: 1761\n"
     ]
    }
   ],
   "source": [
    "print('Размерность train:', len(train))\n",
    "print('Размерность test:', len(test))"
   ]
  },
  {
   "cell_type": "markdown",
   "metadata": {},
   "source": [
    "Разделим признаки и целевой признак."
   ]
  },
  {
   "cell_type": "code",
   "execution_count": 35,
   "metadata": {},
   "outputs": [],
   "source": [
    "X_train = train.drop('Exited', axis = 1)\n",
    "X_test  = test.drop('Exited', axis = 1)\n",
    "\n",
    "y_train = train['Exited']\n",
    "y_test  = test['Exited']"
   ]
  },
  {
   "cell_type": "markdown",
   "metadata": {},
   "source": [
    "### Стандартизация данных"
   ]
  },
  {
   "cell_type": "markdown",
   "metadata": {},
   "source": [
    "Приведем признаки к единому масштабу, для этого произведем стандартизацию данных с помощью `StandardScaler()`. Модель обучим только на тестовой выборке, чтобы уменьшить переобучение."
   ]
  },
  {
   "cell_type": "code",
   "execution_count": 36,
   "metadata": {},
   "outputs": [],
   "source": [
    "numeric = ['MonthlyCharges', 'days']\n",
    "scaler = StandardScaler()\n",
    "scaler.fit(X_train[numeric])\n",
    "\n",
    "X_train[numeric] = scaler.transform(X_train[numeric])\n",
    "X_test[numeric] = scaler.transform(X_test[numeric])"
   ]
  },
  {
   "cell_type": "markdown",
   "metadata": {},
   "source": [
    "### Обучение моделей"
   ]
  },
  {
   "cell_type": "markdown",
   "metadata": {},
   "source": [
    "Напишем функции для расчета основных метрик и добавления результатов в DataFrame."
   ]
  },
  {
   "cell_type": "code",
   "execution_count": 37,
   "metadata": {},
   "outputs": [],
   "source": [
    "def metrics(model, name, X, y, print_plot = 0):\n",
    "    print(name, ':')\n",
    "    print('Accuracy   = {:.2f}'.format(accuracy_score(y, model.predict(X))))\n",
    "    print('Recall     = {:.2f}'.format(recall_score(y, model.predict(X))))\n",
    "    print('Precission = {:.2f}'.format(precision_score(y, model.predict(X))))\n",
    "    print('F1         = {:.2f}'.format(f1_score(y, model.predict(X))))\n",
    "    probabilities_valid = model.predict_proba(X)\n",
    "    probabilities_one_valid = probabilities_valid[:, 1]\n",
    "    print('AUC-ROC    = {:.2f}'.format(roc_auc_score(y, probabilities_one_valid)))\n",
    "\n",
    "    print('Матрица ошибок:\\n', confusion_matrix(y, model.predict(X)))\n",
    "    if print_plot:\n",
    "        fpr, tpr, thresholds = roc_curve(y, probabilities_one_valid) # < напишите код здесь >\n",
    "        plt.figure()\n",
    "        plt.plot(fpr, tpr)\n",
    "        plt.plot([0, 1], [0, 1], linestyle='--')\n",
    "        plt.ylim([0.0, 1.0])\n",
    "        plt.xlim([0.0, 1.0])\n",
    "        plt.xlabel('False Positive Rate')\n",
    "        plt.ylabel('True Positive Rate')\n",
    "        plt.title('ROC-кривая')\n",
    "    print()"
   ]
  },
  {
   "cell_type": "code",
   "execution_count": 38,
   "metadata": {},
   "outputs": [],
   "source": [
    "def table(model, X, y, name):\n",
    "    accuracy   = accuracy_score(y, model.predict(X))\n",
    "    recall     = recall_score(y, model.predict(X))\n",
    "    precission = precision_score(y, model.predict(X))\n",
    "    f1         = f1_score(y, model.predict(X))\n",
    "    \n",
    "    probabilities_valid = model.predict_proba(X)\n",
    "    probabilities_one_valid = probabilities_valid[:, 1]\n",
    "    auc_roc    = roc_auc_score(y, probabilities_one_valid)\n",
    "    data = {name : [accuracy, recall, precission, f1, auc_roc]}\n",
    "    df = pd.DataFrame(data, index=['Accuracy', 'Recall', 'Precission', 'F1', 'AUC-ROC'])\n",
    "    return df.round(2)"
   ]
  },
  {
   "cell_type": "markdown",
   "metadata": {},
   "source": [
    "Обучим 6 моделей:\n",
    "* LogisticRegression;\n",
    "* DecisionTreeClassifier;\n",
    "* RandomForestClassifier;\n",
    "* LinearSVC;\n",
    "* CatBoostClassifier;\n",
    "* LGBMClassifier."
   ]
  },
  {
   "cell_type": "markdown",
   "metadata": {},
   "source": [
    "#### LogisticRegression"
   ]
  },
  {
   "cell_type": "code",
   "execution_count": 39,
   "metadata": {},
   "outputs": [
    {
     "name": "stdout",
     "output_type": "stream",
     "text": [
      "LogisticRegression :\n",
      "Accuracy   = 0.79\n",
      "Recall     = 0.55\n",
      "Precission = 0.62\n",
      "F1         = 0.58\n",
      "AUC-ROC    = 0.83\n",
      "Матрица ошибок:\n",
      " [[1138  156]\n",
      " [ 212  255]]\n",
      "\n",
      "CPU times: user 422 ms, sys: 372 ms, total: 794 ms\n",
      "Wall time: 724 ms\n"
     ]
    },
    {
     "data": {
      "image/png": "[encoded data removed]",
      "text/plain": [
       "<Figure size 432x288 with 1 Axes>"
      ]
     },
     "metadata": {
      "needs_background": "light"
     },
     "output_type": "display_data"
    }
   ],
   "source": [
    "%%time\n",
    "# Время обучения 600 мсек\n",
    "model_LG = LogisticRegression(random_state=12345, solver = 'liblinear')\n",
    "model_LG.fit(X_train, y_train)\n",
    "metrics(model_LG, 'LogisticRegression', X_test, y_test, print_plot= 1)\n",
    "\n",
    "df_result = table(model_LG, X_train, y_train, 'LogisticRegression')"
   ]
  },
  {
   "cell_type": "markdown",
   "metadata": {},
   "source": [
    "#### DecisionTreeClassifier"
   ]
  },
  {
   "cell_type": "code",
   "execution_count": 40,
   "metadata": {},
   "outputs": [
    {
     "name": "stdout",
     "output_type": "stream",
     "text": [
      "DecisionTreeClassifier :\n",
      "Accuracy   = 0.77\n",
      "Recall     = 0.57\n",
      "Precission = 0.57\n",
      "F1         = 0.57\n",
      "AUC-ROC    = 0.71\n",
      "Матрица ошибок:\n",
      " [[1094  200]\n",
      " [ 201  266]]\n",
      "\n",
      "CPU times: user 80.4 ms, sys: 12.1 ms, total: 92.5 ms\n",
      "Wall time: 89.2 ms\n"
     ]
    },
    {
     "data": {
      "image/png": "[encoded data removed]",
      "text/plain": [
       "<Figure size 432x288 with 1 Axes>"
      ]
     },
     "metadata": {
      "needs_background": "light"
     },
     "output_type": "display_data"
    }
   ],
   "source": [
    "%%time\n",
    "# Время обучения 80 мсек\n",
    "model_DTC = DecisionTreeClassifier(random_state=12345)\n",
    "model_DTC.fit(X_train, y_train)\n",
    "metrics(model_DTC, 'DecisionTreeClassifier', X_test, y_test, print_plot= 1)\n",
    "\n",
    "df_result = pd.concat([df_result,table(model_DTC, X_test, y_test, 'DecisionTreeClassifier')], join='inner', axis=1)"
   ]
  },
  {
   "cell_type": "markdown",
   "metadata": {},
   "source": [
    "#### RandomForestClassifier"
   ]
  },
  {
   "cell_type": "code",
   "execution_count": 41,
   "metadata": {},
   "outputs": [
    {
     "name": "stdout",
     "output_type": "stream",
     "text": [
      "RandomForestClassifier :\n",
      "Accuracy   = 0.80\n",
      "Recall     = 0.49\n",
      "Precission = 0.67\n",
      "F1         = 0.57\n",
      "AUC-ROC    = 0.84\n",
      "Матрица ошибок:\n",
      " [[1180  114]\n",
      " [ 236  231]]\n",
      "\n",
      "CPU times: user 1.26 s, sys: 18.4 ms, total: 1.28 s\n",
      "Wall time: 1.29 s\n"
     ]
    },
    {
     "data": {
      "image/png": "[encoded data removed]",
      "text/plain": [
       "<Figure size 432x288 with 1 Axes>"
      ]
     },
     "metadata": {
      "needs_background": "light"
     },
     "output_type": "display_data"
    }
   ],
   "source": [
    "%%time\n",
    "# Время обучения 1 сек\n",
    "model_RFC = RandomForestClassifier(random_state=12345, n_estimators=100)\n",
    "model_RFC.fit(X_train, y_train)\n",
    "metrics(model_RFC, 'RandomForestClassifier', X_test, y_test, print_plot= 1)\n",
    "\n",
    "df_result = pd.concat([df_result,table(model_RFC, X_test, y_test, 'RandomForestClassifier')], join='inner', axis=1)"
   ]
  },
  {
   "cell_type": "markdown",
   "metadata": {},
   "source": [
    "#### LinearSVC"
   ]
  },
  {
   "cell_type": "code",
   "execution_count": 42,
   "metadata": {},
   "outputs": [
    {
     "name": "stdout",
     "output_type": "stream",
     "text": [
      "LinearSVC :\n",
      "Accuracy   = 0.79\n",
      "Recall     = 0.53\n",
      "Precission = 0.63\n",
      "F1         = 0.58\n",
      "AUC-ROC    = 0.83\n",
      "Матрица ошибок:\n",
      " [[1146  148]\n",
      " [ 218  249]]\n",
      "\n",
      "CPU times: user 1.2 s, sys: 579 ms, total: 1.78 s\n",
      "Wall time: 1.77 s\n"
     ]
    },
    {
     "data": {
      "image/png": "[encoded data removed]",
      "text/plain": [
       "<Figure size 432x288 with 1 Axes>"
      ]
     },
     "metadata": {
      "needs_background": "light"
     },
     "output_type": "display_data"
    }
   ],
   "source": [
    "%%time\n",
    "# Время обучения 1.4 сек\n",
    "svc = LinearSVC(random_state=12345)\n",
    "model_SVC = CalibratedClassifierCV(svc, cv=3)\n",
    "model_SVC.fit(X_train, y_train)\n",
    "metrics(model_SVC, 'LinearSVC', X_test, y_test, print_plot= 1)\n",
    "\n",
    "df_result = pd.concat([df_result,table(model_SVC, X_test, y_test, 'LinearSVC')], join='inner', axis=1)"
   ]
  },
  {
   "cell_type": "markdown",
   "metadata": {},
   "source": [
    "#### CatBoostClassifier"
   ]
  },
  {
   "cell_type": "code",
   "execution_count": 43,
   "metadata": {},
   "outputs": [
    {
     "name": "stdout",
     "output_type": "stream",
     "text": [
      "CatBoostClassifier :\n",
      "Accuracy   = 0.87\n",
      "Recall     = 0.63\n",
      "Precission = 0.84\n",
      "F1         = 0.72\n",
      "AUC-ROC    = 0.91\n",
      "Матрица ошибок:\n",
      " [[1238   56]\n",
      " [ 171  296]]\n",
      "\n",
      "CPU times: user 23.5 s, sys: 3.54 s, total: 27 s\n",
      "Wall time: 28.9 s\n"
     ]
    },
    {
     "data": {
      "image/png": "[encoded data removed]",
      "text/plain": [
       "<Figure size 432x288 with 1 Axes>"
      ]
     },
     "metadata": {
      "needs_background": "light"
     },
     "output_type": "display_data"
    }
   ],
   "source": [
    "%%time\n",
    "# Время обучения 42 сек\n",
    "model_CBR = CatBoostClassifier(random_state=12345, verbose=False)\n",
    "model_CBR.fit(X_train, y_train)\n",
    "metrics(model_CBR, 'CatBoostClassifier', X_test, y_test, print_plot= 1)\n",
    "\n",
    "df_result = pd.concat([df_result,table(model_CBR, X_test, y_test, 'CatBoostClassifier')], join='inner', axis=1)"
   ]
  },
  {
   "cell_type": "markdown",
   "metadata": {},
   "source": [
    "#### LGBMClassifier"
   ]
  },
  {
   "cell_type": "code",
   "execution_count": 44,
   "metadata": {},
   "outputs": [
    {
     "name": "stdout",
     "output_type": "stream",
     "text": [
      "LGBMClassifier :\n",
      "Accuracy   = 0.84\n",
      "Recall     = 0.60\n",
      "Precission = 0.75\n",
      "F1         = 0.67\n",
      "AUC-ROC    = 0.89\n",
      "Матрица ошибок:\n",
      " [[1199   95]\n",
      " [ 185  282]]\n",
      "\n",
      "CPU times: user 2.18 s, sys: 7.18 ms, total: 2.18 s\n",
      "Wall time: 2.15 s\n"
     ]
    },
    {
     "data": {
      "image/png": "[encoded data removed]",
      "text/plain": [
       "<Figure size 432x288 with 1 Axes>"
      ]
     },
     "metadata": {
      "needs_background": "light"
     },
     "output_type": "display_data"
    }
   ],
   "source": [
    "%%time\n",
    "# Время обучения 3 сек\n",
    "model_LGBMC = LGBMClassifier(random_state=12345)\n",
    "model_LGBMC.fit(X_train, y_train)\n",
    "metrics(model_LGBMC, 'LGBMClassifier', X_test, y_test, print_plot= 1)\n",
    "\n",
    "df_result = pd.concat([df_result,table(model_LGBMC, X_test, y_test, 'LGBMClassifier')], join='inner', axis=1)"
   ]
  },
  {
   "cell_type": "markdown",
   "metadata": {},
   "source": [
    "### Подбор гиперпараметров"
   ]
  },
  {
   "cell_type": "code",
   "execution_count": 41,
   "metadata": {},
   "outputs": [
    {
     "data": {
      "text/html": [
       "<div>\n",
       "<style scoped>\n",
       "    .dataframe tbody tr th:only-of-type {\n",
       "        vertical-align: middle;\n",
       "    }\n",
       "\n",
       "    .dataframe tbody tr th {\n",
       "        vertical-align: top;\n",
       "    }\n",
       "\n",
       "    .dataframe thead th {\n",
       "        text-align: right;\n",
       "    }\n",
       "</style>\n",
       "<table border=\"1\" class=\"dataframe\">\n",
       "  <thead>\n",
       "    <tr style=\"text-align: right;\">\n",
       "      <th></th>\n",
       "      <th>LogisticRegression</th>\n",
       "      <th>DecisionTreeClassifier</th>\n",
       "      <th>RandomForestClassifier</th>\n",
       "      <th>LinearSVC</th>\n",
       "      <th>CatBoostClassifier</th>\n",
       "      <th>LGBMClassifier</th>\n",
       "    </tr>\n",
       "  </thead>\n",
       "  <tbody>\n",
       "    <tr>\n",
       "      <td>Accuracy</td>\n",
       "      <td>0.80</td>\n",
       "      <td>0.77</td>\n",
       "      <td>0.80</td>\n",
       "      <td>0.79</td>\n",
       "      <td>0.87</td>\n",
       "      <td>0.84</td>\n",
       "    </tr>\n",
       "    <tr>\n",
       "      <td>Recall</td>\n",
       "      <td>0.53</td>\n",
       "      <td>0.57</td>\n",
       "      <td>0.49</td>\n",
       "      <td>0.53</td>\n",
       "      <td>0.63</td>\n",
       "      <td>0.60</td>\n",
       "    </tr>\n",
       "    <tr>\n",
       "      <td>Precission</td>\n",
       "      <td>0.66</td>\n",
       "      <td>0.57</td>\n",
       "      <td>0.67</td>\n",
       "      <td>0.63</td>\n",
       "      <td>0.84</td>\n",
       "      <td>0.75</td>\n",
       "    </tr>\n",
       "    <tr>\n",
       "      <td>F1</td>\n",
       "      <td>0.59</td>\n",
       "      <td>0.57</td>\n",
       "      <td>0.57</td>\n",
       "      <td>0.58</td>\n",
       "      <td>0.72</td>\n",
       "      <td>0.67</td>\n",
       "    </tr>\n",
       "    <tr>\n",
       "      <td>AUC-ROC</td>\n",
       "      <td>0.84</td>\n",
       "      <td>0.71</td>\n",
       "      <td>0.84</td>\n",
       "      <td>0.83</td>\n",
       "      <td>0.91</td>\n",
       "      <td>0.89</td>\n",
       "    </tr>\n",
       "  </tbody>\n",
       "</table>\n",
       "</div>"
      ],
      "text/plain": [
       "            LogisticRegression  DecisionTreeClassifier  \\\n",
       "Accuracy                  0.80                    0.77   \n",
       "Recall                    0.53                    0.57   \n",
       "Precission                0.66                    0.57   \n",
       "F1                        0.59                    0.57   \n",
       "AUC-ROC                   0.84                    0.71   \n",
       "\n",
       "            RandomForestClassifier  LinearSVC  CatBoostClassifier  \\\n",
       "Accuracy                      0.80       0.79                0.87   \n",
       "Recall                        0.49       0.53                0.63   \n",
       "Precission                    0.67       0.63                0.84   \n",
       "F1                            0.57       0.58                0.72   \n",
       "AUC-ROC                       0.84       0.83                0.91   \n",
       "\n",
       "            LGBMClassifier  \n",
       "Accuracy              0.84  \n",
       "Recall                0.60  \n",
       "Precission            0.75  \n",
       "F1                    0.67  \n",
       "AUC-ROC               0.89  "
      ]
     },
     "execution_count": 41,
     "metadata": {},
     "output_type": "execute_result"
    }
   ],
   "source": [
    "df_result"
   ]
  },
  {
   "cell_type": "markdown",
   "metadata": {},
   "source": [
    "Лучшей моделью оказалась **CatBoostClassifier** со значением **AUC-ROCK = 0.91**. Попробуем еще улучшить метрику с помощью подбора гиперпараметров."
   ]
  },
  {
   "cell_type": "code",
   "execution_count": 42,
   "metadata": {},
   "outputs": [
    {
     "name": "stdout",
     "output_type": "stream",
     "text": [
      "{'depth': 5, 'iterations': 900}\n",
      "CPU times: user 17min 12s, sys: 2min 14s, total: 19min 26s\n",
      "Wall time: 21min 25s\n"
     ]
    }
   ],
   "source": [
    "%%time\n",
    "# Время обучения 20 мин\n",
    "roc_auc_scorer = make_scorer(roc_auc_score, greater_is_better=True,\n",
    "                             needs_threshold=True)\n",
    "model_CBR = CatBoostClassifier(random_state=12345, verbose=False)\n",
    "params = {'depth':range(1, 11, 2),\n",
    "          'iterations':range(100, 1300, 200),\n",
    "         }\n",
    "grid = GridSearchCV(model_CBR, params, cv=3, scoring=roc_auc_scorer)\n",
    "grid.fit(X_train, y_train)\n",
    "print(grid.best_params_)"
   ]
  },
  {
   "cell_type": "markdown",
   "metadata": {},
   "source": [
    "Лучшая модель получилась со следующими гиперпараметрами:\n",
    " * depth = 5;\n",
    " * iterations = 900."
   ]
  },
  {
   "cell_type": "markdown",
   "metadata": {},
   "source": [
    "Проверим метрики на тестовой выборке."
   ]
  },
  {
   "cell_type": "code",
   "execution_count": 43,
   "metadata": {},
   "outputs": [
    {
     "name": "stdout",
     "output_type": "stream",
     "text": [
      "CatBoostClassifier :\n",
      "Accuracy   = 0.87\n",
      "Recall     = 0.63\n",
      "Precission = 0.84\n",
      "F1         = 0.72\n",
      "AUC-ROC    = 0.91\n",
      "Матрица ошибок:\n",
      " [[1239   55]\n",
      " [ 174  293]]\n",
      "\n",
      "CPU times: user 16.8 s, sys: 1.9 s, total: 18.7 s\n",
      "Wall time: 19.9 s\n"
     ]
    },
    {
     "data": {
      "image/png": "[encoded data removed]",
      "text/plain": [
       "<Figure size 432x288 with 1 Axes>"
      ]
     },
     "metadata": {
      "needs_background": "light"
     },
     "output_type": "display_data"
    }
   ],
   "source": [
    "%%time\n",
    "# Время обучения 20 сек\n",
    "model = CatBoostClassifier(**grid.best_params_, random_state=12345, verbose=False)\n",
    "model.fit(X_train, y_train)\n",
    "metrics(model, 'CatBoostClassifier', X_test, y_test, print_plot= 1)"
   ]
  },
  {
   "cell_type": "markdown",
   "metadata": {},
   "source": [
    "Значение метрики с помощью подбора гиперпараметров улучшить не удалось."
   ]
  },
  {
   "cell_type": "markdown",
   "metadata": {},
   "source": [
    "### Значимость признаков"
   ]
  },
  {
   "cell_type": "markdown",
   "metadata": {},
   "source": [
    "Посомтрим какие признаки наиболее важны для модели."
   ]
  },
  {
   "cell_type": "code",
   "execution_count": 44,
   "metadata": {},
   "outputs": [
    {
     "data": {
      "image/png": "[encoded data removed]",
      "text/plain": [
       "<Figure size 864x432 with 1 Axes>"
      ]
     },
     "metadata": {
      "needs_background": "light"
     },
     "output_type": "display_data"
    }
   ],
   "source": [
    "df_feature_importances = pd.DataFrame(model.feature_importances_, model.feature_names_).rename(columns={0:\"coeff\"}).sort_values(by=\"coeff\", ascending = False)\n",
    "df_feature_importances.plot.barh(alpha = .5, figsize = (12,6), grid = True)\n",
    "plt.title('Важность признаков при обучении')\n",
    "plt.ylabel('Признаки')\n",
    "plt.gca().invert_yaxis()\n",
    "plt.show()"
   ]
  },
  {
   "cell_type": "markdown",
   "metadata": {},
   "source": [
    "Основной вклад вносит признак *days*, затем идет группа менее важных признаков: *MonthlyCharges*, *Type*, *InternetService*, *PaymentMethod*.    \n",
    "\n",
    "Остальные признаки оказывают маленькое влияние на качетство модели."
   ]
  },
  {
   "cell_type": "markdown",
   "metadata": {},
   "source": [
    "Проверим, как меняются основные метрики модели при добавлении в нее новых признаков. Добавлять будем по одному новому признаку (от важного к менее важным) и обучать модель."
   ]
  },
  {
   "cell_type": "code",
   "execution_count": 45,
   "metadata": {},
   "outputs": [
    {
     "name": "stdout",
     "output_type": "stream",
     "text": [
      "CPU times: user 4min 45s, sys: 31.9 s, total: 5min 17s\n",
      "Wall time: 5min 40s\n"
     ]
    }
   ],
   "source": [
    "%%time\n",
    "# Время выполнения 5 мин\n",
    "features = []\n",
    "df_feature_result = pd.DataFrame()\n",
    "for feature in list(df_feature_importances.index):\n",
    "    features.append(feature)\n",
    "    model = CatBoostClassifier(**grid.best_params_, random_state=12345, verbose=False)\n",
    "    model.fit(X_train[features], y_train)\n",
    "\n",
    "    probabilities_valid = model.predict_proba(X_test[features])\n",
    "    probabilities_one_valid = probabilities_valid[:, 1]\n",
    "    roc_auc   = roc_auc_score(y_test, probabilities_one_valid)\n",
    "    accuracy  = accuracy_score(y_test, model.predict(X_test[features]))\n",
    "    recall    = recall_score(y_test, model.predict(X_test[features]))\n",
    "    precision = precision_score(y_test, model.predict(X_test[features]))\n",
    "    f1        = f1_score(y_test, model.predict(X_test[features]))\n",
    "    df_feature_result = df_feature_result.append(pd.DataFrame([[len(features), roc_auc, accuracy, recall, precision, f1]]\n",
    "                                               , columns = ['n_features', 'AUC-ROC', 'Accuracy', 'Recall', 'Precission', 'F1']))"
   ]
  },
  {
   "cell_type": "code",
   "execution_count": 46,
   "metadata": {},
   "outputs": [
    {
     "data": {
      "text/html": [
       "<div>\n",
       "<style scoped>\n",
       "    .dataframe tbody tr th:only-of-type {\n",
       "        vertical-align: middle;\n",
       "    }\n",
       "\n",
       "    .dataframe tbody tr th {\n",
       "        vertical-align: top;\n",
       "    }\n",
       "\n",
       "    .dataframe thead th {\n",
       "        text-align: right;\n",
       "    }\n",
       "</style>\n",
       "<table border=\"1\" class=\"dataframe\">\n",
       "  <thead>\n",
       "    <tr style=\"text-align: right;\">\n",
       "      <th></th>\n",
       "      <th>n_features</th>\n",
       "      <th>AUC-ROC</th>\n",
       "      <th>Accuracy</th>\n",
       "      <th>Recall</th>\n",
       "      <th>Precission</th>\n",
       "      <th>F1</th>\n",
       "    </tr>\n",
       "  </thead>\n",
       "  <tbody>\n",
       "    <tr>\n",
       "      <td>0</td>\n",
       "      <td>1</td>\n",
       "      <td>0.913781</td>\n",
       "      <td>0.869392</td>\n",
       "      <td>0.507495</td>\n",
       "      <td>1.000000</td>\n",
       "      <td>0.673295</td>\n",
       "    </tr>\n",
       "    <tr>\n",
       "      <td>1</td>\n",
       "      <td>2</td>\n",
       "      <td>0.905580</td>\n",
       "      <td>0.865985</td>\n",
       "      <td>0.591006</td>\n",
       "      <td>0.859813</td>\n",
       "      <td>0.700508</td>\n",
       "    </tr>\n",
       "    <tr>\n",
       "      <td>2</td>\n",
       "      <td>3</td>\n",
       "      <td>0.914974</td>\n",
       "      <td>0.867121</td>\n",
       "      <td>0.605996</td>\n",
       "      <td>0.849850</td>\n",
       "      <td>0.707500</td>\n",
       "    </tr>\n",
       "    <tr>\n",
       "      <td>3</td>\n",
       "      <td>4</td>\n",
       "      <td>0.917992</td>\n",
       "      <td>0.867121</td>\n",
       "      <td>0.608137</td>\n",
       "      <td>0.847761</td>\n",
       "      <td>0.708229</td>\n",
       "    </tr>\n",
       "    <tr>\n",
       "      <td>4</td>\n",
       "      <td>5</td>\n",
       "      <td>0.916257</td>\n",
       "      <td>0.873935</td>\n",
       "      <td>0.631692</td>\n",
       "      <td>0.855072</td>\n",
       "      <td>0.726601</td>\n",
       "    </tr>\n",
       "    <tr>\n",
       "      <td>5</td>\n",
       "      <td>6</td>\n",
       "      <td>0.916358</td>\n",
       "      <td>0.868257</td>\n",
       "      <td>0.612420</td>\n",
       "      <td>0.848665</td>\n",
       "      <td>0.711443</td>\n",
       "    </tr>\n",
       "    <tr>\n",
       "      <td>6</td>\n",
       "      <td>7</td>\n",
       "      <td>0.917350</td>\n",
       "      <td>0.871096</td>\n",
       "      <td>0.616702</td>\n",
       "      <td>0.857143</td>\n",
       "      <td>0.717310</td>\n",
       "    </tr>\n",
       "    <tr>\n",
       "      <td>7</td>\n",
       "      <td>8</td>\n",
       "      <td>0.916837</td>\n",
       "      <td>0.868825</td>\n",
       "      <td>0.618844</td>\n",
       "      <td>0.845029</td>\n",
       "      <td>0.714462</td>\n",
       "    </tr>\n",
       "    <tr>\n",
       "      <td>8</td>\n",
       "      <td>9</td>\n",
       "      <td>0.912750</td>\n",
       "      <td>0.867689</td>\n",
       "      <td>0.620985</td>\n",
       "      <td>0.838150</td>\n",
       "      <td>0.713407</td>\n",
       "    </tr>\n",
       "    <tr>\n",
       "      <td>9</td>\n",
       "      <td>10</td>\n",
       "      <td>0.916116</td>\n",
       "      <td>0.876775</td>\n",
       "      <td>0.640257</td>\n",
       "      <td>0.859195</td>\n",
       "      <td>0.733742</td>\n",
       "    </tr>\n",
       "    <tr>\n",
       "      <td>10</td>\n",
       "      <td>11</td>\n",
       "      <td>0.912723</td>\n",
       "      <td>0.872800</td>\n",
       "      <td>0.633833</td>\n",
       "      <td>0.848138</td>\n",
       "      <td>0.725490</td>\n",
       "    </tr>\n",
       "    <tr>\n",
       "      <td>11</td>\n",
       "      <td>12</td>\n",
       "      <td>0.915492</td>\n",
       "      <td>0.876207</td>\n",
       "      <td>0.638116</td>\n",
       "      <td>0.858790</td>\n",
       "      <td>0.732187</td>\n",
       "    </tr>\n",
       "    <tr>\n",
       "      <td>12</td>\n",
       "      <td>13</td>\n",
       "      <td>0.911933</td>\n",
       "      <td>0.873367</td>\n",
       "      <td>0.631692</td>\n",
       "      <td>0.852601</td>\n",
       "      <td>0.725707</td>\n",
       "    </tr>\n",
       "    <tr>\n",
       "      <td>13</td>\n",
       "      <td>14</td>\n",
       "      <td>0.911629</td>\n",
       "      <td>0.873935</td>\n",
       "      <td>0.635974</td>\n",
       "      <td>0.851003</td>\n",
       "      <td>0.727941</td>\n",
       "    </tr>\n",
       "    <tr>\n",
       "      <td>14</td>\n",
       "      <td>15</td>\n",
       "      <td>0.912722</td>\n",
       "      <td>0.872800</td>\n",
       "      <td>0.638116</td>\n",
       "      <td>0.844193</td>\n",
       "      <td>0.726829</td>\n",
       "    </tr>\n",
       "    <tr>\n",
       "      <td>15</td>\n",
       "      <td>16</td>\n",
       "      <td>0.911728</td>\n",
       "      <td>0.872800</td>\n",
       "      <td>0.627409</td>\n",
       "      <td>0.854227</td>\n",
       "      <td>0.723457</td>\n",
       "    </tr>\n",
       "    <tr>\n",
       "      <td>16</td>\n",
       "      <td>17</td>\n",
       "      <td>0.910554</td>\n",
       "      <td>0.869960</td>\n",
       "      <td>0.627409</td>\n",
       "      <td>0.841954</td>\n",
       "      <td>0.719018</td>\n",
       "    </tr>\n",
       "  </tbody>\n",
       "</table>\n",
       "</div>"
      ],
      "text/plain": [
       "    n_features   AUC-ROC  Accuracy    Recall  Precission        F1\n",
       "0            1  0.913781  0.869392  0.507495    1.000000  0.673295\n",
       "1            2  0.905580  0.865985  0.591006    0.859813  0.700508\n",
       "2            3  0.914974  0.867121  0.605996    0.849850  0.707500\n",
       "3            4  0.917992  0.867121  0.608137    0.847761  0.708229\n",
       "4            5  0.916257  0.873935  0.631692    0.855072  0.726601\n",
       "5            6  0.916358  0.868257  0.612420    0.848665  0.711443\n",
       "6            7  0.917350  0.871096  0.616702    0.857143  0.717310\n",
       "7            8  0.916837  0.868825  0.618844    0.845029  0.714462\n",
       "8            9  0.912750  0.867689  0.620985    0.838150  0.713407\n",
       "9           10  0.916116  0.876775  0.640257    0.859195  0.733742\n",
       "10          11  0.912723  0.872800  0.633833    0.848138  0.725490\n",
       "11          12  0.915492  0.876207  0.638116    0.858790  0.732187\n",
       "12          13  0.911933  0.873367  0.631692    0.852601  0.725707\n",
       "13          14  0.911629  0.873935  0.635974    0.851003  0.727941\n",
       "14          15  0.912722  0.872800  0.638116    0.844193  0.726829\n",
       "15          16  0.911728  0.872800  0.627409    0.854227  0.723457\n",
       "16          17  0.910554  0.869960  0.627409    0.841954  0.719018"
      ]
     },
     "metadata": {},
     "output_type": "display_data"
    }
   ],
   "source": [
    "display(df_feature_result.reset_index(drop=True))"
   ]
  },
  {
   "cell_type": "markdown",
   "metadata": {},
   "source": [
    "При добавлении только одного призака *days* можно добиться значения ROC-AUC = 0.91. Оптимальным же является использование 5 самых важных признаков (*days*, *MonthlyCharges*, *Type*, *InternetService*, *PaymentMethod*), чтобы добиться практически лучших значений по всем метрикам."
   ]
  },
  {
   "cell_type": "markdown",
   "metadata": {},
   "source": [
    "## Общий вывод"
   ]
  },
  {
   "cell_type": "markdown",
   "metadata": {},
   "source": [
    "===================================== **ИССЛЕДОВАТЕЛЬСКИЙ АНАЛИЗ ДАННЫХ** =====================================  \n",
    "**1) Дисбаланс классов.**  \n",
    "\n",
    "В данных наблюдается дисбаланс классов.\n",
    "\n",
    "**Exited**  | **Ratio**\n",
    ":-------------: | :-------------:\n",
    "0   |   0.73463\n",
    "1  |   0.26537\n",
    "\n",
    "**2) Категориальные признаки.**  \n",
    "\n",
    "В целом ушедшие и не ушедшие клиенты ведут себя одинаково. Но есть некоторые отличия:  \n",
    "* Ушедшие клиенты чаще исупользовали *InternetService* = Fiber optic. Возможно, качество оптоволоконной линии их не устраивало или конкуренты предоставляют более выгодные тарифы по данной технологии подключения;\n",
    "* Ушедшие клиенты чаще использовали *PaperlessBilling* (безналичный расчет), чем не ушедшие;\n",
    "* Намного чаще ушедшие клиенты использовали *PaymentMethod* = Electronic check. Возможно сервис оплаты был не слишком удобен или была коммисия при оплате;\n",
    "* Большинство ушедших клиентов использовали *Type* = Month-to-month (помесячный тип оплаты). Возможно клиенты пользовались услугами связи несколько месяцев и уходил, так как их что-то не устраивало и им было невыгодно заключать годичные контракты.\n",
    "\n",
    "**3) Непрерывные признаки.**\n",
    "\n",
    "В предыдущем пункте выяснили, что большинство ушедших клиентов использовали *Type* = Month-to-month (помесячный тип оплаты). Возможно клиенты пользовались услугами связи несколько месяцев и уходил, так как их что-то не устраивало и им было невыгодно заключать годичные контракты.  \n",
    "Это предположение подтверждается гистограмами \"Суммарных платежей пользователя за все время\" и \"Количетсва дней дейсвтия контракта\". Действительно, большинство ушедших клиентов мало пользовались услугами компании.\n",
    "\n",
    "**4) Сравнение ушедшего и не ушедшего клиента (по средним значениям).**\n",
    "\n",
    "**Признак**  | **Ушедший клиент**  | **Не ушедший клиент**\n",
    ":-------------: | :-------------: | :-------------:\n",
    "MonthlyCharges   |   74.44  |   61.26\n",
    "TotalCharges  |   1531.79  |   2549.91\n",
    "days  |   547.35  |   1144.44\n",
    "\n",
    "================================================================================================================\n",
    "\n",
    "============================================= **ПОСТРОЕНИЕ МОДЕЛЕЙ** =============================================  \n",
    "**1) Проверка на мультиколинеарность.**\n",
    "\n",
    "Между собой с коэффициентом корреляции **0.826** коррелируют два признака *days* и *TotalCharges*. При построении модели признак *TotalCharges* удалили, поэтому в дальнейшем можно его не выгружать при использовании модели. \n",
    "\n",
    "**2) Обучение моделей.**\n",
    "\n",
    "Обучили 6 моделей: \n",
    "* LogisticRegression;\n",
    "* DecisionTreeClassifier;\n",
    "* RandomForestClassifier;\n",
    "* LinearSVC;\n",
    "* CatBoostClassifier;\n",
    "* LGBMClassifier.\n",
    "\n",
    "\n",
    "Metrics | LogisticRegression | DecisionTreeClassifier | RandomForestClassifier | LinearSVC | CatBoostClassifier | LGBMClassifier\n",
    "    :-------------: | :-------------: | :-------------: | :-------------: | :-------------: | :-------------: | :-------------:\n",
    "Accuracy |\t0.80 |\t0.77|\t0.80|\t0.79|\t0.87|\t0.84\n",
    "Recall|\t0.53|\t0.57|\t0.49|\t0.53|\t0.63|\t0.60|\n",
    "Precission|\t0.66|\t0.57|\t0.67|\t0.63|\t0.84|\t0.75\n",
    "F1|\t0.59|\t0.57|\t0.57|\t0.58|\t0.72|\t0.67\n",
    "AUC-ROC|\t0.84|\t0.71|\t0.84|\t0.83|\t**0.91**|\t0.89\n",
    "\n",
    "Лучшей моделью оказалась **CatBoostClassifier** со значением **AUC-ROCK = 0.91**. Попробуем еще улучшить метрику с помощью подбора гиперпараметров.\n",
    "\n",
    "**3) Подбор гиперпараметров.** \n",
    "\n",
    "Для лучшей модели при помощи `GridSearchCV` подбирали гиперпараметры. Параметры подбирали для такой сетки:\n",
    "* 'depth': range(1, 11, 2),\n",
    "* 'iterations':range(100, 1300, 200).\n",
    "\n",
    "Лучшая модель получилась со следующими гиперпараметрами:\n",
    " * depth = 5;\n",
    " * iterations = 900.\n",
    " \n",
    "На такой модели получили **AUC-ROCK = 0.91**, что и было до подбора гиперпараметров.  \n",
    "\n",
    "**4) Проверка значимости признаков.**\n",
    "\n",
    "feature | coeff\n",
    ":-------------: | :-------------:\n",
    "days|\t57.572653\n",
    "MonthlyCharges|\t11.353986\n",
    "Type|\t9.866740\n",
    "InternetService|\t5.336757\n",
    "PaymentMethod|\t3.074975\n",
    "PaperlessBilling|\t1.598206\n",
    "TechSupport|\t1.490018\n",
    "MultipleLines|\t1.482206\n",
    "StreamingMovies|\t1.334270\n",
    "StreamingTV|\t1.168860\n",
    "gender|\t1.097316\n",
    "OnlineSecurity|\t1.095108\n",
    "SeniorCitizen|\t0.984544\n",
    "Dependents|\t0.818348\n",
    "OnlineBackup|\t0.707683\n",
    "Partner|\t0.682905\n",
    "DeviceProtection|\t0.335427\n",
    "\n",
    "Основной вклад вносит признак *days*, затем идет группа менее важных признаков: *MonthlyCharges*, *Type*, *InternetService*, *PaymentMethod*.    \n",
    "\n",
    "Остальные признаки оказывают маленькое влияние на качетство модели.  \n",
    "\n",
    "**5) Проверка качества модели при использовании только важных признаков.**\n",
    "\n",
    "n_features|\tAUC-ROC|\tAccuracy|\tRecall|\tPrecission|\tF1\n",
    ":-------------: | :-------------: | :-------------: | :-------------: | :-------------: | :-------------:\n",
    "**1**|\t**0.913781**|\t0.869392|\t0.507495|\t1.000000|\t0.673295\n",
    "2|\t0.905580|\t0.865985|\t0.591006|\t0.859813|\t0.700508\n",
    "3|\t0.914974|\t0.867121|\t0.605996|\t0.849850|\t0.707500\n",
    "4|\t0.917992|\t0.867121|\t0.608137|\t0.847761|\t0.708229\n",
    "**5**|\t**0.916257**|\t**0.873935**|\t**0.631692**|\t**0.855072**|\t**0.726601**\n",
    "6|\t0.916358|\t0.868257|\t0.612420|\t0.848665|\t0.711443\n",
    "7|\t0.917350|\t0.871096|\t0.616702|\t0.857143|\t0.717310\n",
    "8|\t0.916837|\t0.868825|\t0.618844|\t0.845029|\t0.714462\n",
    "9|\t0.912750|\t0.867689|\t0.620985|\t0.838150|\t0.713407\n",
    "10|\t0.916116|\t0.876775|\t0.640257|\t0.859195|\t0.733742\n",
    "11|\t0.912723|\t0.872800|\t0.633833|\t0.848138|\t0.725490\n",
    "12|\t0.915492|\t0.876207|\t0.638116|\t0.858790|\t0.732187\n",
    "13|\t0.911933|\t0.873367|\t0.631692|\t0.852601|\t0.725707\n",
    "14|\t0.911629|\t0.873935|\t0.635974|\t0.851003|\t0.727941\n",
    "15|\t0.912722|\t0.872800|\t0.638116|\t0.844193|\t0.726829\n",
    "16|\t0.911728|\t0.872800|\t0.627409|\t0.854227|\t0.723457\n",
    "17|\t0.910554|\t0.869960|\t0.627409|\t0.841954|\t0.719018\n",
    "\n",
    "При добавлении только одного призака *days* можно добиться значения ROC-AUC = 0.91. Оптимальным же является использование 5 самых важных признаков (*days*, *MonthlyCharges*, *Type*, *InternetService*, *PaymentMethod*), чтобы добиться практически лучших значений по всем метрикам."
   ]
  }
 ],
 "metadata": {
  "ExecuteTimeLog": [
   {
    "duration": 814,
    "start_time": "2021-06-30T19:00:00.148Z"
   },
   {
    "duration": 49,
    "start_time": "2021-06-30T19:00:40.845Z"
   },
   {
    "duration": 32,
    "start_time": "2021-06-30T19:00:46.574Z"
   },
   {
    "duration": 106,
    "start_time": "2021-06-30T19:02:06.514Z"
   },
   {
    "duration": 18,
    "start_time": "2021-06-30T19:02:22.386Z"
   },
   {
    "duration": 12,
    "start_time": "2021-06-30T19:02:39.055Z"
   },
   {
    "duration": 14,
    "start_time": "2021-06-30T19:02:42.928Z"
   },
   {
    "duration": 12,
    "start_time": "2021-06-30T19:02:46.744Z"
   },
   {
    "duration": 5,
    "start_time": "2021-06-30T19:03:46.182Z"
   },
   {
    "duration": 1583,
    "start_time": "2021-06-30T19:04:13.633Z"
   },
   {
    "duration": 308,
    "start_time": "2021-06-30T19:04:42.263Z"
   },
   {
    "duration": 4,
    "start_time": "2021-06-30T19:04:59.296Z"
   },
   {
    "duration": 5,
    "start_time": "2021-06-30T19:05:03.253Z"
   },
   {
    "duration": 761,
    "start_time": "2021-06-30T19:05:12.329Z"
   },
   {
    "duration": 859,
    "start_time": "2021-07-01T17:20:10.964Z"
   },
   {
    "duration": 115,
    "start_time": "2021-07-01T17:20:11.826Z"
   },
   {
    "duration": 6,
    "start_time": "2021-07-01T17:20:11.945Z"
   },
   {
    "duration": 753,
    "start_time": "2021-07-01T17:20:12.043Z"
   },
   {
    "duration": 7,
    "start_time": "2021-07-01T17:20:27.454Z"
   },
   {
    "duration": 441,
    "start_time": "2021-07-01T17:20:46.170Z"
   },
   {
    "duration": 278,
    "start_time": "2021-07-01T17:21:00.149Z"
   },
   {
    "duration": 250,
    "start_time": "2021-07-01T17:21:20.222Z"
   },
   {
    "duration": 2167,
    "start_time": "2021-07-01T17:21:49.120Z"
   },
   {
    "duration": 11,
    "start_time": "2021-07-01T17:22:35.939Z"
   },
   {
    "duration": 252,
    "start_time": "2021-07-01T17:23:18.733Z"
   },
   {
    "duration": 11,
    "start_time": "2021-07-01T17:23:25.853Z"
   },
   {
    "duration": 286,
    "start_time": "2021-07-01T17:23:51.258Z"
   },
   {
    "duration": 258,
    "start_time": "2021-07-01T17:23:53.778Z"
   },
   {
    "duration": 13,
    "start_time": "2021-07-01T17:24:02.603Z"
   },
   {
    "duration": 740,
    "start_time": "2021-07-01T18:00:37.068Z"
   },
   {
    "duration": 832,
    "start_time": "2021-07-01T18:01:47.441Z"
   },
   {
    "duration": 578,
    "start_time": "2021-07-01T18:05:14.284Z"
   },
   {
    "duration": 97,
    "start_time": "2021-07-01T18:13:48.090Z"
   },
   {
    "duration": 6,
    "start_time": "2021-07-01T18:13:55.322Z"
   },
   {
    "duration": 832,
    "start_time": "2021-07-01T18:13:56.785Z"
   },
   {
    "duration": 6,
    "start_time": "2021-07-01T18:15:14.593Z"
   },
   {
    "duration": 756,
    "start_time": "2021-07-01T18:15:15.400Z"
   },
   {
    "duration": 6,
    "start_time": "2021-07-01T18:16:02.459Z"
   },
   {
    "duration": 755,
    "start_time": "2021-07-01T18:16:03.415Z"
   },
   {
    "duration": 7,
    "start_time": "2021-07-01T18:16:16.050Z"
   },
   {
    "duration": 778,
    "start_time": "2021-07-01T18:16:27.599Z"
   },
   {
    "duration": 813,
    "start_time": "2021-07-01T18:16:54.153Z"
   },
   {
    "duration": 133,
    "start_time": "2021-07-01T18:17:04.373Z"
   },
   {
    "duration": 265,
    "start_time": "2021-07-01T18:17:49.639Z"
   },
   {
    "duration": 289,
    "start_time": "2021-07-01T18:17:56.142Z"
   },
   {
    "duration": 55,
    "start_time": "2021-07-01T18:18:01.117Z"
   },
   {
    "duration": 311,
    "start_time": "2021-07-01T18:18:13.121Z"
   },
   {
    "duration": 7,
    "start_time": "2021-07-01T18:18:49.092Z"
   },
   {
    "duration": 1143,
    "start_time": "2021-07-01T18:18:49.853Z"
   },
   {
    "duration": 749,
    "start_time": "2021-07-01T18:18:54.397Z"
   },
   {
    "duration": 88,
    "start_time": "2021-07-01T18:18:58.478Z"
   },
   {
    "duration": 97,
    "start_time": "2021-07-01T18:19:17.266Z"
   },
   {
    "duration": 264,
    "start_time": "2021-07-01T18:20:10.347Z"
   },
   {
    "duration": 5,
    "start_time": "2021-07-01T18:20:12.302Z"
   },
   {
    "duration": 94,
    "start_time": "2021-07-01T18:21:38.668Z"
   },
   {
    "duration": 54,
    "start_time": "2021-07-01T18:22:14.211Z"
   },
   {
    "duration": 6,
    "start_time": "2021-07-01T18:25:23.130Z"
   },
   {
    "duration": 103,
    "start_time": "2021-07-01T18:25:36.105Z"
   },
   {
    "duration": 254,
    "start_time": "2021-07-01T18:25:40.028Z"
   },
   {
    "duration": 255,
    "start_time": "2021-07-01T18:25:46.859Z"
   },
   {
    "duration": 262,
    "start_time": "2021-07-01T19:33:47.906Z"
   },
   {
    "duration": 305,
    "start_time": "2021-07-01T19:34:01.290Z"
   },
   {
    "duration": 333,
    "start_time": "2021-07-01T19:34:06.459Z"
   },
   {
    "duration": 286,
    "start_time": "2021-07-01T19:34:10.507Z"
   },
   {
    "duration": 91,
    "start_time": "2021-07-01T19:36:45.388Z"
   },
   {
    "duration": 104,
    "start_time": "2021-07-01T19:36:50.452Z"
   },
   {
    "duration": 83,
    "start_time": "2021-07-01T19:37:04.853Z"
   },
   {
    "duration": 97,
    "start_time": "2021-07-01T19:37:17.563Z"
   },
   {
    "duration": 18,
    "start_time": "2021-07-01T19:38:31.907Z"
   },
   {
    "duration": 31,
    "start_time": "2021-07-01T19:38:33.783Z"
   },
   {
    "duration": 29,
    "start_time": "2021-07-01T19:39:28.050Z"
   },
   {
    "duration": 40,
    "start_time": "2021-07-01T19:39:30.010Z"
   },
   {
    "duration": 115,
    "start_time": "2021-07-01T19:39:38.394Z"
   },
   {
    "duration": 92,
    "start_time": "2021-07-01T19:39:42.690Z"
   },
   {
    "duration": 28,
    "start_time": "2021-07-01T19:39:54.738Z"
   },
   {
    "duration": 41,
    "start_time": "2021-07-01T19:40:17.177Z"
   },
   {
    "duration": 39,
    "start_time": "2021-07-01T19:40:20.926Z"
   },
   {
    "duration": 1075,
    "start_time": "2021-07-01T19:41:12.093Z"
   },
   {
    "duration": 5,
    "start_time": "2021-07-01T19:54:35.674Z"
   },
   {
    "duration": 87,
    "start_time": "2021-07-01T19:54:51.278Z"
   },
   {
    "duration": 5,
    "start_time": "2021-07-01T19:54:54.463Z"
   },
   {
    "duration": 269,
    "start_time": "2021-07-01T19:55:32.054Z"
   },
   {
    "duration": 257,
    "start_time": "2021-07-01T19:55:47.834Z"
   },
   {
    "duration": 92,
    "start_time": "2021-07-01T19:56:04.912Z"
   },
   {
    "duration": 5,
    "start_time": "2021-07-01T19:56:09.332Z"
   },
   {
    "duration": 22,
    "start_time": "2021-07-01T19:56:27.241Z"
   },
   {
    "duration": 19,
    "start_time": "2021-07-01T19:56:29.761Z"
   },
   {
    "duration": 9,
    "start_time": "2021-07-01T19:57:36.006Z"
   },
   {
    "duration": 16,
    "start_time": "2021-07-01T19:57:38.671Z"
   },
   {
    "duration": 7,
    "start_time": "2021-07-01T19:57:56.669Z"
   },
   {
    "duration": 5,
    "start_time": "2021-07-01T19:58:01.026Z"
   },
   {
    "duration": 8,
    "start_time": "2021-07-01T19:58:41.726Z"
   },
   {
    "duration": 6,
    "start_time": "2021-07-01T19:58:48.474Z"
   },
   {
    "duration": 7,
    "start_time": "2021-07-01T19:58:56.895Z"
   },
   {
    "duration": 6,
    "start_time": "2021-07-01T19:59:02.719Z"
   },
   {
    "duration": 45,
    "start_time": "2021-07-01T19:59:15.097Z"
   },
   {
    "duration": 18,
    "start_time": "2021-07-01T19:59:19.513Z"
   },
   {
    "duration": 22,
    "start_time": "2021-07-01T19:59:59.296Z"
   },
   {
    "duration": 18,
    "start_time": "2021-07-01T20:00:01.218Z"
   },
   {
    "duration": 12,
    "start_time": "2021-07-01T20:05:31.315Z"
   },
   {
    "duration": 402,
    "start_time": "2021-07-01T20:05:44.034Z"
   },
   {
    "duration": 369,
    "start_time": "2021-07-01T20:06:10.559Z"
   },
   {
    "duration": 11,
    "start_time": "2021-07-01T20:06:48.363Z"
   },
   {
    "duration": 37,
    "start_time": "2021-07-01T20:06:58.250Z"
   },
   {
    "duration": 10,
    "start_time": "2021-07-01T20:12:34.130Z"
   },
   {
    "duration": 19,
    "start_time": "2021-07-01T20:12:38.035Z"
   },
   {
    "duration": 5,
    "start_time": "2021-07-01T20:17:49.172Z"
   },
   {
    "duration": 36,
    "start_time": "2021-07-01T20:17:54.318Z"
   },
   {
    "duration": 6,
    "start_time": "2021-07-01T20:18:24.812Z"
   },
   {
    "duration": 47,
    "start_time": "2021-07-01T20:18:26.214Z"
   },
   {
    "duration": 6,
    "start_time": "2021-07-01T20:18:52.957Z"
   },
   {
    "duration": 47,
    "start_time": "2021-07-01T20:18:53.576Z"
   },
   {
    "duration": 5229,
    "start_time": "2021-07-01T20:25:50.646Z"
   },
   {
    "duration": 11,
    "start_time": "2021-07-01T20:26:02.678Z"
   },
   {
    "duration": 12,
    "start_time": "2021-07-01T20:27:15.623Z"
   },
   {
    "duration": 12,
    "start_time": "2021-07-01T20:28:47.514Z"
   },
   {
    "duration": 39,
    "start_time": "2021-07-01T20:29:32.299Z"
   },
   {
    "duration": 12,
    "start_time": "2021-07-01T20:29:41.328Z"
   },
   {
    "duration": 119,
    "start_time": "2021-07-01T20:29:58.358Z"
   },
   {
    "duration": 92,
    "start_time": "2021-07-01T20:30:05.621Z"
   },
   {
    "duration": 108,
    "start_time": "2021-07-01T20:30:14.386Z"
   },
   {
    "duration": 14,
    "start_time": "2021-07-01T20:30:17.803Z"
   },
   {
    "duration": 278,
    "start_time": "2021-07-01T20:30:26.198Z"
   },
   {
    "duration": 263,
    "start_time": "2021-07-01T20:30:28.391Z"
   },
   {
    "duration": 298,
    "start_time": "2021-07-01T20:30:33.160Z"
   },
   {
    "duration": 269,
    "start_time": "2021-07-01T20:30:40.169Z"
   },
   {
    "duration": 304,
    "start_time": "2021-07-01T20:31:38.950Z"
   },
   {
    "duration": 248,
    "start_time": "2021-07-01T20:31:42.239Z"
   },
   {
    "duration": 11,
    "start_time": "2021-07-01T20:31:48.212Z"
   },
   {
    "duration": 11,
    "start_time": "2021-07-01T20:32:24.168Z"
   },
   {
    "duration": 261,
    "start_time": "2021-07-01T20:32:37.689Z"
   },
   {
    "duration": 318,
    "start_time": "2021-07-01T20:32:46.668Z"
   },
   {
    "duration": 11,
    "start_time": "2021-07-01T20:33:04.410Z"
   },
   {
    "duration": 11,
    "start_time": "2021-07-01T20:33:14.926Z"
   },
   {
    "duration": 291,
    "start_time": "2021-07-01T20:33:51.608Z"
   },
   {
    "duration": 257,
    "start_time": "2021-07-01T20:36:06.076Z"
   },
   {
    "duration": 8,
    "start_time": "2021-07-01T20:36:10.511Z"
   },
   {
    "duration": 35,
    "start_time": "2021-07-01T20:36:14.086Z"
   },
   {
    "duration": 18,
    "start_time": "2021-07-01T20:36:17.584Z"
   },
   {
    "duration": 286,
    "start_time": "2021-07-01T20:36:29.510Z"
   },
   {
    "duration": 12,
    "start_time": "2021-07-01T20:37:40.090Z"
   },
   {
    "duration": 9,
    "start_time": "2021-07-01T20:37:47.563Z"
   },
   {
    "duration": 254,
    "start_time": "2021-07-01T20:37:48.451Z"
   },
   {
    "duration": 9,
    "start_time": "2021-07-01T20:37:57.131Z"
   },
   {
    "duration": 243,
    "start_time": "2021-07-01T20:37:58.877Z"
   },
   {
    "duration": 17,
    "start_time": "2021-07-01T20:38:03.772Z"
   },
   {
    "duration": 37,
    "start_time": "2021-07-01T20:38:06.540Z"
   },
   {
    "duration": 9,
    "start_time": "2021-07-01T20:40:55.192Z"
   },
   {
    "duration": 262,
    "start_time": "2021-07-01T20:40:56.090Z"
   },
   {
    "duration": 9,
    "start_time": "2021-07-01T20:43:42.519Z"
   },
   {
    "duration": 15,
    "start_time": "2021-07-01T20:43:46.731Z"
   },
   {
    "duration": 347,
    "start_time": "2021-07-01T20:43:51.130Z"
   },
   {
    "duration": 15,
    "start_time": "2021-07-01T20:50:49.766Z"
   },
   {
    "duration": 15,
    "start_time": "2021-07-01T20:50:56.962Z"
   },
   {
    "duration": 6190,
    "start_time": "2021-07-01T20:51:40.166Z"
   },
   {
    "duration": 265,
    "start_time": "2021-07-01T20:52:03.639Z"
   },
   {
    "duration": 4,
    "start_time": "2021-07-01T20:52:11.075Z"
   },
   {
    "duration": 106,
    "start_time": "2021-07-01T20:52:12.019Z"
   },
   {
    "duration": 6,
    "start_time": "2021-07-01T20:52:12.175Z"
   },
   {
    "duration": 759,
    "start_time": "2021-07-01T20:52:12.518Z"
   },
   {
    "duration": 733,
    "start_time": "2021-07-01T20:52:13.280Z"
   },
   {
    "duration": 107,
    "start_time": "2021-07-01T20:52:14.016Z"
   },
   {
    "duration": 69,
    "start_time": "2021-07-01T20:52:14.126Z"
   },
   {
    "duration": 40,
    "start_time": "2021-07-01T20:52:14.642Z"
   },
   {
    "duration": 1087,
    "start_time": "2021-07-01T20:52:14.797Z"
   },
   {
    "duration": 30,
    "start_time": "2021-07-01T20:52:16.675Z"
   },
   {
    "duration": 16,
    "start_time": "2021-07-01T20:52:16.855Z"
   },
   {
    "duration": 36,
    "start_time": "2021-07-01T20:52:21.041Z"
   },
   {
    "duration": 9,
    "start_time": "2021-07-01T20:52:22.823Z"
   },
   {
    "duration": 7,
    "start_time": "2021-07-01T20:52:25.000Z"
   },
   {
    "duration": 13,
    "start_time": "2021-07-01T20:52:47.230Z"
   },
   {
    "duration": 16,
    "start_time": "2021-07-01T20:52:58.179Z"
   },
   {
    "duration": 14,
    "start_time": "2021-07-01T20:53:36.474Z"
   },
   {
    "duration": 40,
    "start_time": "2021-07-01T20:53:43.784Z"
   },
   {
    "duration": 257,
    "start_time": "2021-07-01T20:54:01.560Z"
   },
   {
    "duration": 274,
    "start_time": "2021-07-01T20:54:10.776Z"
   },
   {
    "duration": 14,
    "start_time": "2021-07-01T20:54:14.520Z"
   },
   {
    "duration": 18,
    "start_time": "2021-07-01T20:54:19.390Z"
   },
   {
    "duration": 265,
    "start_time": "2021-07-01T20:54:43.872Z"
   },
   {
    "duration": 13,
    "start_time": "2021-07-01T20:54:53.607Z"
   },
   {
    "duration": 304,
    "start_time": "2021-07-01T20:54:56.492Z"
   },
   {
    "duration": 12,
    "start_time": "2021-07-01T20:55:11.220Z"
   },
   {
    "duration": 16,
    "start_time": "2021-07-01T20:55:18.862Z"
   },
   {
    "duration": 36,
    "start_time": "2021-07-01T20:55:24.509Z"
   },
   {
    "duration": 14,
    "start_time": "2021-07-01T20:55:42.183Z"
   },
   {
    "duration": 34,
    "start_time": "2021-07-01T20:55:42.464Z"
   },
   {
    "duration": 269,
    "start_time": "2021-07-01T20:55:49.066Z"
   },
   {
    "duration": 35,
    "start_time": "2021-07-01T20:55:50.033Z"
   },
   {
    "duration": 696,
    "start_time": "2021-07-01T20:55:56.107Z"
   },
   {
    "duration": 36,
    "start_time": "2021-07-01T20:55:56.842Z"
   },
   {
    "duration": 13,
    "start_time": "2021-07-01T20:56:06.186Z"
   },
   {
    "duration": 37,
    "start_time": "2021-07-01T20:56:07.775Z"
   },
   {
    "duration": 13,
    "start_time": "2021-07-01T20:56:28.950Z"
   },
   {
    "duration": 36,
    "start_time": "2021-07-01T20:56:33.708Z"
   },
   {
    "duration": 16,
    "start_time": "2021-07-01T20:56:40.580Z"
   },
   {
    "duration": 258,
    "start_time": "2021-07-01T20:59:19.041Z"
   },
   {
    "duration": 6,
    "start_time": "2021-07-01T20:59:29.971Z"
   },
   {
    "duration": 15,
    "start_time": "2021-07-01T20:59:40.682Z"
   },
   {
    "duration": 261,
    "start_time": "2021-07-01T21:14:51.065Z"
   },
   {
    "duration": 285,
    "start_time": "2021-07-01T21:14:56.771Z"
   },
   {
    "duration": 26,
    "start_time": "2021-07-01T21:15:06.948Z"
   },
   {
    "duration": 26,
    "start_time": "2021-07-01T21:16:12.707Z"
   },
   {
    "duration": 262,
    "start_time": "2021-07-01T21:22:43.779Z"
   },
   {
    "duration": 296,
    "start_time": "2021-07-01T21:23:10.827Z"
   },
   {
    "duration": 22,
    "start_time": "2021-07-01T21:24:08.801Z"
   },
   {
    "duration": 62,
    "start_time": "2021-07-01T21:25:34.140Z"
   },
   {
    "duration": 51,
    "start_time": "2021-07-01T21:26:15.023Z"
   },
   {
    "duration": 49,
    "start_time": "2021-07-01T21:26:40.660Z"
   },
   {
    "duration": 280,
    "start_time": "2021-07-01T21:27:39.217Z"
   },
   {
    "duration": 295,
    "start_time": "2021-07-01T21:27:49.361Z"
   },
   {
    "duration": 301,
    "start_time": "2021-07-01T21:28:02.587Z"
   },
   {
    "duration": 18,
    "start_time": "2021-07-01T21:28:34.084Z"
   },
   {
    "duration": 51,
    "start_time": "2021-07-01T21:31:02.863Z"
   },
   {
    "duration": 272,
    "start_time": "2021-07-01T21:31:14.939Z"
   },
   {
    "duration": 6990,
    "start_time": "2021-07-01T21:31:21.442Z"
   },
   {
    "duration": 48,
    "start_time": "2021-07-01T21:31:34.886Z"
   },
   {
    "duration": 51,
    "start_time": "2021-07-01T21:32:01.155Z"
   },
   {
    "duration": 6496,
    "start_time": "2021-07-01T21:32:12.291Z"
   },
   {
    "duration": 51,
    "start_time": "2021-07-01T21:32:29.011Z"
   },
   {
    "duration": 251,
    "start_time": "2021-07-01T21:33:58.121Z"
   },
   {
    "duration": 18,
    "start_time": "2021-07-01T21:34:00.840Z"
   },
   {
    "duration": 41,
    "start_time": "2021-07-01T21:34:15.381Z"
   },
   {
    "duration": 15,
    "start_time": "2021-07-01T21:34:20.092Z"
   },
   {
    "duration": 11,
    "start_time": "2021-07-01T21:34:23.968Z"
   },
   {
    "duration": 260,
    "start_time": "2021-07-01T21:34:39.378Z"
   },
   {
    "duration": 511,
    "start_time": "2021-07-01T21:34:43.405Z"
   },
   {
    "duration": 421,
    "start_time": "2021-07-01T21:35:08.380Z"
   },
   {
    "duration": 291,
    "start_time": "2021-07-01T21:35:28.338Z"
   },
   {
    "duration": 298,
    "start_time": "2021-07-01T21:35:32.714Z"
   },
   {
    "duration": 14,
    "start_time": "2021-07-01T21:35:48.400Z"
   },
   {
    "duration": 378,
    "start_time": "2021-07-01T21:36:39.193Z"
   },
   {
    "duration": 7,
    "start_time": "2021-07-01T21:36:44.105Z"
   },
   {
    "duration": 12,
    "start_time": "2021-07-01T21:36:48.582Z"
   },
   {
    "duration": 324,
    "start_time": "2021-07-01T21:37:14.076Z"
   },
   {
    "duration": 14,
    "start_time": "2021-07-01T21:37:28.602Z"
   },
   {
    "duration": 326,
    "start_time": "2021-07-01T21:37:32.156Z"
   },
   {
    "duration": 15,
    "start_time": "2021-07-01T21:37:53.890Z"
   },
   {
    "duration": 372,
    "start_time": "2021-07-01T21:39:00.683Z"
   },
   {
    "duration": 344,
    "start_time": "2021-07-01T21:39:37.716Z"
   },
   {
    "duration": 15,
    "start_time": "2021-07-01T21:40:35.811Z"
   },
   {
    "duration": 393,
    "start_time": "2021-07-01T21:40:37.551Z"
   },
   {
    "duration": 38,
    "start_time": "2021-07-01T21:42:59.205Z"
   },
   {
    "duration": 42574,
    "start_time": "2021-07-01T21:43:07.623Z"
   },
   {
    "duration": 255,
    "start_time": "2021-07-01T21:44:50.280Z"
   },
   {
    "duration": 12,
    "start_time": "2021-07-01T21:44:57.164Z"
   },
   {
    "duration": 258,
    "start_time": "2021-07-01T21:45:15.199Z"
   },
   {
    "duration": 14,
    "start_time": "2021-07-01T21:45:19.160Z"
   },
   {
    "duration": 561037,
    "start_time": "2021-07-01T21:45:30.792Z"
   },
   {
    "duration": -150,
    "start_time": "2021-07-01T21:54:51.982Z"
   },
   {
    "duration": 7,
    "start_time": "2021-07-01T21:54:53.990Z"
   },
   {
    "duration": 260,
    "start_time": "2021-07-01T21:55:09.513Z"
   },
   {
    "duration": 303,
    "start_time": "2021-07-01T21:55:15.038Z"
   },
   {
    "duration": 11,
    "start_time": "2021-07-01T21:55:19.281Z"
   },
   {
    "duration": 15,
    "start_time": "2021-07-01T21:55:29.319Z"
   },
   {
    "duration": 266,
    "start_time": "2021-07-01T21:57:19.095Z"
   },
   {
    "duration": 10,
    "start_time": "2021-07-01T21:57:24.905Z"
   },
   {
    "duration": 6,
    "start_time": "2021-07-01T21:58:05.819Z"
   },
   {
    "duration": 258,
    "start_time": "2021-07-01T21:58:44.586Z"
   },
   {
    "duration": 245,
    "start_time": "2021-07-01T21:58:55.665Z"
   },
   {
    "duration": 260,
    "start_time": "2021-07-01T21:59:15.217Z"
   },
   {
    "duration": 5,
    "start_time": "2021-07-01T21:59:27.303Z"
   },
   {
    "duration": 6,
    "start_time": "2021-07-01T21:59:32.467Z"
   },
   {
    "duration": 298,
    "start_time": "2021-07-01T22:00:02.331Z"
   },
   {
    "duration": 257,
    "start_time": "2021-07-01T22:00:12.024Z"
   },
   {
    "duration": 6,
    "start_time": "2021-07-01T22:01:02.892Z"
   },
   {
    "duration": 113,
    "start_time": "2021-07-01T22:04:09.179Z"
   },
   {
    "duration": 263,
    "start_time": "2021-07-01T22:04:31.156Z"
   },
   {
    "duration": 7921,
    "start_time": "2021-07-01T22:05:02.871Z"
   },
   {
    "duration": 8,
    "start_time": "2021-07-01T22:05:25.975Z"
   },
   {
    "duration": 8579,
    "start_time": "2021-07-01T22:05:26.719Z"
   },
   {
    "duration": 9,
    "start_time": "2021-07-01T22:05:39.454Z"
   },
   {
    "duration": 6349,
    "start_time": "2021-07-01T22:05:40.076Z"
   },
   {
    "duration": 6417,
    "start_time": "2021-07-01T22:06:40.870Z"
   },
   {
    "duration": 7410,
    "start_time": "2021-07-01T22:06:53.902Z"
   },
   {
    "duration": 3610,
    "start_time": "2021-07-01T22:07:43.972Z"
   },
   {
    "duration": 692,
    "start_time": "2021-07-01T22:08:02.321Z"
   },
   {
    "duration": 526,
    "start_time": "2021-07-01T22:08:53.056Z"
   },
   {
    "duration": 535,
    "start_time": "2021-07-01T22:09:12.026Z"
   },
   {
    "duration": 515,
    "start_time": "2021-07-01T22:09:53.489Z"
   },
   {
    "duration": 601,
    "start_time": "2021-07-01T22:10:08.983Z"
   },
   {
    "duration": 534,
    "start_time": "2021-07-01T22:10:20.313Z"
   },
   {
    "duration": 553,
    "start_time": "2021-07-01T22:15:19.533Z"
   },
   {
    "duration": 614,
    "start_time": "2021-07-01T22:20:02.934Z"
   },
   {
    "duration": 3947,
    "start_time": "2021-07-01T22:20:48.078Z"
   },
   {
    "duration": 5,
    "start_time": "2021-07-01T22:21:44.756Z"
   },
   {
    "duration": 5299,
    "start_time": "2021-07-01T22:30:38.877Z"
   },
   {
    "duration": 6,
    "start_time": "2021-07-01T22:31:53.072Z"
   },
   {
    "duration": 5,
    "start_time": "2021-07-01T22:31:56.501Z"
   },
   {
    "duration": 5,
    "start_time": "2021-07-01T22:32:04.262Z"
   },
   {
    "duration": 6,
    "start_time": "2021-07-01T22:32:08.932Z"
   },
   {
    "duration": 5442,
    "start_time": "2021-07-01T22:32:23.650Z"
   },
   {
    "duration": 5531,
    "start_time": "2021-07-01T22:32:55.036Z"
   },
   {
    "duration": 6176,
    "start_time": "2021-07-01T22:33:18.481Z"
   },
   {
    "duration": 2920,
    "start_time": "2021-07-01T22:34:45.784Z"
   },
   {
    "duration": 2375,
    "start_time": "2021-07-01T22:35:19.465Z"
   },
   {
    "duration": 2921,
    "start_time": "2021-07-01T22:35:36.340Z"
   },
   {
    "duration": 2428,
    "start_time": "2021-07-01T22:35:51.244Z"
   },
   {
    "duration": 3231,
    "start_time": "2021-07-01T22:36:20.105Z"
   },
   {
    "duration": 2989,
    "start_time": "2021-07-01T22:36:53.294Z"
   },
   {
    "duration": 3208,
    "start_time": "2021-07-01T22:37:05.792Z"
   },
   {
    "duration": 2868,
    "start_time": "2021-07-01T22:37:16.607Z"
   },
   {
    "duration": 3163,
    "start_time": "2021-07-01T22:37:31.172Z"
   },
   {
    "duration": 3225,
    "start_time": "2021-07-01T22:39:14.850Z"
   },
   {
    "duration": 3799,
    "start_time": "2021-07-01T22:39:23.650Z"
   },
   {
    "duration": 873,
    "start_time": "2021-07-01T22:43:44.111Z"
   },
   {
    "duration": 3712,
    "start_time": "2021-07-01T22:43:55.272Z"
   },
   {
    "duration": 3761,
    "start_time": "2021-07-01T22:44:23.688Z"
   },
   {
    "duration": 3941,
    "start_time": "2021-07-01T22:44:36.619Z"
   },
   {
    "duration": 3983,
    "start_time": "2021-07-01T22:45:14.787Z"
   },
   {
    "duration": 5964,
    "start_time": "2021-07-01T22:45:29.613Z"
   },
   {
    "duration": 4718,
    "start_time": "2021-07-01T22:45:50.741Z"
   },
   {
    "duration": 4051,
    "start_time": "2021-07-01T22:46:00.766Z"
   },
   {
    "duration": 3912,
    "start_time": "2021-07-01T22:46:12.228Z"
   },
   {
    "duration": 4015,
    "start_time": "2021-07-01T22:47:48.879Z"
   },
   {
    "duration": 3586,
    "start_time": "2021-07-01T22:48:55.457Z"
   },
   {
    "duration": 3923,
    "start_time": "2021-07-01T22:49:24.585Z"
   },
   {
    "duration": 6967,
    "start_time": "2021-07-01T22:49:53.499Z"
   },
   {
    "duration": 3706,
    "start_time": "2021-07-01T22:50:09.763Z"
   },
   {
    "duration": 3585,
    "start_time": "2021-07-01T22:51:48.514Z"
   },
   {
    "duration": 4242,
    "start_time": "2021-07-01T22:52:08.774Z"
   },
   {
    "duration": 4383,
    "start_time": "2021-07-01T22:54:55.404Z"
   },
   {
    "duration": 4128,
    "start_time": "2021-07-01T22:55:25.564Z"
   },
   {
    "duration": 4246,
    "start_time": "2021-07-01T22:55:32.854Z"
   },
   {
    "duration": 4,
    "start_time": "2021-07-02T19:57:14.649Z"
   },
   {
    "duration": 117,
    "start_time": "2021-07-02T19:57:14.655Z"
   },
   {
    "duration": 6,
    "start_time": "2021-07-02T19:57:14.775Z"
   },
   {
    "duration": 771,
    "start_time": "2021-07-02T19:57:14.783Z"
   },
   {
    "duration": 730,
    "start_time": "2021-07-02T19:57:15.557Z"
   },
   {
    "duration": 115,
    "start_time": "2021-07-02T19:57:16.289Z"
   },
   {
    "duration": 80,
    "start_time": "2021-07-02T19:57:16.407Z"
   },
   {
    "duration": 61,
    "start_time": "2021-07-02T19:57:16.493Z"
   },
   {
    "duration": 1099,
    "start_time": "2021-07-02T19:57:16.557Z"
   },
   {
    "duration": 33,
    "start_time": "2021-07-02T19:57:17.658Z"
   },
   {
    "duration": 20,
    "start_time": "2021-07-02T19:57:17.693Z"
   },
   {
    "duration": 65,
    "start_time": "2021-07-02T19:57:17.715Z"
   },
   {
    "duration": 17,
    "start_time": "2021-07-02T19:57:17.783Z"
   },
   {
    "duration": 6,
    "start_time": "2021-07-02T19:57:17.803Z"
   },
   {
    "duration": 16,
    "start_time": "2021-07-02T19:57:17.812Z"
   },
   {
    "duration": 28,
    "start_time": "2021-07-02T19:57:17.831Z"
   },
   {
    "duration": 24,
    "start_time": "2021-07-02T19:57:17.862Z"
   },
   {
    "duration": 4269,
    "start_time": "2021-07-02T19:57:17.889Z"
   },
   {
    "duration": 4003,
    "start_time": "2021-07-02T20:03:30.034Z"
   },
   {
    "duration": 776,
    "start_time": "2021-07-02T20:26:04.969Z"
   },
   {
    "duration": 517,
    "start_time": "2021-07-02T20:26:40.953Z"
   },
   {
    "duration": 531,
    "start_time": "2021-07-02T20:27:06.827Z"
   },
   {
    "duration": 509,
    "start_time": "2021-07-02T20:27:52.626Z"
   },
   {
    "duration": 523,
    "start_time": "2021-07-02T20:28:33.014Z"
   },
   {
    "duration": 512,
    "start_time": "2021-07-02T20:29:40.384Z"
   },
   {
    "duration": 511,
    "start_time": "2021-07-02T20:30:28.732Z"
   },
   {
    "duration": 543,
    "start_time": "2021-07-02T20:33:09.551Z"
   },
   {
    "duration": 509,
    "start_time": "2021-07-02T20:34:47.994Z"
   },
   {
    "duration": 518,
    "start_time": "2021-07-02T20:37:42.792Z"
   },
   {
    "duration": 883,
    "start_time": "2021-07-02T20:43:52.225Z"
   },
   {
    "duration": 766,
    "start_time": "2021-07-02T20:45:18.896Z"
   },
   {
    "duration": 262,
    "start_time": "2021-07-02T20:45:42.530Z"
   },
   {
    "duration": 270,
    "start_time": "2021-07-02T20:45:53.991Z"
   },
   {
    "duration": 4,
    "start_time": "2021-07-02T20:45:59.303Z"
   },
   {
    "duration": 1081,
    "start_time": "2021-07-02T20:46:09.200Z"
   },
   {
    "duration": 839,
    "start_time": "2021-07-02T20:46:49.345Z"
   },
   {
    "duration": 7,
    "start_time": "2021-07-02T20:53:28.984Z"
   },
   {
    "duration": 581,
    "start_time": "2021-07-02T20:53:31.857Z"
   },
   {
    "duration": 7,
    "start_time": "2021-07-02T20:53:47.870Z"
   },
   {
    "duration": 503,
    "start_time": "2021-07-02T20:53:51.346Z"
   },
   {
    "duration": 8,
    "start_time": "2021-07-02T20:55:01.506Z"
   },
   {
    "duration": 341,
    "start_time": "2021-07-02T20:55:03.951Z"
   },
   {
    "duration": 7,
    "start_time": "2021-07-02T20:55:17.534Z"
   },
   {
    "duration": 840,
    "start_time": "2021-07-02T20:55:31.778Z"
   },
   {
    "duration": 833,
    "start_time": "2021-07-02T20:55:57.835Z"
   },
   {
    "duration": 911,
    "start_time": "2021-07-02T20:57:04.109Z"
   },
   {
    "duration": 852,
    "start_time": "2021-07-02T20:57:51.054Z"
   },
   {
    "duration": 259,
    "start_time": "2021-07-02T20:58:44.075Z"
   },
   {
    "duration": 281,
    "start_time": "2021-07-02T20:58:48.460Z"
   },
   {
    "duration": 1500,
    "start_time": "2021-07-02T20:59:27.588Z"
   },
   {
    "duration": 268,
    "start_time": "2021-07-02T20:59:36.775Z"
   },
   {
    "duration": 275,
    "start_time": "2021-07-02T21:00:31.373Z"
   },
   {
    "duration": 292,
    "start_time": "2021-07-02T21:00:45.611Z"
   },
   {
    "duration": 113079,
    "start_time": "2021-07-02T21:01:07.986Z"
   },
   {
    "duration": 11953,
    "start_time": "2021-07-02T21:03:04.402Z"
   },
   {
    "duration": -183,
    "start_time": "2021-07-02T21:04:30.846Z"
   },
   {
    "duration": 273,
    "start_time": "2021-07-02T21:04:42.396Z"
   },
   {
    "duration": 22393,
    "start_time": "2021-07-02T21:04:48.319Z"
   },
   {
    "duration": 270,
    "start_time": "2021-07-02T21:05:11.862Z"
   },
   {
    "duration": 705,
    "start_time": "2021-07-02T21:05:36.270Z"
   },
   {
    "duration": 346,
    "start_time": "2021-07-02T21:06:10.017Z"
   },
   {
    "duration": 15,
    "start_time": "2021-07-02T21:06:27.962Z"
   },
   {
    "duration": 893,
    "start_time": "2021-07-05T16:40:10.753Z"
   },
   {
    "duration": 217,
    "start_time": "2021-07-05T16:40:11.648Z"
   },
   {
    "duration": 6,
    "start_time": "2021-07-05T16:40:11.868Z"
   },
   {
    "duration": 823,
    "start_time": "2021-07-05T16:40:11.876Z"
   },
   {
    "duration": 780,
    "start_time": "2021-07-05T16:40:12.710Z"
   },
   {
    "duration": 117,
    "start_time": "2021-07-05T16:40:13.493Z"
   },
   {
    "duration": 51,
    "start_time": "2021-07-05T16:40:13.612Z"
   },
   {
    "duration": 73,
    "start_time": "2021-07-05T16:40:13.667Z"
   },
   {
    "duration": 1218,
    "start_time": "2021-07-05T16:40:13.743Z"
   },
   {
    "duration": 46,
    "start_time": "2021-07-05T16:40:14.963Z"
   },
   {
    "duration": 16,
    "start_time": "2021-07-05T16:40:15.011Z"
   },
   {
    "duration": 35,
    "start_time": "2021-07-05T16:40:15.030Z"
   },
   {
    "duration": 42,
    "start_time": "2021-07-05T16:40:15.067Z"
   },
   {
    "duration": 10,
    "start_time": "2021-07-05T16:40:15.112Z"
   },
   {
    "duration": 19,
    "start_time": "2021-07-05T16:40:15.124Z"
   },
   {
    "duration": 8,
    "start_time": "2021-07-05T16:40:15.145Z"
   },
   {
    "duration": 18,
    "start_time": "2021-07-05T16:40:15.155Z"
   },
   {
    "duration": 415,
    "start_time": "2021-07-05T16:40:15.175Z"
   },
   {
    "duration": 4322,
    "start_time": "2021-07-05T16:40:15.593Z"
   },
   {
    "duration": 7,
    "start_time": "2021-07-05T16:40:19.917Z"
   },
   {
    "duration": 968,
    "start_time": "2021-07-05T16:40:19.926Z"
   },
   {
    "duration": 891,
    "start_time": "2021-07-05T16:40:20.896Z"
   },
   {
    "duration": 899,
    "start_time": "2021-07-05T16:40:21.791Z"
   },
   {
    "duration": 887,
    "start_time": "2021-07-05T16:50:17.570Z"
   },
   {
    "duration": 606,
    "start_time": "2021-07-05T16:50:52.739Z"
   },
   {
    "duration": 416,
    "start_time": "2021-07-05T16:50:55.499Z"
   },
   {
    "duration": 5,
    "start_time": "2021-07-05T16:51:14.480Z"
   },
   {
    "duration": 110,
    "start_time": "2021-07-05T16:51:17.917Z"
   },
   {
    "duration": 12,
    "start_time": "2021-07-05T16:51:34.024Z"
   },
   {
    "duration": 22,
    "start_time": "2021-07-05T16:52:02.756Z"
   },
   {
    "duration": 10,
    "start_time": "2021-07-05T16:52:15.372Z"
   },
   {
    "duration": 13,
    "start_time": "2021-07-05T16:52:18.623Z"
   },
   {
    "duration": 12,
    "start_time": "2021-07-05T16:52:21.704Z"
   },
   {
    "duration": 35,
    "start_time": "2021-07-05T16:52:34.198Z"
   },
   {
    "duration": 1432,
    "start_time": "2021-07-05T16:52:55.062Z"
   },
   {
    "duration": 100,
    "start_time": "2021-07-05T16:52:56.496Z"
   },
   {
    "duration": 5,
    "start_time": "2021-07-05T16:52:56.599Z"
   },
   {
    "duration": 895,
    "start_time": "2021-07-05T16:52:56.607Z"
   },
   {
    "duration": 752,
    "start_time": "2021-07-05T16:52:57.509Z"
   },
   {
    "duration": 106,
    "start_time": "2021-07-05T16:52:58.263Z"
   },
   {
    "duration": 72,
    "start_time": "2021-07-05T16:52:58.371Z"
   },
   {
    "duration": 79,
    "start_time": "2021-07-05T16:52:58.446Z"
   },
   {
    "duration": 1633,
    "start_time": "2021-07-05T16:52:58.529Z"
   },
   {
    "duration": 55,
    "start_time": "2021-07-05T16:53:00.165Z"
   },
   {
    "duration": 25,
    "start_time": "2021-07-05T16:53:00.222Z"
   },
   {
    "duration": 36,
    "start_time": "2021-07-05T16:53:00.250Z"
   },
   {
    "duration": 13,
    "start_time": "2021-07-05T16:53:00.309Z"
   },
   {
    "duration": 10,
    "start_time": "2021-07-05T16:53:00.326Z"
   },
   {
    "duration": 28,
    "start_time": "2021-07-05T16:53:00.339Z"
   },
   {
    "duration": 10,
    "start_time": "2021-07-05T16:53:00.370Z"
   },
   {
    "duration": 22,
    "start_time": "2021-07-05T16:53:00.409Z"
   },
   {
    "duration": 557,
    "start_time": "2021-07-05T16:53:00.434Z"
   },
   {
    "duration": 6246,
    "start_time": "2021-07-05T16:53:00.994Z"
   },
   {
    "duration": 9,
    "start_time": "2021-07-05T16:53:07.243Z"
   },
   {
    "duration": 1329,
    "start_time": "2021-07-05T16:53:07.256Z"
   },
   {
    "duration": 1300,
    "start_time": "2021-07-05T16:53:08.588Z"
   },
   {
    "duration": 1359,
    "start_time": "2021-07-05T16:53:09.894Z"
   },
   {
    "duration": 203,
    "start_time": "2021-07-05T16:53:11.274Z"
   },
   {
    "duration": 43,
    "start_time": "2021-07-05T16:53:30.931Z"
   },
   {
    "duration": 1191,
    "start_time": "2021-07-05T17:02:00.757Z"
   },
   {
    "duration": 45,
    "start_time": "2021-07-05T17:04:23.280Z"
   },
   {
    "duration": 60,
    "start_time": "2021-07-05T17:04:45.173Z"
   },
   {
    "duration": 4,
    "start_time": "2021-07-05T17:04:51.824Z"
   },
   {
    "duration": 12,
    "start_time": "2021-07-05T17:05:05.896Z"
   },
   {
    "duration": 27,
    "start_time": "2021-07-05T17:05:10.456Z"
   },
   {
    "duration": 26,
    "start_time": "2021-07-05T17:05:20.361Z"
   },
   {
    "duration": 65,
    "start_time": "2021-07-05T17:06:10.854Z"
   },
   {
    "duration": 505,
    "start_time": "2021-07-05T17:06:27.040Z"
   },
   {
    "duration": 396,
    "start_time": "2021-07-05T17:06:51.903Z"
   },
   {
    "duration": 51,
    "start_time": "2021-07-05T17:06:54.940Z"
   },
   {
    "duration": 64,
    "start_time": "2021-07-05T17:07:21.428Z"
   },
   {
    "duration": 176,
    "start_time": "2021-07-05T18:23:52.855Z"
   },
   {
    "duration": 165,
    "start_time": "2021-07-05T18:24:09.463Z"
   },
   {
    "duration": 148,
    "start_time": "2021-07-05T18:24:17.021Z"
   },
   {
    "duration": 144,
    "start_time": "2021-07-05T18:24:29.822Z"
   },
   {
    "duration": 1460,
    "start_time": "2021-07-05T18:31:26.054Z"
   },
   {
    "duration": 102,
    "start_time": "2021-07-05T18:31:27.518Z"
   },
   {
    "duration": 6,
    "start_time": "2021-07-05T18:31:27.623Z"
   },
   {
    "duration": 830,
    "start_time": "2021-07-05T18:31:27.632Z"
   },
   {
    "duration": 891,
    "start_time": "2021-07-05T18:31:28.464Z"
   },
   {
    "duration": 115,
    "start_time": "2021-07-05T18:31:29.357Z"
   },
   {
    "duration": 70,
    "start_time": "2021-07-05T18:31:29.474Z"
   },
   {
    "duration": 61,
    "start_time": "2021-07-05T18:31:29.548Z"
   },
   {
    "duration": 1246,
    "start_time": "2021-07-05T18:31:29.613Z"
   },
   {
    "duration": 30,
    "start_time": "2021-07-05T18:31:30.862Z"
   },
   {
    "duration": 63,
    "start_time": "2021-07-05T18:31:30.910Z"
   },
   {
    "duration": 68,
    "start_time": "2021-07-05T18:31:30.976Z"
   },
   {
    "duration": 56,
    "start_time": "2021-07-05T18:31:31.047Z"
   },
   {
    "duration": 36,
    "start_time": "2021-07-05T18:31:31.106Z"
   },
   {
    "duration": 59,
    "start_time": "2021-07-05T18:31:31.144Z"
   },
   {
    "duration": 73,
    "start_time": "2021-07-05T18:31:31.205Z"
   },
   {
    "duration": 166,
    "start_time": "2021-07-05T18:31:31.280Z"
   },
   {
    "duration": 490,
    "start_time": "2021-07-05T18:31:31.448Z"
   },
   {
    "duration": 4449,
    "start_time": "2021-07-05T18:31:31.941Z"
   },
   {
    "duration": 17,
    "start_time": "2021-07-05T18:31:36.393Z"
   },
   {
    "duration": 931,
    "start_time": "2021-07-05T18:31:36.412Z"
   },
   {
    "duration": 1018,
    "start_time": "2021-07-05T18:31:37.346Z"
   },
   {
    "duration": 999,
    "start_time": "2021-07-05T18:31:38.368Z"
   },
   {
    "duration": 4,
    "start_time": "2021-07-05T18:31:39.370Z"
   },
   {
    "duration": 135,
    "start_time": "2021-07-05T18:31:39.376Z"
   },
   {
    "duration": 997,
    "start_time": "2021-07-05T18:31:39.515Z"
   },
   {
    "duration": 104,
    "start_time": "2021-07-05T18:32:22.378Z"
   },
   {
    "duration": 117,
    "start_time": "2021-07-05T18:32:27.943Z"
   },
   {
    "duration": 25,
    "start_time": "2021-07-05T18:32:34.115Z"
   },
   {
    "duration": 1498,
    "start_time": "2021-07-05T18:33:24.613Z"
   },
   {
    "duration": 101,
    "start_time": "2021-07-05T18:33:26.113Z"
   },
   {
    "duration": 6,
    "start_time": "2021-07-05T18:33:26.217Z"
   },
   {
    "duration": 813,
    "start_time": "2021-07-05T18:33:26.225Z"
   },
   {
    "duration": 869,
    "start_time": "2021-07-05T18:33:27.040Z"
   },
   {
    "duration": 107,
    "start_time": "2021-07-05T18:33:27.911Z"
   },
   {
    "duration": 47,
    "start_time": "2021-07-05T18:33:28.021Z"
   },
   {
    "duration": 75,
    "start_time": "2021-07-05T18:33:28.072Z"
   },
   {
    "duration": 1329,
    "start_time": "2021-07-05T18:33:28.150Z"
   },
   {
    "duration": 37,
    "start_time": "2021-07-05T18:33:29.482Z"
   },
   {
    "duration": 28,
    "start_time": "2021-07-05T18:33:29.522Z"
   },
   {
    "duration": 56,
    "start_time": "2021-07-05T18:33:29.553Z"
   },
   {
    "duration": 11,
    "start_time": "2021-07-05T18:33:29.611Z"
   },
   {
    "duration": 10,
    "start_time": "2021-07-05T18:33:29.624Z"
   },
   {
    "duration": 23,
    "start_time": "2021-07-05T18:33:29.636Z"
   },
   {
    "duration": 7,
    "start_time": "2021-07-05T18:33:29.662Z"
   },
   {
    "duration": 40,
    "start_time": "2021-07-05T18:33:29.671Z"
   },
   {
    "duration": 388,
    "start_time": "2021-07-05T18:33:29.714Z"
   },
   {
    "duration": 4660,
    "start_time": "2021-07-05T18:33:30.108Z"
   },
   {
    "duration": 7,
    "start_time": "2021-07-05T18:33:34.770Z"
   },
   {
    "duration": 904,
    "start_time": "2021-07-05T18:33:34.780Z"
   },
   {
    "duration": 894,
    "start_time": "2021-07-05T18:33:35.687Z"
   },
   {
    "duration": 1006,
    "start_time": "2021-07-05T18:33:36.586Z"
   },
   {
    "duration": 14,
    "start_time": "2021-07-05T18:33:37.595Z"
   },
   {
    "duration": 123,
    "start_time": "2021-07-05T18:33:37.612Z"
   },
   {
    "duration": 795,
    "start_time": "2021-07-05T18:33:37.738Z"
   },
   {
    "duration": 7,
    "start_time": "2021-07-05T18:33:38.536Z"
   },
   {
    "duration": 29,
    "start_time": "2021-07-05T18:34:11.174Z"
   },
   {
    "duration": 1571,
    "start_time": "2021-07-05T18:35:56.792Z"
   },
   {
    "duration": 103,
    "start_time": "2021-07-05T18:35:58.365Z"
   },
   {
    "duration": 6,
    "start_time": "2021-07-05T18:35:58.470Z"
   },
   {
    "duration": 811,
    "start_time": "2021-07-05T18:35:58.478Z"
   },
   {
    "duration": 797,
    "start_time": "2021-07-05T18:35:59.292Z"
   },
   {
    "duration": 126,
    "start_time": "2021-07-05T18:36:00.092Z"
   },
   {
    "duration": 54,
    "start_time": "2021-07-05T18:36:00.221Z"
   },
   {
    "duration": 42,
    "start_time": "2021-07-05T18:36:00.312Z"
   },
   {
    "duration": 1366,
    "start_time": "2021-07-05T18:36:00.357Z"
   },
   {
    "duration": 45,
    "start_time": "2021-07-05T18:36:01.726Z"
   },
   {
    "duration": 98,
    "start_time": "2021-07-05T18:36:01.774Z"
   },
   {
    "duration": 56,
    "start_time": "2021-07-05T18:36:01.875Z"
   },
   {
    "duration": 23,
    "start_time": "2021-07-05T18:36:01.934Z"
   },
   {
    "duration": 59,
    "start_time": "2021-07-05T18:36:01.960Z"
   },
   {
    "duration": 35,
    "start_time": "2021-07-05T18:36:02.022Z"
   },
   {
    "duration": 21,
    "start_time": "2021-07-05T18:36:02.060Z"
   },
   {
    "duration": 37,
    "start_time": "2021-07-05T18:36:02.085Z"
   },
   {
    "duration": 546,
    "start_time": "2021-07-05T18:36:02.125Z"
   },
   {
    "duration": 4367,
    "start_time": "2021-07-05T18:36:02.674Z"
   },
   {
    "duration": 7,
    "start_time": "2021-07-05T18:36:07.044Z"
   },
   {
    "duration": 1167,
    "start_time": "2021-07-05T18:36:07.053Z"
   },
   {
    "duration": 897,
    "start_time": "2021-07-05T18:36:08.222Z"
   },
   {
    "duration": 990,
    "start_time": "2021-07-05T18:36:09.124Z"
   },
   {
    "duration": 4,
    "start_time": "2021-07-05T18:36:10.117Z"
   },
   {
    "duration": 140,
    "start_time": "2021-07-05T18:36:10.124Z"
   },
   {
    "duration": 812,
    "start_time": "2021-07-05T18:36:10.267Z"
   },
   {
    "duration": 8,
    "start_time": "2021-07-05T18:36:11.082Z"
   },
   {
    "duration": 467,
    "start_time": "2021-07-05T18:36:11.093Z"
   },
   {
    "duration": 20,
    "start_time": "2021-07-05T18:37:01.458Z"
   },
   {
    "duration": 12,
    "start_time": "2021-07-05T18:37:06.290Z"
   },
   {
    "duration": 18,
    "start_time": "2021-07-05T18:37:30.110Z"
   },
   {
    "duration": 330,
    "start_time": "2021-07-05T18:38:35.036Z"
   },
   {
    "duration": 8,
    "start_time": "2021-07-05T18:38:41.360Z"
   },
   {
    "duration": 24,
    "start_time": "2021-07-05T19:42:13.105Z"
   },
   {
    "duration": 31,
    "start_time": "2021-07-05T19:42:18.205Z"
   },
   {
    "duration": 4,
    "start_time": "2021-07-05T19:44:55.975Z"
   },
   {
    "duration": 246,
    "start_time": "2021-07-05T19:45:04.288Z"
   },
   {
    "duration": 54,
    "start_time": "2021-07-05T19:45:23.351Z"
   },
   {
    "duration": 150,
    "start_time": "2021-07-05T19:45:28.363Z"
   },
   {
    "duration": 7,
    "start_time": "2021-07-05T19:46:27.520Z"
   },
   {
    "duration": 9,
    "start_time": "2021-07-05T19:48:18.250Z"
   },
   {
    "duration": 1183,
    "start_time": "2021-07-05T19:49:09.361Z"
   },
   {
    "duration": 950,
    "start_time": "2021-07-05T19:49:31.422Z"
   },
   {
    "duration": 834,
    "start_time": "2021-07-05T19:49:58.000Z"
   },
   {
    "duration": 485,
    "start_time": "2021-07-05T19:52:31.039Z"
   },
   {
    "duration": 342,
    "start_time": "2021-07-05T19:54:10.445Z"
   },
   {
    "duration": 1574,
    "start_time": "2021-07-05T19:55:14.384Z"
   },
   {
    "duration": 99,
    "start_time": "2021-07-05T19:55:15.961Z"
   },
   {
    "duration": 5,
    "start_time": "2021-07-05T19:55:16.064Z"
   },
   {
    "duration": 1014,
    "start_time": "2021-07-05T19:55:16.072Z"
   },
   {
    "duration": 1104,
    "start_time": "2021-07-05T19:55:17.090Z"
   },
   {
    "duration": 177,
    "start_time": "2021-07-05T19:55:18.198Z"
   },
   {
    "duration": 92,
    "start_time": "2021-07-05T19:55:18.378Z"
   },
   {
    "duration": 81,
    "start_time": "2021-07-05T19:55:18.476Z"
   },
   {
    "duration": 1719,
    "start_time": "2021-07-05T19:55:18.561Z"
   },
   {
    "duration": 59,
    "start_time": "2021-07-05T19:55:20.283Z"
   },
   {
    "duration": 28,
    "start_time": "2021-07-05T19:55:20.346Z"
   },
   {
    "duration": 84,
    "start_time": "2021-07-05T19:55:20.377Z"
   },
   {
    "duration": 18,
    "start_time": "2021-07-05T19:55:20.464Z"
   },
   {
    "duration": 25,
    "start_time": "2021-07-05T19:55:20.484Z"
   },
   {
    "duration": 28,
    "start_time": "2021-07-05T19:55:20.511Z"
   },
   {
    "duration": 21,
    "start_time": "2021-07-05T19:55:20.542Z"
   },
   {
    "duration": 32,
    "start_time": "2021-07-05T19:55:20.565Z"
   },
   {
    "duration": 398,
    "start_time": "2021-07-05T19:55:20.600Z"
   },
   {
    "duration": 4324,
    "start_time": "2021-07-05T19:55:21.000Z"
   },
   {
    "duration": 7,
    "start_time": "2021-07-05T19:55:25.327Z"
   },
   {
    "duration": 883,
    "start_time": "2021-07-05T19:55:25.337Z"
   },
   {
    "duration": 965,
    "start_time": "2021-07-05T19:55:26.223Z"
   },
   {
    "duration": 1185,
    "start_time": "2021-07-05T19:55:27.195Z"
   },
   {
    "duration": 6,
    "start_time": "2021-07-05T19:55:28.384Z"
   },
   {
    "duration": 215,
    "start_time": "2021-07-05T19:55:28.394Z"
   },
   {
    "duration": 1111,
    "start_time": "2021-07-05T19:55:28.612Z"
   },
   {
    "duration": 9,
    "start_time": "2021-07-05T19:55:29.727Z"
   },
   {
    "duration": 14,
    "start_time": "2021-07-05T19:55:29.739Z"
   },
   {
    "duration": 6,
    "start_time": "2021-07-05T19:55:29.756Z"
   },
   {
    "duration": 48,
    "start_time": "2021-07-05T19:55:29.765Z"
   },
   {
    "duration": 541,
    "start_time": "2021-07-05T19:55:29.817Z"
   },
   {
    "duration": -57,
    "start_time": "2021-07-05T19:55:30.419Z"
   },
   {
    "duration": -65,
    "start_time": "2021-07-05T19:55:30.429Z"
   },
   {
    "duration": -69,
    "start_time": "2021-07-05T19:55:30.434Z"
   },
   {
    "duration": 21,
    "start_time": "2021-07-05T19:55:48.436Z"
   },
   {
    "duration": 10,
    "start_time": "2021-07-05T19:55:49.714Z"
   },
   {
    "duration": 1060,
    "start_time": "2021-07-05T19:55:50.930Z"
   },
   {
    "duration": 358,
    "start_time": "2021-07-05T19:55:57.108Z"
   },
   {
    "duration": 27,
    "start_time": "2021-07-05T19:56:32.131Z"
   },
   {
    "duration": 1538,
    "start_time": "2021-07-05T19:57:21.225Z"
   },
   {
    "duration": 100,
    "start_time": "2021-07-05T19:57:22.765Z"
   },
   {
    "duration": 6,
    "start_time": "2021-07-05T19:57:22.869Z"
   },
   {
    "duration": 804,
    "start_time": "2021-07-05T19:57:22.879Z"
   },
   {
    "duration": 759,
    "start_time": "2021-07-05T19:57:23.685Z"
   },
   {
    "duration": 174,
    "start_time": "2021-07-05T19:57:24.448Z"
   },
   {
    "duration": 95,
    "start_time": "2021-07-05T19:57:24.626Z"
   },
   {
    "duration": 59,
    "start_time": "2021-07-05T19:57:24.727Z"
   },
   {
    "duration": 1148,
    "start_time": "2021-07-05T19:57:24.809Z"
   },
   {
    "duration": 50,
    "start_time": "2021-07-05T19:57:25.960Z"
   },
   {
    "duration": 24,
    "start_time": "2021-07-05T19:57:26.013Z"
   },
   {
    "duration": 34,
    "start_time": "2021-07-05T19:57:26.041Z"
   },
   {
    "duration": 39,
    "start_time": "2021-07-05T19:57:26.078Z"
   },
   {
    "duration": 28,
    "start_time": "2021-07-05T19:57:26.128Z"
   },
   {
    "duration": 20,
    "start_time": "2021-07-05T19:57:26.158Z"
   },
   {
    "duration": 8,
    "start_time": "2021-07-05T19:57:26.181Z"
   },
   {
    "duration": 25,
    "start_time": "2021-07-05T19:57:26.192Z"
   },
   {
    "duration": 394,
    "start_time": "2021-07-05T19:57:26.219Z"
   },
   {
    "duration": 4726,
    "start_time": "2021-07-05T19:57:26.615Z"
   },
   {
    "duration": 9,
    "start_time": "2021-07-05T19:57:31.345Z"
   },
   {
    "duration": 1048,
    "start_time": "2021-07-05T19:57:31.358Z"
   },
   {
    "duration": 1002,
    "start_time": "2021-07-05T19:57:32.410Z"
   },
   {
    "duration": 1038,
    "start_time": "2021-07-05T19:57:33.418Z"
   },
   {
    "duration": 4,
    "start_time": "2021-07-05T19:57:34.459Z"
   },
   {
    "duration": 137,
    "start_time": "2021-07-05T19:57:34.466Z"
   },
   {
    "duration": 916,
    "start_time": "2021-07-05T19:57:34.609Z"
   },
   {
    "duration": 8,
    "start_time": "2021-07-05T19:57:35.529Z"
   },
   {
    "duration": 20,
    "start_time": "2021-07-05T19:57:35.540Z"
   },
   {
    "duration": 6,
    "start_time": "2021-07-05T19:57:35.563Z"
   },
   {
    "duration": 43,
    "start_time": "2021-07-05T19:57:35.571Z"
   },
   {
    "duration": 35,
    "start_time": "2021-07-05T19:57:35.616Z"
   },
   {
    "duration": 12,
    "start_time": "2021-07-05T19:57:35.653Z"
   },
   {
    "duration": 810,
    "start_time": "2021-07-05T19:57:35.668Z"
   },
   {
    "duration": 529,
    "start_time": "2021-07-05T19:57:36.481Z"
   },
   {
    "duration": 1984,
    "start_time": "2021-07-05T19:58:53.120Z"
   },
   {
    "duration": 1555,
    "start_time": "2021-07-05T20:03:07.140Z"
   },
   {
    "duration": 11,
    "start_time": "2021-07-05T20:06:08.782Z"
   },
   {
    "duration": 617,
    "start_time": "2021-07-05T20:06:12.350Z"
   },
   {
    "duration": 396,
    "start_time": "2021-07-05T20:06:16.517Z"
   },
   {
    "duration": 1316,
    "start_time": "2021-07-05T20:06:18.823Z"
   },
   {
    "duration": 1324,
    "start_time": "2021-07-05T20:06:22.154Z"
   },
   {
    "duration": 10,
    "start_time": "2021-07-05T20:06:41.601Z"
   },
   {
    "duration": 741,
    "start_time": "2021-07-05T20:06:43.140Z"
   },
   {
    "duration": 1151,
    "start_time": "2021-07-05T20:06:46.757Z"
   },
   {
    "duration": 9,
    "start_time": "2021-07-05T20:07:01.219Z"
   },
   {
    "duration": 659,
    "start_time": "2021-07-05T20:07:02.404Z"
   },
   {
    "duration": 327,
    "start_time": "2021-07-05T20:07:06.537Z"
   },
   {
    "duration": 1352,
    "start_time": "2021-07-05T20:07:08.629Z"
   },
   {
    "duration": 1030,
    "start_time": "2021-07-05T20:07:11.726Z"
   },
   {
    "duration": 351,
    "start_time": "2021-07-05T20:09:12.060Z"
   },
   {
    "duration": 201,
    "start_time": "2021-07-05T20:11:53.196Z"
   },
   {
    "duration": 102,
    "start_time": "2021-07-05T20:12:13.064Z"
   },
   {
    "duration": 3,
    "start_time": "2021-07-05T20:12:16.185Z"
   },
   {
    "duration": 43820,
    "start_time": "2021-07-05T20:12:29.624Z"
   },
   {
    "duration": 348,
    "start_time": "2021-07-05T20:20:56.276Z"
   },
   {
    "duration": 372850,
    "start_time": "2021-07-05T20:21:08.314Z"
   },
   {
    "duration": 397,
    "start_time": "2021-07-05T20:34:14.726Z"
   },
   {
    "duration": 15,
    "start_time": "2021-07-05T20:34:42.801Z"
   },
   {
    "duration": 2016,
    "start_time": "2021-07-05T20:34:49.390Z"
   },
   {
    "duration": 9,
    "start_time": "2021-07-05T20:35:02.913Z"
   },
   {
    "duration": 1993,
    "start_time": "2021-07-05T20:35:07.084Z"
   },
   {
    "duration": 1801,
    "start_time": "2021-07-05T20:35:39.675Z"
   },
   {
    "duration": 2585,
    "start_time": "2021-07-05T20:35:44.975Z"
   },
   {
    "duration": 1856,
    "start_time": "2021-07-05T20:35:49.927Z"
   },
   {
    "duration": 1304,
    "start_time": "2021-07-05T20:36:14.666Z"
   },
   {
    "duration": 2089,
    "start_time": "2021-07-05T20:36:21.064Z"
   },
   {
    "duration": 319,
    "start_time": "2021-07-05T20:36:59.452Z"
   },
   {
    "duration": 2856,
    "start_time": "2021-07-05T20:37:05.120Z"
   },
   {
    "duration": 331,
    "start_time": "2021-07-05T20:37:21.581Z"
   },
   {
    "duration": 779,
    "start_time": "2021-07-05T20:38:52.401Z"
   },
   {
    "duration": 618,
    "start_time": "2021-07-05T20:39:00.166Z"
   },
   {
    "duration": 320,
    "start_time": "2021-07-05T20:39:07.857Z"
   },
   {
    "duration": 1310,
    "start_time": "2021-07-05T20:39:25.553Z"
   },
   {
    "duration": 1678,
    "start_time": "2021-07-05T20:39:35.401Z"
   },
   {
    "duration": 46833,
    "start_time": "2021-07-05T20:39:48.170Z"
   },
   {
    "duration": 7,
    "start_time": "2021-07-05T20:45:14.634Z"
   },
   {
    "duration": 231,
    "start_time": "2021-07-05T20:46:29.078Z"
   },
   {
    "duration": 9,
    "start_time": "2021-07-05T20:46:32.855Z"
   },
   {
    "duration": 35,
    "start_time": "2021-07-05T20:47:20.545Z"
   },
   {
    "duration": 45,
    "start_time": "2021-07-05T20:47:26.173Z"
   },
   {
    "duration": 278,
    "start_time": "2021-07-05T20:47:46.658Z"
   },
   {
    "duration": 132,
    "start_time": "2021-07-05T20:48:00.089Z"
   },
   {
    "duration": 79,
    "start_time": "2021-07-05T20:48:11.545Z"
   },
   {
    "duration": 409,
    "start_time": "2021-07-05T20:48:28.925Z"
   },
   {
    "duration": 16,
    "start_time": "2021-07-05T20:48:31.267Z"
   },
   {
    "duration": 4,
    "start_time": "2021-07-05T20:54:53.580Z"
   },
   {
    "duration": 2407,
    "start_time": "2021-07-05T20:57:05.863Z"
   },
   {
    "duration": 109649,
    "start_time": "2021-07-05T20:57:46.546Z"
   },
   {
    "duration": 6879,
    "start_time": "2021-07-05T20:59:55.721Z"
   },
   {
    "duration": 6556,
    "start_time": "2021-07-05T21:00:22.807Z"
   },
   {
    "duration": 185976,
    "start_time": "2021-07-05T21:01:05.089Z"
   },
   {
    "duration": 3026,
    "start_time": "2021-07-05T21:05:55.945Z"
   },
   {
    "duration": 251,
    "start_time": "2021-07-05T21:16:20.699Z"
   },
   {
    "duration": 200719,
    "start_time": "2021-07-05T21:16:35.122Z"
   },
   {
    "duration": 402,
    "start_time": "2021-07-05T21:22:10.027Z"
   },
   {
    "duration": 602,
    "start_time": "2021-07-05T21:22:17.909Z"
   },
   {
    "duration": 298,
    "start_time": "2021-07-05T21:22:32.120Z"
   },
   {
    "duration": 247,
    "start_time": "2021-07-05T21:22:38.252Z"
   },
   {
    "duration": 210,
    "start_time": "2021-07-05T21:22:41.247Z"
   },
   {
    "duration": 244,
    "start_time": "2021-07-05T21:22:44.225Z"
   },
   {
    "duration": 220,
    "start_time": "2021-07-05T21:23:10.347Z"
   },
   {
    "duration": 223,
    "start_time": "2021-07-05T21:23:42.204Z"
   },
   {
    "duration": 1577,
    "start_time": "2021-07-06T05:21:06.003Z"
   },
   {
    "duration": 101,
    "start_time": "2021-07-06T05:21:07.583Z"
   },
   {
    "duration": 6,
    "start_time": "2021-07-06T05:21:07.688Z"
   },
   {
    "duration": 805,
    "start_time": "2021-07-06T05:21:07.696Z"
   },
   {
    "duration": 756,
    "start_time": "2021-07-06T05:21:08.504Z"
   },
   {
    "duration": 106,
    "start_time": "2021-07-06T05:21:09.268Z"
   },
   {
    "duration": 45,
    "start_time": "2021-07-06T05:21:09.376Z"
   },
   {
    "duration": 72,
    "start_time": "2021-07-06T05:21:09.424Z"
   },
   {
    "duration": 1109,
    "start_time": "2021-07-06T05:21:09.499Z"
   },
   {
    "duration": 30,
    "start_time": "2021-07-06T05:21:10.610Z"
   },
   {
    "duration": 38,
    "start_time": "2021-07-06T05:21:10.642Z"
   },
   {
    "duration": 36,
    "start_time": "2021-07-06T05:21:10.683Z"
   },
   {
    "duration": 9,
    "start_time": "2021-07-06T05:21:10.721Z"
   },
   {
    "duration": 36,
    "start_time": "2021-07-06T05:21:10.732Z"
   },
   {
    "duration": 19,
    "start_time": "2021-07-06T05:21:10.771Z"
   },
   {
    "duration": 7,
    "start_time": "2021-07-06T05:21:10.793Z"
   },
   {
    "duration": 15,
    "start_time": "2021-07-06T05:21:10.802Z"
   },
   {
    "duration": 394,
    "start_time": "2021-07-06T05:21:10.819Z"
   },
   {
    "duration": 4656,
    "start_time": "2021-07-06T05:21:11.216Z"
   },
   {
    "duration": 7,
    "start_time": "2021-07-06T05:21:15.875Z"
   },
   {
    "duration": 1073,
    "start_time": "2021-07-06T05:21:15.884Z"
   },
   {
    "duration": 1060,
    "start_time": "2021-07-06T05:21:16.959Z"
   },
   {
    "duration": 865,
    "start_time": "2021-07-06T05:21:18.024Z"
   },
   {
    "duration": 5,
    "start_time": "2021-07-06T05:21:18.892Z"
   },
   {
    "duration": 114,
    "start_time": "2021-07-06T05:21:18.899Z"
   },
   {
    "duration": 736,
    "start_time": "2021-07-06T05:21:19.015Z"
   },
   {
    "duration": 13,
    "start_time": "2021-07-06T05:21:19.754Z"
   },
   {
    "duration": 12,
    "start_time": "2021-07-06T05:21:19.769Z"
   },
   {
    "duration": 5,
    "start_time": "2021-07-06T05:21:19.783Z"
   },
   {
    "duration": 10,
    "start_time": "2021-07-06T05:21:19.790Z"
   },
   {
    "duration": 20,
    "start_time": "2021-07-06T05:21:19.803Z"
   },
   {
    "duration": 9,
    "start_time": "2021-07-06T05:21:19.826Z"
   },
   {
    "duration": 15,
    "start_time": "2021-07-06T05:21:19.838Z"
   },
   {
    "duration": 689,
    "start_time": "2021-07-06T05:21:19.855Z"
   },
   {
    "duration": 325,
    "start_time": "2021-07-06T05:21:20.546Z"
   },
   {
    "duration": 409,
    "start_time": "2021-07-06T05:21:20.874Z"
   },
   {
    "duration": 22,
    "start_time": "2021-07-06T05:21:21.286Z"
   },
   {
    "duration": 1310,
    "start_time": "2021-07-06T05:21:21.310Z"
   },
   {
    "duration": 368,
    "start_time": "2021-07-06T05:21:22.622Z"
   },
   {
    "duration": 2034,
    "start_time": "2021-07-06T05:21:22.992Z"
   },
   {
    "duration": 341,
    "start_time": "2021-07-06T05:21:25.028Z"
   },
   {
    "duration": 24877,
    "start_time": "2021-07-06T05:21:25.373Z"
   },
   {
    "duration": 42,
    "start_time": "2021-07-06T05:21:50.253Z"
   },
   {
    "duration": 2049,
    "start_time": "2021-07-06T05:21:50.298Z"
   },
   {
    "duration": 235,
    "start_time": "2021-07-06T05:21:52.350Z"
   },
   {
    "duration": 17,
    "start_time": "2021-07-06T05:21:52.588Z"
   },
   {
    "duration": 1122369,
    "start_time": "2021-07-06T05:21:52.608Z"
   },
   {
    "duration": 8049,
    "start_time": "2021-07-06T05:40:34.980Z"
   },
   {
    "duration": 8174,
    "start_time": "2021-07-06T05:41:31.233Z"
   },
   {
    "duration": 3370712,
    "start_time": "2021-07-06T05:42:53.745Z"
   },
   {
    "duration": 7624,
    "start_time": "2021-07-06T06:59:40.329Z"
   },
   {
    "duration": 2260679,
    "start_time": "2021-07-06T07:00:03.515Z"
   },
   {
    "duration": 8920,
    "start_time": "2021-07-06T07:43:53.581Z"
   },
   {
    "duration": 1033375,
    "start_time": "2021-07-06T07:44:14.065Z"
   },
   {
    "duration": 8254,
    "start_time": "2021-07-06T08:46:11.798Z"
   },
   {
    "duration": 24,
    "start_time": "2021-07-06T09:21:23.749Z"
   },
   {
    "duration": 11,
    "start_time": "2021-07-06T09:21:29.007Z"
   },
   {
    "duration": 503,
    "start_time": "2021-07-06T09:22:29.416Z"
   },
   {
    "duration": 11,
    "start_time": "2021-07-06T09:22:32.760Z"
   },
   {
    "duration": 5,
    "start_time": "2021-07-06T09:22:46.505Z"
   },
   {
    "duration": 14,
    "start_time": "2021-07-06T09:22:54.472Z"
   },
   {
    "duration": 12,
    "start_time": "2021-07-06T09:23:17.991Z"
   },
   {
    "duration": 18,
    "start_time": "2021-07-06T09:23:25.165Z"
   },
   {
    "duration": 30,
    "start_time": "2021-07-06T09:23:32.658Z"
   },
   {
    "duration": 34,
    "start_time": "2021-07-06T09:23:45.248Z"
   },
   {
    "duration": 19,
    "start_time": "2021-07-06T09:23:50.255Z"
   },
   {
    "duration": 17,
    "start_time": "2021-07-06T09:24:42.320Z"
   },
   {
    "duration": 23,
    "start_time": "2021-07-06T09:26:08.974Z"
   },
   {
    "duration": 339,
    "start_time": "2021-07-06T09:26:12.462Z"
   },
   {
    "duration": 323,
    "start_time": "2021-07-06T09:26:15.286Z"
   },
   {
    "duration": 7,
    "start_time": "2021-07-06T09:26:26.174Z"
   },
   {
    "duration": 14,
    "start_time": "2021-07-06T09:26:35.574Z"
   },
   {
    "duration": 13,
    "start_time": "2021-07-06T09:26:44.871Z"
   },
   {
    "duration": 399,
    "start_time": "2021-07-06T09:29:01.085Z"
   },
   {
    "duration": 549,
    "start_time": "2021-07-06T09:29:19.044Z"
   },
   {
    "duration": 457,
    "start_time": "2021-07-06T09:30:09.324Z"
   },
   {
    "duration": 454,
    "start_time": "2021-07-06T09:30:24.541Z"
   },
   {
    "duration": 501,
    "start_time": "2021-07-06T09:31:50.740Z"
   },
   {
    "duration": 508,
    "start_time": "2021-07-06T09:32:08.794Z"
   },
   {
    "duration": 8375,
    "start_time": "2021-07-06T09:33:38.131Z"
   },
   {
    "duration": 1733109,
    "start_time": "2021-07-06T09:34:59.099Z"
   },
   {
    "duration": 11366,
    "start_time": "2021-07-06T10:06:07.981Z"
   },
   {
    "duration": 14,
    "start_time": "2021-07-06T10:06:49.269Z"
   },
   {
    "duration": 499,
    "start_time": "2021-07-06T10:06:50.005Z"
   },
   {
    "duration": 1846,
    "start_time": "2021-07-06T10:08:28.965Z"
   },
   {
    "duration": 119,
    "start_time": "2021-07-06T10:08:30.814Z"
   },
   {
    "duration": 6,
    "start_time": "2021-07-06T10:08:30.936Z"
   },
   {
    "duration": 832,
    "start_time": "2021-07-06T10:08:30.945Z"
   },
   {
    "duration": 768,
    "start_time": "2021-07-06T10:08:31.780Z"
   },
   {
    "duration": 117,
    "start_time": "2021-07-06T10:08:32.551Z"
   },
   {
    "duration": 97,
    "start_time": "2021-07-06T10:08:32.671Z"
   },
   {
    "duration": 41,
    "start_time": "2021-07-06T10:08:32.775Z"
   },
   {
    "duration": 1131,
    "start_time": "2021-07-06T10:08:32.820Z"
   },
   {
    "duration": 38,
    "start_time": "2021-07-06T10:08:33.954Z"
   },
   {
    "duration": 30,
    "start_time": "2021-07-06T10:08:33.995Z"
   },
   {
    "duration": 63,
    "start_time": "2021-07-06T10:08:34.029Z"
   },
   {
    "duration": 12,
    "start_time": "2021-07-06T10:08:34.095Z"
   },
   {
    "duration": 7,
    "start_time": "2021-07-06T10:08:34.109Z"
   },
   {
    "duration": 48,
    "start_time": "2021-07-06T10:08:34.119Z"
   },
   {
    "duration": 9,
    "start_time": "2021-07-06T10:08:34.169Z"
   },
   {
    "duration": 17,
    "start_time": "2021-07-06T10:08:34.181Z"
   },
   {
    "duration": 515,
    "start_time": "2021-07-06T10:08:34.201Z"
   },
   {
    "duration": 4191,
    "start_time": "2021-07-06T10:08:34.719Z"
   },
   {
    "duration": 7,
    "start_time": "2021-07-06T10:08:38.913Z"
   },
   {
    "duration": 887,
    "start_time": "2021-07-06T10:08:38.922Z"
   },
   {
    "duration": 939,
    "start_time": "2021-07-06T10:08:39.812Z"
   },
   {
    "duration": 863,
    "start_time": "2021-07-06T10:08:40.757Z"
   },
   {
    "duration": 4,
    "start_time": "2021-07-06T10:08:41.624Z"
   },
   {
    "duration": 130,
    "start_time": "2021-07-06T10:08:41.631Z"
   },
   {
    "duration": 791,
    "start_time": "2021-07-06T10:08:41.767Z"
   },
   {
    "duration": 7,
    "start_time": "2021-07-06T10:08:42.561Z"
   },
   {
    "duration": 13,
    "start_time": "2021-07-06T10:08:42.570Z"
   },
   {
    "duration": 6,
    "start_time": "2021-07-06T10:08:42.586Z"
   },
   {
    "duration": 10,
    "start_time": "2021-07-06T10:08:42.595Z"
   },
   {
    "duration": 8,
    "start_time": "2021-07-06T10:08:42.607Z"
   },
   {
    "duration": 54,
    "start_time": "2021-07-06T10:08:42.618Z"
   },
   {
    "duration": 8,
    "start_time": "2021-07-06T10:08:42.675Z"
   },
   {
    "duration": 739,
    "start_time": "2021-07-06T10:08:42.686Z"
   },
   {
    "duration": 244,
    "start_time": "2021-07-06T10:08:43.428Z"
   },
   {
    "duration": 404,
    "start_time": "2021-07-06T10:08:43.675Z"
   },
   {
    "duration": 23,
    "start_time": "2021-07-06T10:08:44.082Z"
   },
   {
    "duration": 1337,
    "start_time": "2021-07-06T10:08:44.108Z"
   },
   {
    "duration": 286,
    "start_time": "2021-07-06T10:08:45.448Z"
   },
   {
    "duration": 2481,
    "start_time": "2021-07-06T10:08:45.736Z"
   },
   {
    "duration": 456,
    "start_time": "2021-07-06T10:08:48.219Z"
   },
   {
    "duration": 44771,
    "start_time": "2021-07-06T10:08:48.681Z"
   },
   {
    "duration": 50,
    "start_time": "2021-07-06T10:09:33.455Z"
   },
   {
    "duration": 430676,
    "start_time": "2021-07-06T10:09:33.508Z"
   },
   {
    "duration": 483,
    "start_time": "2021-07-06T10:16:44.187Z"
   },
   {
    "duration": 14,
    "start_time": "2021-07-06T10:16:44.673Z"
   },
   {
    "duration": 1780257,
    "start_time": "2021-07-06T10:16:44.689Z"
   },
   {
    "duration": 2669,
    "start_time": "2021-07-06T10:46:24.949Z"
   },
   {
    "duration": 12,
    "start_time": "2021-07-06T10:46:27.620Z"
   },
   {
    "duration": 536,
    "start_time": "2021-07-06T10:46:27.634Z"
   },
   {
    "duration": 1632,
    "start_time": "2021-07-06T10:49:34.849Z"
   },
   {
    "duration": 108,
    "start_time": "2021-07-06T10:49:36.484Z"
   },
   {
    "duration": 5,
    "start_time": "2021-07-06T10:49:36.595Z"
   },
   {
    "duration": 1155,
    "start_time": "2021-07-06T10:49:36.603Z"
   },
   {
    "duration": 1070,
    "start_time": "2021-07-06T10:49:37.768Z"
   },
   {
    "duration": 133,
    "start_time": "2021-07-06T10:49:38.841Z"
   },
   {
    "duration": 50,
    "start_time": "2021-07-06T10:49:38.977Z"
   },
   {
    "duration": 72,
    "start_time": "2021-07-06T10:49:39.031Z"
   },
   {
    "duration": 1165,
    "start_time": "2021-07-06T10:49:39.106Z"
   },
   {
    "duration": 32,
    "start_time": "2021-07-06T10:49:40.274Z"
   },
   {
    "duration": 19,
    "start_time": "2021-07-06T10:49:40.309Z"
   },
   {
    "duration": 69,
    "start_time": "2021-07-06T10:49:40.331Z"
   },
   {
    "duration": 15,
    "start_time": "2021-07-06T10:49:40.402Z"
   },
   {
    "duration": 9,
    "start_time": "2021-07-06T10:49:40.420Z"
   },
   {
    "duration": 44,
    "start_time": "2021-07-06T10:49:40.431Z"
   },
   {
    "duration": 9,
    "start_time": "2021-07-06T10:49:40.478Z"
   },
   {
    "duration": 14,
    "start_time": "2021-07-06T10:49:40.490Z"
   },
   {
    "duration": 400,
    "start_time": "2021-07-06T10:49:40.507Z"
   },
   {
    "duration": 4437,
    "start_time": "2021-07-06T10:49:40.910Z"
   },
   {
    "duration": 18,
    "start_time": "2021-07-06T10:49:45.350Z"
   },
   {
    "duration": 897,
    "start_time": "2021-07-06T10:49:45.370Z"
   },
   {
    "duration": 1064,
    "start_time": "2021-07-06T10:49:46.269Z"
   },
   {
    "duration": 1390,
    "start_time": "2021-07-06T10:49:47.341Z"
   },
   {
    "duration": 6,
    "start_time": "2021-07-06T10:49:48.735Z"
   },
   {
    "duration": 138,
    "start_time": "2021-07-06T10:49:48.743Z"
   },
   {
    "duration": 750,
    "start_time": "2021-07-06T10:49:48.883Z"
   },
   {
    "duration": 6,
    "start_time": "2021-07-06T10:49:49.636Z"
   },
   {
    "duration": 35,
    "start_time": "2021-07-06T10:49:49.645Z"
   },
   {
    "duration": 6,
    "start_time": "2021-07-06T10:49:49.683Z"
   },
   {
    "duration": 11,
    "start_time": "2021-07-06T10:49:49.692Z"
   },
   {
    "duration": 7,
    "start_time": "2021-07-06T10:49:49.706Z"
   },
   {
    "duration": 9,
    "start_time": "2021-07-06T10:49:49.716Z"
   },
   {
    "duration": 7,
    "start_time": "2021-07-06T10:49:49.768Z"
   },
   {
    "duration": 924,
    "start_time": "2021-07-06T10:49:49.777Z"
   },
   {
    "duration": 274,
    "start_time": "2021-07-06T10:49:50.704Z"
   },
   {
    "duration": 428,
    "start_time": "2021-07-06T10:49:51.070Z"
   },
   {
    "duration": 24,
    "start_time": "2021-07-06T10:49:51.500Z"
   },
   {
    "duration": 1360,
    "start_time": "2021-07-06T10:49:51.527Z"
   },
   {
    "duration": 289,
    "start_time": "2021-07-06T10:49:52.889Z"
   },
   {
    "duration": 2349,
    "start_time": "2021-07-06T10:49:53.181Z"
   },
   {
    "duration": 238,
    "start_time": "2021-07-06T10:49:55.533Z"
   },
   {
    "duration": 40587,
    "start_time": "2021-07-06T10:49:55.775Z"
   },
   {
    "duration": 36,
    "start_time": "2021-07-06T10:50:36.366Z"
   },
   {
    "duration": 178168,
    "start_time": "2021-07-06T10:50:36.405Z"
   },
   {
    "duration": 491,
    "start_time": "2021-07-06T10:53:34.576Z"
   },
   {
    "duration": 17,
    "start_time": "2021-07-06T10:53:35.070Z"
   },
   {
    "duration": 1803790,
    "start_time": "2021-07-06T10:53:35.089Z"
   },
   {
    "duration": 11852,
    "start_time": "2021-07-06T11:23:38.882Z"
   },
   {
    "duration": 10,
    "start_time": "2021-07-06T11:23:50.737Z"
   },
   {
    "duration": 534,
    "start_time": "2021-07-06T11:23:50.749Z"
   },
   {
    "duration": 6,
    "start_time": "2021-07-06T11:26:44.476Z"
   },
   {
    "duration": 6,
    "start_time": "2021-07-06T11:26:52.419Z"
   },
   {
    "duration": 655,
    "start_time": "2021-07-06T11:27:09.053Z"
   },
   {
    "duration": 501,
    "start_time": "2021-07-06T11:27:21.485Z"
   },
   {
    "duration": 6,
    "start_time": "2021-07-06T11:27:25.795Z"
   },
   {
    "duration": 482,
    "start_time": "2021-07-06T11:29:10.195Z"
   },
   {
    "duration": 4,
    "start_time": "2021-07-06T11:29:22.091Z"
   },
   {
    "duration": 4,
    "start_time": "2021-07-06T11:29:26.067Z"
   },
   {
    "duration": 6,
    "start_time": "2021-07-06T11:29:28.971Z"
   },
   {
    "duration": 13,
    "start_time": "2021-07-06T11:29:39.642Z"
   },
   {
    "duration": 119423,
    "start_time": "2021-07-06T11:30:09.171Z"
   },
   {
    "duration": 6,
    "start_time": "2021-07-06T11:32:17.618Z"
   },
   {
    "duration": 192074,
    "start_time": "2021-07-06T11:32:18.707Z"
   },
   {
    "duration": 352,
    "start_time": "2021-07-06T11:37:31.512Z"
   },
   {
    "duration": 6,
    "start_time": "2021-07-06T11:37:35.569Z"
   },
   {
    "duration": 354,
    "start_time": "2021-07-06T11:37:48.008Z"
   },
   {
    "duration": 3,
    "start_time": "2021-07-06T11:37:57.040Z"
   },
   {
    "duration": 312,
    "start_time": "2021-07-06T11:38:07.016Z"
   },
   {
    "duration": 6,
    "start_time": "2021-07-06T11:38:09.879Z"
   },
   {
    "duration": 4,
    "start_time": "2021-07-06T11:38:20.759Z"
   },
   {
    "duration": 4,
    "start_time": "2021-07-06T11:38:23.127Z"
   },
   {
    "duration": 4,
    "start_time": "2021-07-06T11:38:43.612Z"
   },
   {
    "duration": 7,
    "start_time": "2021-07-06T11:38:48.903Z"
   },
   {
    "duration": 92303,
    "start_time": "2021-07-06T11:39:21.319Z"
   },
   {
    "duration": 15715,
    "start_time": "2021-07-06T11:41:05.872Z"
   },
   {
    "duration": 10,
    "start_time": "2021-07-06T11:41:33.382Z"
   },
   {
    "duration": 506,
    "start_time": "2021-07-06T11:41:34.006Z"
   },
   {
    "duration": 215195,
    "start_time": "2021-07-06T11:42:48.575Z"
   },
   {
    "duration": 1583,
    "start_time": "2021-07-06T11:50:13.213Z"
   },
   {
    "duration": 102,
    "start_time": "2021-07-06T11:50:14.799Z"
   },
   {
    "duration": 6,
    "start_time": "2021-07-06T11:50:14.904Z"
   },
   {
    "duration": 797,
    "start_time": "2021-07-06T11:50:14.912Z"
   },
   {
    "duration": 757,
    "start_time": "2021-07-06T11:50:15.712Z"
   },
   {
    "duration": 109,
    "start_time": "2021-07-06T11:50:16.471Z"
   },
   {
    "duration": 52,
    "start_time": "2021-07-06T11:50:16.582Z"
   },
   {
    "duration": 42,
    "start_time": "2021-07-06T11:50:16.670Z"
   },
   {
    "duration": 1162,
    "start_time": "2021-07-06T11:50:16.715Z"
   },
   {
    "duration": 29,
    "start_time": "2021-07-06T11:50:17.879Z"
   },
   {
    "duration": 19,
    "start_time": "2021-07-06T11:50:17.911Z"
   },
   {
    "duration": 61,
    "start_time": "2021-07-06T11:50:17.932Z"
   },
   {
    "duration": 21,
    "start_time": "2021-07-06T11:50:17.995Z"
   },
   {
    "duration": 14,
    "start_time": "2021-07-06T11:50:18.018Z"
   },
   {
    "duration": 19,
    "start_time": "2021-07-06T11:50:18.035Z"
   },
   {
    "duration": 8,
    "start_time": "2021-07-06T11:50:18.068Z"
   },
   {
    "duration": 15,
    "start_time": "2021-07-06T11:50:18.079Z"
   },
   {
    "duration": 393,
    "start_time": "2021-07-06T11:50:18.096Z"
   },
   {
    "duration": 4253,
    "start_time": "2021-07-06T11:50:18.491Z"
   },
   {
    "duration": 20,
    "start_time": "2021-07-06T11:50:22.747Z"
   },
   {
    "duration": 884,
    "start_time": "2021-07-06T11:50:22.770Z"
   },
   {
    "duration": 972,
    "start_time": "2021-07-06T11:50:23.657Z"
   },
   {
    "duration": 1098,
    "start_time": "2021-07-06T11:50:24.637Z"
   },
   {
    "duration": 5,
    "start_time": "2021-07-06T11:50:25.739Z"
   },
   {
    "duration": 133,
    "start_time": "2021-07-06T11:50:25.747Z"
   },
   {
    "duration": 921,
    "start_time": "2021-07-06T11:50:25.882Z"
   },
   {
    "duration": 7,
    "start_time": "2021-07-06T11:50:26.806Z"
   },
   {
    "duration": 20,
    "start_time": "2021-07-06T11:50:26.815Z"
   },
   {
    "duration": 5,
    "start_time": "2021-07-06T11:50:26.838Z"
   },
   {
    "duration": 26,
    "start_time": "2021-07-06T11:50:26.846Z"
   },
   {
    "duration": 23,
    "start_time": "2021-07-06T11:50:26.875Z"
   },
   {
    "duration": 10,
    "start_time": "2021-07-06T11:50:26.900Z"
   },
   {
    "duration": 16,
    "start_time": "2021-07-06T11:50:26.913Z"
   },
   {
    "duration": 698,
    "start_time": "2021-07-06T11:50:26.932Z"
   },
   {
    "duration": 241,
    "start_time": "2021-07-06T11:50:27.632Z"
   },
   {
    "duration": 433,
    "start_time": "2021-07-06T11:50:27.877Z"
   },
   {
    "duration": 24,
    "start_time": "2021-07-06T11:50:28.312Z"
   },
   {
    "duration": 1400,
    "start_time": "2021-07-06T11:50:28.338Z"
   },
   {
    "duration": 281,
    "start_time": "2021-07-06T11:50:29.740Z"
   },
   {
    "duration": 1952,
    "start_time": "2021-07-06T11:50:30.024Z"
   },
   {
    "duration": 290,
    "start_time": "2021-07-06T11:50:31.978Z"
   },
   {
    "duration": 24588,
    "start_time": "2021-07-06T11:50:32.272Z"
   },
   {
    "duration": 35,
    "start_time": "2021-07-06T11:50:56.866Z"
   },
   {
    "duration": 2100,
    "start_time": "2021-07-06T11:50:56.903Z"
   },
   {
    "duration": 267,
    "start_time": "2021-07-06T11:50:59.006Z"
   },
   {
    "duration": 14,
    "start_time": "2021-07-06T11:50:59.275Z"
   },
   {
    "duration": 372,
    "start_time": "2021-07-06T11:50:59.291Z"
   },
   {
    "duration": 243,
    "start_time": "2021-07-06T11:50:59.665Z"
   },
   {
    "duration": 327,
    "start_time": "2021-07-06T11:50:59.910Z"
   },
   {
    "duration": -15,
    "start_time": "2021-07-06T11:51:00.254Z"
   },
   {
    "duration": -15,
    "start_time": "2021-07-06T11:51:00.256Z"
   },
   {
    "duration": 14,
    "start_time": "2021-07-06T11:52:57.409Z"
   },
   {
    "duration": 245,
    "start_time": "2021-07-06T11:53:00.113Z"
   },
   {
    "duration": 1319067,
    "start_time": "2021-07-06T11:53:09.537Z"
   },
   {
    "duration": 19968,
    "start_time": "2021-07-06T12:15:08.607Z"
   },
   {
    "duration": 12,
    "start_time": "2021-07-06T12:15:28.579Z"
   },
   {
    "duration": 522,
    "start_time": "2021-07-06T12:15:28.594Z"
   },
   {
    "duration": 20401,
    "start_time": "2021-07-06T12:15:55.416Z"
   },
   {
    "duration": 11,
    "start_time": "2021-07-06T12:16:38.417Z"
   },
   {
    "duration": 500,
    "start_time": "2021-07-06T12:16:39.088Z"
   },
   {
    "duration": 5,
    "start_time": "2021-07-06T12:20:13.879Z"
   },
   {
    "duration": 118,
    "start_time": "2021-07-06T12:21:45.278Z"
   },
   {
    "duration": 362,
    "start_time": "2021-07-06T12:21:49.438Z"
   },
   {
    "duration": 92,
    "start_time": "2021-07-06T12:22:01.422Z"
   },
   {
    "duration": 317,
    "start_time": "2021-07-06T12:22:12.311Z"
   },
   {
    "duration": 318,
    "start_time": "2021-07-06T12:23:19.189Z"
   },
   {
    "duration": 306,
    "start_time": "2021-07-06T12:23:22.110Z"
   },
   {
    "duration": 543,
    "start_time": "2021-07-06T12:23:33.004Z"
   },
   {
    "duration": 381,
    "start_time": "2021-07-06T12:23:39.692Z"
   },
   {
    "duration": 310,
    "start_time": "2021-07-06T12:24:49.182Z"
   },
   {
    "duration": 306,
    "start_time": "2021-07-06T12:25:19.045Z"
   },
   {
    "duration": 342,
    "start_time": "2021-07-06T12:25:25.677Z"
   },
   {
    "duration": 4,
    "start_time": "2021-07-06T12:25:31.476Z"
   },
   {
    "duration": 8,
    "start_time": "2021-07-06T12:25:35.421Z"
   },
   {
    "duration": 347,
    "start_time": "2021-07-06T12:25:46.331Z"
   },
   {
    "duration": -24,
    "start_time": "2021-07-06T12:25:46.706Z"
   },
   {
    "duration": 100,
    "start_time": "2021-07-06T12:25:54.285Z"
   },
   {
    "duration": 6,
    "start_time": "2021-07-06T12:26:41.627Z"
   },
   {
    "duration": 9,
    "start_time": "2021-07-06T12:26:41.916Z"
   },
   {
    "duration": 8,
    "start_time": "2021-07-06T12:29:06.588Z"
   },
   {
    "duration": 16,
    "start_time": "2021-07-06T12:29:09.899Z"
   },
   {
    "duration": 360,
    "start_time": "2021-07-06T12:29:19.635Z"
   },
   {
    "duration": 15,
    "start_time": "2021-07-06T12:29:29.371Z"
   },
   {
    "duration": 123,
    "start_time": "2021-07-06T12:29:51.483Z"
   },
   {
    "duration": 6,
    "start_time": "2021-07-06T12:29:57.354Z"
   },
   {
    "duration": 23,
    "start_time": "2021-07-06T12:30:07.258Z"
   },
   {
    "duration": 335,
    "start_time": "2021-07-06T12:30:21.122Z"
   },
   {
    "duration": 307,
    "start_time": "2021-07-06T12:31:39.874Z"
   },
   {
    "duration": 5,
    "start_time": "2021-07-06T12:31:49.162Z"
   },
   {
    "duration": 19058,
    "start_time": "2021-07-06T12:37:00.655Z"
   },
   {
    "duration": 66679,
    "start_time": "2021-07-06T12:37:29.495Z"
   },
   {
    "duration": 53503,
    "start_time": "2021-07-06T12:38:51.959Z"
   },
   {
    "duration": 5,
    "start_time": "2021-07-06T12:39:51.158Z"
   },
   {
    "duration": 10,
    "start_time": "2021-07-06T12:40:16.911Z"
   },
   {
    "duration": 14,
    "start_time": "2021-07-06T12:40:46.039Z"
   },
   {
    "duration": 15,
    "start_time": "2021-07-06T12:40:49.343Z"
   },
   {
    "duration": 68207,
    "start_time": "2021-07-06T12:41:03.383Z"
   },
   {
    "duration": 533820,
    "start_time": "2021-07-06T12:43:09.975Z"
   },
   {
    "duration": 19,
    "start_time": "2021-07-06T12:55:25.993Z"
   },
   {
    "duration": 16,
    "start_time": "2021-07-06T12:55:42.411Z"
   },
   {
    "duration": 497,
    "start_time": "2021-07-06T13:06:42.844Z"
   },
   {
    "duration": 7,
    "start_time": "2021-07-06T13:09:20.628Z"
   },
   {
    "duration": 100,
    "start_time": "2021-07-06T13:09:57.132Z"
   },
   {
    "duration": 2384,
    "start_time": "2021-07-06T13:58:49.425Z"
   },
   {
    "duration": 2709,
    "start_time": "2021-07-06T14:00:29.986Z"
   },
   {
    "duration": 2449,
    "start_time": "2021-07-06T14:01:37.938Z"
   },
   {
    "duration": 328,
    "start_time": "2021-07-06T14:01:41.048Z"
   },
   {
    "duration": 7,
    "start_time": "2021-07-06T14:02:05.804Z"
   },
   {
    "duration": 118,
    "start_time": "2021-07-06T14:02:05.815Z"
   },
   {
    "duration": 7,
    "start_time": "2021-07-06T14:02:05.937Z"
   },
   {
    "duration": 940,
    "start_time": "2021-07-06T14:02:05.947Z"
   },
   {
    "duration": 817,
    "start_time": "2021-07-06T14:02:06.890Z"
   },
   {
    "duration": 98,
    "start_time": "2021-07-06T14:02:07.710Z"
   },
   {
    "duration": 57,
    "start_time": "2021-07-06T14:02:07.810Z"
   },
   {
    "duration": 42,
    "start_time": "2021-07-06T14:02:07.870Z"
   },
   {
    "duration": 1363,
    "start_time": "2021-07-06T14:02:07.916Z"
   },
   {
    "duration": 31,
    "start_time": "2021-07-06T14:02:09.282Z"
   },
   {
    "duration": 20,
    "start_time": "2021-07-06T14:02:09.315Z"
   },
   {
    "duration": 44,
    "start_time": "2021-07-06T14:02:09.338Z"
   },
   {
    "duration": 14,
    "start_time": "2021-07-06T14:02:09.386Z"
   },
   {
    "duration": 13,
    "start_time": "2021-07-06T14:02:09.403Z"
   },
   {
    "duration": 27,
    "start_time": "2021-07-06T14:02:09.419Z"
   },
   {
    "duration": 55,
    "start_time": "2021-07-06T14:02:09.449Z"
   },
   {
    "duration": 18,
    "start_time": "2021-07-06T14:02:09.509Z"
   },
   {
    "duration": 369,
    "start_time": "2021-07-06T14:02:09.529Z"
   },
   {
    "duration": 5638,
    "start_time": "2021-07-06T14:02:09.901Z"
   },
   {
    "duration": 4207,
    "start_time": "2021-07-06T14:02:31.745Z"
   },
   {
    "duration": 4588,
    "start_time": "2021-07-06T14:02:38.258Z"
   },
   {
    "duration": 11,
    "start_time": "2021-07-06T14:03:59.560Z"
   },
   {
    "duration": 9285,
    "start_time": "2021-07-06T14:04:54.495Z"
   },
   {
    "duration": 7,
    "start_time": "2021-07-06T14:05:07.128Z"
   },
   {
    "duration": 7,
    "start_time": "2021-07-06T14:05:13.599Z"
   },
   {
    "duration": 12,
    "start_time": "2021-07-06T14:05:26.415Z"
   },
   {
    "duration": 8564,
    "start_time": "2021-07-06T14:05:42.900Z"
   },
   {
    "duration": -33,
    "start_time": "2021-07-06T14:05:51.500Z"
   },
   {
    "duration": 9,
    "start_time": "2021-07-06T14:05:52.271Z"
   },
   {
    "duration": 8,
    "start_time": "2021-07-06T14:05:53.598Z"
   },
   {
    "duration": 12,
    "start_time": "2021-07-06T14:05:54.199Z"
   },
   {
    "duration": 7,
    "start_time": "2021-07-06T14:06:34.215Z"
   },
   {
    "duration": 9,
    "start_time": "2021-07-06T14:06:40.863Z"
   },
   {
    "duration": 7,
    "start_time": "2021-07-06T14:07:31.590Z"
   },
   {
    "duration": 132,
    "start_time": "2021-07-06T14:07:58.375Z"
   },
   {
    "duration": 4366,
    "start_time": "2021-07-06T14:08:01.769Z"
   },
   {
    "duration": 9,
    "start_time": "2021-07-06T14:08:10.654Z"
   },
   {
    "duration": 7,
    "start_time": "2021-07-06T14:08:30.422Z"
   },
   {
    "duration": 8,
    "start_time": "2021-07-06T14:08:54.838Z"
   },
   {
    "duration": 9,
    "start_time": "2021-07-06T14:09:02.542Z"
   },
   {
    "duration": 10,
    "start_time": "2021-07-06T14:09:26.654Z"
   },
   {
    "duration": 9,
    "start_time": "2021-07-06T14:09:29.615Z"
   },
   {
    "duration": 12198,
    "start_time": "2021-07-06T14:09:44.184Z"
   },
   {
    "duration": 4531,
    "start_time": "2021-07-06T14:10:24.918Z"
   },
   {
    "duration": 3715,
    "start_time": "2021-07-06T14:11:22.485Z"
   },
   {
    "duration": 11,
    "start_time": "2021-07-06T14:11:34.727Z"
   },
   {
    "duration": 8,
    "start_time": "2021-07-06T14:11:42.980Z"
   },
   {
    "duration": 8164,
    "start_time": "2021-07-06T14:11:48.541Z"
   },
   {
    "duration": 6,
    "start_time": "2021-07-06T14:12:12.588Z"
   },
   {
    "duration": 5,
    "start_time": "2021-07-06T14:12:17.806Z"
   },
   {
    "duration": 3819,
    "start_time": "2021-07-06T14:12:25.732Z"
   },
   {
    "duration": 4472,
    "start_time": "2021-07-06T14:12:49.661Z"
   },
   {
    "duration": 8,
    "start_time": "2021-07-06T14:33:18.549Z"
   },
   {
    "duration": 872,
    "start_time": "2021-07-06T14:33:19.222Z"
   },
   {
    "duration": 881,
    "start_time": "2021-07-06T14:33:20.098Z"
   },
   {
    "duration": 860,
    "start_time": "2021-07-06T14:33:21.044Z"
   },
   {
    "duration": 8,
    "start_time": "2021-07-06T14:33:30.157Z"
   },
   {
    "duration": 930,
    "start_time": "2021-07-06T14:33:30.670Z"
   },
   {
    "duration": 1011,
    "start_time": "2021-07-06T14:33:31.603Z"
   },
   {
    "duration": 1219,
    "start_time": "2021-07-06T14:33:32.617Z"
   },
   {
    "duration": 2121,
    "start_time": "2021-07-06T18:23:32.076Z"
   },
   {
    "duration": 149,
    "start_time": "2021-07-06T18:23:34.200Z"
   },
   {
    "duration": 8,
    "start_time": "2021-07-06T18:23:34.353Z"
   },
   {
    "duration": 1101,
    "start_time": "2021-07-06T18:23:34.364Z"
   },
   {
    "duration": 1051,
    "start_time": "2021-07-06T18:23:35.468Z"
   },
   {
    "duration": 120,
    "start_time": "2021-07-06T18:23:36.522Z"
   },
   {
    "duration": 77,
    "start_time": "2021-07-06T18:23:36.645Z"
   },
   {
    "duration": 42,
    "start_time": "2021-07-06T18:23:36.726Z"
   },
   {
    "duration": 1640,
    "start_time": "2021-07-06T18:23:36.771Z"
   },
   {
    "duration": 30,
    "start_time": "2021-07-06T18:23:38.414Z"
   },
   {
    "duration": 16,
    "start_time": "2021-07-06T18:23:38.502Z"
   },
   {
    "duration": 84,
    "start_time": "2021-07-06T18:23:38.520Z"
   },
   {
    "duration": 11,
    "start_time": "2021-07-06T18:23:38.607Z"
   },
   {
    "duration": 7,
    "start_time": "2021-07-06T18:23:38.620Z"
   },
   {
    "duration": 17,
    "start_time": "2021-07-06T18:23:38.629Z"
   },
   {
    "duration": 9,
    "start_time": "2021-07-06T18:23:38.648Z"
   },
   {
    "duration": 53,
    "start_time": "2021-07-06T18:23:38.660Z"
   },
   {
    "duration": 390,
    "start_time": "2021-07-06T18:23:38.716Z"
   },
   {
    "duration": 4420,
    "start_time": "2021-07-06T18:23:39.108Z"
   },
   {
    "duration": 8,
    "start_time": "2021-07-06T18:23:43.531Z"
   },
   {
    "duration": 1323,
    "start_time": "2021-07-06T18:23:43.542Z"
   },
   {
    "duration": 1423,
    "start_time": "2021-07-06T18:23:44.868Z"
   },
   {
    "duration": 1324,
    "start_time": "2021-07-06T18:23:46.302Z"
   },
   {
    "duration": 10,
    "start_time": "2021-07-06T18:23:56.106Z"
   },
   {
    "duration": 446,
    "start_time": "2021-07-06T18:24:02.467Z"
   },
   {
    "duration": 268,
    "start_time": "2021-07-06T18:24:12.401Z"
   },
   {
    "duration": 9,
    "start_time": "2021-07-06T18:24:16.747Z"
   },
   {
    "duration": 9,
    "start_time": "2021-07-06T18:24:50.618Z"
   },
   {
    "duration": 38,
    "start_time": "2021-07-06T18:30:40.078Z"
   },
   {
    "duration": 40,
    "start_time": "2021-07-06T18:31:12.699Z"
   },
   {
    "duration": 38,
    "start_time": "2021-07-06T18:31:21.696Z"
   },
   {
    "duration": 67,
    "start_time": "2021-07-06T18:37:23.614Z"
   },
   {
    "duration": 72,
    "start_time": "2021-07-06T18:37:45.023Z"
   },
   {
    "duration": 71,
    "start_time": "2021-07-06T18:37:54.071Z"
   },
   {
    "duration": 74,
    "start_time": "2021-07-06T18:38:24.827Z"
   },
   {
    "duration": 75,
    "start_time": "2021-07-06T18:38:38.388Z"
   },
   {
    "duration": 8,
    "start_time": "2021-07-06T18:41:11.864Z"
   },
   {
    "duration": 113,
    "start_time": "2021-07-06T18:41:11.875Z"
   },
   {
    "duration": 6,
    "start_time": "2021-07-06T18:41:11.991Z"
   },
   {
    "duration": 848,
    "start_time": "2021-07-06T18:41:12.000Z"
   },
   {
    "duration": 741,
    "start_time": "2021-07-06T18:41:12.850Z"
   },
   {
    "duration": 103,
    "start_time": "2021-07-06T18:41:13.600Z"
   },
   {
    "duration": 47,
    "start_time": "2021-07-06T18:41:13.707Z"
   },
   {
    "duration": 66,
    "start_time": "2021-07-06T18:41:13.758Z"
   },
   {
    "duration": 1091,
    "start_time": "2021-07-06T18:41:13.827Z"
   },
   {
    "duration": 30,
    "start_time": "2021-07-06T18:41:14.921Z"
   },
   {
    "duration": 21,
    "start_time": "2021-07-06T18:41:14.953Z"
   },
   {
    "duration": 56,
    "start_time": "2021-07-06T18:41:14.976Z"
   },
   {
    "duration": 13,
    "start_time": "2021-07-06T18:41:15.034Z"
   },
   {
    "duration": 8,
    "start_time": "2021-07-06T18:41:15.049Z"
   },
   {
    "duration": 45,
    "start_time": "2021-07-06T18:41:15.059Z"
   },
   {
    "duration": 9,
    "start_time": "2021-07-06T18:41:15.106Z"
   },
   {
    "duration": 23,
    "start_time": "2021-07-06T18:41:15.117Z"
   },
   {
    "duration": 380,
    "start_time": "2021-07-06T18:41:15.143Z"
   },
   {
    "duration": 4553,
    "start_time": "2021-07-06T18:41:15.528Z"
   },
   {
    "duration": 18,
    "start_time": "2021-07-06T18:41:20.084Z"
   },
   {
    "duration": 837,
    "start_time": "2021-07-06T18:41:20.104Z"
   },
   {
    "duration": 848,
    "start_time": "2021-07-06T18:41:20.943Z"
   },
   {
    "duration": 973,
    "start_time": "2021-07-06T18:41:21.801Z"
   },
   {
    "duration": 85,
    "start_time": "2021-07-06T18:41:22.776Z"
   },
   {
    "duration": 5,
    "start_time": "2021-07-06T18:41:22.863Z"
   },
   {
    "duration": 135,
    "start_time": "2021-07-06T18:41:22.870Z"
   },
   {
    "duration": 915,
    "start_time": "2021-07-06T18:41:23.007Z"
   },
   {
    "duration": 289,
    "start_time": "2021-07-06T18:55:56.563Z"
   },
   {
    "duration": 6,
    "start_time": "2021-07-06T18:56:19.262Z"
   },
   {
    "duration": 134,
    "start_time": "2021-07-06T18:56:20.168Z"
   },
   {
    "duration": 142,
    "start_time": "2021-07-06T18:56:21.312Z"
   },
   {
    "duration": 6,
    "start_time": "2021-07-06T18:56:23.088Z"
   },
   {
    "duration": 11,
    "start_time": "2021-07-06T18:56:26.531Z"
   },
   {
    "duration": 10,
    "start_time": "2021-07-06T18:56:26.546Z"
   },
   {
    "duration": 7,
    "start_time": "2021-07-06T18:56:26.630Z"
   },
   {
    "duration": 18,
    "start_time": "2021-07-06T18:56:28.828Z"
   },
   {
    "duration": 9,
    "start_time": "2021-07-06T18:56:30.932Z"
   },
   {
    "duration": 6,
    "start_time": "2021-07-06T18:56:31.551Z"
   },
   {
    "duration": 20652,
    "start_time": "2021-07-06T18:57:03.337Z"
   },
   {
    "duration": 585,
    "start_time": "2021-07-06T18:57:30.473Z"
   },
   {
    "duration": 9,
    "start_time": "2021-07-06T18:57:41.031Z"
   },
   {
    "duration": 1560,
    "start_time": "2021-07-06T19:28:40.394Z"
   },
   {
    "duration": 111,
    "start_time": "2021-07-06T19:28:41.956Z"
   },
   {
    "duration": 6,
    "start_time": "2021-07-06T19:28:42.070Z"
   },
   {
    "duration": 936,
    "start_time": "2021-07-06T19:28:42.080Z"
   },
   {
    "duration": 743,
    "start_time": "2021-07-06T19:28:43.018Z"
   },
   {
    "duration": 95,
    "start_time": "2021-07-06T19:28:43.764Z"
   },
   {
    "duration": 53,
    "start_time": "2021-07-06T19:28:43.862Z"
   },
   {
    "duration": 40,
    "start_time": "2021-07-06T19:28:43.917Z"
   },
   {
    "duration": 1647,
    "start_time": "2021-07-06T19:28:43.962Z"
   },
   {
    "duration": 36,
    "start_time": "2021-07-06T19:28:45.612Z"
   },
   {
    "duration": 60,
    "start_time": "2021-07-06T19:28:45.650Z"
   },
   {
    "duration": 37,
    "start_time": "2021-07-06T19:28:45.712Z"
   },
   {
    "duration": 10,
    "start_time": "2021-07-06T19:28:45.752Z"
   },
   {
    "duration": 6,
    "start_time": "2021-07-06T19:28:45.800Z"
   },
   {
    "duration": 20,
    "start_time": "2021-07-06T19:28:45.809Z"
   },
   {
    "duration": 7,
    "start_time": "2021-07-06T19:28:45.832Z"
   },
   {
    "duration": 68,
    "start_time": "2021-07-06T19:28:45.841Z"
   },
   {
    "duration": 718,
    "start_time": "2021-07-06T19:28:45.911Z"
   },
   {
    "duration": 4376,
    "start_time": "2021-07-06T19:28:46.631Z"
   },
   {
    "duration": 9,
    "start_time": "2021-07-06T19:28:51.010Z"
   },
   {
    "duration": 862,
    "start_time": "2021-07-06T19:28:51.022Z"
   },
   {
    "duration": 917,
    "start_time": "2021-07-06T19:28:51.887Z"
   },
   {
    "duration": 847,
    "start_time": "2021-07-06T19:28:52.807Z"
   },
   {
    "duration": 92,
    "start_time": "2021-07-06T19:28:53.657Z"
   },
   {
    "duration": 5,
    "start_time": "2021-07-06T19:28:53.752Z"
   },
   {
    "duration": 126,
    "start_time": "2021-07-06T19:28:53.760Z"
   },
   {
    "duration": 717,
    "start_time": "2021-07-06T19:28:53.900Z"
   },
   {
    "duration": 8,
    "start_time": "2021-07-06T19:28:54.622Z"
   },
   {
    "duration": 15,
    "start_time": "2021-07-06T19:28:54.633Z"
   },
   {
    "duration": 6,
    "start_time": "2021-07-06T19:28:54.650Z"
   },
   {
    "duration": 48,
    "start_time": "2021-07-06T19:28:54.659Z"
   },
   {
    "duration": 21,
    "start_time": "2021-07-06T19:28:54.710Z"
   },
   {
    "duration": 10,
    "start_time": "2021-07-06T19:28:54.734Z"
   },
   {
    "duration": 10,
    "start_time": "2021-07-06T19:28:54.748Z"
   },
   {
    "duration": 1037,
    "start_time": "2021-07-06T19:28:54.800Z"
   },
   {
    "duration": 334,
    "start_time": "2021-07-06T19:28:55.840Z"
   },
   {
    "duration": 1562,
    "start_time": "2021-07-06T19:28:56.177Z"
   },
   {
    "duration": 2291,
    "start_time": "2021-07-06T19:28:57.741Z"
   },
   {
    "duration": 27623,
    "start_time": "2021-07-06T19:29:00.035Z"
   },
   {
    "duration": 2899,
    "start_time": "2021-07-06T19:29:27.660Z"
   },
   {
    "duration": 22,
    "start_time": "2021-07-06T19:29:30.562Z"
   },
   {
    "duration": 1285713,
    "start_time": "2021-07-06T19:29:30.599Z"
   },
   {
    "duration": 20137,
    "start_time": "2021-07-06T19:50:56.314Z"
   },
   {
    "duration": 472,
    "start_time": "2021-07-06T19:51:16.454Z"
   },
   {
    "duration": 340049,
    "start_time": "2021-07-06T19:51:16.929Z"
   },
   {
    "duration": 32,
    "start_time": "2021-07-06T19:56:56.980Z"
   },
   {
    "duration": 1724,
    "start_time": "2021-07-07T12:28:17.111Z"
   },
   {
    "duration": 114,
    "start_time": "2021-07-07T12:28:20.417Z"
   },
   {
    "duration": 6,
    "start_time": "2021-07-07T12:28:20.982Z"
   },
   {
    "duration": 804,
    "start_time": "2021-07-07T12:28:22.827Z"
   },
   {
    "duration": 758,
    "start_time": "2021-07-07T12:28:24.964Z"
   },
   {
    "duration": 101,
    "start_time": "2021-07-07T12:28:25.858Z"
   },
   {
    "duration": 48,
    "start_time": "2021-07-07T12:28:26.647Z"
   },
   {
    "duration": 44,
    "start_time": "2021-07-07T12:28:28.232Z"
   },
   {
    "duration": 1160,
    "start_time": "2021-07-07T12:28:28.461Z"
   },
   {
    "duration": 30,
    "start_time": "2021-07-07T12:31:20.428Z"
   },
   {
    "duration": 17,
    "start_time": "2021-07-07T12:31:21.383Z"
   },
   {
    "duration": 36,
    "start_time": "2021-07-07T12:31:24.487Z"
   },
   {
    "duration": 11,
    "start_time": "2021-07-07T12:31:27.747Z"
   },
   {
    "duration": 6,
    "start_time": "2021-07-07T12:55:20.321Z"
   },
   {
    "duration": 16,
    "start_time": "2021-07-07T12:55:21.663Z"
   },
   {
    "duration": 51,
    "start_time": "2021-07-07T12:55:40.941Z"
   },
   {
    "duration": 46,
    "start_time": "2021-07-07T12:56:10.491Z"
   },
   {
    "duration": 8,
    "start_time": "2021-07-07T12:57:14.278Z"
   },
   {
    "duration": 15,
    "start_time": "2021-07-07T12:57:15.039Z"
   },
   {
    "duration": 364,
    "start_time": "2021-07-07T12:58:40.066Z"
   },
   {
    "duration": 4399,
    "start_time": "2021-07-07T12:58:41.188Z"
   },
   {
    "duration": 8,
    "start_time": "2021-07-07T13:00:28.083Z"
   },
   {
    "duration": 878,
    "start_time": "2021-07-07T13:00:28.933Z"
   },
   {
    "duration": 996,
    "start_time": "2021-07-07T13:00:29.814Z"
   },
   {
    "duration": 920,
    "start_time": "2021-07-07T13:00:30.814Z"
   },
   {
    "duration": 96,
    "start_time": "2021-07-07T13:00:31.737Z"
   },
   {
    "duration": 5,
    "start_time": "2021-07-07T13:02:31.604Z"
   },
   {
    "duration": 118,
    "start_time": "2021-07-07T13:02:32.249Z"
   },
   {
    "duration": 35,
    "start_time": "2021-07-07T13:02:44.207Z"
   },
   {
    "duration": 61925,
    "start_time": "2021-07-07T13:03:11.533Z"
   },
   {
    "duration": 7,
    "start_time": "2021-07-07T13:04:25.421Z"
   },
   {
    "duration": 485,
    "start_time": "2021-07-07T13:04:41.034Z"
   },
   {
    "duration": 13,
    "start_time": "2021-07-07T13:04:48.869Z"
   },
   {
    "duration": 5,
    "start_time": "2021-07-07T13:04:50.304Z"
   },
   {
    "duration": 8,
    "start_time": "2021-07-07T13:04:51.320Z"
   },
   {
    "duration": 27,
    "start_time": "2021-07-07T13:04:55.496Z"
   },
   {
    "duration": 10,
    "start_time": "2021-07-07T13:05:16.882Z"
   },
   {
    "duration": 7,
    "start_time": "2021-07-07T13:05:17.457Z"
   },
   {
    "duration": 1128,
    "start_time": "2021-07-07T13:05:50.783Z"
   },
   {
    "duration": 343,
    "start_time": "2021-07-07T13:05:58.662Z"
   },
   {
    "duration": 1519,
    "start_time": "2021-07-07T13:06:05.611Z"
   },
   {
    "duration": 2124,
    "start_time": "2021-07-07T13:08:43.930Z"
   },
   {
    "duration": 29156,
    "start_time": "2021-07-07T13:08:52.905Z"
   },
   {
    "duration": 2473,
    "start_time": "2021-07-07T13:09:22.064Z"
   }
  ],
  "kernelspec": {
   "display_name": "Python 3",
   "language": "python",
   "name": "python3"
  },
  "language_info": {
   "codemirror_mode": {
    "name": "ipython",
    "version": 3
   },
   "file_extension": ".py",
   "mimetype": "text/x-python",
   "name": "python",
   "nbconvert_exporter": "python",
   "pygments_lexer": "ipython3",
   "version": "3.7.8"
  },
  "toc": {
   "base_numbering": 1,
   "nav_menu": {},
   "number_sections": true,
   "sideBar": true,
   "skip_h1_title": true,
   "title_cell": "Содержание",
   "title_sidebar": "Содержание",
   "toc_cell": true,
   "toc_position": {
    "height": "calc(100% - 180px)",
    "left": "10px",
    "top": "150px",
    "width": "366.391px"
   },
   "toc_section_display": true,
   "toc_window_display": true
  }
 },
 "nbformat": 4,
 "nbformat_minor": 4
}
