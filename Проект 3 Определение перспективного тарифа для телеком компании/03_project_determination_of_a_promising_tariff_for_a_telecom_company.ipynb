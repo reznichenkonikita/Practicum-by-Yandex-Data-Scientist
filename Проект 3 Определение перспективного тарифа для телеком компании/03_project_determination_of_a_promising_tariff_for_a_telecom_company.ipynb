{
 "cells": [
  {
   "cell_type": "markdown",
   "metadata": {},
   "source": [
    "# Определение перспективного тарифа для телеком компании"
   ]
  },
  {
   "cell_type": "markdown",
   "metadata": {},
   "source": [
    "## Оглавление\n",
    "**[1. Открытие файла с данными и изучение общей информации](#чтение_файла)**\n",
    "   * [1.1  Данные о звонах (calls.csv)](#чтение_файлов__calls)\n",
    "   * [1.2  Данные о интернет-сессиях (internet.csv)](#чтение_файлов__internet)\n",
    "   * [1.3  Данные о сообщениях (messages.csv)](#чтение_файлов__messages)\n",
    "   * [1.4  Данные о тарифах (tariffs.csv)](#чтение_файлов__tariffs)\n",
    "   * [1.5  Данные о пользователях (users.csv)](#чтение_файлов__users)\n",
    "   \n",
    "**[2. Предобработка данных](#предобработка_данных)**\n",
    "   * [2.1 Обработка пропущенных значений](#предобработка_данных__обработка_пропущенных_значений)\n",
    "        * [2.1.1 Обработка нулевых знаечний в data_calls](#предобработка_данных__обработка_пропущенных_значений__обработка_нулевых_знаечний_в_data_calls)\n",
    "        * [2.1.2 Обработка нулевых знаечний в data_internet](#предобработка_данных__обработка_пропущенных_значений__обработка_нулевых_знаечний_в_data_internet)\n",
    "   * [2.2 Замена типа данных](#предобработка_данных__замена_типа_данных)\n",
    "        * [2.2.1 Замена типа данных в data_calls](#предобработка_данных__замена_типа_данных__замена_типа_данных_в_data_calls)\n",
    "        * [2.2.2 Замена типа данных в data_internet](#предобработка_данных__замена_типа_данных__замена_типа_данных_в_data_internet)\n",
    "        * [2.2.3 Замена типа данных в data_messages](#предобработка_данных__замена_типа_данных__замена_типа_данных_в_data_messages)\n",
    "        * [2.2.4 Замена типа данных в data_users](#предобработка_данных__замена_типа_данных__замена_типа_данных_в_data_users)\n",
    "   * [2.3 Объединение необходимых данных в таблицу](#предобработка_данных__объединение_необходимых_данных_в_таблицу)\n",
    "   * [2.4 Расчет помесячной выручки с каждого пользователя](#предобработка_данных__расчет_помесячной_выручки_с_каждого_пользователя)\n",
    "   \n",
    "**[3. Анализ данных](#анализ_данных)**\n",
    "   * [3.1 Анализ использованных минут](#анализ_данных__анализ_потраченных_минут)\n",
    "   * [3.2 Анализ использованного интернет-трафика](#анализ_данных__анализ_использованного_интернет_трафика)\n",
    "   * [3.3 Анализ отправленных сообщений](#анализ_данных__анализ_отпарвленных_сообщений)\n",
    "   * [3.4 Анализ выручки](#анализ_данных__анализ_выручки)\n",
    "   \n",
    "**[4. Проверка гипотез](#проверка_гипотез)**\n",
    "   * [4.1 Средняя выручка пользователей тарифов «Ультра» и «Смарт» различается](#проверка_гипотез__средняя_выручка_пользователей_тарифов_«Ультра»_и_«Смарт»_различается)\n",
    "   * [4.2 Средняя выручка пользователей из Москвы отличается от выручки пользователей из других регионов](#проверка_гипотез__средняя_выручка_пользователей_из_Москвы_отличается_от_выручки_пользователей_из_других_регионов)\n",
    "   \n",
    "**[5. Общий вывод](#общий_вывод)**"
   ]
  },
  {
   "cell_type": "markdown",
   "metadata": {},
   "source": [
    "## 1. Открытие файла с данными и изучение общей информации. <a id=\"чтение_файлов\"></a>"
   ]
  },
  {
   "cell_type": "markdown",
   "metadata": {},
   "source": [
    "## 1.1 Данные о звонах (calls.csv)<a id=\"чтение_файлов__calls\"></a>"
   ]
  },
  {
   "cell_type": "code",
   "execution_count": 1,
   "metadata": {},
   "outputs": [],
   "source": [
    "import pandas as pd\n",
    "import numpy as np\n",
    "import matplotlib.pyplot as plt \n",
    "from scipy import stats as st"
   ]
  },
  {
   "cell_type": "code",
   "execution_count": 2,
   "metadata": {},
   "outputs": [
    {
     "data": {
      "text/html": [
       "<div>\n",
       "<style scoped>\n",
       "    .dataframe tbody tr th:only-of-type {\n",
       "        vertical-align: middle;\n",
       "    }\n",
       "\n",
       "    .dataframe tbody tr th {\n",
       "        vertical-align: top;\n",
       "    }\n",
       "\n",
       "    .dataframe thead th {\n",
       "        text-align: right;\n",
       "    }\n",
       "</style>\n",
       "<table border=\"1\" class=\"dataframe\">\n",
       "  <thead>\n",
       "    <tr style=\"text-align: right;\">\n",
       "      <th></th>\n",
       "      <th>id</th>\n",
       "      <th>call_date</th>\n",
       "      <th>duration</th>\n",
       "      <th>user_id</th>\n",
       "    </tr>\n",
       "  </thead>\n",
       "  <tbody>\n",
       "    <tr>\n",
       "      <td>0</td>\n",
       "      <td>1000_0</td>\n",
       "      <td>2018-07-25</td>\n",
       "      <td>0.00</td>\n",
       "      <td>1000</td>\n",
       "    </tr>\n",
       "    <tr>\n",
       "      <td>1</td>\n",
       "      <td>1000_1</td>\n",
       "      <td>2018-08-17</td>\n",
       "      <td>0.00</td>\n",
       "      <td>1000</td>\n",
       "    </tr>\n",
       "    <tr>\n",
       "      <td>2</td>\n",
       "      <td>1000_2</td>\n",
       "      <td>2018-06-11</td>\n",
       "      <td>2.85</td>\n",
       "      <td>1000</td>\n",
       "    </tr>\n",
       "    <tr>\n",
       "      <td>3</td>\n",
       "      <td>1000_3</td>\n",
       "      <td>2018-09-21</td>\n",
       "      <td>13.80</td>\n",
       "      <td>1000</td>\n",
       "    </tr>\n",
       "    <tr>\n",
       "      <td>4</td>\n",
       "      <td>1000_4</td>\n",
       "      <td>2018-12-15</td>\n",
       "      <td>5.18</td>\n",
       "      <td>1000</td>\n",
       "    </tr>\n",
       "    <tr>\n",
       "      <td>5</td>\n",
       "      <td>1000_5</td>\n",
       "      <td>2018-11-02</td>\n",
       "      <td>0.00</td>\n",
       "      <td>1000</td>\n",
       "    </tr>\n",
       "    <tr>\n",
       "      <td>6</td>\n",
       "      <td>1000_6</td>\n",
       "      <td>2018-10-18</td>\n",
       "      <td>0.00</td>\n",
       "      <td>1000</td>\n",
       "    </tr>\n",
       "    <tr>\n",
       "      <td>7</td>\n",
       "      <td>1000_7</td>\n",
       "      <td>2018-08-22</td>\n",
       "      <td>18.31</td>\n",
       "      <td>1000</td>\n",
       "    </tr>\n",
       "    <tr>\n",
       "      <td>8</td>\n",
       "      <td>1000_8</td>\n",
       "      <td>2018-09-15</td>\n",
       "      <td>18.44</td>\n",
       "      <td>1000</td>\n",
       "    </tr>\n",
       "    <tr>\n",
       "      <td>9</td>\n",
       "      <td>1000_9</td>\n",
       "      <td>2018-08-15</td>\n",
       "      <td>0.00</td>\n",
       "      <td>1000</td>\n",
       "    </tr>\n",
       "  </tbody>\n",
       "</table>\n",
       "</div>"
      ],
      "text/plain": [
       "       id   call_date  duration  user_id\n",
       "0  1000_0  2018-07-25      0.00     1000\n",
       "1  1000_1  2018-08-17      0.00     1000\n",
       "2  1000_2  2018-06-11      2.85     1000\n",
       "3  1000_3  2018-09-21     13.80     1000\n",
       "4  1000_4  2018-12-15      5.18     1000\n",
       "5  1000_5  2018-11-02      0.00     1000\n",
       "6  1000_6  2018-10-18      0.00     1000\n",
       "7  1000_7  2018-08-22     18.31     1000\n",
       "8  1000_8  2018-09-15     18.44     1000\n",
       "9  1000_9  2018-08-15      0.00     1000"
      ]
     },
     "metadata": {},
     "output_type": "display_data"
    },
    {
     "name": "stdout",
     "output_type": "stream",
     "text": [
      "<class 'pandas.core.frame.DataFrame'>\n",
      "RangeIndex: 202607 entries, 0 to 202606\n",
      "Data columns (total 4 columns):\n",
      "id           202607 non-null object\n",
      "call_date    202607 non-null object\n",
      "duration     202607 non-null float64\n",
      "user_id      202607 non-null int64\n",
      "dtypes: float64(1), int64(1), object(2)\n",
      "memory usage: 6.2+ MB\n"
     ]
    },
    {
     "data": {
      "text/plain": [
       "None"
      ]
     },
     "metadata": {},
     "output_type": "display_data"
    },
    {
     "data": {
      "text/html": [
       "<div>\n",
       "<style scoped>\n",
       "    .dataframe tbody tr th:only-of-type {\n",
       "        vertical-align: middle;\n",
       "    }\n",
       "\n",
       "    .dataframe tbody tr th {\n",
       "        vertical-align: top;\n",
       "    }\n",
       "\n",
       "    .dataframe thead th {\n",
       "        text-align: right;\n",
       "    }\n",
       "</style>\n",
       "<table border=\"1\" class=\"dataframe\">\n",
       "  <thead>\n",
       "    <tr style=\"text-align: right;\">\n",
       "      <th></th>\n",
       "      <th>duration</th>\n",
       "      <th>user_id</th>\n",
       "    </tr>\n",
       "  </thead>\n",
       "  <tbody>\n",
       "    <tr>\n",
       "      <td>count</td>\n",
       "      <td>202607.000000</td>\n",
       "      <td>202607.000000</td>\n",
       "    </tr>\n",
       "    <tr>\n",
       "      <td>mean</td>\n",
       "      <td>6.755887</td>\n",
       "      <td>1253.940619</td>\n",
       "    </tr>\n",
       "    <tr>\n",
       "      <td>std</td>\n",
       "      <td>5.843365</td>\n",
       "      <td>144.722751</td>\n",
       "    </tr>\n",
       "    <tr>\n",
       "      <td>min</td>\n",
       "      <td>0.000000</td>\n",
       "      <td>1000.000000</td>\n",
       "    </tr>\n",
       "    <tr>\n",
       "      <td>25%</td>\n",
       "      <td>1.300000</td>\n",
       "      <td>1126.000000</td>\n",
       "    </tr>\n",
       "    <tr>\n",
       "      <td>50%</td>\n",
       "      <td>6.000000</td>\n",
       "      <td>1260.000000</td>\n",
       "    </tr>\n",
       "    <tr>\n",
       "      <td>75%</td>\n",
       "      <td>10.700000</td>\n",
       "      <td>1379.000000</td>\n",
       "    </tr>\n",
       "    <tr>\n",
       "      <td>max</td>\n",
       "      <td>38.000000</td>\n",
       "      <td>1499.000000</td>\n",
       "    </tr>\n",
       "  </tbody>\n",
       "</table>\n",
       "</div>"
      ],
      "text/plain": [
       "            duration        user_id\n",
       "count  202607.000000  202607.000000\n",
       "mean        6.755887    1253.940619\n",
       "std         5.843365     144.722751\n",
       "min         0.000000    1000.000000\n",
       "25%         1.300000    1126.000000\n",
       "50%         6.000000    1260.000000\n",
       "75%        10.700000    1379.000000\n",
       "max        38.000000    1499.000000"
      ]
     },
     "metadata": {},
     "output_type": "display_data"
    },
    {
     "name": "stdout",
     "output_type": "stream",
     "text": [
      "Количество дубликатов в DataFrame: 0\n"
     ]
    }
   ],
   "source": [
    "data_calls = pd.read_csv()\n",
    "\n",
    "def information(DataFrame):\n",
    "    display(DataFrame.head(10))\n",
    "    display(DataFrame.info())\n",
    "    display(DataFrame.describe())\n",
    "    print('Количество дубликатов в DataFrame:', DataFrame.duplicated().sum())\n",
    "    \n",
    "information(data_calls)    "
   ]
  },
  {
   "cell_type": "markdown",
   "metadata": {},
   "source": [
    "DataFrame содержит информацию о 202607 совершенных звонков. Пропущенных значений нет. Дубликатов нет. Неоходимые изменения:\n",
    " * столбец ***duration***. Округлить все значения до целого значения в болушую сторону (нулевые значения заменить на 1), так как у оператора применяется поминутная тарификация и затем изменить тип данных столбца на int;\n",
    " * столбец ***call_date***. Изменить тип данных на datetime."
   ]
  },
  {
   "cell_type": "markdown",
   "metadata": {},
   "source": [
    "## 1.2 Данные о интернет-сессиях (internet.csv)<a id=\"чтение_файлов__internet\"></a>"
   ]
  },
  {
   "cell_type": "code",
   "execution_count": 3,
   "metadata": {},
   "outputs": [
    {
     "data": {
      "text/html": [
       "<div>\n",
       "<style scoped>\n",
       "    .dataframe tbody tr th:only-of-type {\n",
       "        vertical-align: middle;\n",
       "    }\n",
       "\n",
       "    .dataframe tbody tr th {\n",
       "        vertical-align: top;\n",
       "    }\n",
       "\n",
       "    .dataframe thead th {\n",
       "        text-align: right;\n",
       "    }\n",
       "</style>\n",
       "<table border=\"1\" class=\"dataframe\">\n",
       "  <thead>\n",
       "    <tr style=\"text-align: right;\">\n",
       "      <th></th>\n",
       "      <th>Unnamed: 0</th>\n",
       "      <th>id</th>\n",
       "      <th>mb_used</th>\n",
       "      <th>session_date</th>\n",
       "      <th>user_id</th>\n",
       "    </tr>\n",
       "  </thead>\n",
       "  <tbody>\n",
       "    <tr>\n",
       "      <td>0</td>\n",
       "      <td>0</td>\n",
       "      <td>1000_0</td>\n",
       "      <td>112.95</td>\n",
       "      <td>2018-11-25</td>\n",
       "      <td>1000</td>\n",
       "    </tr>\n",
       "    <tr>\n",
       "      <td>1</td>\n",
       "      <td>1</td>\n",
       "      <td>1000_1</td>\n",
       "      <td>1052.81</td>\n",
       "      <td>2018-09-07</td>\n",
       "      <td>1000</td>\n",
       "    </tr>\n",
       "    <tr>\n",
       "      <td>2</td>\n",
       "      <td>2</td>\n",
       "      <td>1000_2</td>\n",
       "      <td>1197.26</td>\n",
       "      <td>2018-06-25</td>\n",
       "      <td>1000</td>\n",
       "    </tr>\n",
       "    <tr>\n",
       "      <td>3</td>\n",
       "      <td>3</td>\n",
       "      <td>1000_3</td>\n",
       "      <td>550.27</td>\n",
       "      <td>2018-08-22</td>\n",
       "      <td>1000</td>\n",
       "    </tr>\n",
       "    <tr>\n",
       "      <td>4</td>\n",
       "      <td>4</td>\n",
       "      <td>1000_4</td>\n",
       "      <td>302.56</td>\n",
       "      <td>2018-09-24</td>\n",
       "      <td>1000</td>\n",
       "    </tr>\n",
       "    <tr>\n",
       "      <td>5</td>\n",
       "      <td>5</td>\n",
       "      <td>1000_5</td>\n",
       "      <td>399.97</td>\n",
       "      <td>2018-10-02</td>\n",
       "      <td>1000</td>\n",
       "    </tr>\n",
       "    <tr>\n",
       "      <td>6</td>\n",
       "      <td>6</td>\n",
       "      <td>1000_6</td>\n",
       "      <td>540.08</td>\n",
       "      <td>2018-09-07</td>\n",
       "      <td>1000</td>\n",
       "    </tr>\n",
       "    <tr>\n",
       "      <td>7</td>\n",
       "      <td>7</td>\n",
       "      <td>1000_7</td>\n",
       "      <td>415.70</td>\n",
       "      <td>2018-07-11</td>\n",
       "      <td>1000</td>\n",
       "    </tr>\n",
       "    <tr>\n",
       "      <td>8</td>\n",
       "      <td>8</td>\n",
       "      <td>1000_8</td>\n",
       "      <td>505.40</td>\n",
       "      <td>2018-10-08</td>\n",
       "      <td>1000</td>\n",
       "    </tr>\n",
       "    <tr>\n",
       "      <td>9</td>\n",
       "      <td>9</td>\n",
       "      <td>1000_9</td>\n",
       "      <td>345.54</td>\n",
       "      <td>2018-09-03</td>\n",
       "      <td>1000</td>\n",
       "    </tr>\n",
       "  </tbody>\n",
       "</table>\n",
       "</div>"
      ],
      "text/plain": [
       "   Unnamed: 0      id  mb_used session_date  user_id\n",
       "0           0  1000_0   112.95   2018-11-25     1000\n",
       "1           1  1000_1  1052.81   2018-09-07     1000\n",
       "2           2  1000_2  1197.26   2018-06-25     1000\n",
       "3           3  1000_3   550.27   2018-08-22     1000\n",
       "4           4  1000_4   302.56   2018-09-24     1000\n",
       "5           5  1000_5   399.97   2018-10-02     1000\n",
       "6           6  1000_6   540.08   2018-09-07     1000\n",
       "7           7  1000_7   415.70   2018-07-11     1000\n",
       "8           8  1000_8   505.40   2018-10-08     1000\n",
       "9           9  1000_9   345.54   2018-09-03     1000"
      ]
     },
     "metadata": {},
     "output_type": "display_data"
    },
    {
     "name": "stdout",
     "output_type": "stream",
     "text": [
      "<class 'pandas.core.frame.DataFrame'>\n",
      "RangeIndex: 149396 entries, 0 to 149395\n",
      "Data columns (total 5 columns):\n",
      "Unnamed: 0      149396 non-null int64\n",
      "id              149396 non-null object\n",
      "mb_used         149396 non-null float64\n",
      "session_date    149396 non-null object\n",
      "user_id         149396 non-null int64\n",
      "dtypes: float64(1), int64(2), object(2)\n",
      "memory usage: 5.7+ MB\n"
     ]
    },
    {
     "data": {
      "text/plain": [
       "None"
      ]
     },
     "metadata": {},
     "output_type": "display_data"
    },
    {
     "data": {
      "text/html": [
       "<div>\n",
       "<style scoped>\n",
       "    .dataframe tbody tr th:only-of-type {\n",
       "        vertical-align: middle;\n",
       "    }\n",
       "\n",
       "    .dataframe tbody tr th {\n",
       "        vertical-align: top;\n",
       "    }\n",
       "\n",
       "    .dataframe thead th {\n",
       "        text-align: right;\n",
       "    }\n",
       "</style>\n",
       "<table border=\"1\" class=\"dataframe\">\n",
       "  <thead>\n",
       "    <tr style=\"text-align: right;\">\n",
       "      <th></th>\n",
       "      <th>Unnamed: 0</th>\n",
       "      <th>mb_used</th>\n",
       "      <th>user_id</th>\n",
       "    </tr>\n",
       "  </thead>\n",
       "  <tbody>\n",
       "    <tr>\n",
       "      <td>count</td>\n",
       "      <td>149396.000000</td>\n",
       "      <td>149396.000000</td>\n",
       "      <td>149396.000000</td>\n",
       "    </tr>\n",
       "    <tr>\n",
       "      <td>mean</td>\n",
       "      <td>74697.500000</td>\n",
       "      <td>370.192426</td>\n",
       "      <td>1252.099842</td>\n",
       "    </tr>\n",
       "    <tr>\n",
       "      <td>std</td>\n",
       "      <td>43127.054745</td>\n",
       "      <td>278.300951</td>\n",
       "      <td>144.050823</td>\n",
       "    </tr>\n",
       "    <tr>\n",
       "      <td>min</td>\n",
       "      <td>0.000000</td>\n",
       "      <td>0.000000</td>\n",
       "      <td>1000.000000</td>\n",
       "    </tr>\n",
       "    <tr>\n",
       "      <td>25%</td>\n",
       "      <td>37348.750000</td>\n",
       "      <td>138.187500</td>\n",
       "      <td>1130.000000</td>\n",
       "    </tr>\n",
       "    <tr>\n",
       "      <td>50%</td>\n",
       "      <td>74697.500000</td>\n",
       "      <td>348.015000</td>\n",
       "      <td>1251.000000</td>\n",
       "    </tr>\n",
       "    <tr>\n",
       "      <td>75%</td>\n",
       "      <td>112046.250000</td>\n",
       "      <td>559.552500</td>\n",
       "      <td>1380.000000</td>\n",
       "    </tr>\n",
       "    <tr>\n",
       "      <td>max</td>\n",
       "      <td>149395.000000</td>\n",
       "      <td>1724.830000</td>\n",
       "      <td>1499.000000</td>\n",
       "    </tr>\n",
       "  </tbody>\n",
       "</table>\n",
       "</div>"
      ],
      "text/plain": [
       "          Unnamed: 0        mb_used        user_id\n",
       "count  149396.000000  149396.000000  149396.000000\n",
       "mean    74697.500000     370.192426    1252.099842\n",
       "std     43127.054745     278.300951     144.050823\n",
       "min         0.000000       0.000000    1000.000000\n",
       "25%     37348.750000     138.187500    1130.000000\n",
       "50%     74697.500000     348.015000    1251.000000\n",
       "75%    112046.250000     559.552500    1380.000000\n",
       "max    149395.000000    1724.830000    1499.000000"
      ]
     },
     "metadata": {},
     "output_type": "display_data"
    },
    {
     "name": "stdout",
     "output_type": "stream",
     "text": [
      "Количество дубликатов в DataFrame: 0\n"
     ]
    }
   ],
   "source": [
    "data_internet = pd.read_csv()\n",
    "\n",
    "information(data_internet)   "
   ]
  },
  {
   "cell_type": "markdown",
   "metadata": {},
   "source": [
    "DataFrame содержит информацию о 149396 интернет-сессий. Пропущенных значений нет. Дубликатов нет. Неоходимые изменения:\n",
    " * столбец ***mb_used***. Округлить все значения до целого значения в болушую сторону (нулевые значения заменить на 1), так как у оператора применяется помегабайтная тарификация и затем изменить тип данных столбца на int;\n",
    " * столбец ***session_date***. Изменить тип данных на datetime."
   ]
  },
  {
   "cell_type": "markdown",
   "metadata": {},
   "source": [
    "## 1.3 Данные о сообщениях (messages.csv)<a id=\"чтение_файлов__messages\"></a>"
   ]
  },
  {
   "cell_type": "code",
   "execution_count": 4,
   "metadata": {},
   "outputs": [
    {
     "data": {
      "text/html": [
       "<div>\n",
       "<style scoped>\n",
       "    .dataframe tbody tr th:only-of-type {\n",
       "        vertical-align: middle;\n",
       "    }\n",
       "\n",
       "    .dataframe tbody tr th {\n",
       "        vertical-align: top;\n",
       "    }\n",
       "\n",
       "    .dataframe thead th {\n",
       "        text-align: right;\n",
       "    }\n",
       "</style>\n",
       "<table border=\"1\" class=\"dataframe\">\n",
       "  <thead>\n",
       "    <tr style=\"text-align: right;\">\n",
       "      <th></th>\n",
       "      <th>id</th>\n",
       "      <th>message_date</th>\n",
       "      <th>user_id</th>\n",
       "    </tr>\n",
       "  </thead>\n",
       "  <tbody>\n",
       "    <tr>\n",
       "      <td>0</td>\n",
       "      <td>1000_0</td>\n",
       "      <td>2018-06-27</td>\n",
       "      <td>1000</td>\n",
       "    </tr>\n",
       "    <tr>\n",
       "      <td>1</td>\n",
       "      <td>1000_1</td>\n",
       "      <td>2018-10-08</td>\n",
       "      <td>1000</td>\n",
       "    </tr>\n",
       "    <tr>\n",
       "      <td>2</td>\n",
       "      <td>1000_2</td>\n",
       "      <td>2018-08-04</td>\n",
       "      <td>1000</td>\n",
       "    </tr>\n",
       "    <tr>\n",
       "      <td>3</td>\n",
       "      <td>1000_3</td>\n",
       "      <td>2018-06-16</td>\n",
       "      <td>1000</td>\n",
       "    </tr>\n",
       "    <tr>\n",
       "      <td>4</td>\n",
       "      <td>1000_4</td>\n",
       "      <td>2018-12-05</td>\n",
       "      <td>1000</td>\n",
       "    </tr>\n",
       "    <tr>\n",
       "      <td>5</td>\n",
       "      <td>1000_5</td>\n",
       "      <td>2018-06-20</td>\n",
       "      <td>1000</td>\n",
       "    </tr>\n",
       "    <tr>\n",
       "      <td>6</td>\n",
       "      <td>1000_6</td>\n",
       "      <td>2018-11-19</td>\n",
       "      <td>1000</td>\n",
       "    </tr>\n",
       "    <tr>\n",
       "      <td>7</td>\n",
       "      <td>1000_7</td>\n",
       "      <td>2018-10-29</td>\n",
       "      <td>1000</td>\n",
       "    </tr>\n",
       "    <tr>\n",
       "      <td>8</td>\n",
       "      <td>1000_8</td>\n",
       "      <td>2018-06-25</td>\n",
       "      <td>1000</td>\n",
       "    </tr>\n",
       "    <tr>\n",
       "      <td>9</td>\n",
       "      <td>1000_9</td>\n",
       "      <td>2018-12-18</td>\n",
       "      <td>1000</td>\n",
       "    </tr>\n",
       "  </tbody>\n",
       "</table>\n",
       "</div>"
      ],
      "text/plain": [
       "       id message_date  user_id\n",
       "0  1000_0   2018-06-27     1000\n",
       "1  1000_1   2018-10-08     1000\n",
       "2  1000_2   2018-08-04     1000\n",
       "3  1000_3   2018-06-16     1000\n",
       "4  1000_4   2018-12-05     1000\n",
       "5  1000_5   2018-06-20     1000\n",
       "6  1000_6   2018-11-19     1000\n",
       "7  1000_7   2018-10-29     1000\n",
       "8  1000_8   2018-06-25     1000\n",
       "9  1000_9   2018-12-18     1000"
      ]
     },
     "metadata": {},
     "output_type": "display_data"
    },
    {
     "name": "stdout",
     "output_type": "stream",
     "text": [
      "<class 'pandas.core.frame.DataFrame'>\n",
      "RangeIndex: 123036 entries, 0 to 123035\n",
      "Data columns (total 3 columns):\n",
      "id              123036 non-null object\n",
      "message_date    123036 non-null object\n",
      "user_id         123036 non-null int64\n",
      "dtypes: int64(1), object(2)\n",
      "memory usage: 2.8+ MB\n"
     ]
    },
    {
     "data": {
      "text/plain": [
       "None"
      ]
     },
     "metadata": {},
     "output_type": "display_data"
    },
    {
     "data": {
      "text/html": [
       "<div>\n",
       "<style scoped>\n",
       "    .dataframe tbody tr th:only-of-type {\n",
       "        vertical-align: middle;\n",
       "    }\n",
       "\n",
       "    .dataframe tbody tr th {\n",
       "        vertical-align: top;\n",
       "    }\n",
       "\n",
       "    .dataframe thead th {\n",
       "        text-align: right;\n",
       "    }\n",
       "</style>\n",
       "<table border=\"1\" class=\"dataframe\">\n",
       "  <thead>\n",
       "    <tr style=\"text-align: right;\">\n",
       "      <th></th>\n",
       "      <th>user_id</th>\n",
       "    </tr>\n",
       "  </thead>\n",
       "  <tbody>\n",
       "    <tr>\n",
       "      <td>count</td>\n",
       "      <td>123036.000000</td>\n",
       "    </tr>\n",
       "    <tr>\n",
       "      <td>mean</td>\n",
       "      <td>1256.989410</td>\n",
       "    </tr>\n",
       "    <tr>\n",
       "      <td>std</td>\n",
       "      <td>143.523967</td>\n",
       "    </tr>\n",
       "    <tr>\n",
       "      <td>min</td>\n",
       "      <td>1000.000000</td>\n",
       "    </tr>\n",
       "    <tr>\n",
       "      <td>25%</td>\n",
       "      <td>1134.000000</td>\n",
       "    </tr>\n",
       "    <tr>\n",
       "      <td>50%</td>\n",
       "      <td>1271.000000</td>\n",
       "    </tr>\n",
       "    <tr>\n",
       "      <td>75%</td>\n",
       "      <td>1381.000000</td>\n",
       "    </tr>\n",
       "    <tr>\n",
       "      <td>max</td>\n",
       "      <td>1499.000000</td>\n",
       "    </tr>\n",
       "  </tbody>\n",
       "</table>\n",
       "</div>"
      ],
      "text/plain": [
       "             user_id\n",
       "count  123036.000000\n",
       "mean     1256.989410\n",
       "std       143.523967\n",
       "min      1000.000000\n",
       "25%      1134.000000\n",
       "50%      1271.000000\n",
       "75%      1381.000000\n",
       "max      1499.000000"
      ]
     },
     "metadata": {},
     "output_type": "display_data"
    },
    {
     "name": "stdout",
     "output_type": "stream",
     "text": [
      "Количество дубликатов в DataFrame: 0\n"
     ]
    }
   ],
   "source": [
    "data_messages = pd.read_csv()\n",
    "\n",
    "information(data_messages)  "
   ]
  },
  {
   "cell_type": "markdown",
   "metadata": {},
   "source": [
    "DataFrame содержит информацию о 123036 отправленных сообщений. Пропущенных значений нет. Дубликатов нет. Неоходимые изменения:\n",
    " * столбец ***message_date***. Изменить тип данных на datetime."
   ]
  },
  {
   "cell_type": "markdown",
   "metadata": {},
   "source": [
    "## 1.4 Данные о тарифах (tariffs.csv)<a id=\"чтение_файлов__tariffs\"></a>"
   ]
  },
  {
   "cell_type": "code",
   "execution_count": 5,
   "metadata": {},
   "outputs": [
    {
     "data": {
      "text/html": [
       "<div>\n",
       "<style scoped>\n",
       "    .dataframe tbody tr th:only-of-type {\n",
       "        vertical-align: middle;\n",
       "    }\n",
       "\n",
       "    .dataframe tbody tr th {\n",
       "        vertical-align: top;\n",
       "    }\n",
       "\n",
       "    .dataframe thead th {\n",
       "        text-align: right;\n",
       "    }\n",
       "</style>\n",
       "<table border=\"1\" class=\"dataframe\">\n",
       "  <thead>\n",
       "    <tr style=\"text-align: right;\">\n",
       "      <th></th>\n",
       "      <th>messages_included</th>\n",
       "      <th>mb_per_month_included</th>\n",
       "      <th>minutes_included</th>\n",
       "      <th>rub_monthly_fee</th>\n",
       "      <th>rub_per_gb</th>\n",
       "      <th>rub_per_message</th>\n",
       "      <th>rub_per_minute</th>\n",
       "      <th>tariff_name</th>\n",
       "    </tr>\n",
       "  </thead>\n",
       "  <tbody>\n",
       "    <tr>\n",
       "      <td>0</td>\n",
       "      <td>50</td>\n",
       "      <td>15360</td>\n",
       "      <td>500</td>\n",
       "      <td>550</td>\n",
       "      <td>200</td>\n",
       "      <td>3</td>\n",
       "      <td>3</td>\n",
       "      <td>smart</td>\n",
       "    </tr>\n",
       "    <tr>\n",
       "      <td>1</td>\n",
       "      <td>1000</td>\n",
       "      <td>30720</td>\n",
       "      <td>3000</td>\n",
       "      <td>1950</td>\n",
       "      <td>150</td>\n",
       "      <td>1</td>\n",
       "      <td>1</td>\n",
       "      <td>ultra</td>\n",
       "    </tr>\n",
       "  </tbody>\n",
       "</table>\n",
       "</div>"
      ],
      "text/plain": [
       "   messages_included  mb_per_month_included  minutes_included  \\\n",
       "0                 50                  15360               500   \n",
       "1               1000                  30720              3000   \n",
       "\n",
       "   rub_monthly_fee  rub_per_gb  rub_per_message  rub_per_minute tariff_name  \n",
       "0              550         200                3               3       smart  \n",
       "1             1950         150                1               1       ultra  "
      ]
     },
     "metadata": {},
     "output_type": "display_data"
    },
    {
     "name": "stdout",
     "output_type": "stream",
     "text": [
      "<class 'pandas.core.frame.DataFrame'>\n",
      "RangeIndex: 2 entries, 0 to 1\n",
      "Data columns (total 8 columns):\n",
      "messages_included        2 non-null int64\n",
      "mb_per_month_included    2 non-null int64\n",
      "minutes_included         2 non-null int64\n",
      "rub_monthly_fee          2 non-null int64\n",
      "rub_per_gb               2 non-null int64\n",
      "rub_per_message          2 non-null int64\n",
      "rub_per_minute           2 non-null int64\n",
      "tariff_name              2 non-null object\n",
      "dtypes: int64(7), object(1)\n",
      "memory usage: 256.0+ bytes\n"
     ]
    },
    {
     "data": {
      "text/plain": [
       "None"
      ]
     },
     "metadata": {},
     "output_type": "display_data"
    },
    {
     "data": {
      "text/html": [
       "<div>\n",
       "<style scoped>\n",
       "    .dataframe tbody tr th:only-of-type {\n",
       "        vertical-align: middle;\n",
       "    }\n",
       "\n",
       "    .dataframe tbody tr th {\n",
       "        vertical-align: top;\n",
       "    }\n",
       "\n",
       "    .dataframe thead th {\n",
       "        text-align: right;\n",
       "    }\n",
       "</style>\n",
       "<table border=\"1\" class=\"dataframe\">\n",
       "  <thead>\n",
       "    <tr style=\"text-align: right;\">\n",
       "      <th></th>\n",
       "      <th>messages_included</th>\n",
       "      <th>mb_per_month_included</th>\n",
       "      <th>minutes_included</th>\n",
       "      <th>rub_monthly_fee</th>\n",
       "      <th>rub_per_gb</th>\n",
       "      <th>rub_per_message</th>\n",
       "      <th>rub_per_minute</th>\n",
       "    </tr>\n",
       "  </thead>\n",
       "  <tbody>\n",
       "    <tr>\n",
       "      <td>count</td>\n",
       "      <td>2.000000</td>\n",
       "      <td>2.000000</td>\n",
       "      <td>2.000000</td>\n",
       "      <td>2.000000</td>\n",
       "      <td>2.000000</td>\n",
       "      <td>2.000000</td>\n",
       "      <td>2.000000</td>\n",
       "    </tr>\n",
       "    <tr>\n",
       "      <td>mean</td>\n",
       "      <td>525.000000</td>\n",
       "      <td>23040.000000</td>\n",
       "      <td>1750.000000</td>\n",
       "      <td>1250.000000</td>\n",
       "      <td>175.000000</td>\n",
       "      <td>2.000000</td>\n",
       "      <td>2.000000</td>\n",
       "    </tr>\n",
       "    <tr>\n",
       "      <td>std</td>\n",
       "      <td>671.751442</td>\n",
       "      <td>10861.160159</td>\n",
       "      <td>1767.766953</td>\n",
       "      <td>989.949494</td>\n",
       "      <td>35.355339</td>\n",
       "      <td>1.414214</td>\n",
       "      <td>1.414214</td>\n",
       "    </tr>\n",
       "    <tr>\n",
       "      <td>min</td>\n",
       "      <td>50.000000</td>\n",
       "      <td>15360.000000</td>\n",
       "      <td>500.000000</td>\n",
       "      <td>550.000000</td>\n",
       "      <td>150.000000</td>\n",
       "      <td>1.000000</td>\n",
       "      <td>1.000000</td>\n",
       "    </tr>\n",
       "    <tr>\n",
       "      <td>25%</td>\n",
       "      <td>287.500000</td>\n",
       "      <td>19200.000000</td>\n",
       "      <td>1125.000000</td>\n",
       "      <td>900.000000</td>\n",
       "      <td>162.500000</td>\n",
       "      <td>1.500000</td>\n",
       "      <td>1.500000</td>\n",
       "    </tr>\n",
       "    <tr>\n",
       "      <td>50%</td>\n",
       "      <td>525.000000</td>\n",
       "      <td>23040.000000</td>\n",
       "      <td>1750.000000</td>\n",
       "      <td>1250.000000</td>\n",
       "      <td>175.000000</td>\n",
       "      <td>2.000000</td>\n",
       "      <td>2.000000</td>\n",
       "    </tr>\n",
       "    <tr>\n",
       "      <td>75%</td>\n",
       "      <td>762.500000</td>\n",
       "      <td>26880.000000</td>\n",
       "      <td>2375.000000</td>\n",
       "      <td>1600.000000</td>\n",
       "      <td>187.500000</td>\n",
       "      <td>2.500000</td>\n",
       "      <td>2.500000</td>\n",
       "    </tr>\n",
       "    <tr>\n",
       "      <td>max</td>\n",
       "      <td>1000.000000</td>\n",
       "      <td>30720.000000</td>\n",
       "      <td>3000.000000</td>\n",
       "      <td>1950.000000</td>\n",
       "      <td>200.000000</td>\n",
       "      <td>3.000000</td>\n",
       "      <td>3.000000</td>\n",
       "    </tr>\n",
       "  </tbody>\n",
       "</table>\n",
       "</div>"
      ],
      "text/plain": [
       "       messages_included  mb_per_month_included  minutes_included  \\\n",
       "count           2.000000               2.000000          2.000000   \n",
       "mean          525.000000           23040.000000       1750.000000   \n",
       "std           671.751442           10861.160159       1767.766953   \n",
       "min            50.000000           15360.000000        500.000000   \n",
       "25%           287.500000           19200.000000       1125.000000   \n",
       "50%           525.000000           23040.000000       1750.000000   \n",
       "75%           762.500000           26880.000000       2375.000000   \n",
       "max          1000.000000           30720.000000       3000.000000   \n",
       "\n",
       "       rub_monthly_fee  rub_per_gb  rub_per_message  rub_per_minute  \n",
       "count         2.000000    2.000000         2.000000        2.000000  \n",
       "mean       1250.000000  175.000000         2.000000        2.000000  \n",
       "std         989.949494   35.355339         1.414214        1.414214  \n",
       "min         550.000000  150.000000         1.000000        1.000000  \n",
       "25%         900.000000  162.500000         1.500000        1.500000  \n",
       "50%        1250.000000  175.000000         2.000000        2.000000  \n",
       "75%        1600.000000  187.500000         2.500000        2.500000  \n",
       "max        1950.000000  200.000000         3.000000        3.000000  "
      ]
     },
     "metadata": {},
     "output_type": "display_data"
    },
    {
     "name": "stdout",
     "output_type": "stream",
     "text": [
      "Количество дубликатов в DataFrame: 0\n"
     ]
    }
   ],
   "source": [
    "data_tariffs = pd.read_csv()\n",
    "\n",
    "information(data_tariffs) "
   ]
  },
  {
   "cell_type": "markdown",
   "metadata": {},
   "source": [
    "DataFrame содержит информацию о 2-х тарифах. Данный DataFrame оставим без изменений."
   ]
  },
  {
   "cell_type": "markdown",
   "metadata": {},
   "source": [
    "## 1.5 Данные о пользователях (users.csv)<a id=\"чтение_файлов__users\"></a>"
   ]
  },
  {
   "cell_type": "code",
   "execution_count": 6,
   "metadata": {},
   "outputs": [
    {
     "data": {
      "text/html": [
       "<div>\n",
       "<style scoped>\n",
       "    .dataframe tbody tr th:only-of-type {\n",
       "        vertical-align: middle;\n",
       "    }\n",
       "\n",
       "    .dataframe tbody tr th {\n",
       "        vertical-align: top;\n",
       "    }\n",
       "\n",
       "    .dataframe thead th {\n",
       "        text-align: right;\n",
       "    }\n",
       "</style>\n",
       "<table border=\"1\" class=\"dataframe\">\n",
       "  <thead>\n",
       "    <tr style=\"text-align: right;\">\n",
       "      <th></th>\n",
       "      <th>user_id</th>\n",
       "      <th>age</th>\n",
       "      <th>churn_date</th>\n",
       "      <th>city</th>\n",
       "      <th>first_name</th>\n",
       "      <th>last_name</th>\n",
       "      <th>reg_date</th>\n",
       "      <th>tariff</th>\n",
       "    </tr>\n",
       "  </thead>\n",
       "  <tbody>\n",
       "    <tr>\n",
       "      <td>0</td>\n",
       "      <td>1000</td>\n",
       "      <td>52</td>\n",
       "      <td>NaN</td>\n",
       "      <td>Краснодар</td>\n",
       "      <td>Рафаил</td>\n",
       "      <td>Верещагин</td>\n",
       "      <td>2018-05-25</td>\n",
       "      <td>ultra</td>\n",
       "    </tr>\n",
       "    <tr>\n",
       "      <td>1</td>\n",
       "      <td>1001</td>\n",
       "      <td>41</td>\n",
       "      <td>NaN</td>\n",
       "      <td>Москва</td>\n",
       "      <td>Иван</td>\n",
       "      <td>Ежов</td>\n",
       "      <td>2018-11-01</td>\n",
       "      <td>smart</td>\n",
       "    </tr>\n",
       "    <tr>\n",
       "      <td>2</td>\n",
       "      <td>1002</td>\n",
       "      <td>59</td>\n",
       "      <td>NaN</td>\n",
       "      <td>Стерлитамак</td>\n",
       "      <td>Евгений</td>\n",
       "      <td>Абрамович</td>\n",
       "      <td>2018-06-17</td>\n",
       "      <td>smart</td>\n",
       "    </tr>\n",
       "    <tr>\n",
       "      <td>3</td>\n",
       "      <td>1003</td>\n",
       "      <td>23</td>\n",
       "      <td>NaN</td>\n",
       "      <td>Москва</td>\n",
       "      <td>Белла</td>\n",
       "      <td>Белякова</td>\n",
       "      <td>2018-08-17</td>\n",
       "      <td>ultra</td>\n",
       "    </tr>\n",
       "    <tr>\n",
       "      <td>4</td>\n",
       "      <td>1004</td>\n",
       "      <td>68</td>\n",
       "      <td>NaN</td>\n",
       "      <td>Новокузнецк</td>\n",
       "      <td>Татьяна</td>\n",
       "      <td>Авдеенко</td>\n",
       "      <td>2018-05-14</td>\n",
       "      <td>ultra</td>\n",
       "    </tr>\n",
       "    <tr>\n",
       "      <td>5</td>\n",
       "      <td>1005</td>\n",
       "      <td>67</td>\n",
       "      <td>NaN</td>\n",
       "      <td>Набережные Челны</td>\n",
       "      <td>Афанасий</td>\n",
       "      <td>Горлов</td>\n",
       "      <td>2018-01-25</td>\n",
       "      <td>smart</td>\n",
       "    </tr>\n",
       "    <tr>\n",
       "      <td>6</td>\n",
       "      <td>1006</td>\n",
       "      <td>21</td>\n",
       "      <td>NaN</td>\n",
       "      <td>Ульяновск</td>\n",
       "      <td>Леонид</td>\n",
       "      <td>Ермолаев</td>\n",
       "      <td>2018-02-26</td>\n",
       "      <td>smart</td>\n",
       "    </tr>\n",
       "    <tr>\n",
       "      <td>7</td>\n",
       "      <td>1007</td>\n",
       "      <td>65</td>\n",
       "      <td>NaN</td>\n",
       "      <td>Москва</td>\n",
       "      <td>Юна</td>\n",
       "      <td>Березина</td>\n",
       "      <td>2018-04-19</td>\n",
       "      <td>smart</td>\n",
       "    </tr>\n",
       "    <tr>\n",
       "      <td>8</td>\n",
       "      <td>1008</td>\n",
       "      <td>63</td>\n",
       "      <td>NaN</td>\n",
       "      <td>Челябинск</td>\n",
       "      <td>Рустэм</td>\n",
       "      <td>Пономарёв</td>\n",
       "      <td>2018-12-19</td>\n",
       "      <td>smart</td>\n",
       "    </tr>\n",
       "    <tr>\n",
       "      <td>9</td>\n",
       "      <td>1009</td>\n",
       "      <td>24</td>\n",
       "      <td>NaN</td>\n",
       "      <td>Пермь</td>\n",
       "      <td>Василиса</td>\n",
       "      <td>Блинова</td>\n",
       "      <td>2018-03-22</td>\n",
       "      <td>smart</td>\n",
       "    </tr>\n",
       "  </tbody>\n",
       "</table>\n",
       "</div>"
      ],
      "text/plain": [
       "   user_id  age churn_date              city first_name  last_name  \\\n",
       "0     1000   52        NaN         Краснодар     Рафаил  Верещагин   \n",
       "1     1001   41        NaN            Москва       Иван       Ежов   \n",
       "2     1002   59        NaN       Стерлитамак    Евгений  Абрамович   \n",
       "3     1003   23        NaN            Москва      Белла   Белякова   \n",
       "4     1004   68        NaN       Новокузнецк    Татьяна   Авдеенко   \n",
       "5     1005   67        NaN  Набережные Челны   Афанасий     Горлов   \n",
       "6     1006   21        NaN         Ульяновск     Леонид   Ермолаев   \n",
       "7     1007   65        NaN            Москва        Юна   Березина   \n",
       "8     1008   63        NaN         Челябинск     Рустэм  Пономарёв   \n",
       "9     1009   24        NaN             Пермь   Василиса    Блинова   \n",
       "\n",
       "     reg_date tariff  \n",
       "0  2018-05-25  ultra  \n",
       "1  2018-11-01  smart  \n",
       "2  2018-06-17  smart  \n",
       "3  2018-08-17  ultra  \n",
       "4  2018-05-14  ultra  \n",
       "5  2018-01-25  smart  \n",
       "6  2018-02-26  smart  \n",
       "7  2018-04-19  smart  \n",
       "8  2018-12-19  smart  \n",
       "9  2018-03-22  smart  "
      ]
     },
     "metadata": {},
     "output_type": "display_data"
    },
    {
     "name": "stdout",
     "output_type": "stream",
     "text": [
      "<class 'pandas.core.frame.DataFrame'>\n",
      "RangeIndex: 500 entries, 0 to 499\n",
      "Data columns (total 8 columns):\n",
      "user_id       500 non-null int64\n",
      "age           500 non-null int64\n",
      "churn_date    38 non-null object\n",
      "city          500 non-null object\n",
      "first_name    500 non-null object\n",
      "last_name     500 non-null object\n",
      "reg_date      500 non-null object\n",
      "tariff        500 non-null object\n",
      "dtypes: int64(2), object(6)\n",
      "memory usage: 31.4+ KB\n"
     ]
    },
    {
     "data": {
      "text/plain": [
       "None"
      ]
     },
     "metadata": {},
     "output_type": "display_data"
    },
    {
     "data": {
      "text/html": [
       "<div>\n",
       "<style scoped>\n",
       "    .dataframe tbody tr th:only-of-type {\n",
       "        vertical-align: middle;\n",
       "    }\n",
       "\n",
       "    .dataframe tbody tr th {\n",
       "        vertical-align: top;\n",
       "    }\n",
       "\n",
       "    .dataframe thead th {\n",
       "        text-align: right;\n",
       "    }\n",
       "</style>\n",
       "<table border=\"1\" class=\"dataframe\">\n",
       "  <thead>\n",
       "    <tr style=\"text-align: right;\">\n",
       "      <th></th>\n",
       "      <th>user_id</th>\n",
       "      <th>age</th>\n",
       "    </tr>\n",
       "  </thead>\n",
       "  <tbody>\n",
       "    <tr>\n",
       "      <td>count</td>\n",
       "      <td>500.000000</td>\n",
       "      <td>500.00000</td>\n",
       "    </tr>\n",
       "    <tr>\n",
       "      <td>mean</td>\n",
       "      <td>1249.500000</td>\n",
       "      <td>46.58800</td>\n",
       "    </tr>\n",
       "    <tr>\n",
       "      <td>std</td>\n",
       "      <td>144.481833</td>\n",
       "      <td>16.66763</td>\n",
       "    </tr>\n",
       "    <tr>\n",
       "      <td>min</td>\n",
       "      <td>1000.000000</td>\n",
       "      <td>18.00000</td>\n",
       "    </tr>\n",
       "    <tr>\n",
       "      <td>25%</td>\n",
       "      <td>1124.750000</td>\n",
       "      <td>32.00000</td>\n",
       "    </tr>\n",
       "    <tr>\n",
       "      <td>50%</td>\n",
       "      <td>1249.500000</td>\n",
       "      <td>46.00000</td>\n",
       "    </tr>\n",
       "    <tr>\n",
       "      <td>75%</td>\n",
       "      <td>1374.250000</td>\n",
       "      <td>62.00000</td>\n",
       "    </tr>\n",
       "    <tr>\n",
       "      <td>max</td>\n",
       "      <td>1499.000000</td>\n",
       "      <td>75.00000</td>\n",
       "    </tr>\n",
       "  </tbody>\n",
       "</table>\n",
       "</div>"
      ],
      "text/plain": [
       "           user_id        age\n",
       "count   500.000000  500.00000\n",
       "mean   1249.500000   46.58800\n",
       "std     144.481833   16.66763\n",
       "min    1000.000000   18.00000\n",
       "25%    1124.750000   32.00000\n",
       "50%    1249.500000   46.00000\n",
       "75%    1374.250000   62.00000\n",
       "max    1499.000000   75.00000"
      ]
     },
     "metadata": {},
     "output_type": "display_data"
    },
    {
     "name": "stdout",
     "output_type": "stream",
     "text": [
      "Количество дубликатов в DataFrame: 0\n"
     ]
    }
   ],
   "source": [
    "data_users = pd.read_csv()\n",
    "\n",
    "information(data_users) "
   ]
  },
  {
   "cell_type": "markdown",
   "metadata": {},
   "source": [
    "DataFrame содержит информацию о 500 пользователей. Пропущенных значений нет. Дубликатов нет. Неоходимые изменения:\n",
    " * столбцы ***churn_date, reg_date***. Изменить тип данных на datetime."
   ]
  },
  {
   "cell_type": "markdown",
   "metadata": {},
   "source": [
    "### Выводы"
   ]
  },
  {
   "cell_type": "markdown",
   "metadata": {},
   "source": [
    "Изучили общую инфомрацию о предоставленных данных. Проверили наличие пропущенных значений и дубликатов. Необходимы следующие изменения:\n",
    "* DataFrame ***data_calls***:\n",
    " * столбец *duration*. Округлить все значения до целого значения в болушую сторону (нулевые значения заменить на 1), так как у оператора применяется поминутная тарификация и затем изменить тип данных столбца на int;\n",
    " * столбец *call_date*. Изменить тип данных на datetime.\n",
    "* DataFrame ***data_internet***:\n",
    " * столбец *mb_used*. Округлить все значения до целого значения в болушую сторону (нулевые значения заменить на 1), так как у оператора применяется помегабайтная тарификация и затем изменить тип данных столбца на int;\n",
    " * столбец *session_date*. Изменить тип данных на datetime.\n",
    "* DataFrame ***data_messages***: \n",
    " * столбец *message_date*. Изменить тип данных на datetime.\n",
    "* DataFrame ***data_users***:\n",
    " * столбцы *churn_date, reg_date*. Изменить тип данных на datetime."
   ]
  },
  {
   "cell_type": "markdown",
   "metadata": {},
   "source": [
    "## 2. Предобработка данных<a id=\"предобработка_данных\"></a>"
   ]
  },
  {
   "cell_type": "markdown",
   "metadata": {},
   "source": [
    "## 2.1 Обработка пропущенных значений<a id=\"предобработка_данных__обработка_пропущенных_значений\"></a>"
   ]
  },
  {
   "cell_type": "markdown",
   "metadata": {},
   "source": [
    "### 2.1.1 Обработка нулевых знаечний в data_calls<a id=\"предобработка_данных__обработка_пропущенных_значений__обработка_нулевых_знаечний_в_data_calls\"></a>"
   ]
  },
  {
   "cell_type": "markdown",
   "metadata": {},
   "source": [
    "Посчитаем количество нулевых значений в столбце ***duration***."
   ]
  },
  {
   "cell_type": "code",
   "execution_count": 7,
   "metadata": {},
   "outputs": [
    {
     "name": "stdout",
     "output_type": "stream",
     "text": [
      "Количество звонков с длительностью 0:  39613\n"
     ]
    }
   ],
   "source": [
    "print('Количество звонков с длительностью 0: ', len(data_calls.query('duration == 0')))"
   ]
  },
  {
   "cell_type": "markdown",
   "metadata": {},
   "source": [
    "В условиях сказано, что оператор всегда округляет совершенные звонки до 1 минуты. Поэтому заменим нулевые значения на 1."
   ]
  },
  {
   "cell_type": "code",
   "execution_count": 8,
   "metadata": {},
   "outputs": [],
   "source": [
    "data_calls['duration'].replace(0,1, inplace=True)"
   ]
  },
  {
   "cell_type": "markdown",
   "metadata": {},
   "source": [
    "Проверим количество звонкиов с длительностью 0 после замены."
   ]
  },
  {
   "cell_type": "code",
   "execution_count": 9,
   "metadata": {},
   "outputs": [
    {
     "name": "stdout",
     "output_type": "stream",
     "text": [
      "Количество звонков с длительностью 0:  0\n"
     ]
    }
   ],
   "source": [
    "print('Количество звонков с длительностью 0: ', len(data_calls.query('duration == 0')))"
   ]
  },
  {
   "cell_type": "markdown",
   "metadata": {},
   "source": [
    "### 2.1.2 Обработка нулевых знаечний в data_internet<a id=\"предобработка_данных__обработка_пропущенных_значений__обработка_нулевых_знаечний_в_data_internet\"></a>"
   ]
  },
  {
   "cell_type": "markdown",
   "metadata": {},
   "source": [
    "Посчитаем количество нулевых значений в столбце ***mb_used***."
   ]
  },
  {
   "cell_type": "code",
   "execution_count": 10,
   "metadata": {},
   "outputs": [
    {
     "name": "stdout",
     "output_type": "stream",
     "text": [
      "Количество звонков с длительностью 0:  19598\n"
     ]
    }
   ],
   "source": [
    "print('Количество звонков с длительностью 0: ', len(data_internet.query('mb_used == 0')))"
   ]
  },
  {
   "cell_type": "markdown",
   "metadata": {},
   "source": [
    "В условиях сказано, что оператор всегда округляет совершенные интернет-сессии до 1 Мб. Поэтому заменим нулевые значения на 1."
   ]
  },
  {
   "cell_type": "code",
   "execution_count": 11,
   "metadata": {},
   "outputs": [],
   "source": [
    "data_internet['mb_used'].replace(0,1, inplace=True)"
   ]
  },
  {
   "cell_type": "markdown",
   "metadata": {},
   "source": [
    "Проверим количество звонкиов с длительностью 0 после замены."
   ]
  },
  {
   "cell_type": "code",
   "execution_count": 12,
   "metadata": {},
   "outputs": [
    {
     "name": "stdout",
     "output_type": "stream",
     "text": [
      "Количество звонков с длительностью 0:  0\n"
     ]
    }
   ],
   "source": [
    "print('Количество звонков с длительностью 0: ', len(data_internet.query('mb_used == 0')))"
   ]
  },
  {
   "cell_type": "markdown",
   "metadata": {},
   "source": [
    "## 2.2 Замена типа данных<a id=\"предобработка_данных__замена_типа_данных\"></a>"
   ]
  },
  {
   "cell_type": "markdown",
   "metadata": {},
   "source": [
    "### 2.2.1 Замена типа данных в data_calls<a id=\"предобработка_данных__замена_типа_данных__замена_типа_данных_в_data_calls\"></a>"
   ]
  },
  {
   "cell_type": "markdown",
   "metadata": {},
   "source": [
    "Округлим все значения в столбце ***duration*** до минут в большую сторону и заменим тип данных на int."
   ]
  },
  {
   "cell_type": "code",
   "execution_count": 13,
   "metadata": {},
   "outputs": [],
   "source": [
    "data_calls['duration'] = data_calls['duration'].apply(np.ceil).astype(int)"
   ]
  },
  {
   "cell_type": "markdown",
   "metadata": {},
   "source": [
    "Изменим тип данных для столбца ***call_date*** на datetime."
   ]
  },
  {
   "cell_type": "code",
   "execution_count": 14,
   "metadata": {},
   "outputs": [],
   "source": [
    "data_calls['call_date'] = pd.to_datetime(data_calls['call_date'], format='%Y-%m-%d')"
   ]
  },
  {
   "cell_type": "markdown",
   "metadata": {},
   "source": [
    "Добавим столбец с номером месяца."
   ]
  },
  {
   "cell_type": "code",
   "execution_count": 15,
   "metadata": {},
   "outputs": [],
   "source": [
    "data_calls['date_month'] = data_calls['call_date'].dt.month"
   ]
  },
  {
   "cell_type": "markdown",
   "metadata": {},
   "source": [
    "Проверим, что изменения произошли."
   ]
  },
  {
   "cell_type": "code",
   "execution_count": 16,
   "metadata": {},
   "outputs": [
    {
     "name": "stdout",
     "output_type": "stream",
     "text": [
      "<class 'pandas.core.frame.DataFrame'>\n",
      "RangeIndex: 202607 entries, 0 to 202606\n",
      "Data columns (total 5 columns):\n",
      "id            202607 non-null object\n",
      "call_date     202607 non-null datetime64[ns]\n",
      "duration      202607 non-null int64\n",
      "user_id       202607 non-null int64\n",
      "date_month    202607 non-null int64\n",
      "dtypes: datetime64[ns](1), int64(3), object(1)\n",
      "memory usage: 7.7+ MB\n"
     ]
    }
   ],
   "source": [
    "data_calls.info()"
   ]
  },
  {
   "cell_type": "markdown",
   "metadata": {},
   "source": [
    "### 2.2.2 Замена типа данных в data_internet<a id=\"предобработка_данных__замена_типа_данных__замена_типа_данных_в_data_internet\"></a>"
   ]
  },
  {
   "cell_type": "markdown",
   "metadata": {},
   "source": [
    "Округлим все значения в столбце ***mb_used*** до мегабайт в большую сторону и заменим тип данных на int."
   ]
  },
  {
   "cell_type": "code",
   "execution_count": 17,
   "metadata": {},
   "outputs": [],
   "source": [
    "data_internet['mb_used'] = data_internet['mb_used'].apply(np.ceil).astype(int)"
   ]
  },
  {
   "cell_type": "markdown",
   "metadata": {},
   "source": [
    "Изменим тип данных для столбца ***call_date*** на datetime."
   ]
  },
  {
   "cell_type": "code",
   "execution_count": 18,
   "metadata": {},
   "outputs": [],
   "source": [
    "data_internet['session_date'] = pd.to_datetime(data_internet['session_date'], format='%Y-%m-%d')"
   ]
  },
  {
   "cell_type": "markdown",
   "metadata": {},
   "source": [
    "Добавим столбец с номером месяца."
   ]
  },
  {
   "cell_type": "code",
   "execution_count": 19,
   "metadata": {},
   "outputs": [],
   "source": [
    "data_internet['date_month'] = data_internet['session_date'].dt.month"
   ]
  },
  {
   "cell_type": "markdown",
   "metadata": {},
   "source": [
    "Проверим, что изменения произошли."
   ]
  },
  {
   "cell_type": "code",
   "execution_count": 20,
   "metadata": {},
   "outputs": [
    {
     "name": "stdout",
     "output_type": "stream",
     "text": [
      "<class 'pandas.core.frame.DataFrame'>\n",
      "RangeIndex: 149396 entries, 0 to 149395\n",
      "Data columns (total 6 columns):\n",
      "Unnamed: 0      149396 non-null int64\n",
      "id              149396 non-null object\n",
      "mb_used         149396 non-null int64\n",
      "session_date    149396 non-null datetime64[ns]\n",
      "user_id         149396 non-null int64\n",
      "date_month      149396 non-null int64\n",
      "dtypes: datetime64[ns](1), int64(4), object(1)\n",
      "memory usage: 6.8+ MB\n"
     ]
    }
   ],
   "source": [
    "data_internet.info()"
   ]
  },
  {
   "cell_type": "markdown",
   "metadata": {},
   "source": [
    "### 2.2.3 Замена типа данных в data_messages<a id=\"предобработка_данных__замена_типа_данных__замена_типа_данных_в_data_messages\"></a>"
   ]
  },
  {
   "cell_type": "markdown",
   "metadata": {},
   "source": [
    "Изменим тип данных для столбца ***message_date*** на datetime."
   ]
  },
  {
   "cell_type": "code",
   "execution_count": 21,
   "metadata": {},
   "outputs": [],
   "source": [
    "data_messages['message_date'] = pd.to_datetime(data_messages['message_date'], format='%Y-%m-%d')"
   ]
  },
  {
   "cell_type": "markdown",
   "metadata": {},
   "source": [
    "Добавим столбец с номером месяца."
   ]
  },
  {
   "cell_type": "code",
   "execution_count": 22,
   "metadata": {},
   "outputs": [],
   "source": [
    "data_messages['date_month'] = data_messages['message_date'].dt.month"
   ]
  },
  {
   "cell_type": "markdown",
   "metadata": {},
   "source": [
    "Проверим, что изменения произошли."
   ]
  },
  {
   "cell_type": "code",
   "execution_count": 23,
   "metadata": {},
   "outputs": [
    {
     "name": "stdout",
     "output_type": "stream",
     "text": [
      "<class 'pandas.core.frame.DataFrame'>\n",
      "RangeIndex: 123036 entries, 0 to 123035\n",
      "Data columns (total 4 columns):\n",
      "id              123036 non-null object\n",
      "message_date    123036 non-null datetime64[ns]\n",
      "user_id         123036 non-null int64\n",
      "date_month      123036 non-null int64\n",
      "dtypes: datetime64[ns](1), int64(2), object(1)\n",
      "memory usage: 3.8+ MB\n"
     ]
    }
   ],
   "source": [
    "data_messages.info()"
   ]
  },
  {
   "cell_type": "markdown",
   "metadata": {},
   "source": [
    "### 2.2.4 Замена типа данных в data_users<a id=\"предобработка_данных__замена_типа_данных__замена_типа_данных_в_data_users\"></a>"
   ]
  },
  {
   "cell_type": "markdown",
   "metadata": {},
   "source": [
    "Изменим тип данных для столбцов ***churn_date*** и ***reg_date*** на datetime."
   ]
  },
  {
   "cell_type": "code",
   "execution_count": 24,
   "metadata": {},
   "outputs": [],
   "source": [
    "data_users['churn_date'] = pd.to_datetime(data_users['churn_date'], format='%Y-%m-%d')\n",
    "data_users['reg_date'] = pd.to_datetime(data_users['reg_date'], format='%Y-%m-%d')"
   ]
  },
  {
   "cell_type": "markdown",
   "metadata": {},
   "source": [
    "Проверим, что изменения произошли."
   ]
  },
  {
   "cell_type": "code",
   "execution_count": 25,
   "metadata": {},
   "outputs": [
    {
     "name": "stdout",
     "output_type": "stream",
     "text": [
      "<class 'pandas.core.frame.DataFrame'>\n",
      "RangeIndex: 500 entries, 0 to 499\n",
      "Data columns (total 8 columns):\n",
      "user_id       500 non-null int64\n",
      "age           500 non-null int64\n",
      "churn_date    38 non-null datetime64[ns]\n",
      "city          500 non-null object\n",
      "first_name    500 non-null object\n",
      "last_name     500 non-null object\n",
      "reg_date      500 non-null datetime64[ns]\n",
      "tariff        500 non-null object\n",
      "dtypes: datetime64[ns](2), int64(2), object(4)\n",
      "memory usage: 31.4+ KB\n"
     ]
    }
   ],
   "source": [
    "data_users.info()"
   ]
  },
  {
   "cell_type": "markdown",
   "metadata": {},
   "source": [
    "## 2.3 Объединение необходимых данных в таблицу<a id=\"предобработка_данных__объединение_необходимых_данных_в_таблицу\"></a>"
   ]
  },
  {
   "cell_type": "markdown",
   "metadata": {},
   "source": [
    "Посчитаем для каждого пользователя количество сделанных звонков и израсходованных минут разговора по месяцам."
   ]
  },
  {
   "cell_type": "code",
   "execution_count": 26,
   "metadata": {},
   "outputs": [
    {
     "data": {
      "text/html": [
       "<div>\n",
       "<style scoped>\n",
       "    .dataframe tbody tr th:only-of-type {\n",
       "        vertical-align: middle;\n",
       "    }\n",
       "\n",
       "    .dataframe tbody tr th {\n",
       "        vertical-align: top;\n",
       "    }\n",
       "\n",
       "    .dataframe thead th {\n",
       "        text-align: right;\n",
       "    }\n",
       "</style>\n",
       "<table border=\"1\" class=\"dataframe\">\n",
       "  <thead>\n",
       "    <tr style=\"text-align: right;\">\n",
       "      <th></th>\n",
       "      <th></th>\n",
       "      <th>count</th>\n",
       "      <th>sum</th>\n",
       "    </tr>\n",
       "    <tr>\n",
       "      <th>user_id</th>\n",
       "      <th>date_month</th>\n",
       "      <th></th>\n",
       "      <th></th>\n",
       "    </tr>\n",
       "  </thead>\n",
       "  <tbody>\n",
       "    <tr>\n",
       "      <td rowspan=\"8\" valign=\"top\">1000</td>\n",
       "      <td>5</td>\n",
       "      <td>22</td>\n",
       "      <td>164</td>\n",
       "    </tr>\n",
       "    <tr>\n",
       "      <td>6</td>\n",
       "      <td>43</td>\n",
       "      <td>187</td>\n",
       "    </tr>\n",
       "    <tr>\n",
       "      <td>7</td>\n",
       "      <td>47</td>\n",
       "      <td>346</td>\n",
       "    </tr>\n",
       "    <tr>\n",
       "      <td>8</td>\n",
       "      <td>52</td>\n",
       "      <td>418</td>\n",
       "    </tr>\n",
       "    <tr>\n",
       "      <td>9</td>\n",
       "      <td>58</td>\n",
       "      <td>478</td>\n",
       "    </tr>\n",
       "    <tr>\n",
       "      <td>10</td>\n",
       "      <td>57</td>\n",
       "      <td>363</td>\n",
       "    </tr>\n",
       "    <tr>\n",
       "      <td>11</td>\n",
       "      <td>43</td>\n",
       "      <td>344</td>\n",
       "    </tr>\n",
       "    <tr>\n",
       "      <td>12</td>\n",
       "      <td>46</td>\n",
       "      <td>341</td>\n",
       "    </tr>\n",
       "    <tr>\n",
       "      <td rowspan=\"2\" valign=\"top\">1001</td>\n",
       "      <td>11</td>\n",
       "      <td>59</td>\n",
       "      <td>444</td>\n",
       "    </tr>\n",
       "    <tr>\n",
       "      <td>12</td>\n",
       "      <td>63</td>\n",
       "      <td>430</td>\n",
       "    </tr>\n",
       "  </tbody>\n",
       "</table>\n",
       "</div>"
      ],
      "text/plain": [
       "                    count  sum\n",
       "user_id date_month            \n",
       "1000    5              22  164\n",
       "        6              43  187\n",
       "        7              47  346\n",
       "        8              52  418\n",
       "        9              58  478\n",
       "        10             57  363\n",
       "        11             43  344\n",
       "        12             46  341\n",
       "1001    11             59  444\n",
       "        12             63  430"
      ]
     },
     "execution_count": 26,
     "metadata": {},
     "output_type": "execute_result"
    }
   ],
   "source": [
    "data_calls_stat = data_calls.pivot_table(index = ['user_id','date_month'], values = 'duration', aggfunc = {'count', 'sum'})\n",
    "data_calls_stat.head(10)"
   ]
  },
  {
   "cell_type": "markdown",
   "metadata": {},
   "source": [
    "Посчитаем для каждого пользователя количество отправленных сообщений по месяцам."
   ]
  },
  {
   "cell_type": "code",
   "execution_count": 27,
   "metadata": {},
   "outputs": [
    {
     "data": {
      "text/html": [
       "<div>\n",
       "<style scoped>\n",
       "    .dataframe tbody tr th:only-of-type {\n",
       "        vertical-align: middle;\n",
       "    }\n",
       "\n",
       "    .dataframe tbody tr th {\n",
       "        vertical-align: top;\n",
       "    }\n",
       "\n",
       "    .dataframe thead th {\n",
       "        text-align: right;\n",
       "    }\n",
       "</style>\n",
       "<table border=\"1\" class=\"dataframe\">\n",
       "  <thead>\n",
       "    <tr style=\"text-align: right;\">\n",
       "      <th></th>\n",
       "      <th></th>\n",
       "      <th>count</th>\n",
       "    </tr>\n",
       "    <tr>\n",
       "      <th>user_id</th>\n",
       "      <th>date_month</th>\n",
       "      <th></th>\n",
       "    </tr>\n",
       "  </thead>\n",
       "  <tbody>\n",
       "    <tr>\n",
       "      <td rowspan=\"8\" valign=\"top\">1000</td>\n",
       "      <td>5</td>\n",
       "      <td>22</td>\n",
       "    </tr>\n",
       "    <tr>\n",
       "      <td>6</td>\n",
       "      <td>60</td>\n",
       "    </tr>\n",
       "    <tr>\n",
       "      <td>7</td>\n",
       "      <td>75</td>\n",
       "    </tr>\n",
       "    <tr>\n",
       "      <td>8</td>\n",
       "      <td>81</td>\n",
       "    </tr>\n",
       "    <tr>\n",
       "      <td>9</td>\n",
       "      <td>57</td>\n",
       "    </tr>\n",
       "    <tr>\n",
       "      <td>10</td>\n",
       "      <td>73</td>\n",
       "    </tr>\n",
       "    <tr>\n",
       "      <td>11</td>\n",
       "      <td>58</td>\n",
       "    </tr>\n",
       "    <tr>\n",
       "      <td>12</td>\n",
       "      <td>70</td>\n",
       "    </tr>\n",
       "    <tr>\n",
       "      <td rowspan=\"2\" valign=\"top\">1002</td>\n",
       "      <td>6</td>\n",
       "      <td>4</td>\n",
       "    </tr>\n",
       "    <tr>\n",
       "      <td>7</td>\n",
       "      <td>11</td>\n",
       "    </tr>\n",
       "  </tbody>\n",
       "</table>\n",
       "</div>"
      ],
      "text/plain": [
       "                    count\n",
       "user_id date_month       \n",
       "1000    5              22\n",
       "        6              60\n",
       "        7              75\n",
       "        8              81\n",
       "        9              57\n",
       "        10             73\n",
       "        11             58\n",
       "        12             70\n",
       "1002    6               4\n",
       "        7              11"
      ]
     },
     "execution_count": 27,
     "metadata": {},
     "output_type": "execute_result"
    }
   ],
   "source": [
    "data_messages_stat = data_messages.pivot_table(index = ['user_id','date_month'], values = 'id', aggfunc = {'count'})\n",
    "data_messages_stat.head(10)"
   ]
  },
  {
   "cell_type": "markdown",
   "metadata": {},
   "source": [
    "Посчитаем для каждого пользователя объем израсходованного интернет-трафика по месяцам."
   ]
  },
  {
   "cell_type": "code",
   "execution_count": 28,
   "metadata": {},
   "outputs": [
    {
     "data": {
      "text/html": [
       "<div>\n",
       "<style scoped>\n",
       "    .dataframe tbody tr th:only-of-type {\n",
       "        vertical-align: middle;\n",
       "    }\n",
       "\n",
       "    .dataframe tbody tr th {\n",
       "        vertical-align: top;\n",
       "    }\n",
       "\n",
       "    .dataframe thead th {\n",
       "        text-align: right;\n",
       "    }\n",
       "</style>\n",
       "<table border=\"1\" class=\"dataframe\">\n",
       "  <thead>\n",
       "    <tr style=\"text-align: right;\">\n",
       "      <th></th>\n",
       "      <th></th>\n",
       "      <th>sum</th>\n",
       "    </tr>\n",
       "    <tr>\n",
       "      <th>user_id</th>\n",
       "      <th>date_month</th>\n",
       "      <th></th>\n",
       "    </tr>\n",
       "  </thead>\n",
       "  <tbody>\n",
       "    <tr>\n",
       "      <td rowspan=\"8\" valign=\"top\">1000</td>\n",
       "      <td>5</td>\n",
       "      <td>2257</td>\n",
       "    </tr>\n",
       "    <tr>\n",
       "      <td>6</td>\n",
       "      <td>23262</td>\n",
       "    </tr>\n",
       "    <tr>\n",
       "      <td>7</td>\n",
       "      <td>14017</td>\n",
       "    </tr>\n",
       "    <tr>\n",
       "      <td>8</td>\n",
       "      <td>14072</td>\n",
       "    </tr>\n",
       "    <tr>\n",
       "      <td>9</td>\n",
       "      <td>14583</td>\n",
       "    </tr>\n",
       "    <tr>\n",
       "      <td>10</td>\n",
       "      <td>14717</td>\n",
       "    </tr>\n",
       "    <tr>\n",
       "      <td>11</td>\n",
       "      <td>14769</td>\n",
       "    </tr>\n",
       "    <tr>\n",
       "      <td>12</td>\n",
       "      <td>9829</td>\n",
       "    </tr>\n",
       "    <tr>\n",
       "      <td rowspan=\"2\" valign=\"top\">1001</td>\n",
       "      <td>11</td>\n",
       "      <td>18460</td>\n",
       "    </tr>\n",
       "    <tr>\n",
       "      <td>12</td>\n",
       "      <td>14059</td>\n",
       "    </tr>\n",
       "  </tbody>\n",
       "</table>\n",
       "</div>"
      ],
      "text/plain": [
       "                      sum\n",
       "user_id date_month       \n",
       "1000    5            2257\n",
       "        6           23262\n",
       "        7           14017\n",
       "        8           14072\n",
       "        9           14583\n",
       "        10          14717\n",
       "        11          14769\n",
       "        12           9829\n",
       "1001    11          18460\n",
       "        12          14059"
      ]
     },
     "execution_count": 28,
     "metadata": {},
     "output_type": "execute_result"
    }
   ],
   "source": [
    "data_internet_stat = data_internet.pivot_table(index = ['user_id','date_month'], values = 'mb_used', aggfunc = {'sum'})\n",
    "data_internet_stat.head(10)"
   ]
  },
  {
   "cell_type": "markdown",
   "metadata": {},
   "source": [
    "В новый DataFrame добавим информацию для каждого пользователя о суммарных звонках, суммарном интернет трафике и количестве сообщений за каждый месяц. Переименуем столбцы и выведем первые 10 строк."
   ]
  },
  {
   "cell_type": "code",
   "execution_count": 29,
   "metadata": {},
   "outputs": [
    {
     "data": {
      "text/html": [
       "<div>\n",
       "<style scoped>\n",
       "    .dataframe tbody tr th:only-of-type {\n",
       "        vertical-align: middle;\n",
       "    }\n",
       "\n",
       "    .dataframe tbody tr th {\n",
       "        vertical-align: top;\n",
       "    }\n",
       "\n",
       "    .dataframe thead th {\n",
       "        text-align: right;\n",
       "    }\n",
       "</style>\n",
       "<table border=\"1\" class=\"dataframe\">\n",
       "  <thead>\n",
       "    <tr style=\"text-align: right;\">\n",
       "      <th></th>\n",
       "      <th>user_id</th>\n",
       "      <th>date_month</th>\n",
       "      <th>calls_count</th>\n",
       "      <th>calls_sum</th>\n",
       "      <th>internet_sum</th>\n",
       "      <th>messages_sum</th>\n",
       "    </tr>\n",
       "  </thead>\n",
       "  <tbody>\n",
       "    <tr>\n",
       "      <td>0</td>\n",
       "      <td>1000</td>\n",
       "      <td>5</td>\n",
       "      <td>22.0</td>\n",
       "      <td>164.0</td>\n",
       "      <td>2257.0</td>\n",
       "      <td>22.0</td>\n",
       "    </tr>\n",
       "    <tr>\n",
       "      <td>1</td>\n",
       "      <td>1000</td>\n",
       "      <td>6</td>\n",
       "      <td>43.0</td>\n",
       "      <td>187.0</td>\n",
       "      <td>23262.0</td>\n",
       "      <td>60.0</td>\n",
       "    </tr>\n",
       "    <tr>\n",
       "      <td>2</td>\n",
       "      <td>1000</td>\n",
       "      <td>7</td>\n",
       "      <td>47.0</td>\n",
       "      <td>346.0</td>\n",
       "      <td>14017.0</td>\n",
       "      <td>75.0</td>\n",
       "    </tr>\n",
       "    <tr>\n",
       "      <td>3</td>\n",
       "      <td>1000</td>\n",
       "      <td>8</td>\n",
       "      <td>52.0</td>\n",
       "      <td>418.0</td>\n",
       "      <td>14072.0</td>\n",
       "      <td>81.0</td>\n",
       "    </tr>\n",
       "    <tr>\n",
       "      <td>4</td>\n",
       "      <td>1000</td>\n",
       "      <td>9</td>\n",
       "      <td>58.0</td>\n",
       "      <td>478.0</td>\n",
       "      <td>14583.0</td>\n",
       "      <td>57.0</td>\n",
       "    </tr>\n",
       "    <tr>\n",
       "      <td>5</td>\n",
       "      <td>1000</td>\n",
       "      <td>10</td>\n",
       "      <td>57.0</td>\n",
       "      <td>363.0</td>\n",
       "      <td>14717.0</td>\n",
       "      <td>73.0</td>\n",
       "    </tr>\n",
       "    <tr>\n",
       "      <td>6</td>\n",
       "      <td>1000</td>\n",
       "      <td>11</td>\n",
       "      <td>43.0</td>\n",
       "      <td>344.0</td>\n",
       "      <td>14769.0</td>\n",
       "      <td>58.0</td>\n",
       "    </tr>\n",
       "    <tr>\n",
       "      <td>7</td>\n",
       "      <td>1000</td>\n",
       "      <td>12</td>\n",
       "      <td>46.0</td>\n",
       "      <td>341.0</td>\n",
       "      <td>9829.0</td>\n",
       "      <td>70.0</td>\n",
       "    </tr>\n",
       "    <tr>\n",
       "      <td>8</td>\n",
       "      <td>1001</td>\n",
       "      <td>11</td>\n",
       "      <td>59.0</td>\n",
       "      <td>444.0</td>\n",
       "      <td>18460.0</td>\n",
       "      <td>NaN</td>\n",
       "    </tr>\n",
       "    <tr>\n",
       "      <td>9</td>\n",
       "      <td>1001</td>\n",
       "      <td>12</td>\n",
       "      <td>63.0</td>\n",
       "      <td>430.0</td>\n",
       "      <td>14059.0</td>\n",
       "      <td>NaN</td>\n",
       "    </tr>\n",
       "  </tbody>\n",
       "</table>\n",
       "</div>"
      ],
      "text/plain": [
       "   user_id  date_month  calls_count  calls_sum  internet_sum  messages_sum\n",
       "0     1000           5         22.0      164.0        2257.0          22.0\n",
       "1     1000           6         43.0      187.0       23262.0          60.0\n",
       "2     1000           7         47.0      346.0       14017.0          75.0\n",
       "3     1000           8         52.0      418.0       14072.0          81.0\n",
       "4     1000           9         58.0      478.0       14583.0          57.0\n",
       "5     1000          10         57.0      363.0       14717.0          73.0\n",
       "6     1000          11         43.0      344.0       14769.0          58.0\n",
       "7     1000          12         46.0      341.0        9829.0          70.0\n",
       "8     1001          11         59.0      444.0       18460.0           NaN\n",
       "9     1001          12         63.0      430.0       14059.0           NaN"
      ]
     },
     "execution_count": 29,
     "metadata": {},
     "output_type": "execute_result"
    }
   ],
   "source": [
    "data_final = pd.merge(data_calls_stat, data_internet_stat, on=['user_id', 'date_month'], how='outer')\n",
    "data_final = pd.merge(data_final, data_messages_stat, on=['user_id', 'date_month'], how='outer').reset_index() \n",
    "data_final = data_final.rename(columns={'count_x': 'calls_count', 'sum_x': 'calls_sum', 'sum_y': 'internet_sum', 'count_y': 'messages_sum'})\n",
    "data_final.head(10)"
   ]
  },
  {
   "cell_type": "markdown",
   "metadata": {},
   "source": [
    "Также добавим в ***data_final*** информацию о том из какого города клиент и каким тарифом он пользуется."
   ]
  },
  {
   "cell_type": "code",
   "execution_count": 30,
   "metadata": {},
   "outputs": [],
   "source": [
    "data_final = pd.merge(data_final, data_users[['user_id', 'tariff', 'city']], on='user_id')"
   ]
  },
  {
   "cell_type": "markdown",
   "metadata": {},
   "source": [
    "Проверим, что никакого клиента мы не потеряли..."
   ]
  },
  {
   "cell_type": "code",
   "execution_count": 31,
   "metadata": {},
   "outputs": [
    {
     "name": "stdout",
     "output_type": "stream",
     "text": [
      "Количество клиентов:  500\n"
     ]
    }
   ],
   "source": [
    "print('Количество клиентов: ',len(data_users['user_id'].unique()))"
   ]
  },
  {
   "cell_type": "markdown",
   "metadata": {},
   "source": [
    "Посмотрим информаицю о DataFrame."
   ]
  },
  {
   "cell_type": "code",
   "execution_count": 32,
   "metadata": {},
   "outputs": [
    {
     "name": "stdout",
     "output_type": "stream",
     "text": [
      "<class 'pandas.core.frame.DataFrame'>\n",
      "Int64Index: 3214 entries, 0 to 3213\n",
      "Data columns (total 8 columns):\n",
      "user_id         3214 non-null int64\n",
      "date_month      3214 non-null int64\n",
      "calls_count     3174 non-null float64\n",
      "calls_sum       3174 non-null float64\n",
      "internet_sum    3203 non-null float64\n",
      "messages_sum    2717 non-null float64\n",
      "tariff          3214 non-null object\n",
      "city            3214 non-null object\n",
      "dtypes: float64(4), int64(2), object(2)\n",
      "memory usage: 226.0+ KB\n"
     ]
    }
   ],
   "source": [
    "data_final.info()"
   ]
  },
  {
   "cell_type": "markdown",
   "metadata": {},
   "source": [
    "Есть пропущенные значения. Они возникли из-за того, что в некоторые месяцы клиенты могли не пользоваться звонками, интернетом или сообщениями. Поэтому заменим пропущенные значения на 0."
   ]
  },
  {
   "cell_type": "code",
   "execution_count": 33,
   "metadata": {},
   "outputs": [],
   "source": [
    "data_final = data_final.fillna(0)"
   ]
  },
  {
   "cell_type": "markdown",
   "metadata": {},
   "source": [
    "Заменим для столбцов ***calls_count, calls_sum, internet_sum, messages_sum*** тип данных на int."
   ]
  },
  {
   "cell_type": "code",
   "execution_count": 34,
   "metadata": {},
   "outputs": [],
   "source": [
    "data_final['calls_count'] = data_final['calls_count'].astype(int)\n",
    "data_final['calls_sum'] = data_final['calls_sum'].astype(int)\n",
    "data_final['internet_sum'] = data_final['internet_sum'].astype(int)\n",
    "data_final['messages_sum'] = data_final['messages_sum'].astype(int)"
   ]
  },
  {
   "cell_type": "markdown",
   "metadata": {},
   "source": [
    "## 2.4 Расчет помесячной выручки с каждого пользователя<a id=\"предобработка_данных__расчет_помесячной_выручки_с_каждого_пользователя\"></a>"
   ]
  },
  {
   "cell_type": "markdown",
   "metadata": {},
   "source": [
    "Напишем функцию, которая позволит рассчитать помесячную выручку с каждого пользователя и применем ее к нашему DataFrame."
   ]
  },
  {
   "cell_type": "code",
   "execution_count": 35,
   "metadata": {},
   "outputs": [],
   "source": [
    "def coast(row):\n",
    "    debug = False\n",
    "    \n",
    "    tariff_name = row['tariff']\n",
    "    calls = row['calls_sum']\n",
    "    internet = row['internet_sum']\n",
    "    messages = row['messages_sum']\n",
    "    \n",
    "    tariff = data_tariffs.query('tariff_name == @tariff_name').reset_index()\n",
    "    \n",
    "    calls_coast = 0\n",
    "    if (calls - tariff.loc[0, 'minutes_included']) > 0:\n",
    "        calls_coast = (calls - tariff.loc[0, 'minutes_included']) * tariff.loc[0, 'rub_per_minute']\n",
    "    if debug: print(calls_coast)\n",
    "    \n",
    "    messages_coast = 0\n",
    "    if (messages - tariff.loc[0, 'messages_included']) > 0:\n",
    "        messages_coast = (messages - tariff.loc[0, 'messages_included']) * tariff.loc[0, 'rub_per_message']\n",
    "    if debug: print(messages_coast)\n",
    "        \n",
    "    internet_coast = 0\n",
    "    if (internet - tariff.loc[0, 'mb_per_month_included']) > 0:\n",
    "        internet_coast = np.ceil((internet - tariff.loc[0, 'mb_per_month_included']) / 1024) * tariff.loc[0, 'rub_per_gb']\n",
    "    if debug: print(internet_coast)\n",
    "        \n",
    "    return tariff.loc[0, 'rub_monthly_fee'] + calls_coast + messages_coast + internet_coast\n",
    "    "
   ]
  },
  {
   "cell_type": "code",
   "execution_count": 36,
   "metadata": {},
   "outputs": [
    {
     "data": {
      "text/html": [
       "<div>\n",
       "<style scoped>\n",
       "    .dataframe tbody tr th:only-of-type {\n",
       "        vertical-align: middle;\n",
       "    }\n",
       "\n",
       "    .dataframe tbody tr th {\n",
       "        vertical-align: top;\n",
       "    }\n",
       "\n",
       "    .dataframe thead th {\n",
       "        text-align: right;\n",
       "    }\n",
       "</style>\n",
       "<table border=\"1\" class=\"dataframe\">\n",
       "  <thead>\n",
       "    <tr style=\"text-align: right;\">\n",
       "      <th></th>\n",
       "      <th>user_id</th>\n",
       "      <th>date_month</th>\n",
       "      <th>calls_count</th>\n",
       "      <th>calls_sum</th>\n",
       "      <th>internet_sum</th>\n",
       "      <th>messages_sum</th>\n",
       "      <th>tariff</th>\n",
       "      <th>city</th>\n",
       "      <th>coast</th>\n",
       "    </tr>\n",
       "  </thead>\n",
       "  <tbody>\n",
       "    <tr>\n",
       "      <td>0</td>\n",
       "      <td>1000</td>\n",
       "      <td>5</td>\n",
       "      <td>22</td>\n",
       "      <td>164</td>\n",
       "      <td>2257</td>\n",
       "      <td>22</td>\n",
       "      <td>ultra</td>\n",
       "      <td>Краснодар</td>\n",
       "      <td>1950.0</td>\n",
       "    </tr>\n",
       "    <tr>\n",
       "      <td>1</td>\n",
       "      <td>1000</td>\n",
       "      <td>6</td>\n",
       "      <td>43</td>\n",
       "      <td>187</td>\n",
       "      <td>23262</td>\n",
       "      <td>60</td>\n",
       "      <td>ultra</td>\n",
       "      <td>Краснодар</td>\n",
       "      <td>1950.0</td>\n",
       "    </tr>\n",
       "    <tr>\n",
       "      <td>2</td>\n",
       "      <td>1000</td>\n",
       "      <td>7</td>\n",
       "      <td>47</td>\n",
       "      <td>346</td>\n",
       "      <td>14017</td>\n",
       "      <td>75</td>\n",
       "      <td>ultra</td>\n",
       "      <td>Краснодар</td>\n",
       "      <td>1950.0</td>\n",
       "    </tr>\n",
       "    <tr>\n",
       "      <td>3</td>\n",
       "      <td>1000</td>\n",
       "      <td>8</td>\n",
       "      <td>52</td>\n",
       "      <td>418</td>\n",
       "      <td>14072</td>\n",
       "      <td>81</td>\n",
       "      <td>ultra</td>\n",
       "      <td>Краснодар</td>\n",
       "      <td>1950.0</td>\n",
       "    </tr>\n",
       "    <tr>\n",
       "      <td>4</td>\n",
       "      <td>1000</td>\n",
       "      <td>9</td>\n",
       "      <td>58</td>\n",
       "      <td>478</td>\n",
       "      <td>14583</td>\n",
       "      <td>57</td>\n",
       "      <td>ultra</td>\n",
       "      <td>Краснодар</td>\n",
       "      <td>1950.0</td>\n",
       "    </tr>\n",
       "    <tr>\n",
       "      <td>5</td>\n",
       "      <td>1000</td>\n",
       "      <td>10</td>\n",
       "      <td>57</td>\n",
       "      <td>363</td>\n",
       "      <td>14717</td>\n",
       "      <td>73</td>\n",
       "      <td>ultra</td>\n",
       "      <td>Краснодар</td>\n",
       "      <td>1950.0</td>\n",
       "    </tr>\n",
       "    <tr>\n",
       "      <td>6</td>\n",
       "      <td>1000</td>\n",
       "      <td>11</td>\n",
       "      <td>43</td>\n",
       "      <td>344</td>\n",
       "      <td>14769</td>\n",
       "      <td>58</td>\n",
       "      <td>ultra</td>\n",
       "      <td>Краснодар</td>\n",
       "      <td>1950.0</td>\n",
       "    </tr>\n",
       "    <tr>\n",
       "      <td>7</td>\n",
       "      <td>1000</td>\n",
       "      <td>12</td>\n",
       "      <td>46</td>\n",
       "      <td>341</td>\n",
       "      <td>9829</td>\n",
       "      <td>70</td>\n",
       "      <td>ultra</td>\n",
       "      <td>Краснодар</td>\n",
       "      <td>1950.0</td>\n",
       "    </tr>\n",
       "    <tr>\n",
       "      <td>8</td>\n",
       "      <td>1001</td>\n",
       "      <td>11</td>\n",
       "      <td>59</td>\n",
       "      <td>444</td>\n",
       "      <td>18460</td>\n",
       "      <td>0</td>\n",
       "      <td>smart</td>\n",
       "      <td>Москва</td>\n",
       "      <td>1350.0</td>\n",
       "    </tr>\n",
       "    <tr>\n",
       "      <td>9</td>\n",
       "      <td>1001</td>\n",
       "      <td>12</td>\n",
       "      <td>63</td>\n",
       "      <td>430</td>\n",
       "      <td>14059</td>\n",
       "      <td>0</td>\n",
       "      <td>smart</td>\n",
       "      <td>Москва</td>\n",
       "      <td>550.0</td>\n",
       "    </tr>\n",
       "  </tbody>\n",
       "</table>\n",
       "</div>"
      ],
      "text/plain": [
       "   user_id  date_month  calls_count  calls_sum  internet_sum  messages_sum  \\\n",
       "0     1000           5           22        164          2257            22   \n",
       "1     1000           6           43        187         23262            60   \n",
       "2     1000           7           47        346         14017            75   \n",
       "3     1000           8           52        418         14072            81   \n",
       "4     1000           9           58        478         14583            57   \n",
       "5     1000          10           57        363         14717            73   \n",
       "6     1000          11           43        344         14769            58   \n",
       "7     1000          12           46        341          9829            70   \n",
       "8     1001          11           59        444         18460             0   \n",
       "9     1001          12           63        430         14059             0   \n",
       "\n",
       "  tariff       city   coast  \n",
       "0  ultra  Краснодар  1950.0  \n",
       "1  ultra  Краснодар  1950.0  \n",
       "2  ultra  Краснодар  1950.0  \n",
       "3  ultra  Краснодар  1950.0  \n",
       "4  ultra  Краснодар  1950.0  \n",
       "5  ultra  Краснодар  1950.0  \n",
       "6  ultra  Краснодар  1950.0  \n",
       "7  ultra  Краснодар  1950.0  \n",
       "8  smart     Москва  1350.0  \n",
       "9  smart     Москва   550.0  "
      ]
     },
     "execution_count": 36,
     "metadata": {},
     "output_type": "execute_result"
    }
   ],
   "source": [
    "data_final['coast'] = data_final.apply(coast, axis = 1)\n",
    "data_final.head(10)"
   ]
  },
  {
   "cell_type": "markdown",
   "metadata": {},
   "source": [
    "### Выводы"
   ]
  },
  {
   "cell_type": "markdown",
   "metadata": {},
   "source": [
    "* Обработали нулевые значения в столбцах ***data_calls*** и ***data_internet***;\n",
    "* Заменили тип данных в столбцах ***call_date, session_date, message_date, churn_date*** и ***reg_date*** на datetime;\n",
    "* Значения в столбцах ***duration, mb_used*** округлили в большую сторону до ближайщего целого и заменили тип данных в этих столбцах на int;\n",
    "* Расчитали количество использованных минут, интернет-трафика и отправленных сообщения за каждый месяц для каждого клиента;\n",
    "* Расчитали траты каждого клиента за услуги связи за каждый месяц."
   ]
  },
  {
   "cell_type": "markdown",
   "metadata": {},
   "source": [
    "## 3. Анализ данных<a id=\"анализ_данных\"></a>"
   ]
  },
  {
   "cell_type": "markdown",
   "metadata": {},
   "source": [
    "Рассчитаем средние значения потраченных минут, интернет-трафика, сообщений и прибыли по месяцам для каждого тарифа."
   ]
  },
  {
   "cell_type": "code",
   "execution_count": 37,
   "metadata": {},
   "outputs": [
    {
     "data": {
      "text/html": [
       "<div>\n",
       "<style scoped>\n",
       "    .dataframe tbody tr th:only-of-type {\n",
       "        vertical-align: middle;\n",
       "    }\n",
       "\n",
       "    .dataframe tbody tr th {\n",
       "        vertical-align: top;\n",
       "    }\n",
       "\n",
       "    .dataframe thead tr th {\n",
       "        text-align: left;\n",
       "    }\n",
       "\n",
       "    .dataframe thead tr:last-of-type th {\n",
       "        text-align: right;\n",
       "    }\n",
       "</style>\n",
       "<table border=\"1\" class=\"dataframe\">\n",
       "  <thead>\n",
       "    <tr>\n",
       "      <th></th>\n",
       "      <th colspan=\"2\" halign=\"left\">calls_sum</th>\n",
       "      <th colspan=\"2\" halign=\"left\">coast</th>\n",
       "      <th colspan=\"2\" halign=\"left\">internet_sum</th>\n",
       "      <th colspan=\"2\" halign=\"left\">messages_sum</th>\n",
       "    </tr>\n",
       "    <tr>\n",
       "      <th>tariff</th>\n",
       "      <th>smart</th>\n",
       "      <th>ultra</th>\n",
       "      <th>smart</th>\n",
       "      <th>ultra</th>\n",
       "      <th>smart</th>\n",
       "      <th>ultra</th>\n",
       "      <th>smart</th>\n",
       "      <th>ultra</th>\n",
       "    </tr>\n",
       "    <tr>\n",
       "      <th>date_month</th>\n",
       "      <th></th>\n",
       "      <th></th>\n",
       "      <th></th>\n",
       "      <th></th>\n",
       "      <th></th>\n",
       "      <th></th>\n",
       "      <th></th>\n",
       "      <th></th>\n",
       "    </tr>\n",
       "  </thead>\n",
       "  <tbody>\n",
       "    <tr>\n",
       "      <td>1</td>\n",
       "      <td>209.647059</td>\n",
       "      <td>440.888889</td>\n",
       "      <td>723.352941</td>\n",
       "      <td>1950.000000</td>\n",
       "      <td>8528.588235</td>\n",
       "      <td>13154.666667</td>\n",
       "      <td>18.235294</td>\n",
       "      <td>33.777778</td>\n",
       "    </tr>\n",
       "    <tr>\n",
       "      <td>2</td>\n",
       "      <td>306.310345</td>\n",
       "      <td>304.666667</td>\n",
       "      <td>835.051724</td>\n",
       "      <td>1975.000000</td>\n",
       "      <td>11617.344828</td>\n",
       "      <td>11788.333333</td>\n",
       "      <td>24.086207</td>\n",
       "      <td>21.958333</td>\n",
       "    </tr>\n",
       "    <tr>\n",
       "      <td>3</td>\n",
       "      <td>400.532468</td>\n",
       "      <td>503.081081</td>\n",
       "      <td>1178.571429</td>\n",
       "      <td>2014.864865</td>\n",
       "      <td>15131.207792</td>\n",
       "      <td>17553.513514</td>\n",
       "      <td>31.857143</td>\n",
       "      <td>32.297297</td>\n",
       "    </tr>\n",
       "    <tr>\n",
       "      <td>4</td>\n",
       "      <td>377.000000</td>\n",
       "      <td>470.072727</td>\n",
       "      <td>974.875000</td>\n",
       "      <td>2001.818182</td>\n",
       "      <td>13486.080357</td>\n",
       "      <td>16845.254545</td>\n",
       "      <td>30.741071</td>\n",
       "      <td>31.563636</td>\n",
       "    </tr>\n",
       "    <tr>\n",
       "      <td>5</td>\n",
       "      <td>398.404255</td>\n",
       "      <td>524.865672</td>\n",
       "      <td>1219.106383</td>\n",
       "      <td>2061.940299</td>\n",
       "      <td>15832.751773</td>\n",
       "      <td>19383.194030</td>\n",
       "      <td>33.773050</td>\n",
       "      <td>37.850746</td>\n",
       "    </tr>\n",
       "    <tr>\n",
       "      <td>6</td>\n",
       "      <td>406.701220</td>\n",
       "      <td>492.428571</td>\n",
       "      <td>1224.146341</td>\n",
       "      <td>2041.071429</td>\n",
       "      <td>15822.445122</td>\n",
       "      <td>18943.928571</td>\n",
       "      <td>33.402439</td>\n",
       "      <td>41.726190</td>\n",
       "    </tr>\n",
       "    <tr>\n",
       "      <td>7</td>\n",
       "      <td>419.288557</td>\n",
       "      <td>560.296703</td>\n",
       "      <td>1246.472637</td>\n",
       "      <td>2121.428571</td>\n",
       "      <td>15771.398010</td>\n",
       "      <td>20516.571429</td>\n",
       "      <td>33.751244</td>\n",
       "      <td>49.846154</td>\n",
       "    </tr>\n",
       "    <tr>\n",
       "      <td>8</td>\n",
       "      <td>433.191489</td>\n",
       "      <td>524.570093</td>\n",
       "      <td>1346.974468</td>\n",
       "      <td>2083.177570</td>\n",
       "      <td>16640.212766</td>\n",
       "      <td>19595.878505</td>\n",
       "      <td>33.638298</td>\n",
       "      <td>48.439252</td>\n",
       "    </tr>\n",
       "    <tr>\n",
       "      <td>9</td>\n",
       "      <td>440.080769</td>\n",
       "      <td>553.643478</td>\n",
       "      <td>1274.500000</td>\n",
       "      <td>2024.347826</td>\n",
       "      <td>16332.615385</td>\n",
       "      <td>19224.043478</td>\n",
       "      <td>33.638462</td>\n",
       "      <td>52.286957</td>\n",
       "    </tr>\n",
       "    <tr>\n",
       "      <td>10</td>\n",
       "      <td>438.295918</td>\n",
       "      <td>572.829268</td>\n",
       "      <td>1388.833333</td>\n",
       "      <td>2067.073171</td>\n",
       "      <td>16786.853741</td>\n",
       "      <td>20065.536585</td>\n",
       "      <td>33.765306</td>\n",
       "      <td>58.430894</td>\n",
       "    </tr>\n",
       "    <tr>\n",
       "      <td>11</td>\n",
       "      <td>447.620253</td>\n",
       "      <td>555.805970</td>\n",
       "      <td>1366.996835</td>\n",
       "      <td>2093.283582</td>\n",
       "      <td>16925.962025</td>\n",
       "      <td>19807.126866</td>\n",
       "      <td>34.075949</td>\n",
       "      <td>55.791045</td>\n",
       "    </tr>\n",
       "    <tr>\n",
       "      <td>12</td>\n",
       "      <td>491.418398</td>\n",
       "      <td>609.129496</td>\n",
       "      <td>1606.038576</td>\n",
       "      <td>2138.848921</td>\n",
       "      <td>18145.824926</td>\n",
       "      <td>21815.683453</td>\n",
       "      <td>35.994065</td>\n",
       "      <td>60.611511</td>\n",
       "    </tr>\n",
       "  </tbody>\n",
       "</table>\n",
       "</div>"
      ],
      "text/plain": [
       "             calls_sum                    coast               internet_sum  \\\n",
       "tariff           smart       ultra        smart        ultra         smart   \n",
       "date_month                                                                   \n",
       "1           209.647059  440.888889   723.352941  1950.000000   8528.588235   \n",
       "2           306.310345  304.666667   835.051724  1975.000000  11617.344828   \n",
       "3           400.532468  503.081081  1178.571429  2014.864865  15131.207792   \n",
       "4           377.000000  470.072727   974.875000  2001.818182  13486.080357   \n",
       "5           398.404255  524.865672  1219.106383  2061.940299  15832.751773   \n",
       "6           406.701220  492.428571  1224.146341  2041.071429  15822.445122   \n",
       "7           419.288557  560.296703  1246.472637  2121.428571  15771.398010   \n",
       "8           433.191489  524.570093  1346.974468  2083.177570  16640.212766   \n",
       "9           440.080769  553.643478  1274.500000  2024.347826  16332.615385   \n",
       "10          438.295918  572.829268  1388.833333  2067.073171  16786.853741   \n",
       "11          447.620253  555.805970  1366.996835  2093.283582  16925.962025   \n",
       "12          491.418398  609.129496  1606.038576  2138.848921  18145.824926   \n",
       "\n",
       "                         messages_sum             \n",
       "tariff             ultra        smart      ultra  \n",
       "date_month                                        \n",
       "1           13154.666667    18.235294  33.777778  \n",
       "2           11788.333333    24.086207  21.958333  \n",
       "3           17553.513514    31.857143  32.297297  \n",
       "4           16845.254545    30.741071  31.563636  \n",
       "5           19383.194030    33.773050  37.850746  \n",
       "6           18943.928571    33.402439  41.726190  \n",
       "7           20516.571429    33.751244  49.846154  \n",
       "8           19595.878505    33.638298  48.439252  \n",
       "9           19224.043478    33.638462  52.286957  \n",
       "10          20065.536585    33.765306  58.430894  \n",
       "11          19807.126866    34.075949  55.791045  \n",
       "12          21815.683453    35.994065  60.611511  "
      ]
     },
     "execution_count": 37,
     "metadata": {},
     "output_type": "execute_result"
    }
   ],
   "source": [
    "data_mean = data_final.pivot_table(index = 'date_month', columns = 'tariff', values = ['calls_sum', 'internet_sum', 'messages_sum', 'coast'])\n",
    "data_mean"
   ]
  },
  {
   "cell_type": "markdown",
   "metadata": {},
   "source": [
    "## 3.1 Анализ использованных минут<a id=\"анализ_данных__анализ_потраченных_минут\"></a>"
   ]
  },
  {
   "cell_type": "markdown",
   "metadata": {},
   "source": [
    "Построим столбчатую диаграмму для calls_sum."
   ]
  },
  {
   "cell_type": "code",
   "execution_count": 38,
   "metadata": {},
   "outputs": [
    {
     "data": {
      "image/png": "[encoded data removed]",
      "text/plain": [
       "<Figure size 864x432 with 1 Axes>"
      ]
     },
     "metadata": {
      "needs_background": "light"
     },
     "output_type": "display_data"
    }
   ],
   "source": [
    "data_mean['calls_sum'].plot(kind = 'bar', grid=True, legend=True, figsize = (12,6), rot = 0)\n",
    "plt.title('Среднее количество использованных минут по месяцам')\n",
    "plt.xlabel('Месяц')\n",
    "plt.ylabel('Количество минут, мин')\n",
    "plt.show()"
   ]
  },
  {
   "cell_type": "markdown",
   "metadata": {},
   "source": [
    "По графику видно, что в среднем пользователи тарифа \"smart\" используют меньше минут в месяц, чем пользователи тарифа \"ultra\". Еще одна интересная тенденция, что количество использованных минут для обоих тарифов увеличивается в течении года и достигает максимума к декабрю."
   ]
  },
  {
   "cell_type": "markdown",
   "metadata": {},
   "source": [
    "Посчитаем медиану, среднее значение, дисперсию и стандартное отклонение для обоих тарифов."
   ]
  },
  {
   "cell_type": "code",
   "execution_count": 39,
   "metadata": {},
   "outputs": [
    {
     "name": "stdout",
     "output_type": "stream",
     "text": [
      "Медиана для тарифа \"smart\" составляет: 435\n",
      "Среднее значение для тарифа \"smart\" составляет: 429\n",
      "Дисперсия для тарифа \"smart\" составляет: 37975\n",
      "Стандартное отклонение для тарифа \"smart\" составляет: 195\n",
      "\n",
      "Медиана для тарифа \"ultra\" составляет: 532\n",
      "Среднее значение для тарифа \"ultra\" составляет: 541\n",
      "Дисперсия для тарифа \"ultra\" составляет: 106106\n",
      "Стандартное отклонение для тарифа \"ultra\" составляет: 326\n",
      "\n"
     ]
    }
   ],
   "source": [
    "for tariff in ['smart', 'ultra']:\n",
    "    print('Медиана для тарифа \"{:}\" составляет: {:.0f}'.format(tariff, np.median(data_final.query('tariff == @tariff')['calls_sum'])))\n",
    "    print('Среднее значение для тарифа \"{:}\" составляет: {:.0f}'.format(tariff, np.mean(data_final.query('tariff == @tariff')['calls_sum'])))\n",
    "    print('Дисперсия для тарифа \"{:}\" составляет: {:.0f}'.format(tariff, np.var(data_final.query('tariff == @tariff')['calls_sum'], ddof=1)))\n",
    "    print('Стандартное отклонение для тарифа \"{:}\" составляет: {:.0f}'.format(tariff, np.std(data_final.query('tariff == @tariff')['calls_sum'], ddof=1)))\n",
    "    print()"
   ]
  },
  {
   "cell_type": "markdown",
   "metadata": {},
   "source": [
    "Также для визуального анализа построим гистограмму и диаграмму размаха."
   ]
  },
  {
   "cell_type": "code",
   "execution_count": 40,
   "metadata": {},
   "outputs": [
    {
     "data": {
      "image/png": "[encoded data removed]",
      "text/plain": [
       "<Figure size 864x432 with 1 Axes>"
      ]
     },
     "metadata": {
      "needs_background": "light"
     },
     "output_type": "display_data"
    }
   ],
   "source": [
    "ax = data_final[data_final['tariff'] == 'smart']['calls_sum'].hist(alpha = .5, bins = 20, figsize = (12,6))\n",
    "data_final[data_final['tariff'] == 'ultra']['calls_sum'].hist(ax = ax, alpha = .5, bins = 20)\n",
    "plt.legend(['smart', 'ultra'])\n",
    "plt.title('Гистограмма использованных минут в месяц')\n",
    "plt.xlabel('Количество минут, мин')\n",
    "plt.ylabel('Частота')\n",
    "plt.show()"
   ]
  },
  {
   "cell_type": "code",
   "execution_count": 41,
   "metadata": {},
   "outputs": [
    {
     "name": "stderr",
     "output_type": "stream",
     "text": [
      "/opt/conda/lib/python3.7/site-packages/numpy/core/_asarray.py:83: VisibleDeprecationWarning: Creating an ndarray from ragged nested sequences (which is a list-or-tuple of lists-or-tuples-or ndarrays with different lengths or shapes) is deprecated. If you meant to do this, you must specify 'dtype=object' when creating the ndarray\n",
      "  return array(a, dtype, copy=False, order=order)\n"
     ]
    },
    {
     "data": {
      "image/png": "[encoded data removed]",
      "text/plain": [
       "<Figure size 864x432 with 1 Axes>"
      ]
     },
     "metadata": {
      "needs_background": "light"
     },
     "output_type": "display_data"
    }
   ],
   "source": [
    "data_final.boxplot(column='calls_sum', by='tariff', figsize = (12, 6))\n",
    "plt.title('Диаграмма размаха количества использованных минут')\n",
    "plt.ylabel('Количество минут, мин')\n",
    "plt.show()"
   ]
  },
  {
   "cell_type": "markdown",
   "metadata": {},
   "source": [
    "В среднем пользователи тарифа \"smart\" тратят меньше минут, чем пользователи тарифа \"ultra\". Стандартное отклонение намного больше у пользователей тарифа \"ultra\". По гистограмме видно большой разброс потраченных минут для пользователей тарифа \"ultra\". По диаграмме размаха видно, что количество выбросов для тарифа \"smart\" намного больше, чем для тарифа \"ultra\"."
   ]
  },
  {
   "cell_type": "markdown",
   "metadata": {},
   "source": [
    "## 3.2 Анализ использованного интернет-трафика<a id=\"анализ_данных__анализ_использованного_интернет_трафика\"></a>"
   ]
  },
  {
   "cell_type": "markdown",
   "metadata": {},
   "source": [
    "Построим столбчатую диаграмму для internet_sum."
   ]
  },
  {
   "cell_type": "code",
   "execution_count": 42,
   "metadata": {},
   "outputs": [
    {
     "data": {
      "image/png": "[encoded data removed]",
      "text/plain": [
       "<Figure size 864x432 with 1 Axes>"
      ]
     },
     "metadata": {
      "needs_background": "light"
     },
     "output_type": "display_data"
    }
   ],
   "source": [
    "data_mean['internet_sum'].plot(kind = 'bar', grid=True, legend=True, figsize = (12,6), rot = 0)\n",
    "plt.title('Среднее количество использованного интернет-трафика по месяцам')\n",
    "plt.xlabel('Месяц')\n",
    "plt.ylabel('Интернет трафик, Мб')\n",
    "plt.show()"
   ]
  },
  {
   "cell_type": "markdown",
   "metadata": {},
   "source": [
    "По графику видно, что в среднем пользователи тарифа \"smart\" используют меньше интернет-тарифка в месяц, чем пользователи тарифа \"ultra\". Еще одна интересная тенденция, что количество использованного интернет-трафика, как и использованных минут, для обоих тарифов увеличивается в течении года и достигает максимума к декабрю."
   ]
  },
  {
   "cell_type": "markdown",
   "metadata": {},
   "source": [
    "Посчитаем медиану, среднее значение, дисперсию и стандартное отклонение для обоих тарифов."
   ]
  },
  {
   "cell_type": "code",
   "execution_count": 43,
   "metadata": {},
   "outputs": [
    {
     "name": "stdout",
     "output_type": "stream",
     "text": [
      "Медиана для тарифа \"smart\" составляет: 16540\n",
      "Среднее значение для тарифа \"smart\" составляет: 16237\n",
      "Дисперсия для тарифа \"smart\" составляет: 34571991\n",
      "Стандартное отклонение для тарифа \"smart\" составляет: 5880\n",
      "\n",
      "Медиана для тарифа \"ultra\" составляет: 19324\n",
      "Среднее значение для тарифа \"ultra\" составляет: 19489\n",
      "Дисперсия для тарифа \"ultra\" составляет: 101951581\n",
      "Стандартное отклонение для тарифа \"ultra\" составляет: 10097\n",
      "\n"
     ]
    }
   ],
   "source": [
    "for tariff in ['smart', 'ultra']:\n",
    "    print('Медиана для тарифа \"{:}\" составляет: {:.0f}'.format(tariff, np.median(data_final.query('tariff == @tariff')['internet_sum'])))\n",
    "    print('Среднее значение для тарифа \"{:}\" составляет: {:.0f}'.format(tariff, np.mean(data_final.query('tariff == @tariff')['internet_sum'])))\n",
    "    print('Дисперсия для тарифа \"{:}\" составляет: {:.0f}'.format(tariff, np.var(data_final.query('tariff == @tariff')['internet_sum'], ddof=1)))\n",
    "    print('Стандартное отклонение для тарифа \"{:}\" составляет: {:.0f}'.format(tariff, np.std(data_final.query('tariff == @tariff')['internet_sum'], ddof=1)))\n",
    "    print()"
   ]
  },
  {
   "cell_type": "markdown",
   "metadata": {},
   "source": [
    "Также для визуального анализа построим гистограмму и диаграмму размаха."
   ]
  },
  {
   "cell_type": "code",
   "execution_count": 44,
   "metadata": {},
   "outputs": [
    {
     "data": {
      "image/png": "[encoded data removed]",
      "text/plain": [
       "<Figure size 864x432 with 1 Axes>"
      ]
     },
     "metadata": {
      "needs_background": "light"
     },
     "output_type": "display_data"
    }
   ],
   "source": [
    "ax = data_final[data_final['tariff'] == 'smart']['internet_sum'].hist(alpha = .5, bins = 20, figsize = (12,6))\n",
    "data_final[data_final['tariff'] == 'ultra']['internet_sum'].hist(ax = ax, alpha = .5, bins = 20)\n",
    "plt.legend(['smart', 'ultra'])\n",
    "plt.title('Гистограмма использованного интерет-трафика в месяц')\n",
    "plt.xlabel('Интернет-трафик, Мб')\n",
    "plt.ylabel('Частота')\n",
    "plt.show()"
   ]
  },
  {
   "cell_type": "code",
   "execution_count": 45,
   "metadata": {},
   "outputs": [
    {
     "name": "stderr",
     "output_type": "stream",
     "text": [
      "/opt/conda/lib/python3.7/site-packages/numpy/core/_asarray.py:83: VisibleDeprecationWarning: Creating an ndarray from ragged nested sequences (which is a list-or-tuple of lists-or-tuples-or ndarrays with different lengths or shapes) is deprecated. If you meant to do this, you must specify 'dtype=object' when creating the ndarray\n",
      "  return array(a, dtype, copy=False, order=order)\n"
     ]
    },
    {
     "data": {
      "image/png": "[encoded data removed]",
      "text/plain": [
       "<Figure size 864x432 with 1 Axes>"
      ]
     },
     "metadata": {
      "needs_background": "light"
     },
     "output_type": "display_data"
    }
   ],
   "source": [
    "data_final.boxplot(column='internet_sum', by='tariff', figsize = (12, 6))\n",
    "plt.title('Диаграмма размаха использванного интернет-трафика')\n",
    "plt.ylabel('Интернет-трафик, Мб')\n",
    "plt.show()"
   ]
  },
  {
   "cell_type": "markdown",
   "metadata": {},
   "source": [
    "В среднем пользователи тарифа \"smart\" используют меньше интернет-трафика, чем пользователи тарифа \"ultra\". Стандартное отклонение почти в два раза больше у пользователей тарифа \"ultra\", чем у пользователей тарифа \"smart\". По гистограмме видно большой разброс использованного интернет-трафика для пользователей тарифа \"ultra\". По диаграмме размаха видно, что количество выбросов для тарифа \"smart\" намного больше, чем для тарифа \"ultra\"."
   ]
  },
  {
   "cell_type": "markdown",
   "metadata": {},
   "source": [
    "## 3.3 Анализ отправленных сообщений<a id=\"анализ_данных__анализ_отпарвленных_сообщений\"></a>"
   ]
  },
  {
   "cell_type": "markdown",
   "metadata": {},
   "source": [
    "Построим столбчатую диаграмму для messages_sum."
   ]
  },
  {
   "cell_type": "code",
   "execution_count": 46,
   "metadata": {},
   "outputs": [
    {
     "data": {
      "image/png": "[encoded data removed]",
      "text/plain": [
       "<Figure size 864x432 with 1 Axes>"
      ]
     },
     "metadata": {
      "needs_background": "light"
     },
     "output_type": "display_data"
    }
   ],
   "source": [
    "data_mean['messages_sum'].plot(kind = 'bar', grid=True, legend=True, figsize = (12,6), rot = 0)\n",
    "plt.title('Среднее количество отправленных сообщений по месяцам')\n",
    "plt.xlabel('Месяц')\n",
    "plt.ylabel('Количество сообщений')\n",
    "plt.show()"
   ]
  },
  {
   "cell_type": "markdown",
   "metadata": {},
   "source": [
    "По графику видно, что в среднем пользователи тарифа \"smart\" отправляют меньше сообщений в месяц, чем пользователи тарифа \"ultra\". Еще одна интересная тенденция, что количество отправленных сообщений для тарифа \"ultra\" увеличивается в течении года и достигает максимума к декабрю."
   ]
  },
  {
   "cell_type": "markdown",
   "metadata": {},
   "source": [
    "Посчитаем медиану, среднее значение, дисперсию и стандартное отклонение для обоих тарифов."
   ]
  },
  {
   "cell_type": "code",
   "execution_count": 47,
   "metadata": {},
   "outputs": [
    {
     "name": "stdout",
     "output_type": "stream",
     "text": [
      "Медиана для тарифа \"smart\" составляет: 28\n",
      "Среднее значение для тарифа \"smart\" составляет: 33\n",
      "Дисперсия для тарифа \"smart\" составляет: 797\n",
      "Стандартное отклонение для тарифа \"smart\" составляет: 28\n",
      "\n",
      "Медиана для тарифа \"ultra\" составляет: 38\n",
      "Среднее значение для тарифа \"ultra\" составляет: 49\n",
      "Дисперсия для тарифа \"ultra\" составляет: 2285\n",
      "Стандартное отклонение для тарифа \"ultra\" составляет: 48\n",
      "\n"
     ]
    }
   ],
   "source": [
    "for tariff in ['smart', 'ultra']:\n",
    "    print('Медиана для тарифа \"{:}\" составляет: {:.0f}'.format(tariff, np.median(data_final.query('tariff == @tariff')['messages_sum'])))\n",
    "    print('Среднее значение для тарифа \"{:}\" составляет: {:.0f}'.format(tariff, np.mean(data_final.query('tariff == @tariff')['messages_sum'])))\n",
    "    print('Дисперсия для тарифа \"{:}\" составляет: {:.0f}'.format(tariff, np.var(data_final.query('tariff == @tariff')['messages_sum'], ddof=1)))\n",
    "    print('Стандартное отклонение для тарифа \"{:}\" составляет: {:.0f}'.format(tariff, np.std(data_final.query('tariff == @tariff')['messages_sum'], ddof=1)))\n",
    "    print()"
   ]
  },
  {
   "cell_type": "markdown",
   "metadata": {},
   "source": [
    "Также для визуального анализа построим гистограмму и диаграмму размаха."
   ]
  },
  {
   "cell_type": "code",
   "execution_count": 48,
   "metadata": {},
   "outputs": [
    {
     "data": {
      "image/png": "[encoded data removed]",
      "text/plain": [
       "<Figure size 864x432 with 1 Axes>"
      ]
     },
     "metadata": {
      "needs_background": "light"
     },
     "output_type": "display_data"
    }
   ],
   "source": [
    "ax = data_final[data_final['tariff'] == 'smart']['messages_sum'].hist(alpha = .5, bins = 20, figsize = (12,6))\n",
    "data_final[data_final['tariff'] == 'ultra']['messages_sum'].hist(ax = ax, alpha = .5, bins = 20)\n",
    "plt.legend(['smart', 'ultra'])\n",
    "plt.title('Гистограмма отправленных сообщений в месяц')\n",
    "plt.xlabel('Количество сообщений')\n",
    "plt.ylabel('Частота')\n",
    "plt.show()"
   ]
  },
  {
   "cell_type": "code",
   "execution_count": 49,
   "metadata": {},
   "outputs": [
    {
     "name": "stderr",
     "output_type": "stream",
     "text": [
      "/opt/conda/lib/python3.7/site-packages/numpy/core/_asarray.py:83: VisibleDeprecationWarning: Creating an ndarray from ragged nested sequences (which is a list-or-tuple of lists-or-tuples-or ndarrays with different lengths or shapes) is deprecated. If you meant to do this, you must specify 'dtype=object' when creating the ndarray\n",
      "  return array(a, dtype, copy=False, order=order)\n"
     ]
    },
    {
     "data": {
      "image/png": "[encoded data removed]",
      "text/plain": [
       "<Figure size 864x432 with 1 Axes>"
      ]
     },
     "metadata": {
      "needs_background": "light"
     },
     "output_type": "display_data"
    }
   ],
   "source": [
    "data_final.boxplot(column='messages_sum', by='tariff', figsize = (12, 6))\n",
    "plt.title('Диаграмма размаха отправленных сообщений в месяц')\n",
    "plt.ylabel('Количество сообщений')\n",
    "plt.show()"
   ]
  },
  {
   "cell_type": "markdown",
   "metadata": {},
   "source": [
    "В среднем пользователи тарифа \"smart\" отправляют меньше сообщений, чем пользователи тарифа \"ultra\". Стандартное отклонение почти в два раза больше у пользователей тарифа \"ultra\", чем у пользователей тарифа \"smart\". По гистограмме видно большой разброс отправленных сообщений для пользователей тарифа \"ultra\", также видно, что многие пользователи обоих тарифов не отправляют сообщения. По диаграмме размаха видно, что количество выбросов для тарифа \"smart\" намного больше, чем для тарифа \"ultra\"."
   ]
  },
  {
   "cell_type": "markdown",
   "metadata": {},
   "source": [
    "## 3.4 Анализ выручки<a id=\"анализ_данных__анализ_выручки\"></a>"
   ]
  },
  {
   "cell_type": "markdown",
   "metadata": {},
   "source": [
    "Построим столбчатую диаграмму для coast."
   ]
  },
  {
   "cell_type": "code",
   "execution_count": 50,
   "metadata": {},
   "outputs": [
    {
     "data": {
      "image/png": "[encoded data removed]",
      "text/plain": [
       "<Figure size 864x432 with 1 Axes>"
      ]
     },
     "metadata": {
      "needs_background": "light"
     },
     "output_type": "display_data"
    }
   ],
   "source": [
    "data_mean['coast'].plot(kind = 'bar', grid=True, legend=True, figsize = (12,6), rot = 0)\n",
    "plt.title('Средние расходы одного клиента по месяцам')\n",
    "plt.xlabel('Месяц')\n",
    "plt.ylabel('Прибыль, руб')\n",
    "plt.show()"
   ]
  },
  {
   "cell_type": "markdown",
   "metadata": {},
   "source": [
    "По гарфику видно, что клинты, использующие тариф \"ultra\" в среднем тратили практически одинаковое количество денег за каждый месяц. Также видно, что помимо абоненской платы (1950 руб.) они немного тратили на дополнительные услуги. А вот клиенты, использующие тариф \"smart\" очень неравномерно тратили деньги за услуги связи в течении года. Также помимо абоненской платы (550 руб.) клиенты тарифа \"smart\" очень много тратят на дополнительные услуги. Видимо им не хватает минут, интернета и сообщений, которые включены в тариф."
   ]
  },
  {
   "cell_type": "markdown",
   "metadata": {},
   "source": [
    "Посчитаем медиану, среднее значение, дисперсию и стандартное отклонение для обоих тарифов."
   ]
  },
  {
   "cell_type": "code",
   "execution_count": 51,
   "metadata": {},
   "outputs": [
    {
     "name": "stdout",
     "output_type": "stream",
     "text": [
      "Медиана для тарифа \"smart\" составляет: 1075\n",
      "Среднее значение для тарифа \"smart\" составляет: 1313\n",
      "Дисперсия для тарифа \"smart\" составляет: 690458\n",
      "Стандартное отклонение для тарифа \"smart\" составляет: 831\n",
      "\n",
      "Медиана для тарифа \"ultra\" составляет: 1950\n",
      "Среднее значение для тарифа \"ultra\" составляет: 2071\n",
      "Дисперсия для тарифа \"ultra\" составляет: 143491\n",
      "Стандартное отклонение для тарифа \"ultra\" составляет: 379\n",
      "\n"
     ]
    }
   ],
   "source": [
    "for tariff in ['smart', 'ultra']:\n",
    "    print('Медиана для тарифа \"{:}\" составляет: {:.0f}'.format(tariff, np.median(data_final.query('tariff == @tariff')['coast'])))\n",
    "    print('Среднее значение для тарифа \"{:}\" составляет: {:.0f}'.format(tariff, np.mean(data_final.query('tariff == @tariff')['coast'])))\n",
    "    print('Дисперсия для тарифа \"{:}\" составляет: {:.0f}'.format(tariff, np.var(data_final.query('tariff == @tariff')['coast'], ddof=1)))\n",
    "    print('Стандартное отклонение для тарифа \"{:}\" составляет: {:.0f}'.format(tariff, np.std(data_final.query('tariff == @tariff')['coast'], ddof=1)))\n",
    "    print()"
   ]
  },
  {
   "cell_type": "markdown",
   "metadata": {},
   "source": [
    "Также для визуального анализа построим гистограмму и диаграмму размаха."
   ]
  },
  {
   "cell_type": "code",
   "execution_count": 52,
   "metadata": {},
   "outputs": [
    {
     "data": {
      "image/png": "[encoded data removed]",
      "text/plain": [
       "<Figure size 864x432 with 1 Axes>"
      ]
     },
     "metadata": {
      "needs_background": "light"
     },
     "output_type": "display_data"
    }
   ],
   "source": [
    "ax = data_final[data_final['tariff'] == 'smart']['coast'].hist(alpha = .5, bins = 20, figsize = (12,6))\n",
    "data_final[data_final['tariff'] == 'ultra']['coast'].hist(ax = ax, alpha = .5, bins = 20)\n",
    "plt.legend(['smart', 'ultra'])\n",
    "plt.title('Гистограмма расходов клианта в месяц')\n",
    "plt.xlabel('Прибыль, руб')\n",
    "plt.ylabel('Частота')\n",
    "plt.show()"
   ]
  },
  {
   "cell_type": "code",
   "execution_count": 53,
   "metadata": {},
   "outputs": [
    {
     "name": "stderr",
     "output_type": "stream",
     "text": [
      "/opt/conda/lib/python3.7/site-packages/numpy/core/_asarray.py:83: VisibleDeprecationWarning: Creating an ndarray from ragged nested sequences (which is a list-or-tuple of lists-or-tuples-or ndarrays with different lengths or shapes) is deprecated. If you meant to do this, you must specify 'dtype=object' when creating the ndarray\n",
      "  return array(a, dtype, copy=False, order=order)\n"
     ]
    },
    {
     "data": {
      "image/png": "[encoded data removed]",
      "text/plain": [
       "<Figure size 864x432 with 1 Axes>"
      ]
     },
     "metadata": {
      "needs_background": "light"
     },
     "output_type": "display_data"
    }
   ],
   "source": [
    "data_final.boxplot(column='coast', by='tariff', figsize = (12, 6))\n",
    "plt.title('Диаграмма размаха расходов клиантов в месяц')\n",
    "plt.ylabel('Прибыль, руб')\n",
    "plt.show()"
   ]
  },
  {
   "cell_type": "markdown",
   "metadata": {},
   "source": [
    "По гистограмме видно очень большой размах у клиентов тарифа \"smart\", среднее значение составляет 1313, что в более, чем в 2 раза выше абоненсокй платы по тарифу, также значение стандартного отклонения равное 831, говорит о большом разбросе значений. Клиентам же тарифа \"ultra\" практически всегда хватает включенных в тариф минут, интернета и сообщений, так как гистаграмме и диаграмме размаха видно, что в основном все значения равняются 1950. Это подтверждается и средним значением равным 2071 и небольшим стандартным отклонением, которое составляет 379."
   ]
  },
  {
   "cell_type": "markdown",
   "metadata": {},
   "source": [
    "Посчитаем сколько за год принесли денег фирме клиенты разных тарифов."
   ]
  },
  {
   "cell_type": "code",
   "execution_count": 54,
   "metadata": {},
   "outputs": [
    {
     "name": "stdout",
     "output_type": "stream",
     "text": [
      "Приыбль за год с клиентов, пользующиеся тарифом \"smart\": 2925590 рублей\n",
      "Приыбль за год с клиентов, пользующиеся тарифом \"ultra\": 2040000 рублей\n"
     ]
    }
   ],
   "source": [
    "coast_smart = data_final.query('tariff == \"smart\"')['coast'].sum()\n",
    "coast_ultra = data_final.query('tariff == \"ultra\"')['coast'].sum()\n",
    "print('Приыбль за год с клиентов, пользующиеся тарифом \"smart\": {:.0f} рублей'.format(coast_smart))\n",
    "print('Приыбль за год с клиентов, пользующиеся тарифом \"ultra\": {:.0f} рублей'.format(coast_ultra))"
   ]
  },
  {
   "cell_type": "code",
   "execution_count": 55,
   "metadata": {},
   "outputs": [
    {
     "name": "stdout",
     "output_type": "stream",
     "text": [
      "Доля приыбыли за год с клиентов, пользующиеся тарифом \"smart\": 58.9 %\n",
      "Доля приыбыли за год с клиентов, пользующиеся тарифом \"ultra\": 41.1 %\n"
     ]
    }
   ],
   "source": [
    "coast_smart_percent = coast_smart / (coast_smart + coast_ultra) * 100\n",
    "coast_ultra_percent = coast_ultra / (coast_smart + coast_ultra) * 100\n",
    "print('Доля приыбыли за год с клиентов, пользующиеся тарифом \"smart\": {:.1f} %'.format(coast_smart_percent))\n",
    "print('Доля приыбыли за год с клиентов, пользующиеся тарифом \"ultra\": {:.1f} %'.format(coast_ultra_percent))"
   ]
  },
  {
   "cell_type": "markdown",
   "metadata": {},
   "source": [
    "Тариф \"smart\" приносит больше прибыли компании, чем тариф \"ultra\". "
   ]
  },
  {
   "cell_type": "markdown",
   "metadata": {},
   "source": [
    "Посмотрим сколько людей пользуются исследуемыми тарифами."
   ]
  },
  {
   "cell_type": "code",
   "execution_count": 56,
   "metadata": {},
   "outputs": [
    {
     "data": {
      "text/plain": [
       "smart    351\n",
       "ultra    149\n",
       "Name: tariff, dtype: int64"
      ]
     },
     "execution_count": 56,
     "metadata": {},
     "output_type": "execute_result"
    }
   ],
   "source": [
    "data_users['tariff'].value_counts()"
   ]
  },
  {
   "cell_type": "markdown",
   "metadata": {},
   "source": [
    "Клиентов с тарифом \"smart\" более, чем в два раза больше, чем клиентов с тарифом \"ultra\". Сколько же в среднем приносит в год каждый клиент исследуемых тарифов..."
   ]
  },
  {
   "cell_type": "code",
   "execution_count": 57,
   "metadata": {},
   "outputs": [
    {
     "name": "stdout",
     "output_type": "stream",
     "text": [
      "Средняя приыбль за год с клиента, пользующегося тарифом \"smart\": 8335 рублей\n",
      "Средняя приыбль за год с клиента, пользующегося тарифом \"ultra\": 13691 рублей\n"
     ]
    }
   ],
   "source": [
    "print('Средняя приыбль за год с клиента, пользующегося тарифом \"smart\": {:.0f} рублей'.format(coast_smart / data_users['tariff'].value_counts()[0]))\n",
    "print('Средняя приыбль за год с клиента, пользующегося тарифом \"ultra\": {:.0f} рублей'.format(coast_ultra / data_users['tariff'].value_counts()[1]))"
   ]
  },
  {
   "cell_type": "markdown",
   "metadata": {},
   "source": [
    "Получается, что для компании намного интереснее и прибыльнее клиенты, которые пользуются тарифом \"ultra\"."
   ]
  },
  {
   "cell_type": "markdown",
   "metadata": {},
   "source": [
    "Посчитаем сколько за год заработала компания за дополнительные услуги. Для этого вычтем из прибыли за месяц абоненскую плату за тариф."
   ]
  },
  {
   "cell_type": "code",
   "execution_count": 58,
   "metadata": {},
   "outputs": [
    {
     "name": "stdout",
     "output_type": "stream",
     "text": [
      "Приыбль за дополнительные услуги за год с клиентов, пользующиеся тарифом \"smart\": 1699640 рублей\n",
      "Приыбль за дополнительные услуги за год с клиентов, пользующиеся тарифом \"ultra\": 119250 рублей\n"
     ]
    }
   ],
   "source": [
    "coast_smart_add_services = (data_final.query('tariff == \"smart\"')['coast'] - 550).sum()\n",
    "coast_ultra_add_services = (data_final.query('tariff == \"ultra\"')['coast'] - 1950).sum()\n",
    "print('Приыбль за дополнительные услуги за год с клиентов, пользующиеся тарифом \"smart\": {:.0f} рублей'.format(coast_smart_add_services))\n",
    "print('Приыбль за дополнительные услуги за год с клиентов, пользующиеся тарифом \"ultra\": {:.0f} рублей'.format(coast_ultra_add_services))"
   ]
  },
  {
   "cell_type": "markdown",
   "metadata": {},
   "source": [
    "Посчитаем какую часть составляет прибыль за дополнительные услуги от общей прибыли для каждого тарифа."
   ]
  },
  {
   "cell_type": "code",
   "execution_count": 59,
   "metadata": {},
   "outputs": [
    {
     "name": "stdout",
     "output_type": "stream",
     "text": [
      "Доля прибыли за дополнительные услуги от общей прибыли за тариф \"smart\": 58.1 %\n",
      "Доля прибыли за дополнительные услуги от общей прибыли за тариф \"ultra\": 5.8 %\n"
     ]
    }
   ],
   "source": [
    "coast_smart_add_services_percent = coast_smart_add_services / coast_smart * 100\n",
    "coast_ultra_add_services_percent = coast_ultra_add_services / coast_ultra * 100\n",
    "print('Доля прибыли за дополнительные услуги от общей прибыли за тариф \"smart\": {:.1f} %'.format(coast_smart_add_services_percent))\n",
    "print('Доля прибыли за дополнительные услуги от общей прибыли за тариф \"ultra\": {:.1f} %'.format(coast_ultra_add_services_percent))"
   ]
  },
  {
   "cell_type": "markdown",
   "metadata": {},
   "source": [
    "Для тарифа \"smart\" более половины заработанных денег компанией приходится на дополнительные услуги. Для тарифа \"ultra\" это доля составляет около 6%."
   ]
  },
  {
   "cell_type": "markdown",
   "metadata": {},
   "source": [
    "### Выводы"
   ]
  },
  {
   "cell_type": "markdown",
   "metadata": {},
   "source": [
    "Провели анализ количества использованных минут, интернет-трафика, сообщений клиантами тарифов \"smart\" и \"ultra\". Также посчитали сколько компания зарабатывает за год на клиентах этих тарифов. \n",
    "\n",
    "***Количество использованных минут***\n",
    "\n",
    "* Тариф **\"smart\"**:\n",
    " * Медиана: 435 мин.;\n",
    " * Среднее значение: 429 мин.;\n",
    " * Стандартное отклонение : 195 мин.;\n",
    " * Дисперсия : 37975.\n",
    "* Тариф **\"ultra\"**:\n",
    " * Медиана: 532 мин.;\n",
    " * Среднее значение: 541 мин.;\n",
    " * Стандартное отклонение : 326 мин.;\n",
    " * Дисперсия : 106106.\n",
    " \n",
    "Пользователям тарифа **\"smart\"** очень часто не хватает включенных в тариф минут и им приходится оплачивать дополнительно минуты разговора сверх тарифного пакета.                 \n",
    "Пользователям тарифа **\"ultra\"** всегда хватает включенных в пакет минут.\n",
    "\n",
    "***Количество использованного интернет-трафика***\n",
    "\n",
    "* Тариф **\"smart\"**:\n",
    " * Медиана: 16540 Мб;\n",
    " * Среднее значение: 16237 Мб;\n",
    " * Стандартное отклонение : 5880 Мб;\n",
    " * Дисперсия : 34571991.\n",
    "* Тариф **\"ultra\"**:\n",
    " * Медиана: 19324 Мб;\n",
    " * Среднее значение: 19489 Мб;\n",
    " * Стандартное отклонение : 10097 Мб;\n",
    " * Дисперсия : 101951581.\n",
    " \n",
    "Пользователям тарифа **\"smart\"** очень часто не хватает включенного в тариф интернет-трафика и им приходится  дополнительно покупать интрнет-трафик сверх тарифного пакета.                 \n",
    "Пользователям тарифа **\"ultra\"** часто не хватает включенного в тариф интернет-трафика и им приходится  дополнительно покупать интрнет-трафик сверх тарифного пакета.\n",
    "\n",
    "***Количество отправленных сообщений***\n",
    "\n",
    "* Тариф **\"smart\"**:\n",
    " * Медиана: 28;\n",
    " * Среднее значение: 33;\n",
    " * Стандартное отклонение : 28;\n",
    " * Дисперсия : 797.\n",
    "* Тариф **\"ultra\"**:\n",
    " * Медиана: 38;\n",
    " * Среднее значение: 49;\n",
    " * Стандартное отклонение : 48;\n",
    " * Дисперсия : 2285.\n",
    " \n",
    "Пользователям тарифа **\"smart\"** часто не хватает включенных в тариф сообщение и им приходится оплачивать дополнительно отправленные сообщения сверх тарифного пакета.                 \n",
    "Пользователям тарифа **\"ultra\"** всегда хватает включенных в пакет сообщений.\n",
    "\n",
    "***Ежемесячные траты на услуги связи***\n",
    "\n",
    "* Тариф **\"smart\"**:\n",
    " * Медиана: 1075 руб.;\n",
    " * Среднее значение: 1313 руб.;\n",
    " * Стандартное отклонение : 831 руб.;\n",
    " * Дисперсия : 690458.\n",
    "* Тариф **\"ultra\"**:\n",
    " * Медиана: 1950 руб.;\n",
    " * Среднее значение: 2071 руб.;\n",
    " * Стандартное отклонение : 379 руб.;\n",
    " * Дисперсия : 143491.\n",
    " \n",
    "Так как пользователям тарифа **\"smart\"** очень часто не хватает минут, интернет-трафика и сообщений включенных в тарифный пакет, то из-за этого в среднем ежемесячно они тратят на услуги связи 1313 рублей (медиана составляет 1075), что более, чем в два раза выше абоненской платы по этому тарифу.               \n",
    "Пользователи тарифа **\"ultra\"** в среднем ежемесячно на услуги связи тратят 2071 рубль, что немногим больше их абоненской платы. Медиана же составляет вообще 1950 рублей, что равняется их абоненской плате. Это объясняется тем, что входящих в пакет минут, интернет-трафика и сообщений практически всегда им хватает. Дополнительно клиенты этого тарифа покупают только интернет-трафик. \n",
    "\n",
    "***Ежемесячная и годовая прибыль для компании***\n",
    "\n",
    "Ежегодно компания \"Мегалайн\" зарабатыет на 500 клиентах 4 965 590 рублей:\n",
    " * Тариф **\"smart\"** приносит компании 2 925 590 рублей, что составляет 58.9% всей выручки. На дополнительных услугах компания по этому тарифу зарабатывает 1 699 640 рублей, что составляет 58.1% всей выручки по этому тарифу;\n",
    " * Тариф **\"ultra\"** приносит компании 2 040 000 рублей, что составляет 41.1% всей выручки. На дополнительных услугах компания по этому тарифу зарабатывает 119 250 рублей, что составляет 5.8% всей выручки по этому тарифу\n",
    " \n",
    "Количество клиентов тарифов:\n",
    " * Тариф **\"smart\"**: 351 чел.;\n",
    " * Тариф **\"ultra\"**: 149 чел.\n",
    " \n",
    "Средняя ежегодная прибыль компании с одного клиента:\n",
    " * Тариф **\"smart\"**: 8335 руб.;\n",
    " * Тариф **\"ultra\"**: 13691 руб."
   ]
  },
  {
   "cell_type": "markdown",
   "metadata": {},
   "source": [
    "## 4. Проверка гипотез<a id=\"проверка_гипотез\"></a>"
   ]
  },
  {
   "cell_type": "markdown",
   "metadata": {},
   "source": [
    "## 4.1 Средняя выручка пользователей тарифов «Ультра» и «Смарт» различается<a id=\"проверка_гипотез__средняя_выручка_пользователей_тарифов_«Ультра»_и_«Смарт»_различается\"></a>"
   ]
  },
  {
   "cell_type": "markdown",
   "metadata": {},
   "source": [
    "Сформулируем нулевую и альтернативную гипотезы."
   ]
  },
  {
   "cell_type": "markdown",
   "metadata": {},
   "source": [
    "$H_{0}$ - Средняя выручка пользователей тарифов «Ультра» и «Смарт» равны.  \n",
    "$H_{1}$ - Средняя выручка пользователей тарифов «Ультра» и «Смарт» различается."
   ]
  },
  {
   "cell_type": "markdown",
   "metadata": {},
   "source": [
    "Для этого воспозуемся методом `scipy.stats.ttest_ind` из модуля `scipy`, который позволяет проверить гипотезы о равенстве среднего двух генеральных совокупностей по взятым из них выборкам."
   ]
  },
  {
   "cell_type": "code",
   "execution_count": 1,
   "metadata": {},
   "outputs": [
    {
     "ename": "NameError",
     "evalue": "name 'data_final' is not defined",
     "output_type": "error",
     "traceback": [
      "\u001b[0;31m---------------------------------------------------------------------------\u001b[0m",
      "\u001b[0;31mNameError\u001b[0m                                 Traceback (most recent call last)",
      "\u001b[0;32m<ipython-input-1-9d78e41d544b>\u001b[0m in \u001b[0;36m<module>\u001b[0;34m\u001b[0m\n\u001b[1;32m      2\u001b[0m             \u001b[0;31m# если p-value окажется меньше него - отвергнем гипотезу\u001b[0m\u001b[0;34m\u001b[0m\u001b[0;34m\u001b[0m\u001b[0;34m\u001b[0m\u001b[0m\n\u001b[1;32m      3\u001b[0m \u001b[0;34m\u001b[0m\u001b[0m\n\u001b[0;32m----> 4\u001b[0;31m \u001b[0msample_1\u001b[0m \u001b[0;34m=\u001b[0m \u001b[0mdata_final\u001b[0m\u001b[0;34m.\u001b[0m\u001b[0mquery\u001b[0m\u001b[0;34m(\u001b[0m\u001b[0;34m'tariff == \"smart\"'\u001b[0m\u001b[0;34m)\u001b[0m\u001b[0;34m[\u001b[0m\u001b[0;34m'coast'\u001b[0m\u001b[0;34m]\u001b[0m\u001b[0;34m\u001b[0m\u001b[0;34m\u001b[0m\u001b[0m\n\u001b[0m\u001b[1;32m      5\u001b[0m \u001b[0msample_2\u001b[0m \u001b[0;34m=\u001b[0m \u001b[0mdata_final\u001b[0m\u001b[0;34m.\u001b[0m\u001b[0mquery\u001b[0m\u001b[0;34m(\u001b[0m\u001b[0;34m'tariff == \"ultra\"'\u001b[0m\u001b[0;34m)\u001b[0m\u001b[0;34m[\u001b[0m\u001b[0;34m'coast'\u001b[0m\u001b[0;34m]\u001b[0m\u001b[0;34m\u001b[0m\u001b[0;34m\u001b[0m\u001b[0m\n\u001b[1;32m      6\u001b[0m \u001b[0;34m\u001b[0m\u001b[0m\n",
      "\u001b[0;31mNameError\u001b[0m: name 'data_final' is not defined"
     ]
    }
   ],
   "source": [
    "alpha = .05 # критический уровень статистической значимости\n",
    "            # если p-value окажется меньше него - отвергнем гипотезу\n",
    "\n",
    "sample_1 = data_final.query('tariff == \"smart\"')['coast']\n",
    "sample_2 = data_final.query('tariff == \"ultra\"')['coast']\n",
    "\n",
    "results = st.levene(sample_1, sample_2) # equal_var = False, так как мы выяснили в пункте 3.4, что дисперсии отличаются \n",
    "\n",
    "print('p-значение:', results.pvalue)\n",
    "\n",
    "if (results.pvalue < alpha):\n",
    "    print(\"Отвергаем нулевую гипотезу\")\n",
    "else:\n",
    "    print(\"Не получилось отвергнуть нулевую гипотезу\") "
   ]
  },
  {
   "cell_type": "markdown",
   "metadata": {},
   "source": [
    "Полученное значение p-value говорит о том, что средняя выручка пользователей тарифов «Ультра» и «Смарт» различается, поэтому отвергаем нулевую гипотезу."
   ]
  },
  {
   "cell_type": "markdown",
   "metadata": {},
   "source": [
    "## 4.2 Средняя выручка пользователей из Москвы отличается от выручки пользователей из других регионов<a id=\"проверка_гипотез__средняя_выручка_пользователей_из_Москвы_отличается_от_выручки_пользователей_из_других_регионов\"></a>"
   ]
  },
  {
   "cell_type": "markdown",
   "metadata": {},
   "source": [
    "Сформулируем нулевую и альтернативную гипотезы."
   ]
  },
  {
   "cell_type": "markdown",
   "metadata": {},
   "source": [
    "$H_{0}$ - Средняя выручка пользователей из Москвы и пользователей из других регионов равны.  \n",
    "$H_{1}$ - Средняя выручка пользователей из Москвы отличается от выручки пользователей из других регионов."
   ]
  },
  {
   "cell_type": "markdown",
   "metadata": {},
   "source": [
    "Для этого воспозуемся методом `scipy.stats.ttest_ind` из модуля `scipy`, который позволяет проверить гипотезы о равенстве среднего двух генеральных совокупностей по взятым из них выборкам."
   ]
  },
  {
   "cell_type": "code",
   "execution_count": 61,
   "metadata": {},
   "outputs": [
    {
     "name": "stdout",
     "output_type": "stream",
     "text": [
      "p-значение: 0.560259602740345\n",
      "Не получилось отвергнуть нулевую гипотезу\n"
     ]
    }
   ],
   "source": [
    "alpha = .05 # критический уровень статистической значимости\n",
    "            # если p-value окажется меньше него - отвергнем гипотезу\n",
    "\n",
    "sample_1 = data_final.query('city == \"Москва\"')['coast']\n",
    "sample_2 = data_final.query('city != \"Москва\"')['coast']\n",
    "\n",
    "results = st.ttest_ind(\n",
    "    sample_1, \n",
    "    sample_2,\n",
    "    equal_var = False)\n",
    "\n",
    "print('p-значение:', results.pvalue)\n",
    "\n",
    "if (results.pvalue < alpha):\n",
    "    print(\"Отвергаем нулевую гипотезу\")\n",
    "else:\n",
    "    print(\"Не получилось отвергнуть нулевую гипотезу\") "
   ]
  },
  {
   "cell_type": "markdown",
   "metadata": {},
   "source": [
    "Полученное значение p-value говорит о том, что средняя выручка пользователей из Москвы и пользователей из других регионов не отличается, поэтому мы не можем отвергнуть нулевую гипотезу."
   ]
  },
  {
   "cell_type": "markdown",
   "metadata": {},
   "source": [
    "### Выводы"
   ]
  },
  {
   "cell_type": "markdown",
   "metadata": {},
   "source": [
    "Проверили гипотезы о различии средней выручки пользователей тарифов «Ультра» и «Смарт» и о различии средней выручки пользователей из Москвы от выручки пользователей из других регионов. Получили следующие результаты:  \n",
    " * Средняя выручка пользователей тарифов «Ультра» и «Смарт» различается (p-значение: 1.24e-233);\n",
    " * Средняя выручка пользователей из Москвы и пользователей из других регионов не отличается (p-значение: 0.56)."
   ]
  },
  {
   "cell_type": "markdown",
   "metadata": {},
   "source": [
    "## 5. Общий вывод<a id=\"общий_вывод\"></a>"
   ]
  },
  {
   "cell_type": "markdown",
   "metadata": {},
   "source": [
    "Целью данного проекта было провести анализ тарифов «Смарт» и «Ультра» компании «Мегалайн» на небольшой выборке клиентов и сделать вывод какой тариф лучше. В результате проделанной работы удалось выяснить следующее:\n",
    "\n",
    "***Количество использованных минут***\n",
    "\n",
    "* Тариф **\"smart\"**:\n",
    " * Медиана: 435 мин.;\n",
    " * Среднее значение: 429 мин.;\n",
    " * Стандартное отклонение : 195 мин.;\n",
    " * Дисперсия : 37975.\n",
    "* Тариф **\"ultra\"**:\n",
    " * Медиана: 532 мин.;\n",
    " * Среднее значение: 541 мин.;\n",
    " * Стандартное отклонение : 326 мин.;\n",
    " * Дисперсия : 106106.\n",
    " \n",
    "Пользователям тарифа **\"smart\"** очень часто не хватает включенных в тариф минут и им приходится оплачивать дополнительно минуты разговора сверх тарифного пакета.                 \n",
    "Пользователям тарифа **\"ultra\"** всегда хватает включенных в пакет минут.\n",
    "\n",
    "***Количество использованного интернет-трафика***\n",
    "\n",
    "* Тариф **\"smart\"**:\n",
    " * Медиана: 16540 Мб;\n",
    " * Среднее значение: 16237 Мб;\n",
    " * Стандартное отклонение : 5880 Мб;\n",
    " * Дисперсия : 34571991.\n",
    "* Тариф **\"ultra\"**:\n",
    " * Медиана: 19324 Мб;\n",
    " * Среднее значение: 19489 Мб;\n",
    " * Стандартное отклонение : 10097 Мб;\n",
    " * Дисперсия : 101951581.\n",
    " \n",
    "Пользователям тарифа **\"smart\"** очень часто не хватает включенного в тариф интернет-трафика и им приходится  дополнительно покупать интрнет-трафик сверх тарифного пакета.                 \n",
    "Пользователям тарифа **\"ultra\"** часто не хватает включенного в тариф интернет-трафика и им приходится  дополнительно покупать интрнет-трафик сверх тарифного пакета.\n",
    "\n",
    "***Количество отправленных сообщений***\n",
    "\n",
    "* Тариф **\"smart\"**:\n",
    " * Медиана: 28;\n",
    " * Среднее значение: 33;\n",
    " * Стандартное отклонение : 28;\n",
    " * Дисперсия : 797.\n",
    "* Тариф **\"ultra\"**:\n",
    " * Медиана: 38;\n",
    " * Среднее значение: 49;\n",
    " * Стандартное отклонение : 48;\n",
    " * Дисперсия : 2285.\n",
    " \n",
    "Пользователям тарифа **\"smart\"** часто не хватает включенных в тариф сообщение и им приходится оплачивать дополнительно отправленные сообщения сверх тарифного пакета.                 \n",
    "Пользователям тарифа **\"ultra\"** всегда хватает включенных в пакет сообщений.\n",
    "\n",
    "***Ежемесячные траты на услуги связи***\n",
    "\n",
    "* Тариф **\"smart\"**:\n",
    " * Медиана: 1075 руб.;\n",
    " * Среднее значение: 1313 руб.;\n",
    " * Стандартное отклонение : 831 руб.;\n",
    " * Дисперсия : 690458.\n",
    "* Тариф **\"ultra\"**:\n",
    " * Медиана: 1950 руб.;\n",
    " * Среднее значение: 2071 руб.;\n",
    " * Стандартное отклонение : 379 руб.;\n",
    " * Дисперсия : 143491.\n",
    " \n",
    "Так как пользователям тарифа **\"smart\"** очень часто не хватает минут, интернет-трафика и сообщений включенных в тарифный пакет, то из-за этого в среднем ежемесячно они тратят на услуги связи 1313 рублей (медиана составляет 1075), что более, чем в два раза выше абоненской платы по этому тарифу.               \n",
    "Пользователи тарифа **\"ultra\"** в среднем ежемесячно на услуги связи тратят 2071 рубль, что немногим больше их абоненской платы. Медиана же составляет вообще 1950 рублей, что равняется их абоненской плате. Это объясняется тем, что входящих в пакет минут, интернет-трафика и сообщений практически всегда им хватает. Дополнительно клиенты этого тарифа покупают только интернет-трафик. \n",
    "\n",
    "***Ежемесячная и годовая прибыль для компании***\n",
    "\n",
    "Ежегодно компания \"Мегалайн\" зарабатыет на 500 клиентах 4 965 590 рублей:\n",
    " * Тариф **\"smart\"** приносит компании 2 925 590 рублей, что составляет 58.9% всей выручки. На дополнительных услугах компания по этому тарифу зарабатывает 1 699 640 рублей, что составляет 58.1% всей выручки по этому тарифу;\n",
    " * Тариф **\"ultra\"** приносит компании 2 040 000 рублей, что составляет 41.1% всей выручки. На дополнительных услугах компания по этому тарифу зарабатывает 119 250 рублей, что составляет 5.8% всей выручки по этому тарифу\n",
    " \n",
    "Количество клиентов тарифов:\n",
    " * Тариф **\"smart\"**: 351 чел.;\n",
    " * Тариф **\"ultra\"**: 149 чел.\n",
    " \n",
    "Средняя ежегодная прибыль компании с одного клиента:\n",
    " * Тариф **\"smart\"**: 8335 руб.;\n",
    " * Тариф **\"ultra\"**: 13691 руб.\n",
    "\n",
    "\n",
    "  \n",
    "**Среднестатистический клиент компании \"Мегалайн\"**\n",
    "\n",
    " * Среднестатистический клиент, использующий тариф **\"smart\"** в месяц израсходует 429 минут, 15.85 Гб интернет -трафика и отправляет 33 сообщения. Ежемесячно на услуги связи средне он тратит 1313 рублей.  \n",
    " * Среднестатистический клиент, использующий тариф **\"ultra\"** в месяц израсходует 541 минут, 19.03 Гб интернет-трафика и отправляет 49 сообщения. Ежемесячно на услуги связи средне он тратит 2071 рубль.  \n",
    "\n",
    "**Какой тариф более выгоден для дальнейшей рекламы**  \n",
    "Годовая выручка от тарифа **\"smart\"** больше, чем от тарифа **\"ultra\"** на 20%. Но клиентов, использующие тариф **\"smart\"**, более чем 2 раза больше, чем клиентов, использующие тариф **\"ultra\"**.  \n",
    "Поэтому правильно сравнивать показатели средней ежегодной прибыли компании с одного клиента для обоих тарифов. И тут получается, что в среднем за год компания зарабатывает на одном клиенте, использующем тариф **\"smart\"**, 8335 рублей, а на одном клиенте, использующем тариф **\"ultra\"**, 13691 рублей.  \n",
    "Получается, что 1 клиент, использующий тариф **\"ultra\"**, приносит за год компании денег столько же, сколько и 1.61 клиента, использующие тариф **\"smart\"**.  \n",
    "**Рекламный бюджент стоит больше направить на тариф \"ultra\"**.\n",
    "\n",
    "\n",
    "Также были проверены гипотезы о различии средней выручки пользователей тарифов «Ультра» и «Смарт» и о различии средней выручки пользователей из Москвы от выручки пользователей из других регионов. Получили следующие результаты:\n",
    " * Средняя выручка пользователей тарифов «Ультра» и «Смарт» различается (p-значение: 1.24e-233);\n",
    " * Средняя выручка пользователей из Москвы и пользователей из других регионов не отличается (p-значение: 0.56)."
   ]
  }
 ],
 "metadata": {
  "kernelspec": {
   "display_name": "Python 3",
   "language": "python",
   "name": "python3"
  },
  "language_info": {
   "codemirror_mode": {
    "name": "ipython",
    "version": 3
   },
   "file_extension": ".py",
   "mimetype": "text/x-python",
   "name": "python",
   "nbconvert_exporter": "python",
   "pygments_lexer": "ipython3",
   "version": "3.7.8"
  }
 },
 "nbformat": 4,
 "nbformat_minor": 4
}
