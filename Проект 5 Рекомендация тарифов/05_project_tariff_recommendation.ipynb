{
 "cells": [
  {
   "cell_type": "markdown",
   "metadata": {},
   "source": [
    "# Рекомендация тарифов"
   ]
  },
  {
   "cell_type": "markdown",
   "metadata": {},
   "source": [
    "## Оглавление\n",
    "**[1. Открытие файла с данными и изучение общей информации](#чтение_файла)**\n",
    "   \n",
    "**[2. Разделение данных на выборки](#разделение_данных_на_выборки)**\n",
    "\n",
    "**[3. Исследование моделей](#исследование_моделей)**\n",
    "   * [3.1 Решающее дерево](#исследование_моделей__решающее_дерево)\n",
    "   * [3.2 Случайный лес](#исследование_моделей__случайный_лес)\n",
    "   * [3.3 Логистическая регрессия](#исследование_моделей__логистическая_регрессия)\n",
    "\n",
    "**[4. Проверка моделей на тестовой выборке](#проверка_моделей_на_тестовой_выборке)**\n",
    "   * [4.1 Решающее дерево](#проверка_моделей_на_тестовой_выборке__решающее_дерево)\n",
    "   * [4.2 Случайный лес](#проверка_моделей_на_тестовой_выборке__случайный_лес)\n",
    "   * [4.3 Логистическая регрессия](#проверка_моделей_на_тестовой_выборке__логистическая_регрессия)\n",
    "   \n",
    "**[5. Проверка модели на адекватность](#проверка_моделей_на_адекватность)**\n",
    "\n",
    "**[6. Общий вывод](#общий_вывод)**"
   ]
  },
  {
   "cell_type": "markdown",
   "metadata": {},
   "source": [
    "## 1. Открытие файла с данными и изучение общей информации. <a id=\"чтение_файлов\"></a>"
   ]
  },
  {
   "cell_type": "code",
   "execution_count": 61,
   "metadata": {},
   "outputs": [],
   "source": [
    "import pandas as pd\n",
    "from sklearn.model_selection import train_test_split\n",
    "from sklearn.tree import DecisionTreeClassifier\n",
    "from sklearn.ensemble import RandomForestClassifier\n",
    "from sklearn.linear_model import LogisticRegression\n",
    "from sklearn.metrics import accuracy_score\n",
    "import time"
   ]
  },
  {
   "cell_type": "code",
   "execution_count": 62,
   "metadata": {},
   "outputs": [],
   "source": [
    "df = pd.read_csv()"
   ]
  },
  {
   "cell_type": "markdown",
   "metadata": {},
   "source": [
    "Воспользуемся функцией для быстрого вывода общей информации о DataFrame."
   ]
  },
  {
   "cell_type": "code",
   "execution_count": 63,
   "metadata": {},
   "outputs": [
    {
     "data": {
      "text/html": [
       "<div>\n",
       "<style scoped>\n",
       "    .dataframe tbody tr th:only-of-type {\n",
       "        vertical-align: middle;\n",
       "    }\n",
       "\n",
       "    .dataframe tbody tr th {\n",
       "        vertical-align: top;\n",
       "    }\n",
       "\n",
       "    .dataframe thead th {\n",
       "        text-align: right;\n",
       "    }\n",
       "</style>\n",
       "<table border=\"1\" class=\"dataframe\">\n",
       "  <thead>\n",
       "    <tr style=\"text-align: right;\">\n",
       "      <th></th>\n",
       "      <th>calls</th>\n",
       "      <th>minutes</th>\n",
       "      <th>messages</th>\n",
       "      <th>mb_used</th>\n",
       "      <th>is_ultra</th>\n",
       "    </tr>\n",
       "  </thead>\n",
       "  <tbody>\n",
       "    <tr>\n",
       "      <td>0</td>\n",
       "      <td>40.0</td>\n",
       "      <td>311.90</td>\n",
       "      <td>83.0</td>\n",
       "      <td>19915.42</td>\n",
       "      <td>0</td>\n",
       "    </tr>\n",
       "    <tr>\n",
       "      <td>1</td>\n",
       "      <td>85.0</td>\n",
       "      <td>516.75</td>\n",
       "      <td>56.0</td>\n",
       "      <td>22696.96</td>\n",
       "      <td>0</td>\n",
       "    </tr>\n",
       "    <tr>\n",
       "      <td>2</td>\n",
       "      <td>77.0</td>\n",
       "      <td>467.66</td>\n",
       "      <td>86.0</td>\n",
       "      <td>21060.45</td>\n",
       "      <td>0</td>\n",
       "    </tr>\n",
       "    <tr>\n",
       "      <td>3</td>\n",
       "      <td>106.0</td>\n",
       "      <td>745.53</td>\n",
       "      <td>81.0</td>\n",
       "      <td>8437.39</td>\n",
       "      <td>1</td>\n",
       "    </tr>\n",
       "    <tr>\n",
       "      <td>4</td>\n",
       "      <td>66.0</td>\n",
       "      <td>418.74</td>\n",
       "      <td>1.0</td>\n",
       "      <td>14502.75</td>\n",
       "      <td>0</td>\n",
       "    </tr>\n",
       "    <tr>\n",
       "      <td>5</td>\n",
       "      <td>58.0</td>\n",
       "      <td>344.56</td>\n",
       "      <td>21.0</td>\n",
       "      <td>15823.37</td>\n",
       "      <td>0</td>\n",
       "    </tr>\n",
       "    <tr>\n",
       "      <td>6</td>\n",
       "      <td>57.0</td>\n",
       "      <td>431.64</td>\n",
       "      <td>20.0</td>\n",
       "      <td>3738.90</td>\n",
       "      <td>1</td>\n",
       "    </tr>\n",
       "    <tr>\n",
       "      <td>7</td>\n",
       "      <td>15.0</td>\n",
       "      <td>132.40</td>\n",
       "      <td>6.0</td>\n",
       "      <td>21911.60</td>\n",
       "      <td>0</td>\n",
       "    </tr>\n",
       "    <tr>\n",
       "      <td>8</td>\n",
       "      <td>7.0</td>\n",
       "      <td>43.39</td>\n",
       "      <td>3.0</td>\n",
       "      <td>2538.67</td>\n",
       "      <td>1</td>\n",
       "    </tr>\n",
       "    <tr>\n",
       "      <td>9</td>\n",
       "      <td>90.0</td>\n",
       "      <td>665.41</td>\n",
       "      <td>38.0</td>\n",
       "      <td>17358.61</td>\n",
       "      <td>0</td>\n",
       "    </tr>\n",
       "    <tr>\n",
       "      <td>10</td>\n",
       "      <td>82.0</td>\n",
       "      <td>560.51</td>\n",
       "      <td>20.0</td>\n",
       "      <td>9619.53</td>\n",
       "      <td>1</td>\n",
       "    </tr>\n",
       "    <tr>\n",
       "      <td>11</td>\n",
       "      <td>45.0</td>\n",
       "      <td>344.32</td>\n",
       "      <td>13.0</td>\n",
       "      <td>19898.81</td>\n",
       "      <td>0</td>\n",
       "    </tr>\n",
       "    <tr>\n",
       "      <td>12</td>\n",
       "      <td>51.0</td>\n",
       "      <td>437.13</td>\n",
       "      <td>61.0</td>\n",
       "      <td>21523.58</td>\n",
       "      <td>0</td>\n",
       "    </tr>\n",
       "    <tr>\n",
       "      <td>13</td>\n",
       "      <td>56.0</td>\n",
       "      <td>433.07</td>\n",
       "      <td>16.0</td>\n",
       "      <td>16702.36</td>\n",
       "      <td>0</td>\n",
       "    </tr>\n",
       "    <tr>\n",
       "      <td>14</td>\n",
       "      <td>108.0</td>\n",
       "      <td>587.90</td>\n",
       "      <td>0.0</td>\n",
       "      <td>14406.50</td>\n",
       "      <td>1</td>\n",
       "    </tr>\n",
       "    <tr>\n",
       "      <td>15</td>\n",
       "      <td>6.0</td>\n",
       "      <td>22.13</td>\n",
       "      <td>0.0</td>\n",
       "      <td>2710.09</td>\n",
       "      <td>0</td>\n",
       "    </tr>\n",
       "    <tr>\n",
       "      <td>16</td>\n",
       "      <td>2.0</td>\n",
       "      <td>18.73</td>\n",
       "      <td>0.0</td>\n",
       "      <td>588.89</td>\n",
       "      <td>0</td>\n",
       "    </tr>\n",
       "    <tr>\n",
       "      <td>17</td>\n",
       "      <td>26.0</td>\n",
       "      <td>163.62</td>\n",
       "      <td>4.0</td>\n",
       "      <td>16870.34</td>\n",
       "      <td>0</td>\n",
       "    </tr>\n",
       "    <tr>\n",
       "      <td>18</td>\n",
       "      <td>79.0</td>\n",
       "      <td>532.62</td>\n",
       "      <td>90.0</td>\n",
       "      <td>19908.31</td>\n",
       "      <td>0</td>\n",
       "    </tr>\n",
       "    <tr>\n",
       "      <td>19</td>\n",
       "      <td>49.0</td>\n",
       "      <td>341.67</td>\n",
       "      <td>81.0</td>\n",
       "      <td>11770.28</td>\n",
       "      <td>1</td>\n",
       "    </tr>\n",
       "  </tbody>\n",
       "</table>\n",
       "</div>"
      ],
      "text/plain": [
       "    calls  minutes  messages   mb_used  is_ultra\n",
       "0    40.0   311.90      83.0  19915.42         0\n",
       "1    85.0   516.75      56.0  22696.96         0\n",
       "2    77.0   467.66      86.0  21060.45         0\n",
       "3   106.0   745.53      81.0   8437.39         1\n",
       "4    66.0   418.74       1.0  14502.75         0\n",
       "5    58.0   344.56      21.0  15823.37         0\n",
       "6    57.0   431.64      20.0   3738.90         1\n",
       "7    15.0   132.40       6.0  21911.60         0\n",
       "8     7.0    43.39       3.0   2538.67         1\n",
       "9    90.0   665.41      38.0  17358.61         0\n",
       "10   82.0   560.51      20.0   9619.53         1\n",
       "11   45.0   344.32      13.0  19898.81         0\n",
       "12   51.0   437.13      61.0  21523.58         0\n",
       "13   56.0   433.07      16.0  16702.36         0\n",
       "14  108.0   587.90       0.0  14406.50         1\n",
       "15    6.0    22.13       0.0   2710.09         0\n",
       "16    2.0    18.73       0.0    588.89         0\n",
       "17   26.0   163.62       4.0  16870.34         0\n",
       "18   79.0   532.62      90.0  19908.31         0\n",
       "19   49.0   341.67      81.0  11770.28         1"
      ]
     },
     "metadata": {},
     "output_type": "display_data"
    },
    {
     "name": "stdout",
     "output_type": "stream",
     "text": [
      "<class 'pandas.core.frame.DataFrame'>\n",
      "RangeIndex: 3214 entries, 0 to 3213\n",
      "Data columns (total 5 columns):\n",
      "calls       3214 non-null float64\n",
      "minutes     3214 non-null float64\n",
      "messages    3214 non-null float64\n",
      "mb_used     3214 non-null float64\n",
      "is_ultra    3214 non-null int64\n",
      "dtypes: float64(4), int64(1)\n",
      "memory usage: 125.7 KB\n"
     ]
    },
    {
     "data": {
      "text/plain": [
       "None"
      ]
     },
     "metadata": {},
     "output_type": "display_data"
    },
    {
     "data": {
      "text/html": [
       "<div>\n",
       "<style scoped>\n",
       "    .dataframe tbody tr th:only-of-type {\n",
       "        vertical-align: middle;\n",
       "    }\n",
       "\n",
       "    .dataframe tbody tr th {\n",
       "        vertical-align: top;\n",
       "    }\n",
       "\n",
       "    .dataframe thead th {\n",
       "        text-align: right;\n",
       "    }\n",
       "</style>\n",
       "<table border=\"1\" class=\"dataframe\">\n",
       "  <thead>\n",
       "    <tr style=\"text-align: right;\">\n",
       "      <th></th>\n",
       "      <th>calls</th>\n",
       "      <th>minutes</th>\n",
       "      <th>messages</th>\n",
       "      <th>mb_used</th>\n",
       "      <th>is_ultra</th>\n",
       "    </tr>\n",
       "  </thead>\n",
       "  <tbody>\n",
       "    <tr>\n",
       "      <td>count</td>\n",
       "      <td>3214.000000</td>\n",
       "      <td>3214.000000</td>\n",
       "      <td>3214.000000</td>\n",
       "      <td>3214.000000</td>\n",
       "      <td>3214.000000</td>\n",
       "    </tr>\n",
       "    <tr>\n",
       "      <td>mean</td>\n",
       "      <td>63.038892</td>\n",
       "      <td>438.208787</td>\n",
       "      <td>38.281269</td>\n",
       "      <td>17207.673836</td>\n",
       "      <td>0.306472</td>\n",
       "    </tr>\n",
       "    <tr>\n",
       "      <td>std</td>\n",
       "      <td>33.236368</td>\n",
       "      <td>234.569872</td>\n",
       "      <td>36.148326</td>\n",
       "      <td>7570.968246</td>\n",
       "      <td>0.461100</td>\n",
       "    </tr>\n",
       "    <tr>\n",
       "      <td>min</td>\n",
       "      <td>0.000000</td>\n",
       "      <td>0.000000</td>\n",
       "      <td>0.000000</td>\n",
       "      <td>0.000000</td>\n",
       "      <td>0.000000</td>\n",
       "    </tr>\n",
       "    <tr>\n",
       "      <td>25%</td>\n",
       "      <td>40.000000</td>\n",
       "      <td>274.575000</td>\n",
       "      <td>9.000000</td>\n",
       "      <td>12491.902500</td>\n",
       "      <td>0.000000</td>\n",
       "    </tr>\n",
       "    <tr>\n",
       "      <td>50%</td>\n",
       "      <td>62.000000</td>\n",
       "      <td>430.600000</td>\n",
       "      <td>30.000000</td>\n",
       "      <td>16943.235000</td>\n",
       "      <td>0.000000</td>\n",
       "    </tr>\n",
       "    <tr>\n",
       "      <td>75%</td>\n",
       "      <td>82.000000</td>\n",
       "      <td>571.927500</td>\n",
       "      <td>57.000000</td>\n",
       "      <td>21424.700000</td>\n",
       "      <td>1.000000</td>\n",
       "    </tr>\n",
       "    <tr>\n",
       "      <td>max</td>\n",
       "      <td>244.000000</td>\n",
       "      <td>1632.060000</td>\n",
       "      <td>224.000000</td>\n",
       "      <td>49745.730000</td>\n",
       "      <td>1.000000</td>\n",
       "    </tr>\n",
       "  </tbody>\n",
       "</table>\n",
       "</div>"
      ],
      "text/plain": [
       "             calls      minutes     messages       mb_used     is_ultra\n",
       "count  3214.000000  3214.000000  3214.000000   3214.000000  3214.000000\n",
       "mean     63.038892   438.208787    38.281269  17207.673836     0.306472\n",
       "std      33.236368   234.569872    36.148326   7570.968246     0.461100\n",
       "min       0.000000     0.000000     0.000000      0.000000     0.000000\n",
       "25%      40.000000   274.575000     9.000000  12491.902500     0.000000\n",
       "50%      62.000000   430.600000    30.000000  16943.235000     0.000000\n",
       "75%      82.000000   571.927500    57.000000  21424.700000     1.000000\n",
       "max     244.000000  1632.060000   224.000000  49745.730000     1.000000"
      ]
     },
     "metadata": {},
     "output_type": "display_data"
    },
    {
     "name": "stdout",
     "output_type": "stream",
     "text": [
      "Количество дубликатов в DataFrame: 0\n"
     ]
    }
   ],
   "source": [
    "def information(DataFrame):\n",
    "    display(DataFrame.head(20))\n",
    "    display(DataFrame.info())\n",
    "    display(DataFrame.describe())\n",
    "    print('Количество дубликатов в DataFrame:', DataFrame.duplicated().sum())\n",
    "    \n",
    "information(df) "
   ]
  },
  {
   "cell_type": "markdown",
   "metadata": {},
   "source": [
    "### Выводы\n",
    "Изучили общую инфомрацию о предоставленных данных. Проверили наличие пропущенных значений и дубликатов. Можно сделать следующие выводы:\n",
    "* DataFrame содердит 3214 объектов, 4 признака (***calls, minutes, messages, mb_used***) и 1 целевой признак (***is_ultra***);\n",
    "* 4 признака (***calls, minutes, messages, mb_used***) имеют тип данных float64, а целевой признак (***is_ultra***) имеет тип данных int64;\n",
    "* 69.3% клиентов из выборки используют тариф **Smart**, 30.7% клиентов из выборки используют тариф **Ultra**;\n",
    "* Пропущенных значений нет;\n",
    "* Дубликатов нет;\n",
    "* Средние значения, медианы, стандартные отклонения адекватны.  \n",
    "\n",
    "Предобработки данных не требуется."
   ]
  },
  {
   "cell_type": "markdown",
   "metadata": {},
   "source": [
    "## 2. Разделение данных на выборки<a id=\"разделение_данных_на_выборки\"></a>"
   ]
  },
  {
   "cell_type": "markdown",
   "metadata": {},
   "source": [
    "Разделим исходную выборку на обучающую, валидационнуюи тестовую выборки в следующей пропорции:\n",
    "* Обучающая выборка - 60%;\n",
    "* Валидационная выборка - 20%;\n",
    "* Тестовая выборка - 20%."
   ]
  },
  {
   "cell_type": "code",
   "execution_count": 64,
   "metadata": {},
   "outputs": [],
   "source": [
    "df_train, df_valid_test = train_test_split(df, test_size=0.4, random_state=12345)\n",
    "df_valid, df_test = train_test_split(df_valid_test, test_size=0.5, random_state=12345)"
   ]
  },
  {
   "cell_type": "markdown",
   "metadata": {},
   "source": [
    "Проверим размерности выборок."
   ]
  },
  {
   "cell_type": "code",
   "execution_count": 42,
   "metadata": {},
   "outputs": [
    {
     "name": "stdout",
     "output_type": "stream",
     "text": [
      "Размерность df_train: 1928\n",
      "Размерность df_valid: 643\n",
      "Размерность df_test: 643\n"
     ]
    }
   ],
   "source": [
    "print('Размерность df_train:', len(df_train))\n",
    "print('Размерность df_valid:', len(df_valid))\n",
    "print('Размерность df_test:', len(df_test))"
   ]
  },
  {
   "cell_type": "markdown",
   "metadata": {},
   "source": [
    "### Выводы\n",
    "Разделим исходную выборку на обучающую, валидационную и тестовую выборки в следующих пропорциях:\n",
    "\n",
    "**Выборка**  | **Количество объектов** | **Доля**\n",
    ":-------------: | :-------------: | :-------------:\n",
    "Обучающая | 1928 | 0.6\n",
    "Валидационная | 643 | 0.2\n",
    "Тестовая | 643 | 0.2\n"
   ]
  },
  {
   "cell_type": "markdown",
   "metadata": {},
   "source": [
    "## 3. Исследование моделей<a id=\"исследование_моделей\"></a>"
   ]
  },
  {
   "cell_type": "markdown",
   "metadata": {},
   "source": [
    "Исследовать будем следующие модели: \n",
    "* Решающее дерево (decision tree);\n",
    "* Случайный лес (random forest); \n",
    "* Логистическая регрессия (logistic regression)."
   ]
  },
  {
   "cell_type": "markdown",
   "metadata": {},
   "source": [
    "Извлечем признаки и целевой признак для каждой выборки."
   ]
  },
  {
   "cell_type": "code",
   "execution_count": 43,
   "metadata": {},
   "outputs": [],
   "source": [
    "features_train = df_train.drop('is_ultra', axis = 1)\n",
    "features_valid = df_valid.drop('is_ultra', axis = 1)\n",
    "features_test  = df_test.drop('is_ultra', axis = 1)\n",
    "\n",
    "target_train = df_train['is_ultra'];\n",
    "target_valid = df_valid['is_ultra'];\n",
    "target_test  = df_test['is_ultra'];"
   ]
  },
  {
   "cell_type": "markdown",
   "metadata": {},
   "source": [
    "## 3.1 Решающее дерево<a id=\"исследование_моделей__решающее_дерево\"></a>"
   ]
  },
  {
   "cell_type": "markdown",
   "metadata": {},
   "source": [
    "Обучим модель с разными значениями max_depth (максимальная глубина дерева) на тестовой выборке и затем посчитаем accuracy (отношение числа правильных ответов к размеру тестовой выборки) на валидационной выборке и выберем лучшую модель."
   ]
  },
  {
   "cell_type": "code",
   "execution_count": 44,
   "metadata": {},
   "outputs": [
    {
     "name": "stdout",
     "output_type": "stream",
     "text": [
      "Accuracy наилучшей модели на валидационной выборке: 0.7853810264385692 Максимальная глубина: 5\n",
      "Время выполнения 0.8957 мс\n"
     ]
    }
   ],
   "source": [
    "best_model_DecisionTree = None\n",
    "best_result = 0\n",
    "time_best_model = 0\n",
    "best_depth = 0\n",
    "for depth in range(1, 6):\n",
    "    model = DecisionTreeClassifier(random_state=12345, max_depth=depth)\n",
    "    model.fit(features_train, target_train)\n",
    "    start_time = time.time()\n",
    "    predictions = model.predict(features_valid)\n",
    "    time_current = 1000*(time.time() - start_time)\n",
    "    result = accuracy_score(target_valid, predictions)\n",
    "    if result > best_result:\n",
    "        best_model_DecisionTree = model\n",
    "        best_result = result\n",
    "        best_depth = depth\n",
    "        time_best_model = time_current\n",
    "        \n",
    "print(\"Accuracy наилучшей модели на валидационной выборке:\", best_result, \"Максимальная глубина:\", best_depth)\n",
    "print(\"Время выполнения {:.4f} мс\".format(time_best_model))"
   ]
  },
  {
   "cell_type": "markdown",
   "metadata": {},
   "source": [
    "Наилучшее значение accuracy = 0.7853 для решающего дерева получается при max_depth = 3."
   ]
  },
  {
   "cell_type": "markdown",
   "metadata": {},
   "source": [
    "## 3.2 Случайный лес<a id=\"исследование_моделей__случайный_лес\"></a>"
   ]
  },
  {
   "cell_type": "markdown",
   "metadata": {},
   "source": [
    "Обучим модель с разными значениями max_depth (максимальная глубина дерева) и n_estimators (количество деревьев) на тестовой выборке и затем посчитаем accuracy (отношение числа правильных ответов к размеру тестовой выборки) на валидационной выборке и выберем лучшую модель."
   ]
  },
  {
   "cell_type": "code",
   "execution_count": 45,
   "metadata": {},
   "outputs": [
    {
     "name": "stdout",
     "output_type": "stream",
     "text": [
      "Accuracy наилучшей модели на валидационной выборке: 0.8195956454121306 Количество деревьев: 41 Максимальная глубина: 9\n",
      "Время выполнения 8.5876 мс\n"
     ]
    }
   ],
   "source": [
    "best_model_RandomForest = None\n",
    "best_result = 0\n",
    "best_depth = 0\n",
    "best_est = 0\n",
    "time_best_model = 0\n",
    "for est in range(1, 51, 10):\n",
    "    for depth in range (1, 11):\n",
    "        model = RandomForestClassifier(random_state=12345, n_estimators=est, max_depth=depth)\n",
    "        model.fit(features_train, target_train)\n",
    "        start_time = time.time()\n",
    "        predictions = model.predict(features_valid)\n",
    "        time_current = 1000*(time.time() - start_time)\n",
    "        result = accuracy_score(target_valid, predictions)\n",
    "        if result > best_result:\n",
    "            best_model_RandomForest = model\n",
    "            best_result = result\n",
    "            best_depth = depth\n",
    "            best_est = est\n",
    "            time_best_model = time_current\n",
    "        \n",
    "print(\"Accuracy наилучшей модели на валидационной выборке:\", best_result, \"Количество деревьев:\", best_est, \"Максимальная глубина:\", best_depth)\n",
    "print(\"Время выполнения {:.4f} мс\".format(time_best_model))"
   ]
  },
  {
   "cell_type": "markdown",
   "metadata": {},
   "source": [
    "Наилучшее значение accuracy = 0.8071 для случайного леса получается при max_depth = 8 и n_estimators = 41."
   ]
  },
  {
   "cell_type": "markdown",
   "metadata": {},
   "source": [
    "## 3.3 Логистическая регрессия<a id=\"исследование_моделей__логистическая_регрессия\"></a>"
   ]
  },
  {
   "cell_type": "markdown",
   "metadata": {},
   "source": [
    "Обучим модель на тестовой выборке и затем посчитаем accuracy (отношение числа правильных ответов к размеру тестовой выборки)на валидационной выборке."
   ]
  },
  {
   "cell_type": "code",
   "execution_count": 46,
   "metadata": {},
   "outputs": [
    {
     "name": "stdout",
     "output_type": "stream",
     "text": [
      "Accuracy модели логистической регрессии на валидационной выборке: 0.71850699844479\n",
      "Время выполнения 1.0426 мс\n"
     ]
    },
    {
     "name": "stderr",
     "output_type": "stream",
     "text": [
      "/opt/conda/lib/python3.7/site-packages/sklearn/linear_model/logistic.py:432: FutureWarning: Default solver will be changed to 'lbfgs' in 0.22. Specify a solver to silence this warning.\n",
      "  FutureWarning)\n"
     ]
    }
   ],
   "source": [
    "model_LogisticRegression = LogisticRegression(random_state=12345)\n",
    "model_LogisticRegression.fit(features_train, target_train)\n",
    "start_time = time.time()\n",
    "predictions = model_LogisticRegression.predict(features_valid)\n",
    "time_best_model = 1000*(time.time() - start_time)\n",
    "result = accuracy_score(target_valid, predictions)\n",
    "\n",
    "print(\"Accuracy модели логистической регрессии на валидационной выборке:\", result)\n",
    "print(\"Время выполнения {:.4f} мс\".format(time_best_model))"
   ]
  },
  {
   "cell_type": "markdown",
   "metadata": {},
   "source": [
    "### Выводы\n",
    "В итоге получаем следующие результаты:\n",
    "\n",
    "**Модель**  | **Accuracy** | **Время выполнения, мс** | **Гиперпараметры**\n",
    ":-------------: | :-------------: | :-------------: | :-------------:\n",
    "Решающее дерево | 0.7853 | **0.9589** | max_depth = 3\n",
    "Случайный лес | **0.8071** | 8.5864 | max_depth = 8, n_estimators = 41\n",
    "Логистическая регрессия | 0.7589 | 1.0469 | -\n",
    "\n",
    "Самая **точная** модель - **Случайный лес** (accuracy = **0.8071**)  \n",
    "Самая **быстрая** модель - **Решающее дерево** (Время выполнения = **0.9589 мс**)"
   ]
  },
  {
   "cell_type": "markdown",
   "metadata": {},
   "source": [
    "## 4. Проверка моделей на тестовой выборке<a id=\"проверка_моделей_на_тестовой_выборке\"></a>"
   ]
  },
  {
   "cell_type": "markdown",
   "metadata": {},
   "source": [
    "## 4.1 Решающее дерево<a id=\"проверка_моделей_на_тестовой_выборке__решающее_дерево\"></a>"
   ]
  },
  {
   "cell_type": "code",
   "execution_count": 47,
   "metadata": {},
   "outputs": [
    {
     "name": "stdout",
     "output_type": "stream",
     "text": [
      "Accuracy наилучшей модели (Решающее дерево) на тестовой выборке: 0.8118195956454122\n"
     ]
    }
   ],
   "source": [
    "predictions = best_model_DecisionTree.predict(features_test)\n",
    "result = accuracy_score(target_test, predictions)\n",
    "print(\"Accuracy наилучшей модели (Решающее дерево) на тестовой выборке:\", result)"
   ]
  },
  {
   "cell_type": "markdown",
   "metadata": {},
   "source": [
    "## 4.2 Случайный лес<a id=\"проверка_моделей_на_тестовой_выборке__случайный_лес\"></a>"
   ]
  },
  {
   "cell_type": "code",
   "execution_count": 48,
   "metadata": {},
   "outputs": [
    {
     "name": "stdout",
     "output_type": "stream",
     "text": [
      "Accuracy наилучшей модели (Случайный лес) на тестовой выборке: 0.8102643856920684\n"
     ]
    }
   ],
   "source": [
    "predictions = best_model_RandomForest.predict(features_test)\n",
    "result = accuracy_score(target_test, predictions)\n",
    "print(\"Accuracy наилучшей модели (Случайный лес) на тестовой выборке:\", result)"
   ]
  },
  {
   "cell_type": "markdown",
   "metadata": {},
   "source": [
    "## 4.3 Логистическая регрессия<a id=\"проверка_моделей_на_тестовой_выборке__логистическая_регрессия\"></a>"
   ]
  },
  {
   "cell_type": "code",
   "execution_count": 49,
   "metadata": {},
   "outputs": [
    {
     "name": "stdout",
     "output_type": "stream",
     "text": [
      "Accuracy наилучшей модели (Случайный лес) на тестовой выборке: 0.7107309486780715\n"
     ]
    }
   ],
   "source": [
    "predictions = model_LogisticRegression.predict(features_test)\n",
    "result = accuracy_score(target_test, predictions)\n",
    "print(\"Accuracy наилучшей модели (Случайный лес) на тестовой выборке:\", result)"
   ]
  },
  {
   "cell_type": "markdown",
   "metadata": {},
   "source": [
    "### Выводы\n",
    "Добавим в таблицу результаты accuracy по тестовой выборке:\n",
    "\n",
    "**Модель**  | **Accuracy_valid** | **Accuracy_test** | **Время выполнения, мс** | **Гиперпараметры**\n",
    ":-------------: | :-------------: | :-------------: | :-------------: | :-------------:\n",
    "Решающее дерево | 0.7853 | 0.7791 | **0.9589** | max_depth = 3\n",
    "Случайный лес | **0.8071** | **0.7978** | 8.5864 | max_depth = 8, n_estimators = 41\n",
    "Логистическая регрессия | 0.7589 | 0.7402 | 1.0469 | -\n",
    "\n",
    "Если заказчику необходима **точность**, то стоит выбрать модель **Случайный лес** с **accuracy** по тестовой выборке **0.7978**, но эта модель **самая медленная**. Она в 8.5 раз медленее остальных моделей.  \n",
    "Если заказчику необходима **скорость** работы модели, то стоит выбрать модель **Решающее дерево** с **accuracy** по тестовой выборке **0.7791**. Эта модель **самая быстрая**, но менее точная, чем модель Случайный лес. "
   ]
  },
  {
   "cell_type": "markdown",
   "metadata": {},
   "source": [
    "## 5. Проверка модели на адекватность<a id=\"проверка_моделей_на_адекватность\"></a>"
   ]
  },
  {
   "cell_type": "markdown",
   "metadata": {},
   "source": [
    "Чтобы проверить модель на адекватность, необходимо сравнить ей со случвйной моделью для которой accuracy = 0.5. Напомню, что в нашей выборке 69.3% клиентов из выборки используют тариф Smart, 30.7% клиентов из выборки используют тариф Ultra. Предположим, что есть модель, которая всегда предсказывает, что необходимо выбрать тариф Smart. Точность такой модели составит 0.693. Поэтому, чтобы наша модель была адекватна, необходимо, чтобы accuracy нашей модели было больше, чем 0.693.  \n",
    "\n",
    "Accuracy нашей лучшей модели составляет 0.7978, что больше, чем 0.693, соответсвтенно, наша модель адекватна."
   ]
  },
  {
   "cell_type": "markdown",
   "metadata": {},
   "source": [
    "## 6. Общий вывод<a id=\"общий_вывод\"></a>"
   ]
  },
  {
   "cell_type": "markdown",
   "metadata": {},
   "source": [
    "В результа проведенного анализа создали и обучили три модели: Решающее дерево, Случайный лес, Логистическая регрессия.  \n",
    "Получили следующие результаты:  \n",
    "\n",
    "**Модель**  | **Accuracy_valid** | **Accuracy_test** | **Время выполнения, мс** | **Гиперпараметры**\n",
    ":-------------: | :-------------: | :-------------: | :-------------: | :-------------:\n",
    "Решающее дерево | 0.7853 | 0.7791 | **0.9589** | max_depth = 3\n",
    "Случайный лес | **0.8071** | **0.7978** | 8.5864 | max_depth = 8, n_estimators = 41\n",
    "Логистическая регрессия | 0.7589 | 0.7402 | 1.0469 | -\n",
    "\n",
    "Если заказчику необходима **точность**, то стоит выбрать модель **Случайный лес** с **accuracy** по тестовой выборке **0.7978**, но эта модель **самая медленная**. Она в 8.5 раз медленее остальных моделей.  \n",
    "Если заказчику необходима **скорость** работы модели, то стоит выбрать модель **Решающее дерево** с **accuracy** по тестовой выборке **0.7791**. Эта модель **самая быстрая**, но менее точная, чем модель Случайный лес.\n",
    "\n",
    "Также проверили модель на адекватность. Все три модели являются адекватными."
   ]
  }
 ],
 "metadata": {
  "kernelspec": {
   "display_name": "Python 3",
   "language": "python",
   "name": "python3"
  },
  "language_info": {
   "codemirror_mode": {
    "name": "ipython",
    "version": 3
   },
   "file_extension": ".py",
   "mimetype": "text/x-python",
   "name": "python",
   "nbconvert_exporter": "python",
   "pygments_lexer": "ipython3",
   "version": "3.7.8"
  },
  "toc": {
   "base_numbering": 1,
   "nav_menu": {
    "height": "299px",
    "width": "278px"
   },
   "number_sections": true,
   "sideBar": true,
   "skip_h1_title": false,
   "title_cell": "Table of Contents",
   "title_sidebar": "Contents",
   "toc_cell": false,
   "toc_position": {},
   "toc_section_display": true,
   "toc_window_display": false
  }
 },
 "nbformat": 4,
 "nbformat_minor": 4
}
